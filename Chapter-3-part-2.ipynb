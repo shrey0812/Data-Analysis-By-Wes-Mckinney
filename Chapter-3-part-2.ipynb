{
 "cells": [
  {
   "cell_type": "markdown",
   "id": "846a732e-2ec2-4fd6-8e7f-b9639c554a86",
   "metadata": {},
   "source": [
    "# List, Set and Dict Comprehensions"
   ]
  },
  {
   "cell_type": "raw",
   "id": "2a25e734-e680-43b0-b05d-6e7abe3b39d3",
   "metadata": {},
   "source": [
    "List comprehensions allow you to concisely form a new list by filtering the elements of a collection, transforming the elements passing the filter in one concise expression\n",
    "\n",
    "[expr for value in collection if condition]"
   ]
  },
  {
   "cell_type": "code",
   "execution_count": 1,
   "id": "babdba80-2b1e-4d4a-a944-ad30ac36a85d",
   "metadata": {},
   "outputs": [
    {
     "data": {
      "text/plain": [
       "['BAT', 'CAR', 'DOVE', 'PYTHON']"
      ]
     },
     "execution_count": 1,
     "metadata": {},
     "output_type": "execute_result"
    }
   ],
   "source": [
    "strings = ['a','as','bat','car','dove','python']\n",
    "\n",
    "[x.upper() for x in strings if len(x)>2]"
   ]
  },
  {
   "cell_type": "raw",
   "id": "3dc3ee0d-0881-4b01-8ad6-d37c9aebe8ba",
   "metadata": {},
   "source": [
    "dict comprehension ==\n",
    "\n",
    "{key-expr: value for value in collection if condition} "
   ]
  },
  {
   "cell_type": "raw",
   "id": "ed1ea322-9647-49a4-898f-5eb659b3da63",
   "metadata": {},
   "source": [
    "set comprehension == \n",
    "\n",
    "{expr for value in collection if condition}"
   ]
  },
  {
   "cell_type": "code",
   "execution_count": 2,
   "id": "fd189285-f5ae-4641-88d3-72597939bcbf",
   "metadata": {},
   "outputs": [],
   "source": [
    "unique_length = {len(x) for x in strings}"
   ]
  },
  {
   "cell_type": "code",
   "execution_count": 3,
   "id": "ac1b5da5-8ee8-428f-8ae4-058618d51408",
   "metadata": {},
   "outputs": [
    {
     "data": {
      "text/plain": [
       "{1, 2, 3, 4, 6}"
      ]
     },
     "execution_count": 3,
     "metadata": {},
     "output_type": "execute_result"
    }
   ],
   "source": [
    "unique_length"
   ]
  },
  {
   "cell_type": "code",
   "execution_count": 4,
   "id": "7ceaf827-1fd2-40a2-84dc-8bcc0ddfb82a",
   "metadata": {},
   "outputs": [
    {
     "data": {
      "text/plain": [
       "{1, 2, 3, 4, 6}"
      ]
     },
     "execution_count": 4,
     "metadata": {},
     "output_type": "execute_result"
    }
   ],
   "source": [
    "# express using the map function\n",
    "\n",
    "set(map(len, strings))"
   ]
  },
  {
   "cell_type": "code",
   "execution_count": 5,
   "id": "5530f19a-cefa-477d-9037-55c1eae9c3cf",
   "metadata": {},
   "outputs": [],
   "source": [
    "loc_mapping = {val : index for index, val in enumerate(strings)}"
   ]
  },
  {
   "cell_type": "code",
   "execution_count": 6,
   "id": "e09177d7-92f5-468d-a05a-b7254dad2f76",
   "metadata": {},
   "outputs": [
    {
     "data": {
      "text/plain": [
       "{'a': 0, 'as': 1, 'bat': 2, 'car': 3, 'dove': 4, 'python': 5}"
      ]
     },
     "execution_count": 6,
     "metadata": {},
     "output_type": "execute_result"
    }
   ],
   "source": [
    "loc_mapping"
   ]
  },
  {
   "cell_type": "code",
   "execution_count": 7,
   "id": "eca2b189-e2d8-4a31-9f93-0c354bde798f",
   "metadata": {},
   "outputs": [
    {
     "data": {
      "text/plain": [
       "['Haaarry', 'Emilaaay', 'Natallia']"
      ]
     },
     "execution_count": 7,
     "metadata": {},
     "output_type": "execute_result"
    }
   ],
   "source": [
    "# Nested list comprehension\n",
    "\n",
    "# take the example from just how we seperated the genres and the countries in the kaggle data set\n",
    "\n",
    "all_data = [['John','Haaarry','Emilaaay','Michael'],['Maria','Juan','Javier','Natallia']]\n",
    "\n",
    "result = [name for names in all_data for name in names if name.count('a')>2]\n",
    "result\n",
    "\n",
    "# the for part of the list comprehension are arranged according to their order of nesting, and any filter is put at the end as before "
   ]
  },
  {
   "cell_type": "code",
   "execution_count": 8,
   "id": "1cb05557-d6bc-4ffb-b11e-2b2f99a4e717",
   "metadata": {},
   "outputs": [],
   "source": [
    "some_tuple = ((1,2,3),(4,5,6),(7,8,9))\n",
    "flatten  = [x for tup in some_tuple for x in tup if x%2==0]"
   ]
  },
  {
   "cell_type": "code",
   "execution_count": 9,
   "id": "b6ebf217-35db-4e91-b30d-d91bea6126a3",
   "metadata": {},
   "outputs": [
    {
     "data": {
      "text/plain": [
       "[2, 4, 6, 8]"
      ]
     },
     "execution_count": 9,
     "metadata": {},
     "output_type": "execute_result"
    }
   ],
   "source": [
    "flatten"
   ]
  },
  {
   "cell_type": "code",
   "execution_count": 10,
   "id": "c46d5364-353f-45a8-bcdf-c291003074f1",
   "metadata": {},
   "outputs": [
    {
     "data": {
      "text/plain": [
       "[[1, 2, 3], [4, 5, 6], [7, 8, 9]]"
      ]
     },
     "execution_count": 10,
     "metadata": {},
     "output_type": "execute_result"
    }
   ],
   "source": [
    "[[x for x in tup] for tup in some_tuple]"
   ]
  },
  {
   "cell_type": "markdown",
   "id": "ba97f17d-71d6-4fde-a464-28a2329a242d",
   "metadata": {},
   "source": [
    "# Functions"
   ]
  },
  {
   "cell_type": "raw",
   "id": "106b108b-a518-4fd0-aa4c-16af9a3f06e1",
   "metadata": {},
   "source": [
    "If you anticipate needing to repeat the same code more than once, it may be worth writing a reusable function\n",
    "It also makes the code more readable"
   ]
  },
  {
   "cell_type": "code",
   "execution_count": 11,
   "id": "f4a4dbb8-dba2-42f6-b16e-f3673211e08b",
   "metadata": {},
   "outputs": [],
   "source": [
    "def my_function(x,y,z = 1.5):\n",
    "    if z>1:\n",
    "        return z * (x+y)\n",
    "    else:\n",
    "        return z/(x+y)"
   ]
  },
  {
   "cell_type": "code",
   "execution_count": 12,
   "id": "9652a9cc-0ef3-4a40-913a-57138ae715ef",
   "metadata": {},
   "outputs": [
    {
     "data": {
      "text/plain": [
       "4.5"
      ]
     },
     "execution_count": 12,
     "metadata": {},
     "output_type": "execute_result"
    }
   ],
   "source": [
    "my_function(1,2)"
   ]
  },
  {
   "cell_type": "code",
   "execution_count": 13,
   "id": "e577a067-4e84-4823-a4c8-53b2c5e32fbb",
   "metadata": {},
   "outputs": [
    {
     "data": {
      "text/plain": [
       "4.5"
      ]
     },
     "execution_count": 13,
     "metadata": {},
     "output_type": "execute_result"
    }
   ],
   "source": [
    "result = my_function(1,2)\n",
    "result"
   ]
  },
  {
   "cell_type": "code",
   "execution_count": 14,
   "id": "2c6f4ba4-b713-45c0-89a0-ec1c20e39955",
   "metadata": {},
   "outputs": [],
   "source": [
    "# there is no issue with having multiple return statements \n",
    "\n",
    "# if python reaches the end of the function without return statement it returns None\n",
    "\n",
    "def function_without_return(x):\n",
    "    print(x)"
   ]
  },
  {
   "cell_type": "code",
   "execution_count": 15,
   "id": "95bc6caf-9618-44d4-bc54-79287cc448e0",
   "metadata": {},
   "outputs": [
    {
     "name": "stdout",
     "output_type": "stream",
     "text": [
      "hello\n"
     ]
    }
   ],
   "source": [
    "function_without_return(\"hello\")"
   ]
  },
  {
   "cell_type": "code",
   "execution_count": 16,
   "id": "ec0e6f69-71e1-4b8f-962a-49943d19a244",
   "metadata": {},
   "outputs": [
    {
     "name": "stdout",
     "output_type": "stream",
     "text": [
      "hello\n"
     ]
    }
   ],
   "source": [
    "result = function_without_return(\"hello\")\n",
    "result"
   ]
  },
  {
   "cell_type": "code",
   "execution_count": 17,
   "id": "4e5ddb69-f292-4edb-9d42-79f59992e266",
   "metadata": {},
   "outputs": [
    {
     "name": "stdout",
     "output_type": "stream",
     "text": [
      "None\n"
     ]
    }
   ],
   "source": [
    "print(result)"
   ]
  },
  {
   "cell_type": "code",
   "execution_count": 18,
   "id": "17b4d2d0-07aa-424d-8eaf-80767c6af0df",
   "metadata": {},
   "outputs": [
    {
     "data": {
      "text/plain": [
       "0.06363636363636363"
      ]
     },
     "execution_count": 18,
     "metadata": {},
     "output_type": "execute_result"
    }
   ],
   "source": [
    "# each function can have positional arguments and keyword arguments. \n",
    "# in my_function, x and y are positional arguments and z is a keyword argument\n",
    "\n",
    "my_function(5,6, z = 0.7)"
   ]
  },
  {
   "cell_type": "code",
   "execution_count": 19,
   "id": "719cc54f-3d04-4fd7-883a-968f169192bb",
   "metadata": {},
   "outputs": [
    {
     "data": {
      "text/plain": [
       "35.49"
      ]
     },
     "execution_count": 19,
     "metadata": {},
     "output_type": "execute_result"
    }
   ],
   "source": [
    "my_function(3.14,7,3.5)"
   ]
  },
  {
   "cell_type": "code",
   "execution_count": 20,
   "id": "2a7bce8d-cc11-4357-8070-7a3ca59c18f5",
   "metadata": {},
   "outputs": [
    {
     "data": {
      "text/plain": [
       "45.0"
      ]
     },
     "execution_count": 20,
     "metadata": {},
     "output_type": "execute_result"
    }
   ],
   "source": [
    "my_function(10,20)"
   ]
  },
  {
   "cell_type": "raw",
   "id": "aa7ba688-49de-417f-81c7-9d86dc33a762",
   "metadata": {},
   "source": [
    "The main restriction to function arguments is that the keyword argument must follow a positional argument.\n",
    "You can specify keyword argument in any order, so you just have to remember the name, not the order in which they are."
   ]
  },
  {
   "cell_type": "markdown",
   "id": "7f198d80-e917-4a4a-ba92-f7fd7994d804",
   "metadata": {},
   "source": [
    "# NameSpaces, Scope and Local function"
   ]
  },
  {
   "cell_type": "raw",
   "id": "680b033e-b848-400f-a874-cfdec540506e",
   "metadata": {},
   "source": [
    "An alternative and more descriptive name describing a variable scope in Python is a namespace.\n",
    "Any variable that are assigned within a function by default are assigned to a local namespace.\n",
    "The local namespace is created when the function is called and immediately populated by the function arguments and then is destroyed after the function is finished."
   ]
  },
  {
   "cell_type": "code",
   "execution_count": 21,
   "id": "1facc5af-d282-483e-8a88-7e12672dede1",
   "metadata": {},
   "outputs": [],
   "source": [
    "def func():\n",
    "    a = []\n",
    "    for i in range(5):\n",
    "        a.append(i)\n",
    "    print(a)\n",
    "\n",
    "# a cannot be accessed outside the function"
   ]
  },
  {
   "cell_type": "code",
   "execution_count": 22,
   "id": "040275ad-41b9-4995-9abb-6a0ae39f633e",
   "metadata": {},
   "outputs": [
    {
     "name": "stdout",
     "output_type": "stream",
     "text": [
      "[0, 1, 2, 3, 4]\n"
     ]
    }
   ],
   "source": [
    "func()"
   ]
  },
  {
   "cell_type": "code",
   "execution_count": 23,
   "id": "d674b6a5-9b09-46d5-bb4e-690c1bdd6e6f",
   "metadata": {},
   "outputs": [],
   "source": [
    "a = []\n",
    "def func():\n",
    "    for i in range(5):\n",
    "        a.append(i)\n",
    "# each function call will modify the list"
   ]
  },
  {
   "cell_type": "code",
   "execution_count": 24,
   "id": "541bb2bc-9440-472d-87f7-98b30a9809bf",
   "metadata": {},
   "outputs": [],
   "source": [
    "func()"
   ]
  },
  {
   "cell_type": "code",
   "execution_count": 25,
   "id": "9005551b-6098-47ef-be0a-fce8fbd170c2",
   "metadata": {},
   "outputs": [
    {
     "data": {
      "text/plain": [
       "[0, 1, 2, 3, 4]"
      ]
     },
     "execution_count": 25,
     "metadata": {},
     "output_type": "execute_result"
    }
   ],
   "source": [
    "a"
   ]
  },
  {
   "cell_type": "code",
   "execution_count": 26,
   "id": "8b5e2ec4-62a0-465e-b208-231d554ccc85",
   "metadata": {},
   "outputs": [],
   "source": [
    "func()"
   ]
  },
  {
   "cell_type": "code",
   "execution_count": 27,
   "id": "1cb53e14-1436-44e8-8ad5-c85a976c2817",
   "metadata": {},
   "outputs": [
    {
     "data": {
      "text/plain": [
       "[0, 1, 2, 3, 4, 0, 1, 2, 3, 4]"
      ]
     },
     "execution_count": 27,
     "metadata": {},
     "output_type": "execute_result"
    }
   ],
   "source": [
    "a"
   ]
  },
  {
   "cell_type": "raw",
   "id": "b1ef2f40-63b4-478c-91b9-4adaf499982e",
   "metadata": {},
   "source": [
    "Assigning variables outside of the function's scope is possible, but those variable must be declared explicitly either using a global or nonlocal keyword.\n",
    "nonlocal allows a function to modify variable defined in a higher level scope that is not global"
   ]
  },
  {
   "cell_type": "code",
   "execution_count": 28,
   "id": "dbaf8095-781a-44ae-ad2b-8165eb1c745a",
   "metadata": {},
   "outputs": [],
   "source": [
    "# Returning multiple values\n",
    "\n",
    "def f():\n",
    "    a = 5\n",
    "    b = 6\n",
    "    c = 7\n",
    "    return a,b,c\n",
    "a,b,c = f()"
   ]
  },
  {
   "cell_type": "code",
   "execution_count": 29,
   "id": "23b3cb2b-e18e-4247-b324-e86f8f18f65e",
   "metadata": {},
   "outputs": [
    {
     "data": {
      "text/plain": [
       "5"
      ]
     },
     "execution_count": 29,
     "metadata": {},
     "output_type": "execute_result"
    }
   ],
   "source": [
    "a"
   ]
  },
  {
   "cell_type": "code",
   "execution_count": 30,
   "id": "f718d8c3-866d-4044-892a-529af57cc4cc",
   "metadata": {},
   "outputs": [
    {
     "data": {
      "text/plain": [
       "6"
      ]
     },
     "execution_count": 30,
     "metadata": {},
     "output_type": "execute_result"
    }
   ],
   "source": [
    "b"
   ]
  },
  {
   "cell_type": "code",
   "execution_count": 31,
   "id": "74dcc359-594d-4868-964e-ae3ab075132d",
   "metadata": {},
   "outputs": [
    {
     "data": {
      "text/plain": [
       "7"
      ]
     },
     "execution_count": 31,
     "metadata": {},
     "output_type": "execute_result"
    }
   ],
   "source": [
    "c"
   ]
  },
  {
   "cell_type": "raw",
   "id": "17b58588-1cfc-4d4b-ae14-671c1f582fda",
   "metadata": {},
   "source": [
    "What's done here is that it is actually just returning one object as a tuple, which is being unpacked into the result variables."
   ]
  },
  {
   "cell_type": "code",
   "execution_count": 32,
   "id": "4698e466-e9ca-418f-9201-391839ec1b68",
   "metadata": {},
   "outputs": [],
   "source": [
    "platforms = [\n",
    "    '  GitHub  ', 'gitHub', 'GitHub!',\n",
    "    'GITHUB', 'github.com', 'GitHub??',\n",
    "    'Stack Overflow', 'StackOverflow', 'Stack overflow!', 'stack OVERFLOW',\n",
    "    'Kaggle', 'kaggle ', 'Kaggle!', 'KAGGLE ',\n",
    "    'Jupyter', ' Jupyter Notebook ', 'jupyter-notebook', 'Jupyter!',\n",
    "    'google colab', 'GoogleColab!', 'Colab ', 'colab', 'Colab??',\n",
    "    'VS Code', 'vsCode', 'V S Code!', 'vscode', 'Visual Studio Code ',\n",
    "    'PyCharm', 'pycharm', 'Pycharm!!', ' PYCHARM ', 'py charm'\n",
    "]"
   ]
  },
  {
   "cell_type": "code",
   "execution_count": 33,
   "id": "03a8ab39-714c-47d2-b055-68d241a7c449",
   "metadata": {},
   "outputs": [
    {
     "data": {
      "text/plain": [
       "['Github',\n",
       " 'Github',\n",
       " 'Github',\n",
       " 'Github',\n",
       " 'Github.Com',\n",
       " 'Github',\n",
       " 'Stack Overflow',\n",
       " 'Stackoverflow',\n",
       " 'Stack Overflow',\n",
       " 'Stack Overflow',\n",
       " 'Kaggle',\n",
       " 'Kaggle',\n",
       " 'Kaggle',\n",
       " 'Kaggle',\n",
       " 'Jupyter',\n",
       " 'Jupyter Notebook',\n",
       " 'Jupyter-Notebook',\n",
       " 'Jupyter',\n",
       " 'Google Colab',\n",
       " 'Googlecolab',\n",
       " 'Colab',\n",
       " 'Colab',\n",
       " 'Colab',\n",
       " 'Vs Code',\n",
       " 'Vscode',\n",
       " 'V S Code',\n",
       " 'Vscode',\n",
       " 'Visual Studio Code',\n",
       " 'Pycharm',\n",
       " 'Pycharm',\n",
       " 'Pycharm',\n",
       " 'Pycharm',\n",
       " 'Py Charm']"
      ]
     },
     "execution_count": 33,
     "metadata": {},
     "output_type": "execute_result"
    }
   ],
   "source": [
    "import re\n",
    "def clean_strings(platforms):\n",
    "    result = []\n",
    "    for value in platforms:\n",
    "        value = value.strip()\n",
    "        value = re.sub('[!#?]','',value)\n",
    "        value = value.title()\n",
    "        result.append(value)\n",
    "    return result\n",
    "clean_strings(platforms)"
   ]
  },
  {
   "cell_type": "code",
   "execution_count": 34,
   "id": "b0054581-d09e-4a96-a547-1c8a5f731b5e",
   "metadata": {},
   "outputs": [
    {
     "data": {
      "text/plain": [
       "['Github',\n",
       " 'Github',\n",
       " 'Github',\n",
       " 'Github',\n",
       " 'Github.Com',\n",
       " 'Github',\n",
       " 'Stack Overflow',\n",
       " 'Stackoverflow',\n",
       " 'Stack Overflow',\n",
       " 'Stack Overflow',\n",
       " 'Kaggle',\n",
       " 'Kaggle',\n",
       " 'Kaggle',\n",
       " 'Kaggle',\n",
       " 'Jupyter',\n",
       " 'Jupyter Notebook',\n",
       " 'Jupyter-Notebook',\n",
       " 'Jupyter',\n",
       " 'Google Colab',\n",
       " 'Googlecolab',\n",
       " 'Colab',\n",
       " 'Colab',\n",
       " 'Colab',\n",
       " 'Vs Code',\n",
       " 'Vscode',\n",
       " 'V S Code',\n",
       " 'Vscode',\n",
       " 'Visual Studio Code',\n",
       " 'Pycharm',\n",
       " 'Pycharm',\n",
       " 'Pycharm',\n",
       " 'Pycharm',\n",
       " 'Py Charm']"
      ]
     },
     "execution_count": 34,
     "metadata": {},
     "output_type": "execute_result"
    }
   ],
   "source": [
    "# an alternative and more structured approach to this is \n",
    "# more understandable\n",
    "# more readable\n",
    "\n",
    "def remove_punctuation(value):\n",
    "    return re.sub('[!#?]','',value)\n",
    "\n",
    "clean_ops = [str.strip,remove_punctuation,str.title]\n",
    "\n",
    "def cleanest_strings(platforms,ops):\n",
    "    result = []\n",
    "    for value in platforms:\n",
    "        for func in ops:\n",
    "            value = func(value)\n",
    "        result.append(value)\n",
    "    return result\n",
    "cleanest_strings(platforms,clean_ops)"
   ]
  },
  {
   "cell_type": "raw",
   "id": "39dc8640-ee58-4ba9-96a7-ccc746581278",
   "metadata": {},
   "source": [
    "Python has support for so called Anonymous (Lambda) function, which are a way of writing function consisting of a single statement, the result of which is a return value.\n",
    "It is often less typing and clearer to write a lambda function as opposed to writing a full-out function declaration."
   ]
  },
  {
   "cell_type": "code",
   "execution_count": 35,
   "id": "d87bd8e1-8590-4c20-a70a-d71e0ecad300",
   "metadata": {},
   "outputs": [
    {
     "data": {
      "text/plain": [
       "[1, 4, 9, 16, 25]"
      ]
     },
     "execution_count": 35,
     "metadata": {},
     "output_type": "execute_result"
    }
   ],
   "source": [
    "def apply_to_list(some_list, f):\n",
    "    return [f(x) for x in some_list]\n",
    "ints = [1,2,3,4,5]\n",
    "apply_to_list(ints, lambda x : x**2)"
   ]
  },
  {
   "cell_type": "code",
   "execution_count": 36,
   "id": "f53e56d4-88b0-44e6-9ff5-35ee3005b6b7",
   "metadata": {},
   "outputs": [
    {
     "data": {
      "text/plain": [
       "[1, 8, 27, 64, 125]"
      ]
     },
     "execution_count": 36,
     "metadata": {},
     "output_type": "execute_result"
    }
   ],
   "source": [
    "apply_to_list(ints, lambda x : x**3)\n",
    "# you see the benefit i could have passed x**2 in the apply_to_list function but i purposely passed a custom operator and now \n",
    "# i can get done whatever i want to by using the lambda function"
   ]
  },
  {
   "cell_type": "raw",
   "id": "78a7a455-6472-47e5-9d14-783ec1eff66b",
   "metadata": {},
   "source": [
    "Currying Partial Arguments Application\n",
    "Currying is a computer sceince jargon that means deriving new functions from existing ones by partial argument application"
   ]
  },
  {
   "cell_type": "code",
   "execution_count": 37,
   "id": "9e4ab0de-b904-4699-aaa6-8eca143248f5",
   "metadata": {},
   "outputs": [
    {
     "name": "stdout",
     "output_type": "stream",
     "text": [
      "10\n",
      "10\n"
     ]
    }
   ],
   "source": [
    "def add_numbers(x,y):\n",
    "    return x+y\n",
    "\n",
    "add_five = lambda y : add_numbers(5,y)\n",
    "\n",
    "print(add_five(5))\n",
    "print(add_numbers(5,5))\n",
    "# the second argument in add_numbers is said to be curried.\n",
    "# all we have to do is define a new function that calls an existing function"
   ]
  },
  {
   "cell_type": "raw",
   "id": "dd28f866-76e0-4932-a89e-f53f4ee2a442",
   "metadata": {},
   "source": [
    "Having a consistent way to iterate over sequences is accomplished by means of a iterator protocol, a generic way to make objects iterable"
   ]
  },
  {
   "cell_type": "code",
   "execution_count": 38,
   "id": "e5f65795-ed9a-4144-8e43-ac7c34b70ee3",
   "metadata": {},
   "outputs": [
    {
     "name": "stdout",
     "output_type": "stream",
     "text": [
      "a\n",
      "b\n",
      "c\n"
     ]
    }
   ],
   "source": [
    "some_dict = {'a': 1, 'b': 2, 'c': 3}\n",
    "for key in some_dict:\n",
    "    print(key)\n",
    "\n",
    "# we had to use the for loop for iterating through the dictionary"
   ]
  },
  {
   "cell_type": "code",
   "execution_count": 39,
   "id": "960676a8-f328-42c6-b0c4-f1719d16d65d",
   "metadata": {},
   "outputs": [],
   "source": [
    "# but we can use iter to avoid using for loop \n",
    "\n",
    "dict_iterator = iter(some_dict)"
   ]
  },
  {
   "cell_type": "code",
   "execution_count": 40,
   "id": "64d51e80-a3be-4228-9e8d-28908ef965cc",
   "metadata": {},
   "outputs": [
    {
     "data": {
      "text/plain": [
       "<dict_keyiterator at 0x29673638900>"
      ]
     },
     "execution_count": 40,
     "metadata": {},
     "output_type": "execute_result"
    }
   ],
   "source": [
    "dict_iterator"
   ]
  },
  {
   "cell_type": "code",
   "execution_count": 41,
   "id": "51895e24-1937-4b47-bc90-93cb98eaf09a",
   "metadata": {},
   "outputs": [
    {
     "data": {
      "text/plain": [
       "['a', 'b', 'c']"
      ]
     },
     "execution_count": 41,
     "metadata": {},
     "output_type": "execute_result"
    }
   ],
   "source": [
    "list(dict_iterator)"
   ]
  },
  {
   "cell_type": "code",
   "execution_count": 42,
   "id": "3ffdbf32-3681-456f-b113-57d50bb658c0",
   "metadata": {},
   "outputs": [],
   "source": [
    "# A generator is a convenient way, similar to writing a normal function, to construct a new iterable object.\n",
    "# A normal func executes and returns a single result at a time, generators return a sequence of multiple results lazily, pausing after each one until the next is requested\n",
    "\n",
    "# use yeild instead of return\n",
    "\n",
    "def squares(n = 10):\n",
    "    print('Generating squares from 1 to {0}'.format(n**2))\n",
    "    for i in range(1,n+1):\n",
    "        yield i ** 2\n",
    "        "
   ]
  },
  {
   "cell_type": "code",
   "execution_count": 43,
   "id": "fee2d5f1-af84-4c07-9cdf-5b2613a26fb7",
   "metadata": {},
   "outputs": [],
   "source": [
    "gen =  squares()"
   ]
  },
  {
   "cell_type": "code",
   "execution_count": 44,
   "id": "61349951-61b7-4906-8ff0-e6c2afbac955",
   "metadata": {},
   "outputs": [
    {
     "data": {
      "text/plain": [
       "<generator object squares at 0x000002967356FAE0>"
      ]
     },
     "execution_count": 44,
     "metadata": {},
     "output_type": "execute_result"
    }
   ],
   "source": [
    "gen\n",
    "# no code is immediately executed when you call a generator"
   ]
  },
  {
   "cell_type": "code",
   "execution_count": 45,
   "id": "c24c9f8b-7a95-432a-8f02-ef2b3a296d87",
   "metadata": {},
   "outputs": [
    {
     "name": "stdout",
     "output_type": "stream",
     "text": [
      "Generating squares from 1 to 100\n",
      "1 4 9 16 25 36 49 64 81 100 "
     ]
    }
   ],
   "source": [
    "for x in gen:\n",
    "    print(x,end = ' ')"
   ]
  },
  {
   "cell_type": "code",
   "execution_count": 46,
   "id": "5e8883a4-2002-4c97-b397-3d7858ee330d",
   "metadata": {},
   "outputs": [
    {
     "data": {
      "text/plain": [
       "<generator object <genexpr> at 0x0000029670FC9220>"
      ]
     },
     "execution_count": 46,
     "metadata": {},
     "output_type": "execute_result"
    }
   ],
   "source": [
    "# Generator expressions\n",
    "\n",
    "# another way to make a generator is by using a generator expression. This is a generator analogue to list, dict, and set comprehensions.\n",
    "\n",
    "gen = (x**2 for x in range(100))\n",
    "gen"
   ]
  },
  {
   "cell_type": "code",
   "execution_count": 47,
   "id": "5575829a-cb11-4f85-853b-51b285d877c0",
   "metadata": {},
   "outputs": [
    {
     "name": "stdout",
     "output_type": "stream",
     "text": [
      "0\n",
      "1\n",
      "4\n",
      "9\n",
      "16\n",
      "25\n",
      "36\n",
      "49\n",
      "64\n",
      "81\n",
      "100\n",
      "121\n",
      "144\n",
      "169\n",
      "196\n",
      "225\n",
      "256\n",
      "289\n",
      "324\n",
      "361\n",
      "400\n",
      "441\n",
      "484\n",
      "529\n",
      "576\n",
      "625\n",
      "676\n",
      "729\n",
      "784\n",
      "841\n",
      "900\n",
      "961\n",
      "1024\n",
      "1089\n",
      "1156\n",
      "1225\n",
      "1296\n",
      "1369\n",
      "1444\n",
      "1521\n",
      "1600\n",
      "1681\n",
      "1764\n",
      "1849\n",
      "1936\n",
      "2025\n",
      "2116\n",
      "2209\n",
      "2304\n",
      "2401\n",
      "2500\n",
      "2601\n",
      "2704\n",
      "2809\n",
      "2916\n",
      "3025\n",
      "3136\n",
      "3249\n",
      "3364\n",
      "3481\n",
      "3600\n",
      "3721\n",
      "3844\n",
      "3969\n",
      "4096\n",
      "4225\n",
      "4356\n",
      "4489\n",
      "4624\n",
      "4761\n",
      "4900\n",
      "5041\n",
      "5184\n",
      "5329\n",
      "5476\n",
      "5625\n",
      "5776\n",
      "5929\n",
      "6084\n",
      "6241\n",
      "6400\n",
      "6561\n",
      "6724\n",
      "6889\n",
      "7056\n",
      "7225\n",
      "7396\n",
      "7569\n",
      "7744\n",
      "7921\n",
      "8100\n",
      "8281\n",
      "8464\n",
      "8649\n",
      "8836\n",
      "9025\n",
      "9216\n",
      "9409\n",
      "9604\n",
      "9801\n"
     ]
    }
   ],
   "source": [
    "for x in gen:\n",
    "    print(x)"
   ]
  },
  {
   "cell_type": "code",
   "execution_count": 48,
   "id": "f5691b06-2629-4388-894d-4bbe7c3c1cbe",
   "metadata": {},
   "outputs": [
    {
     "data": {
      "text/plain": [
       "328350"
      ]
     },
     "execution_count": 48,
     "metadata": {},
     "output_type": "execute_result"
    }
   ],
   "source": [
    "# generator expression can be used instead of a list comprehension as a function argument in some cases:\n",
    "\n",
    "sum(x**2 for x in range(100))"
   ]
  },
  {
   "cell_type": "code",
   "execution_count": 49,
   "id": "2470ef71-7f3d-42dd-91e7-3b66d8763960",
   "metadata": {},
   "outputs": [
    {
     "data": {
      "text/plain": [
       "{0: 0, 1: 1, 2: 4, 3: 9, 4: 16}"
      ]
     },
     "execution_count": 49,
     "metadata": {},
     "output_type": "execute_result"
    }
   ],
   "source": [
    "dict((i,i**2) for i in range(5))"
   ]
  },
  {
   "cell_type": "markdown",
   "id": "15688e2f-721c-44be-99c1-b50b6a956fb5",
   "metadata": {},
   "source": [
    "# Files and Operating System"
   ]
  },
  {
   "cell_type": "code",
   "execution_count": 50,
   "id": "3d086190-48cf-4300-9d02-f3616496ef21",
   "metadata": {},
   "outputs": [],
   "source": [
    "path = 'data/segismundo.txt'\n",
    "f = open(path)"
   ]
  },
  {
   "cell_type": "code",
   "execution_count": 51,
   "id": "6368120e-c3ff-4b43-afb0-72972f4868cf",
   "metadata": {},
   "outputs": [],
   "source": [
    "for line in f:\n",
    "    pass"
   ]
  },
  {
   "cell_type": "code",
   "execution_count": 52,
   "id": "a33491a7-7cbc-40bf-a050-86883618103b",
   "metadata": {},
   "outputs": [],
   "source": [
    "lines = [x.rstrip() for x in open(path)]"
   ]
  },
  {
   "cell_type": "code",
   "execution_count": 53,
   "id": "60f8490f-1685-4829-9aec-cbe3e57ee6c0",
   "metadata": {},
   "outputs": [
    {
     "data": {
      "text/plain": [
       "['SueÃ±a el rico en su riqueza,',\n",
       " 'que mÃ¡s cuidados le ofrece;',\n",
       " '',\n",
       " 'sueÃ±a el pobre que padece',\n",
       " 'su miseria y su pobreza;',\n",
       " '',\n",
       " 'sueÃ±a el que a medrar empieza,',\n",
       " 'sueÃ±a el que afana y pretende,',\n",
       " 'sueÃ±a el que agravia y ofende,',\n",
       " '',\n",
       " 'y en el mundo, en conclusiÃ³n,',\n",
       " 'todos sueÃ±an lo que son,',\n",
       " 'aunque ninguno lo entiende.',\n",
       " '']"
      ]
     },
     "execution_count": 53,
     "metadata": {},
     "output_type": "execute_result"
    }
   ],
   "source": [
    "lines"
   ]
  },
  {
   "cell_type": "code",
   "execution_count": 54,
   "id": "1524f09c-d327-4a6f-9693-f9c529e16628",
   "metadata": {},
   "outputs": [],
   "source": [
    "f.close() # recommended to close the file"
   ]
  },
  {
   "cell_type": "code",
   "execution_count": 55,
   "id": "f05187f5-4d2b-4893-9a43-4d8d4a3e3b63",
   "metadata": {},
   "outputs": [],
   "source": [
    "# or you can use the with function which automatically closes the file when exiting the  with block\n",
    "\n",
    "with open(path) as f:\n",
    "    lines = [x.rstrip() for x in f]"
   ]
  },
  {
   "cell_type": "code",
   "execution_count": 56,
   "id": "788557d3-759c-4121-9756-5938f3756de0",
   "metadata": {},
   "outputs": [
    {
     "data": {
      "text/plain": [
       "['SueÃ±a el rico en su riqueza,',\n",
       " 'que mÃ¡s cuidados le ofrece;',\n",
       " '',\n",
       " 'sueÃ±a el pobre que padece',\n",
       " 'su miseria y su pobreza;',\n",
       " '',\n",
       " 'sueÃ±a el que a medrar empieza,',\n",
       " 'sueÃ±a el que afana y pretende,',\n",
       " 'sueÃ±a el que agravia y ofende,',\n",
       " '',\n",
       " 'y en el mundo, en conclusiÃ³n,',\n",
       " 'todos sueÃ±an lo que son,',\n",
       " 'aunque ninguno lo entiende.',\n",
       " '']"
      ]
     },
     "execution_count": 56,
     "metadata": {},
     "output_type": "execute_result"
    }
   ],
   "source": [
    "lines"
   ]
  },
  {
   "cell_type": "raw",
   "id": "43c09d57-9ee8-4e60-ab52-24b15f0243aa",
   "metadata": {},
   "source": [
    "Failing to close the file will not cause any issue in small programs or scripts, but when interacting with large file there can be a issue."
   ]
  },
  {
   "cell_type": "code",
   "execution_count": 57,
   "id": "95f18f56-19a6-4756-95a2-b7555e9ccdb8",
   "metadata": {},
   "outputs": [],
   "source": [
    "f = open(path)"
   ]
  },
  {
   "cell_type": "code",
   "execution_count": 58,
   "id": "cbff88cb-5ff1-4991-aeb6-7f753d52eb94",
   "metadata": {},
   "outputs": [
    {
     "data": {
      "text/plain": [
       "'SueÃ±a el '"
      ]
     },
     "execution_count": 58,
     "metadata": {},
     "output_type": "execute_result"
    }
   ],
   "source": [
    "f.read(10)"
   ]
  },
  {
   "cell_type": "code",
   "execution_count": 59,
   "id": "a238ccb7-1e91-47f5-ab9d-18446fe5f39e",
   "metadata": {},
   "outputs": [],
   "source": [
    "f2= open(path,'rb') # binary mode"
   ]
  },
  {
   "cell_type": "code",
   "execution_count": 60,
   "id": "bf3eee5b-d891-4374-b812-d4e5fe7eccb6",
   "metadata": {},
   "outputs": [
    {
     "data": {
      "text/plain": [
       "b'Sue\\xc3\\xb1a el '"
      ]
     },
     "execution_count": 60,
     "metadata": {},
     "output_type": "execute_result"
    }
   ],
   "source": [
    "f2.read(10)\n",
    "\n",
    "# the read mode advances the file handels position by the number of bytes read."
   ]
  },
  {
   "cell_type": "code",
   "execution_count": 61,
   "id": "8404ed9c-12b5-4d0c-992a-c05f876a73f5",
   "metadata": {},
   "outputs": [
    {
     "data": {
      "text/plain": [
       "10"
      ]
     },
     "execution_count": 61,
     "metadata": {},
     "output_type": "execute_result"
    }
   ],
   "source": [
    "# tell gives you the current position\n",
    "\n",
    "f.tell()"
   ]
  },
  {
   "cell_type": "code",
   "execution_count": 62,
   "id": "fdbf6d75-7192-4389-861a-462650e0a85b",
   "metadata": {},
   "outputs": [
    {
     "data": {
      "text/plain": [
       "10"
      ]
     },
     "execution_count": 62,
     "metadata": {},
     "output_type": "execute_result"
    }
   ],
   "source": [
    "f2.tell()"
   ]
  },
  {
   "cell_type": "code",
   "execution_count": 63,
   "id": "6c5b80bb-965f-4dd2-a481-74f3b01132e7",
   "metadata": {},
   "outputs": [
    {
     "data": {
      "text/plain": [
       "3"
      ]
     },
     "execution_count": 63,
     "metadata": {},
     "output_type": "execute_result"
    }
   ],
   "source": [
    "f.seek(3)\n",
    "# seek changes the file position to the indicated byte in this file"
   ]
  },
  {
   "cell_type": "code",
   "execution_count": 64,
   "id": "0abaf756-d066-4377-981e-543db1376977",
   "metadata": {},
   "outputs": [
    {
     "data": {
      "text/plain": [
       "'Ã'"
      ]
     },
     "execution_count": 64,
     "metadata": {},
     "output_type": "execute_result"
    }
   ],
   "source": [
    "f.read(1)"
   ]
  },
  {
   "cell_type": "code",
   "execution_count": 65,
   "id": "a459c2b3-912c-4805-bc87-a6054161bdf7",
   "metadata": {},
   "outputs": [],
   "source": [
    "f.close()"
   ]
  },
  {
   "cell_type": "code",
   "execution_count": 66,
   "id": "fa15a7c3-cf71-4fc4-bfe6-a6c431e3302e",
   "metadata": {},
   "outputs": [],
   "source": [
    "f2.close()"
   ]
  },
  {
   "cell_type": "markdown",
   "id": "1709e369-e510-4412-90d1-75482d1d8fc5",
   "metadata": {},
   "source": [
    "# Conclusion"
   ]
  },
  {
   "cell_type": "raw",
   "id": "19e0df3d-97e5-4fbb-b951-cfe4e810e0db",
   "metadata": {},
   "source": [
    "With some of the basics and the Python environment and language now\n",
    "under our belt, it is s time to move on and learn about NumPy and arrayoriented\n",
    "computing in Python."
   ]
  },
  {
   "cell_type": "code",
   "execution_count": null,
   "id": "a796cf32-ea60-475e-80d2-a0b6bb620da2",
   "metadata": {},
   "outputs": [],
   "source": []
  }
 ],
 "metadata": {
  "kernelspec": {
   "display_name": "Python [conda env:base] *",
   "language": "python",
   "name": "conda-base-py"
  },
  "language_info": {
   "codemirror_mode": {
    "name": "ipython",
    "version": 3
   },
   "file_extension": ".py",
   "mimetype": "text/x-python",
   "name": "python",
   "nbconvert_exporter": "python",
   "pygments_lexer": "ipython3",
   "version": "3.12.7"
  }
 },
 "nbformat": 4,
 "nbformat_minor": 5
}
