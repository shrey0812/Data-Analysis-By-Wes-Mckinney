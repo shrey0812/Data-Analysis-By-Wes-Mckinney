{
 "cells": [
  {
   "cell_type": "markdown",
   "id": "0d782c64-5aee-4828-ac90-8d939f4c66ee",
   "metadata": {},
   "source": [
    "### Getting Started with Pandas"
   ]
  },
  {
   "cell_type": "raw",
   "id": "3784f7f0-0e62-4f89-af9a-5908b07f0e1b",
   "metadata": {},
   "source": [
    "Contains data structures and data manipulation tools designed to make data cleaning and analysis fast and east in python."
   ]
  },
  {
   "cell_type": "raw",
   "id": "ea9c863b-f1dd-40a8-b101-9c5bac100a04",
   "metadata": {},
   "source": [
    "pandas is often used in tandem with numerical computing tools like NumPy and SciPy, analytical libraries like statsmodels and scikit-learn, and data visualization libraries like matplotlib."
   ]
  },
  {
   "cell_type": "raw",
   "id": "1ea955bf-1602-45ef-8810-8f857db89f29",
   "metadata": {},
   "source": [
    "pandas adopt numpy's array based operations and a preference for data processing without using loops"
   ]
  },
  {
   "cell_type": "raw",
   "id": "231740a9-0905-440a-9649-14cf59621509",
   "metadata": {},
   "source": [
    "pandas is designed for working with heterogenous and tabular data"
   ]
  },
  {
   "cell_type": "code",
   "execution_count": 1,
   "id": "cf2d359e-3557-40ce-8b9e-f5bbcc2a18dd",
   "metadata": {},
   "outputs": [],
   "source": [
    "import pandas as pd"
   ]
  },
  {
   "cell_type": "markdown",
   "id": "600ccf07-29fd-41a9-96b9-7c1f8d2fc119",
   "metadata": {},
   "source": [
    "#### Introduction to pandas Data Structures"
   ]
  },
  {
   "cell_type": "markdown",
   "id": "a3b209ff-6f16-4889-8e57-6842617d59fe",
   "metadata": {},
   "source": [
    "##### Series\n",
    "*It is a one dimensional array-like object containing a sequence of values(of similar types of Numpy types) and as associated array of data labels called index.*"
   ]
  },
  {
   "cell_type": "code",
   "execution_count": 2,
   "id": "d16ad467-9825-4bea-b2fa-8c319e379f68",
   "metadata": {},
   "outputs": [],
   "source": [
    "obj = pd.Series([4,7,-5,2,7])"
   ]
  },
  {
   "cell_type": "code",
   "execution_count": 3,
   "id": "6ad07eb1-9bcd-497b-b7fc-8c2df7f058c8",
   "metadata": {},
   "outputs": [
    {
     "data": {
      "text/plain": [
       "0    4\n",
       "1    7\n",
       "2   -5\n",
       "3    2\n",
       "4    7\n",
       "dtype: int64"
      ]
     },
     "execution_count": 3,
     "metadata": {},
     "output_type": "execute_result"
    }
   ],
   "source": [
    "obj\n",
    "# it also prints the indexes since we have not given it has chosen by default"
   ]
  },
  {
   "cell_type": "code",
   "execution_count": 4,
   "id": "b598c41d-1c47-494e-a0d1-7b5d473ff557",
   "metadata": {},
   "outputs": [
    {
     "data": {
      "text/plain": [
       "<NumpyExtensionArray>\n",
       "[4, 7, -5, 2, 7]\n",
       "Length: 5, dtype: int64"
      ]
     },
     "execution_count": 4,
     "metadata": {},
     "output_type": "execute_result"
    }
   ],
   "source": [
    "obj.array"
   ]
  },
  {
   "cell_type": "code",
   "execution_count": 5,
   "id": "84a8406f-a788-4945-ad65-5d87e854a837",
   "metadata": {},
   "outputs": [
    {
     "data": {
      "text/plain": [
       "RangeIndex(start=0, stop=5, step=1)"
      ]
     },
     "execution_count": 5,
     "metadata": {},
     "output_type": "execute_result"
    }
   ],
   "source": [
    "obj.index"
   ]
  },
  {
   "cell_type": "code",
   "execution_count": 6,
   "id": "4f573c38-dc3d-4ba2-8ac6-967195e9dd2b",
   "metadata": {},
   "outputs": [],
   "source": [
    "obj2 = pd.Series([4,7,-3,5,6],index=['d','e','f','g','h'])"
   ]
  },
  {
   "cell_type": "code",
   "execution_count": 7,
   "id": "0e920fab-fc81-4a1d-9d42-1eadbdf2101b",
   "metadata": {},
   "outputs": [
    {
     "data": {
      "text/plain": [
       "d    4\n",
       "e    7\n",
       "f   -3\n",
       "g    5\n",
       "h    6\n",
       "dtype: int64"
      ]
     },
     "execution_count": 7,
     "metadata": {},
     "output_type": "execute_result"
    }
   ],
   "source": [
    "obj2"
   ]
  },
  {
   "cell_type": "code",
   "execution_count": 8,
   "id": "54b26426-d2cb-46bd-b8f3-37c0d0313f4f",
   "metadata": {},
   "outputs": [
    {
     "data": {
      "text/plain": [
       "-3"
      ]
     },
     "execution_count": 8,
     "metadata": {},
     "output_type": "execute_result"
    }
   ],
   "source": [
    "obj2['f']"
   ]
  },
  {
   "cell_type": "code",
   "execution_count": 9,
   "id": "3c2d1ef1-4aa8-495a-894d-e67ac746cae5",
   "metadata": {},
   "outputs": [],
   "source": [
    "obj2['f'] = 6"
   ]
  },
  {
   "cell_type": "code",
   "execution_count": 10,
   "id": "3b979d37-258d-4063-83f6-f8db59de4c9f",
   "metadata": {},
   "outputs": [
    {
     "data": {
      "text/plain": [
       "d    4\n",
       "e    7\n",
       "f    6\n",
       "g    5\n",
       "h    6\n",
       "dtype: int64"
      ]
     },
     "execution_count": 10,
     "metadata": {},
     "output_type": "execute_result"
    }
   ],
   "source": [
    "obj2"
   ]
  },
  {
   "cell_type": "code",
   "execution_count": 11,
   "id": "d6fd7625-738d-438a-b45c-6778acca4acd",
   "metadata": {},
   "outputs": [
    {
     "data": {
      "text/plain": [
       "d    4\n",
       "e    7\n",
       "f    6\n",
       "dtype: int64"
      ]
     },
     "execution_count": 11,
     "metadata": {},
     "output_type": "execute_result"
    }
   ],
   "source": [
    "obj2[['d','e','f']] # this ['d','e','f'] is interpreted as a python list of indices"
   ]
  },
  {
   "cell_type": "code",
   "execution_count": 12,
   "id": "69827e38-15fb-4c7f-9bbd-e385a338d7d0",
   "metadata": {},
   "outputs": [
    {
     "data": {
      "text/plain": [
       "e    7\n",
       "f    6\n",
       "h    6\n",
       "dtype: int64"
      ]
     },
     "execution_count": 12,
     "metadata": {},
     "output_type": "execute_result"
    }
   ],
   "source": [
    "# using numpy functions \n",
    "\n",
    "obj2[obj2>5]"
   ]
  },
  {
   "cell_type": "code",
   "execution_count": 13,
   "id": "9838c483-6004-499c-9db5-e7279a4881d3",
   "metadata": {},
   "outputs": [
    {
     "data": {
      "text/plain": [
       "d     8\n",
       "e    14\n",
       "f    12\n",
       "g    10\n",
       "h    12\n",
       "dtype: int64"
      ]
     },
     "execution_count": 13,
     "metadata": {},
     "output_type": "execute_result"
    }
   ],
   "source": [
    "obj2*2"
   ]
  },
  {
   "cell_type": "code",
   "execution_count": 14,
   "id": "41549b61-1004-449e-a856-2b989f332384",
   "metadata": {},
   "outputs": [],
   "source": [
    "import numpy as np"
   ]
  },
  {
   "cell_type": "code",
   "execution_count": 15,
   "id": "69bc10ea-e3dc-45f7-b15a-1053a21be481",
   "metadata": {},
   "outputs": [
    {
     "data": {
      "text/plain": [
       "d      54.598150\n",
       "e    1096.633158\n",
       "f     403.428793\n",
       "g     148.413159\n",
       "h     403.428793\n",
       "dtype: float64"
      ]
     },
     "execution_count": 15,
     "metadata": {},
     "output_type": "execute_result"
    }
   ],
   "source": [
    "np.exp(obj2)"
   ]
  },
  {
   "cell_type": "raw",
   "id": "405d1f1d-4b99-4e48-8346-aa953f19cb68",
   "metadata": {},
   "source": [
    "Series can also be interpreted as a fixed-length, ordered dict, that maps indexes to data values."
   ]
  },
  {
   "cell_type": "code",
   "execution_count": 16,
   "id": "963afad5-9bdf-4cf7-928e-b6eb2837e7f4",
   "metadata": {},
   "outputs": [
    {
     "data": {
      "text/plain": [
       "True"
      ]
     },
     "execution_count": 16,
     "metadata": {},
     "output_type": "execute_result"
    }
   ],
   "source": [
    "'f' in obj2"
   ]
  },
  {
   "cell_type": "code",
   "execution_count": 17,
   "id": "f105ff44-2929-4d7d-81c9-d3add0a25ca2",
   "metadata": {},
   "outputs": [
    {
     "data": {
      "text/plain": [
       "False"
      ]
     },
     "execution_count": 17,
     "metadata": {},
     "output_type": "execute_result"
    }
   ],
   "source": [
    "'b' in obj2"
   ]
  },
  {
   "cell_type": "code",
   "execution_count": 18,
   "id": "28fa6af1-8809-4ed9-8eee-b68e5b44616d",
   "metadata": {},
   "outputs": [],
   "source": [
    "sdata = {'Ohio': 35000, 'Texas': 71000, 'Oregon': 16000, 'Utah': 5000}"
   ]
  },
  {
   "cell_type": "code",
   "execution_count": 19,
   "id": "27b85dea-2ade-46de-b3ac-6aeeae5a88f3",
   "metadata": {},
   "outputs": [],
   "source": [
    "obj3 = pd.Series(sdata) # if you have a python dict containing data you can convert it to pd Series"
   ]
  },
  {
   "cell_type": "code",
   "execution_count": 20,
   "id": "6665e2b1-39eb-4962-b30b-29afcc29e86c",
   "metadata": {},
   "outputs": [
    {
     "data": {
      "text/plain": [
       "Ohio      35000\n",
       "Texas     71000\n",
       "Oregon    16000\n",
       "Utah       5000\n",
       "dtype: int64"
      ]
     },
     "execution_count": 20,
     "metadata": {},
     "output_type": "execute_result"
    }
   ],
   "source": [
    "obj3"
   ]
  },
  {
   "cell_type": "code",
   "execution_count": 21,
   "id": "c0e92ad7-efc4-48c1-a9d9-a9e45b18355a",
   "metadata": {},
   "outputs": [],
   "source": [
    "states = ['California', 'Ohio', 'Oregon', 'Texas']"
   ]
  },
  {
   "cell_type": "code",
   "execution_count": 22,
   "id": "c69a8ffb-ded4-4ab1-a8dc-3e3c92063afb",
   "metadata": {},
   "outputs": [],
   "source": [
    "obj4 = pd.Series(sdata,index= states) # index were overridden for sdata."
   ]
  },
  {
   "cell_type": "code",
   "execution_count": 23,
   "id": "38ba7351-8a60-474d-bb68-3a0f3e59a0ea",
   "metadata": {},
   "outputs": [
    {
     "data": {
      "text/plain": [
       "California        NaN\n",
       "Ohio          35000.0\n",
       "Oregon        16000.0\n",
       "Texas         71000.0\n",
       "dtype: float64"
      ]
     },
     "execution_count": 23,
     "metadata": {},
     "output_type": "execute_result"
    }
   ],
   "source": [
    "obj4"
   ]
  },
  {
   "cell_type": "code",
   "execution_count": 24,
   "id": "0a849b44-c9a0-4d60-8392-111b1bcd5ec6",
   "metadata": {},
   "outputs": [
    {
     "data": {
      "text/plain": [
       "California     True\n",
       "Ohio          False\n",
       "Oregon        False\n",
       "Texas         False\n",
       "dtype: bool"
      ]
     },
     "execution_count": 24,
     "metadata": {},
     "output_type": "execute_result"
    }
   ],
   "source": [
    "pd.isna(obj4)"
   ]
  },
  {
   "cell_type": "code",
   "execution_count": 25,
   "id": "f1108227-44ef-4e8d-bc33-36071305d995",
   "metadata": {},
   "outputs": [
    {
     "data": {
      "text/plain": [
       "California    False\n",
       "Ohio           True\n",
       "Oregon         True\n",
       "Texas          True\n",
       "dtype: bool"
      ]
     },
     "execution_count": 25,
     "metadata": {},
     "output_type": "execute_result"
    }
   ],
   "source": [
    "pd.notna(obj4)"
   ]
  },
  {
   "cell_type": "code",
   "execution_count": 26,
   "id": "a8094b4c-99e4-49b6-a7d8-7ea1b42d6b28",
   "metadata": {},
   "outputs": [
    {
     "data": {
      "text/plain": [
       "California     True\n",
       "Ohio          False\n",
       "Oregon        False\n",
       "Texas         False\n",
       "dtype: bool"
      ]
     },
     "execution_count": 26,
     "metadata": {},
     "output_type": "execute_result"
    }
   ],
   "source": [
    "obj4.isna()"
   ]
  },
  {
   "cell_type": "code",
   "execution_count": 27,
   "id": "33a97a50-a721-401a-80d3-e0797a9ca748",
   "metadata": {},
   "outputs": [
    {
     "data": {
      "text/plain": [
       "Ohio      35000\n",
       "Texas     71000\n",
       "Oregon    16000\n",
       "Utah       5000\n",
       "dtype: int64"
      ]
     },
     "execution_count": 27,
     "metadata": {},
     "output_type": "execute_result"
    }
   ],
   "source": [
    "# automatically aligns by index labels in arithmetic operations\n",
    "obj3"
   ]
  },
  {
   "cell_type": "code",
   "execution_count": 28,
   "id": "fb75aa25-10dc-417e-9d30-32aafff6ba1c",
   "metadata": {},
   "outputs": [
    {
     "data": {
      "text/plain": [
       "California        NaN\n",
       "Ohio          35000.0\n",
       "Oregon        16000.0\n",
       "Texas         71000.0\n",
       "dtype: float64"
      ]
     },
     "execution_count": 28,
     "metadata": {},
     "output_type": "execute_result"
    }
   ],
   "source": [
    "obj4"
   ]
  },
  {
   "cell_type": "code",
   "execution_count": 29,
   "id": "6abc3b08-8576-4ae1-bec3-8f4ea5ea72a7",
   "metadata": {},
   "outputs": [
    {
     "data": {
      "text/plain": [
       "California         NaN\n",
       "Ohio           70000.0\n",
       "Oregon         32000.0\n",
       "Texas         142000.0\n",
       "Utah               NaN\n",
       "dtype: float64"
      ]
     },
     "execution_count": 29,
     "metadata": {},
     "output_type": "execute_result"
    }
   ],
   "source": [
    "obj3+obj4 # similar to join operation"
   ]
  },
  {
   "cell_type": "code",
   "execution_count": 30,
   "id": "32c31826-9d01-4f55-8b76-4dd0d20bee0b",
   "metadata": {},
   "outputs": [],
   "source": [
    "obj4.name = 'population'"
   ]
  },
  {
   "cell_type": "code",
   "execution_count": 31,
   "id": "b71a36a5-d531-45dd-8acc-05a92b121a8b",
   "metadata": {},
   "outputs": [],
   "source": [
    "obj4.index.name = 'state'"
   ]
  },
  {
   "cell_type": "code",
   "execution_count": 32,
   "id": "479331e8-62f9-4227-b136-65b72dbba09c",
   "metadata": {},
   "outputs": [
    {
     "data": {
      "text/plain": [
       "state\n",
       "California        NaN\n",
       "Ohio          35000.0\n",
       "Oregon        16000.0\n",
       "Texas         71000.0\n",
       "Name: population, dtype: float64"
      ]
     },
     "execution_count": 32,
     "metadata": {},
     "output_type": "execute_result"
    }
   ],
   "source": [
    "obj4"
   ]
  },
  {
   "cell_type": "raw",
   "id": "06eba893-0559-46ab-8979-7650d6e1f6ac",
   "metadata": {},
   "source": [
    "A series's index can be altered in-place by assignment"
   ]
  },
  {
   "cell_type": "code",
   "execution_count": 33,
   "id": "84ef48e3-78d8-40b0-adf7-3dd1d96c3e5b",
   "metadata": {},
   "outputs": [
    {
     "data": {
      "text/plain": [
       "0    4\n",
       "1    7\n",
       "2   -5\n",
       "3    2\n",
       "4    7\n",
       "dtype: int64"
      ]
     },
     "execution_count": 33,
     "metadata": {},
     "output_type": "execute_result"
    }
   ],
   "source": [
    "obj"
   ]
  },
  {
   "cell_type": "code",
   "execution_count": 34,
   "id": "96cb7a79-5c5f-4502-8845-5de03ba3bde1",
   "metadata": {},
   "outputs": [],
   "source": [
    "obj.index = ['Bob','Steve','Shrey','Kulu','Adi']"
   ]
  },
  {
   "cell_type": "code",
   "execution_count": 35,
   "id": "c1d5a359-6a8e-4949-8fc9-d0eb3aed30d6",
   "metadata": {},
   "outputs": [
    {
     "data": {
      "text/plain": [
       "Bob      4\n",
       "Steve    7\n",
       "Shrey   -5\n",
       "Kulu     2\n",
       "Adi      7\n",
       "dtype: int64"
      ]
     },
     "execution_count": 35,
     "metadata": {},
     "output_type": "execute_result"
    }
   ],
   "source": [
    "obj"
   ]
  },
  {
   "cell_type": "markdown",
   "id": "9d2cf9b4-57fd-467c-b755-d6053f6645f0",
   "metadata": {},
   "source": [
    "##### Data Frame\n",
    "1. *Represents a rectangular table of data and contains an ordered, named collection of columns, each of which can be a different value type*\n",
    "2. *It has both row and columns index*"
   ]
  },
  {
   "cell_type": "code",
   "execution_count": 36,
   "id": "2421a60c-8c70-4aa7-9728-aa399fd42958",
   "metadata": {},
   "outputs": [],
   "source": [
    "data = {'state': ['Ohio', 'Ohio', 'Ohio', 'Nevada', 'Nevada','Nevada'],'year': [2000, 2001, 2002, 2001, 2002, 2003],'pop': [1.5, 1.7, 3.6, 2.4, 2.9, 3.2]}"
   ]
  },
  {
   "cell_type": "code",
   "execution_count": 37,
   "id": "40cf2839-ad09-420f-9c9c-f1353cb9bacb",
   "metadata": {},
   "outputs": [],
   "source": [
    "frame = pd.DataFrame(data)"
   ]
  },
  {
   "cell_type": "code",
   "execution_count": 38,
   "id": "a3bf137d-0b1f-4ce4-8f73-35c821d3b8c3",
   "metadata": {},
   "outputs": [
    {
     "data": {
      "text/html": [
       "<div>\n",
       "<style scoped>\n",
       "    .dataframe tbody tr th:only-of-type {\n",
       "        vertical-align: middle;\n",
       "    }\n",
       "\n",
       "    .dataframe tbody tr th {\n",
       "        vertical-align: top;\n",
       "    }\n",
       "\n",
       "    .dataframe thead th {\n",
       "        text-align: right;\n",
       "    }\n",
       "</style>\n",
       "<table border=\"1\" class=\"dataframe\">\n",
       "  <thead>\n",
       "    <tr style=\"text-align: right;\">\n",
       "      <th></th>\n",
       "      <th>state</th>\n",
       "      <th>year</th>\n",
       "      <th>pop</th>\n",
       "    </tr>\n",
       "  </thead>\n",
       "  <tbody>\n",
       "    <tr>\n",
       "      <th>0</th>\n",
       "      <td>Ohio</td>\n",
       "      <td>2000</td>\n",
       "      <td>1.5</td>\n",
       "    </tr>\n",
       "    <tr>\n",
       "      <th>1</th>\n",
       "      <td>Ohio</td>\n",
       "      <td>2001</td>\n",
       "      <td>1.7</td>\n",
       "    </tr>\n",
       "    <tr>\n",
       "      <th>2</th>\n",
       "      <td>Ohio</td>\n",
       "      <td>2002</td>\n",
       "      <td>3.6</td>\n",
       "    </tr>\n",
       "    <tr>\n",
       "      <th>3</th>\n",
       "      <td>Nevada</td>\n",
       "      <td>2001</td>\n",
       "      <td>2.4</td>\n",
       "    </tr>\n",
       "    <tr>\n",
       "      <th>4</th>\n",
       "      <td>Nevada</td>\n",
       "      <td>2002</td>\n",
       "      <td>2.9</td>\n",
       "    </tr>\n",
       "    <tr>\n",
       "      <th>5</th>\n",
       "      <td>Nevada</td>\n",
       "      <td>2003</td>\n",
       "      <td>3.2</td>\n",
       "    </tr>\n",
       "  </tbody>\n",
       "</table>\n",
       "</div>"
      ],
      "text/plain": [
       "    state  year  pop\n",
       "0    Ohio  2000  1.5\n",
       "1    Ohio  2001  1.7\n",
       "2    Ohio  2002  3.6\n",
       "3  Nevada  2001  2.4\n",
       "4  Nevada  2002  2.9\n",
       "5  Nevada  2003  3.2"
      ]
     },
     "execution_count": 38,
     "metadata": {},
     "output_type": "execute_result"
    }
   ],
   "source": [
    "frame"
   ]
  },
  {
   "cell_type": "code",
   "execution_count": 39,
   "id": "a061a3fa-5cb5-4aaa-8bad-b5fc88602e8e",
   "metadata": {},
   "outputs": [
    {
     "data": {
      "text/html": [
       "<div>\n",
       "<style scoped>\n",
       "    .dataframe tbody tr th:only-of-type {\n",
       "        vertical-align: middle;\n",
       "    }\n",
       "\n",
       "    .dataframe tbody tr th {\n",
       "        vertical-align: top;\n",
       "    }\n",
       "\n",
       "    .dataframe thead th {\n",
       "        text-align: right;\n",
       "    }\n",
       "</style>\n",
       "<table border=\"1\" class=\"dataframe\">\n",
       "  <thead>\n",
       "    <tr style=\"text-align: right;\">\n",
       "      <th></th>\n",
       "      <th>state</th>\n",
       "      <th>year</th>\n",
       "      <th>pop</th>\n",
       "    </tr>\n",
       "  </thead>\n",
       "  <tbody>\n",
       "    <tr>\n",
       "      <th>0</th>\n",
       "      <td>Ohio</td>\n",
       "      <td>2000</td>\n",
       "      <td>1.5</td>\n",
       "    </tr>\n",
       "    <tr>\n",
       "      <th>1</th>\n",
       "      <td>Ohio</td>\n",
       "      <td>2001</td>\n",
       "      <td>1.7</td>\n",
       "    </tr>\n",
       "    <tr>\n",
       "      <th>2</th>\n",
       "      <td>Ohio</td>\n",
       "      <td>2002</td>\n",
       "      <td>3.6</td>\n",
       "    </tr>\n",
       "    <tr>\n",
       "      <th>3</th>\n",
       "      <td>Nevada</td>\n",
       "      <td>2001</td>\n",
       "      <td>2.4</td>\n",
       "    </tr>\n",
       "    <tr>\n",
       "      <th>4</th>\n",
       "      <td>Nevada</td>\n",
       "      <td>2002</td>\n",
       "      <td>2.9</td>\n",
       "    </tr>\n",
       "  </tbody>\n",
       "</table>\n",
       "</div>"
      ],
      "text/plain": [
       "    state  year  pop\n",
       "0    Ohio  2000  1.5\n",
       "1    Ohio  2001  1.7\n",
       "2    Ohio  2002  3.6\n",
       "3  Nevada  2001  2.4\n",
       "4  Nevada  2002  2.9"
      ]
     },
     "execution_count": 39,
     "metadata": {},
     "output_type": "execute_result"
    }
   ],
   "source": [
    "frame.head() # first five rows"
   ]
  },
  {
   "cell_type": "code",
   "execution_count": 40,
   "id": "a4f69b24-5e7b-4b2c-bb6b-0419e991c4d1",
   "metadata": {},
   "outputs": [
    {
     "data": {
      "text/html": [
       "<div>\n",
       "<style scoped>\n",
       "    .dataframe tbody tr th:only-of-type {\n",
       "        vertical-align: middle;\n",
       "    }\n",
       "\n",
       "    .dataframe tbody tr th {\n",
       "        vertical-align: top;\n",
       "    }\n",
       "\n",
       "    .dataframe thead th {\n",
       "        text-align: right;\n",
       "    }\n",
       "</style>\n",
       "<table border=\"1\" class=\"dataframe\">\n",
       "  <thead>\n",
       "    <tr style=\"text-align: right;\">\n",
       "      <th></th>\n",
       "      <th>year</th>\n",
       "      <th>pop</th>\n",
       "      <th>state</th>\n",
       "    </tr>\n",
       "  </thead>\n",
       "  <tbody>\n",
       "    <tr>\n",
       "      <th>0</th>\n",
       "      <td>2000</td>\n",
       "      <td>1.5</td>\n",
       "      <td>Ohio</td>\n",
       "    </tr>\n",
       "    <tr>\n",
       "      <th>1</th>\n",
       "      <td>2001</td>\n",
       "      <td>1.7</td>\n",
       "      <td>Ohio</td>\n",
       "    </tr>\n",
       "    <tr>\n",
       "      <th>2</th>\n",
       "      <td>2002</td>\n",
       "      <td>3.6</td>\n",
       "      <td>Ohio</td>\n",
       "    </tr>\n",
       "    <tr>\n",
       "      <th>3</th>\n",
       "      <td>2001</td>\n",
       "      <td>2.4</td>\n",
       "      <td>Nevada</td>\n",
       "    </tr>\n",
       "    <tr>\n",
       "      <th>4</th>\n",
       "      <td>2002</td>\n",
       "      <td>2.9</td>\n",
       "      <td>Nevada</td>\n",
       "    </tr>\n",
       "    <tr>\n",
       "      <th>5</th>\n",
       "      <td>2003</td>\n",
       "      <td>3.2</td>\n",
       "      <td>Nevada</td>\n",
       "    </tr>\n",
       "  </tbody>\n",
       "</table>\n",
       "</div>"
      ],
      "text/plain": [
       "   year  pop   state\n",
       "0  2000  1.5    Ohio\n",
       "1  2001  1.7    Ohio\n",
       "2  2002  3.6    Ohio\n",
       "3  2001  2.4  Nevada\n",
       "4  2002  2.9  Nevada\n",
       "5  2003  3.2  Nevada"
      ]
     },
     "execution_count": 40,
     "metadata": {},
     "output_type": "execute_result"
    }
   ],
   "source": [
    "pd.DataFrame(data,columns=['year','pop','state'])"
   ]
  },
  {
   "cell_type": "code",
   "execution_count": 41,
   "id": "2bf25f5a-f3e9-4c7d-899c-3e813026ebaa",
   "metadata": {},
   "outputs": [],
   "source": [
    "frame2 = pd.DataFrame(data,columns=['year','pop','state','debt'],index=['one','two','three','four','five','six'])"
   ]
  },
  {
   "cell_type": "code",
   "execution_count": 42,
   "id": "19adaf67-abb5-4e89-9b31-206ef9152982",
   "metadata": {},
   "outputs": [
    {
     "data": {
      "text/html": [
       "<div>\n",
       "<style scoped>\n",
       "    .dataframe tbody tr th:only-of-type {\n",
       "        vertical-align: middle;\n",
       "    }\n",
       "\n",
       "    .dataframe tbody tr th {\n",
       "        vertical-align: top;\n",
       "    }\n",
       "\n",
       "    .dataframe thead th {\n",
       "        text-align: right;\n",
       "    }\n",
       "</style>\n",
       "<table border=\"1\" class=\"dataframe\">\n",
       "  <thead>\n",
       "    <tr style=\"text-align: right;\">\n",
       "      <th></th>\n",
       "      <th>year</th>\n",
       "      <th>pop</th>\n",
       "      <th>state</th>\n",
       "      <th>debt</th>\n",
       "    </tr>\n",
       "  </thead>\n",
       "  <tbody>\n",
       "    <tr>\n",
       "      <th>one</th>\n",
       "      <td>2000</td>\n",
       "      <td>1.5</td>\n",
       "      <td>Ohio</td>\n",
       "      <td>NaN</td>\n",
       "    </tr>\n",
       "    <tr>\n",
       "      <th>two</th>\n",
       "      <td>2001</td>\n",
       "      <td>1.7</td>\n",
       "      <td>Ohio</td>\n",
       "      <td>NaN</td>\n",
       "    </tr>\n",
       "    <tr>\n",
       "      <th>three</th>\n",
       "      <td>2002</td>\n",
       "      <td>3.6</td>\n",
       "      <td>Ohio</td>\n",
       "      <td>NaN</td>\n",
       "    </tr>\n",
       "    <tr>\n",
       "      <th>four</th>\n",
       "      <td>2001</td>\n",
       "      <td>2.4</td>\n",
       "      <td>Nevada</td>\n",
       "      <td>NaN</td>\n",
       "    </tr>\n",
       "    <tr>\n",
       "      <th>five</th>\n",
       "      <td>2002</td>\n",
       "      <td>2.9</td>\n",
       "      <td>Nevada</td>\n",
       "      <td>NaN</td>\n",
       "    </tr>\n",
       "    <tr>\n",
       "      <th>six</th>\n",
       "      <td>2003</td>\n",
       "      <td>3.2</td>\n",
       "      <td>Nevada</td>\n",
       "      <td>NaN</td>\n",
       "    </tr>\n",
       "  </tbody>\n",
       "</table>\n",
       "</div>"
      ],
      "text/plain": [
       "       year  pop   state debt\n",
       "one    2000  1.5    Ohio  NaN\n",
       "two    2001  1.7    Ohio  NaN\n",
       "three  2002  3.6    Ohio  NaN\n",
       "four   2001  2.4  Nevada  NaN\n",
       "five   2002  2.9  Nevada  NaN\n",
       "six    2003  3.2  Nevada  NaN"
      ]
     },
     "execution_count": 42,
     "metadata": {},
     "output_type": "execute_result"
    }
   ],
   "source": [
    "frame2"
   ]
  },
  {
   "cell_type": "code",
   "execution_count": 43,
   "id": "d009fbe1-78c5-466d-9984-024ea2602f51",
   "metadata": {},
   "outputs": [
    {
     "data": {
      "text/plain": [
       "Index(['year', 'pop', 'state', 'debt'], dtype='object')"
      ]
     },
     "execution_count": 43,
     "metadata": {},
     "output_type": "execute_result"
    }
   ],
   "source": [
    "frame2.columns # columns can be directly retrieved as a series either by dict like notation, or by attribute"
   ]
  },
  {
   "cell_type": "code",
   "execution_count": 44,
   "id": "3f544b68-e6de-4b37-9a06-d9136d5d7e6c",
   "metadata": {},
   "outputs": [
    {
     "data": {
      "text/plain": [
       "one        Ohio\n",
       "two        Ohio\n",
       "three      Ohio\n",
       "four     Nevada\n",
       "five     Nevada\n",
       "six      Nevada\n",
       "Name: state, dtype: object"
      ]
     },
     "execution_count": 44,
     "metadata": {},
     "output_type": "execute_result"
    }
   ],
   "source": [
    "frame2['state']"
   ]
  },
  {
   "cell_type": "code",
   "execution_count": 45,
   "id": "b6035a07-6c34-473e-9622-6c410ba8f301",
   "metadata": {},
   "outputs": [
    {
     "data": {
      "text/plain": [
       "one      2000\n",
       "two      2001\n",
       "three    2002\n",
       "four     2001\n",
       "five     2002\n",
       "six      2003\n",
       "Name: year, dtype: int64"
      ]
     },
     "execution_count": 45,
     "metadata": {},
     "output_type": "execute_result"
    }
   ],
   "source": [
    "frame2.year"
   ]
  },
  {
   "cell_type": "code",
   "execution_count": 46,
   "id": "b415d2c8-3b00-437c-9338-dc32f49c3fa6",
   "metadata": {},
   "outputs": [
    {
     "data": {
      "text/plain": [
       "year     2002\n",
       "pop       3.6\n",
       "state    Ohio\n",
       "debt      NaN\n",
       "Name: three, dtype: object"
      ]
     },
     "execution_count": 46,
     "metadata": {},
     "output_type": "execute_result"
    }
   ],
   "source": [
    "# rows can also be retrieved by position or name with the special loc attribute\n",
    "frame2.loc['three']"
   ]
  },
  {
   "cell_type": "code",
   "execution_count": 47,
   "id": "6433209b-e177-4104-ac56-a3bd5e10248c",
   "metadata": {},
   "outputs": [],
   "source": [
    "frame2['debt'] = 16.5"
   ]
  },
  {
   "cell_type": "code",
   "execution_count": 48,
   "id": "a996bc32-b3f8-415c-8f2a-46dca500e161",
   "metadata": {},
   "outputs": [
    {
     "data": {
      "text/html": [
       "<div>\n",
       "<style scoped>\n",
       "    .dataframe tbody tr th:only-of-type {\n",
       "        vertical-align: middle;\n",
       "    }\n",
       "\n",
       "    .dataframe tbody tr th {\n",
       "        vertical-align: top;\n",
       "    }\n",
       "\n",
       "    .dataframe thead th {\n",
       "        text-align: right;\n",
       "    }\n",
       "</style>\n",
       "<table border=\"1\" class=\"dataframe\">\n",
       "  <thead>\n",
       "    <tr style=\"text-align: right;\">\n",
       "      <th></th>\n",
       "      <th>year</th>\n",
       "      <th>pop</th>\n",
       "      <th>state</th>\n",
       "      <th>debt</th>\n",
       "    </tr>\n",
       "  </thead>\n",
       "  <tbody>\n",
       "    <tr>\n",
       "      <th>one</th>\n",
       "      <td>2000</td>\n",
       "      <td>1.5</td>\n",
       "      <td>Ohio</td>\n",
       "      <td>16.5</td>\n",
       "    </tr>\n",
       "    <tr>\n",
       "      <th>two</th>\n",
       "      <td>2001</td>\n",
       "      <td>1.7</td>\n",
       "      <td>Ohio</td>\n",
       "      <td>16.5</td>\n",
       "    </tr>\n",
       "    <tr>\n",
       "      <th>three</th>\n",
       "      <td>2002</td>\n",
       "      <td>3.6</td>\n",
       "      <td>Ohio</td>\n",
       "      <td>16.5</td>\n",
       "    </tr>\n",
       "    <tr>\n",
       "      <th>four</th>\n",
       "      <td>2001</td>\n",
       "      <td>2.4</td>\n",
       "      <td>Nevada</td>\n",
       "      <td>16.5</td>\n",
       "    </tr>\n",
       "    <tr>\n",
       "      <th>five</th>\n",
       "      <td>2002</td>\n",
       "      <td>2.9</td>\n",
       "      <td>Nevada</td>\n",
       "      <td>16.5</td>\n",
       "    </tr>\n",
       "    <tr>\n",
       "      <th>six</th>\n",
       "      <td>2003</td>\n",
       "      <td>3.2</td>\n",
       "      <td>Nevada</td>\n",
       "      <td>16.5</td>\n",
       "    </tr>\n",
       "  </tbody>\n",
       "</table>\n",
       "</div>"
      ],
      "text/plain": [
       "       year  pop   state  debt\n",
       "one    2000  1.5    Ohio  16.5\n",
       "two    2001  1.7    Ohio  16.5\n",
       "three  2002  3.6    Ohio  16.5\n",
       "four   2001  2.4  Nevada  16.5\n",
       "five   2002  2.9  Nevada  16.5\n",
       "six    2003  3.2  Nevada  16.5"
      ]
     },
     "execution_count": 48,
     "metadata": {},
     "output_type": "execute_result"
    }
   ],
   "source": [
    "frame2"
   ]
  },
  {
   "cell_type": "code",
   "execution_count": 49,
   "id": "82f1c925-87d1-4b72-9f6a-ffc36db06b91",
   "metadata": {},
   "outputs": [],
   "source": [
    "frame2['debt'] = np.arange(6.0)"
   ]
  },
  {
   "cell_type": "code",
   "execution_count": 50,
   "id": "82e55462-8d31-4a5a-a4c6-9e1a141d1972",
   "metadata": {},
   "outputs": [
    {
     "data": {
      "text/html": [
       "<div>\n",
       "<style scoped>\n",
       "    .dataframe tbody tr th:only-of-type {\n",
       "        vertical-align: middle;\n",
       "    }\n",
       "\n",
       "    .dataframe tbody tr th {\n",
       "        vertical-align: top;\n",
       "    }\n",
       "\n",
       "    .dataframe thead th {\n",
       "        text-align: right;\n",
       "    }\n",
       "</style>\n",
       "<table border=\"1\" class=\"dataframe\">\n",
       "  <thead>\n",
       "    <tr style=\"text-align: right;\">\n",
       "      <th></th>\n",
       "      <th>year</th>\n",
       "      <th>pop</th>\n",
       "      <th>state</th>\n",
       "      <th>debt</th>\n",
       "    </tr>\n",
       "  </thead>\n",
       "  <tbody>\n",
       "    <tr>\n",
       "      <th>one</th>\n",
       "      <td>2000</td>\n",
       "      <td>1.5</td>\n",
       "      <td>Ohio</td>\n",
       "      <td>0.0</td>\n",
       "    </tr>\n",
       "    <tr>\n",
       "      <th>two</th>\n",
       "      <td>2001</td>\n",
       "      <td>1.7</td>\n",
       "      <td>Ohio</td>\n",
       "      <td>1.0</td>\n",
       "    </tr>\n",
       "    <tr>\n",
       "      <th>three</th>\n",
       "      <td>2002</td>\n",
       "      <td>3.6</td>\n",
       "      <td>Ohio</td>\n",
       "      <td>2.0</td>\n",
       "    </tr>\n",
       "    <tr>\n",
       "      <th>four</th>\n",
       "      <td>2001</td>\n",
       "      <td>2.4</td>\n",
       "      <td>Nevada</td>\n",
       "      <td>3.0</td>\n",
       "    </tr>\n",
       "    <tr>\n",
       "      <th>five</th>\n",
       "      <td>2002</td>\n",
       "      <td>2.9</td>\n",
       "      <td>Nevada</td>\n",
       "      <td>4.0</td>\n",
       "    </tr>\n",
       "    <tr>\n",
       "      <th>six</th>\n",
       "      <td>2003</td>\n",
       "      <td>3.2</td>\n",
       "      <td>Nevada</td>\n",
       "      <td>5.0</td>\n",
       "    </tr>\n",
       "  </tbody>\n",
       "</table>\n",
       "</div>"
      ],
      "text/plain": [
       "       year  pop   state  debt\n",
       "one    2000  1.5    Ohio   0.0\n",
       "two    2001  1.7    Ohio   1.0\n",
       "three  2002  3.6    Ohio   2.0\n",
       "four   2001  2.4  Nevada   3.0\n",
       "five   2002  2.9  Nevada   4.0\n",
       "six    2003  3.2  Nevada   5.0"
      ]
     },
     "execution_count": 50,
     "metadata": {},
     "output_type": "execute_result"
    }
   ],
   "source": [
    "frame2"
   ]
  },
  {
   "cell_type": "code",
   "execution_count": 51,
   "id": "07220008-1e15-4ecd-b47c-e9d7327c0352",
   "metadata": {},
   "outputs": [],
   "source": [
    "val = pd.Series([1.2,1.5,1.7], index = ['two','four','five'])"
   ]
  },
  {
   "cell_type": "code",
   "execution_count": 52,
   "id": "0cb3095b-ace9-4bd2-adff-bea9db8411bb",
   "metadata": {},
   "outputs": [],
   "source": [
    "frame2['debt'] = val"
   ]
  },
  {
   "cell_type": "code",
   "execution_count": 53,
   "id": "c0424b12-e2fa-401e-899c-67f2f3d8de43",
   "metadata": {},
   "outputs": [
    {
     "data": {
      "text/html": [
       "<div>\n",
       "<style scoped>\n",
       "    .dataframe tbody tr th:only-of-type {\n",
       "        vertical-align: middle;\n",
       "    }\n",
       "\n",
       "    .dataframe tbody tr th {\n",
       "        vertical-align: top;\n",
       "    }\n",
       "\n",
       "    .dataframe thead th {\n",
       "        text-align: right;\n",
       "    }\n",
       "</style>\n",
       "<table border=\"1\" class=\"dataframe\">\n",
       "  <thead>\n",
       "    <tr style=\"text-align: right;\">\n",
       "      <th></th>\n",
       "      <th>year</th>\n",
       "      <th>pop</th>\n",
       "      <th>state</th>\n",
       "      <th>debt</th>\n",
       "    </tr>\n",
       "  </thead>\n",
       "  <tbody>\n",
       "    <tr>\n",
       "      <th>one</th>\n",
       "      <td>2000</td>\n",
       "      <td>1.5</td>\n",
       "      <td>Ohio</td>\n",
       "      <td>NaN</td>\n",
       "    </tr>\n",
       "    <tr>\n",
       "      <th>two</th>\n",
       "      <td>2001</td>\n",
       "      <td>1.7</td>\n",
       "      <td>Ohio</td>\n",
       "      <td>1.2</td>\n",
       "    </tr>\n",
       "    <tr>\n",
       "      <th>three</th>\n",
       "      <td>2002</td>\n",
       "      <td>3.6</td>\n",
       "      <td>Ohio</td>\n",
       "      <td>NaN</td>\n",
       "    </tr>\n",
       "    <tr>\n",
       "      <th>four</th>\n",
       "      <td>2001</td>\n",
       "      <td>2.4</td>\n",
       "      <td>Nevada</td>\n",
       "      <td>1.5</td>\n",
       "    </tr>\n",
       "    <tr>\n",
       "      <th>five</th>\n",
       "      <td>2002</td>\n",
       "      <td>2.9</td>\n",
       "      <td>Nevada</td>\n",
       "      <td>1.7</td>\n",
       "    </tr>\n",
       "    <tr>\n",
       "      <th>six</th>\n",
       "      <td>2003</td>\n",
       "      <td>3.2</td>\n",
       "      <td>Nevada</td>\n",
       "      <td>NaN</td>\n",
       "    </tr>\n",
       "  </tbody>\n",
       "</table>\n",
       "</div>"
      ],
      "text/plain": [
       "       year  pop   state  debt\n",
       "one    2000  1.5    Ohio   NaN\n",
       "two    2001  1.7    Ohio   1.2\n",
       "three  2002  3.6    Ohio   NaN\n",
       "four   2001  2.4  Nevada   1.5\n",
       "five   2002  2.9  Nevada   1.7\n",
       "six    2003  3.2  Nevada   NaN"
      ]
     },
     "execution_count": 53,
     "metadata": {},
     "output_type": "execute_result"
    }
   ],
   "source": [
    "frame2"
   ]
  },
  {
   "cell_type": "code",
   "execution_count": 54,
   "id": "5a88c9c2-5f92-494d-aead-3315f388e49d",
   "metadata": {},
   "outputs": [],
   "source": [
    "frame2['eastern'] = frame2.state=='Ohio'"
   ]
  },
  {
   "cell_type": "code",
   "execution_count": 55,
   "id": "3c719985-26e5-495d-8201-0521b0f430c8",
   "metadata": {},
   "outputs": [
    {
     "data": {
      "text/html": [
       "<div>\n",
       "<style scoped>\n",
       "    .dataframe tbody tr th:only-of-type {\n",
       "        vertical-align: middle;\n",
       "    }\n",
       "\n",
       "    .dataframe tbody tr th {\n",
       "        vertical-align: top;\n",
       "    }\n",
       "\n",
       "    .dataframe thead th {\n",
       "        text-align: right;\n",
       "    }\n",
       "</style>\n",
       "<table border=\"1\" class=\"dataframe\">\n",
       "  <thead>\n",
       "    <tr style=\"text-align: right;\">\n",
       "      <th></th>\n",
       "      <th>year</th>\n",
       "      <th>pop</th>\n",
       "      <th>state</th>\n",
       "      <th>debt</th>\n",
       "      <th>eastern</th>\n",
       "    </tr>\n",
       "  </thead>\n",
       "  <tbody>\n",
       "    <tr>\n",
       "      <th>one</th>\n",
       "      <td>2000</td>\n",
       "      <td>1.5</td>\n",
       "      <td>Ohio</td>\n",
       "      <td>NaN</td>\n",
       "      <td>True</td>\n",
       "    </tr>\n",
       "    <tr>\n",
       "      <th>two</th>\n",
       "      <td>2001</td>\n",
       "      <td>1.7</td>\n",
       "      <td>Ohio</td>\n",
       "      <td>1.2</td>\n",
       "      <td>True</td>\n",
       "    </tr>\n",
       "    <tr>\n",
       "      <th>three</th>\n",
       "      <td>2002</td>\n",
       "      <td>3.6</td>\n",
       "      <td>Ohio</td>\n",
       "      <td>NaN</td>\n",
       "      <td>True</td>\n",
       "    </tr>\n",
       "    <tr>\n",
       "      <th>four</th>\n",
       "      <td>2001</td>\n",
       "      <td>2.4</td>\n",
       "      <td>Nevada</td>\n",
       "      <td>1.5</td>\n",
       "      <td>False</td>\n",
       "    </tr>\n",
       "    <tr>\n",
       "      <th>five</th>\n",
       "      <td>2002</td>\n",
       "      <td>2.9</td>\n",
       "      <td>Nevada</td>\n",
       "      <td>1.7</td>\n",
       "      <td>False</td>\n",
       "    </tr>\n",
       "    <tr>\n",
       "      <th>six</th>\n",
       "      <td>2003</td>\n",
       "      <td>3.2</td>\n",
       "      <td>Nevada</td>\n",
       "      <td>NaN</td>\n",
       "      <td>False</td>\n",
       "    </tr>\n",
       "  </tbody>\n",
       "</table>\n",
       "</div>"
      ],
      "text/plain": [
       "       year  pop   state  debt  eastern\n",
       "one    2000  1.5    Ohio   NaN     True\n",
       "two    2001  1.7    Ohio   1.2     True\n",
       "three  2002  3.6    Ohio   NaN     True\n",
       "four   2001  2.4  Nevada   1.5    False\n",
       "five   2002  2.9  Nevada   1.7    False\n",
       "six    2003  3.2  Nevada   NaN    False"
      ]
     },
     "execution_count": 55,
     "metadata": {},
     "output_type": "execute_result"
    }
   ],
   "source": [
    "frame2"
   ]
  },
  {
   "cell_type": "code",
   "execution_count": 56,
   "id": "414e33e3-a936-43ec-8f72-adfa0428f1bd",
   "metadata": {},
   "outputs": [],
   "source": [
    "del frame2['eastern']"
   ]
  },
  {
   "cell_type": "code",
   "execution_count": 57,
   "id": "6705f6c2-4398-4edc-a6cf-1d094c12b49d",
   "metadata": {},
   "outputs": [
    {
     "data": {
      "text/plain": [
       "Index(['year', 'pop', 'state', 'debt'], dtype='object')"
      ]
     },
     "execution_count": 57,
     "metadata": {},
     "output_type": "execute_result"
    }
   ],
   "source": [
    "frame2.columns"
   ]
  },
  {
   "cell_type": "code",
   "execution_count": 58,
   "id": "7c327cef-eae7-4bd2-a16d-278975858ddf",
   "metadata": {},
   "outputs": [],
   "source": [
    "# another form of data is nested dict of dicts\n",
    "\n",
    "pop = {'Ohio':{2000:1.5,2001:1.7,2002:3.6},'Nevada':{2001:2.4,2002:2.9}}"
   ]
  },
  {
   "cell_type": "code",
   "execution_count": 59,
   "id": "7b39f5c4-050e-47b6-bc93-bc2db8d7f9ab",
   "metadata": {},
   "outputs": [
    {
     "data": {
      "text/plain": [
       "{'Ohio': {2000: 1.5, 2001: 1.7, 2002: 3.6}, 'Nevada': {2001: 2.4, 2002: 2.9}}"
      ]
     },
     "execution_count": 59,
     "metadata": {},
     "output_type": "execute_result"
    }
   ],
   "source": [
    "pop"
   ]
  },
  {
   "cell_type": "code",
   "execution_count": 60,
   "id": "94e3d3d0-688c-4051-9375-9d953ef44aad",
   "metadata": {},
   "outputs": [],
   "source": [
    "frame3 = pd.DataFrame(pop)"
   ]
  },
  {
   "cell_type": "code",
   "execution_count": 61,
   "id": "fb5b254f-2383-4965-8b18-91a147a4ef30",
   "metadata": {},
   "outputs": [
    {
     "data": {
      "text/html": [
       "<div>\n",
       "<style scoped>\n",
       "    .dataframe tbody tr th:only-of-type {\n",
       "        vertical-align: middle;\n",
       "    }\n",
       "\n",
       "    .dataframe tbody tr th {\n",
       "        vertical-align: top;\n",
       "    }\n",
       "\n",
       "    .dataframe thead th {\n",
       "        text-align: right;\n",
       "    }\n",
       "</style>\n",
       "<table border=\"1\" class=\"dataframe\">\n",
       "  <thead>\n",
       "    <tr style=\"text-align: right;\">\n",
       "      <th></th>\n",
       "      <th>Ohio</th>\n",
       "      <th>Nevada</th>\n",
       "    </tr>\n",
       "  </thead>\n",
       "  <tbody>\n",
       "    <tr>\n",
       "      <th>2000</th>\n",
       "      <td>1.5</td>\n",
       "      <td>NaN</td>\n",
       "    </tr>\n",
       "    <tr>\n",
       "      <th>2001</th>\n",
       "      <td>1.7</td>\n",
       "      <td>2.4</td>\n",
       "    </tr>\n",
       "    <tr>\n",
       "      <th>2002</th>\n",
       "      <td>3.6</td>\n",
       "      <td>2.9</td>\n",
       "    </tr>\n",
       "  </tbody>\n",
       "</table>\n",
       "</div>"
      ],
      "text/plain": [
       "      Ohio  Nevada\n",
       "2000   1.5     NaN\n",
       "2001   1.7     2.4\n",
       "2002   3.6     2.9"
      ]
     },
     "execution_count": 61,
     "metadata": {},
     "output_type": "execute_result"
    }
   ],
   "source": [
    "frame3"
   ]
  },
  {
   "cell_type": "code",
   "execution_count": 62,
   "id": "bc42d66c-54f8-4abe-b77c-a02533375f51",
   "metadata": {},
   "outputs": [
    {
     "data": {
      "text/html": [
       "<div>\n",
       "<style scoped>\n",
       "    .dataframe tbody tr th:only-of-type {\n",
       "        vertical-align: middle;\n",
       "    }\n",
       "\n",
       "    .dataframe tbody tr th {\n",
       "        vertical-align: top;\n",
       "    }\n",
       "\n",
       "    .dataframe thead th {\n",
       "        text-align: right;\n",
       "    }\n",
       "</style>\n",
       "<table border=\"1\" class=\"dataframe\">\n",
       "  <thead>\n",
       "    <tr style=\"text-align: right;\">\n",
       "      <th></th>\n",
       "      <th>2000</th>\n",
       "      <th>2001</th>\n",
       "      <th>2002</th>\n",
       "    </tr>\n",
       "  </thead>\n",
       "  <tbody>\n",
       "    <tr>\n",
       "      <th>Ohio</th>\n",
       "      <td>1.5</td>\n",
       "      <td>1.7</td>\n",
       "      <td>3.6</td>\n",
       "    </tr>\n",
       "    <tr>\n",
       "      <th>Nevada</th>\n",
       "      <td>NaN</td>\n",
       "      <td>2.4</td>\n",
       "      <td>2.9</td>\n",
       "    </tr>\n",
       "  </tbody>\n",
       "</table>\n",
       "</div>"
      ],
      "text/plain": [
       "        2000  2001  2002\n",
       "Ohio     1.5   1.7   3.6\n",
       "Nevada   NaN   2.4   2.9"
      ]
     },
     "execution_count": 62,
     "metadata": {},
     "output_type": "execute_result"
    }
   ],
   "source": [
    "# transpose \n",
    "\n",
    "frame3.T"
   ]
  },
  {
   "cell_type": "code",
   "execution_count": 63,
   "id": "50425b14-abe6-460a-9fbf-21ad30a7c51a",
   "metadata": {},
   "outputs": [
    {
     "data": {
      "text/html": [
       "<div>\n",
       "<style scoped>\n",
       "    .dataframe tbody tr th:only-of-type {\n",
       "        vertical-align: middle;\n",
       "    }\n",
       "\n",
       "    .dataframe tbody tr th {\n",
       "        vertical-align: top;\n",
       "    }\n",
       "\n",
       "    .dataframe thead th {\n",
       "        text-align: right;\n",
       "    }\n",
       "</style>\n",
       "<table border=\"1\" class=\"dataframe\">\n",
       "  <thead>\n",
       "    <tr style=\"text-align: right;\">\n",
       "      <th></th>\n",
       "      <th>Ohio</th>\n",
       "      <th>Nevada</th>\n",
       "    </tr>\n",
       "  </thead>\n",
       "  <tbody>\n",
       "    <tr>\n",
       "      <th>2001</th>\n",
       "      <td>1.7</td>\n",
       "      <td>2.4</td>\n",
       "    </tr>\n",
       "    <tr>\n",
       "      <th>2002</th>\n",
       "      <td>3.6</td>\n",
       "      <td>2.9</td>\n",
       "    </tr>\n",
       "    <tr>\n",
       "      <th>2003</th>\n",
       "      <td>NaN</td>\n",
       "      <td>NaN</td>\n",
       "    </tr>\n",
       "  </tbody>\n",
       "</table>\n",
       "</div>"
      ],
      "text/plain": [
       "      Ohio  Nevada\n",
       "2001   1.7     2.4\n",
       "2002   3.6     2.9\n",
       "2003   NaN     NaN"
      ]
     },
     "execution_count": 63,
     "metadata": {},
     "output_type": "execute_result"
    }
   ],
   "source": [
    "pd.DataFrame(pop,index = [2001,2002,2003])"
   ]
  },
  {
   "cell_type": "code",
   "execution_count": 64,
   "id": "05769605-e1bd-414a-8fb1-15cc280d1b38",
   "metadata": {},
   "outputs": [],
   "source": [
    "pdata = {'Ohio':frame3['Ohio'][:-1],'Nevada':frame3['Nevada'][:2]}"
   ]
  },
  {
   "cell_type": "code",
   "execution_count": 65,
   "id": "58b9cbcc-9f7b-441d-b451-9fe24af9c824",
   "metadata": {},
   "outputs": [
    {
     "data": {
      "text/html": [
       "<div>\n",
       "<style scoped>\n",
       "    .dataframe tbody tr th:only-of-type {\n",
       "        vertical-align: middle;\n",
       "    }\n",
       "\n",
       "    .dataframe tbody tr th {\n",
       "        vertical-align: top;\n",
       "    }\n",
       "\n",
       "    .dataframe thead th {\n",
       "        text-align: right;\n",
       "    }\n",
       "</style>\n",
       "<table border=\"1\" class=\"dataframe\">\n",
       "  <thead>\n",
       "    <tr style=\"text-align: right;\">\n",
       "      <th></th>\n",
       "      <th>Ohio</th>\n",
       "      <th>Nevada</th>\n",
       "    </tr>\n",
       "  </thead>\n",
       "  <tbody>\n",
       "    <tr>\n",
       "      <th>2000</th>\n",
       "      <td>1.5</td>\n",
       "      <td>NaN</td>\n",
       "    </tr>\n",
       "    <tr>\n",
       "      <th>2001</th>\n",
       "      <td>1.7</td>\n",
       "      <td>2.4</td>\n",
       "    </tr>\n",
       "  </tbody>\n",
       "</table>\n",
       "</div>"
      ],
      "text/plain": [
       "      Ohio  Nevada\n",
       "2000   1.5     NaN\n",
       "2001   1.7     2.4"
      ]
     },
     "execution_count": 65,
     "metadata": {},
     "output_type": "execute_result"
    }
   ],
   "source": [
    "pd.DataFrame(pdata)"
   ]
  },
  {
   "cell_type": "code",
   "execution_count": 66,
   "id": "af6897aa-0d54-48f1-9357-fe5a3429856f",
   "metadata": {},
   "outputs": [],
   "source": [
    "frame3.index.name = 'year'\n",
    "frame3.columns.name = 'state'"
   ]
  },
  {
   "cell_type": "code",
   "execution_count": 67,
   "id": "2d05f583-a582-4b9e-9144-93d5fd66f0ce",
   "metadata": {},
   "outputs": [
    {
     "data": {
      "text/html": [
       "<div>\n",
       "<style scoped>\n",
       "    .dataframe tbody tr th:only-of-type {\n",
       "        vertical-align: middle;\n",
       "    }\n",
       "\n",
       "    .dataframe tbody tr th {\n",
       "        vertical-align: top;\n",
       "    }\n",
       "\n",
       "    .dataframe thead th {\n",
       "        text-align: right;\n",
       "    }\n",
       "</style>\n",
       "<table border=\"1\" class=\"dataframe\">\n",
       "  <thead>\n",
       "    <tr style=\"text-align: right;\">\n",
       "      <th>state</th>\n",
       "      <th>Ohio</th>\n",
       "      <th>Nevada</th>\n",
       "    </tr>\n",
       "    <tr>\n",
       "      <th>year</th>\n",
       "      <th></th>\n",
       "      <th></th>\n",
       "    </tr>\n",
       "  </thead>\n",
       "  <tbody>\n",
       "    <tr>\n",
       "      <th>2000</th>\n",
       "      <td>1.5</td>\n",
       "      <td>NaN</td>\n",
       "    </tr>\n",
       "    <tr>\n",
       "      <th>2001</th>\n",
       "      <td>1.7</td>\n",
       "      <td>2.4</td>\n",
       "    </tr>\n",
       "    <tr>\n",
       "      <th>2002</th>\n",
       "      <td>3.6</td>\n",
       "      <td>2.9</td>\n",
       "    </tr>\n",
       "  </tbody>\n",
       "</table>\n",
       "</div>"
      ],
      "text/plain": [
       "state  Ohio  Nevada\n",
       "year               \n",
       "2000    1.5     NaN\n",
       "2001    1.7     2.4\n",
       "2002    3.6     2.9"
      ]
     },
     "execution_count": 67,
     "metadata": {},
     "output_type": "execute_result"
    }
   ],
   "source": [
    "frame3"
   ]
  },
  {
   "cell_type": "code",
   "execution_count": 68,
   "id": "4578f3ff-afcd-41ae-a8c0-2b84aebd53f4",
   "metadata": {},
   "outputs": [
    {
     "data": {
      "text/plain": [
       "array([[1.5, nan],\n",
       "       [1.7, 2.4],\n",
       "       [3.6, 2.9]])"
      ]
     },
     "execution_count": 68,
     "metadata": {},
     "output_type": "execute_result"
    }
   ],
   "source": [
    "frame3.to_numpy()"
   ]
  },
  {
   "cell_type": "code",
   "execution_count": 69,
   "id": "bdd61d5a-de85-4c29-b46b-6c96811cd43d",
   "metadata": {},
   "outputs": [
    {
     "data": {
      "text/plain": [
       "array([[2000, 1.5, 'Ohio', nan],\n",
       "       [2001, 1.7, 'Ohio', 1.2],\n",
       "       [2002, 3.6, 'Ohio', nan],\n",
       "       [2001, 2.4, 'Nevada', 1.5],\n",
       "       [2002, 2.9, 'Nevada', 1.7],\n",
       "       [2003, 3.2, 'Nevada', nan]], dtype=object)"
      ]
     },
     "execution_count": 69,
     "metadata": {},
     "output_type": "execute_result"
    }
   ],
   "source": [
    "frame2.to_numpy()"
   ]
  },
  {
   "cell_type": "markdown",
   "id": "44191fec-f89e-436f-9d9b-d1e30d38dbce",
   "metadata": {},
   "source": [
    "#### Index Objects"
   ]
  },
  {
   "cell_type": "raw",
   "id": "8efbba6a-0d9c-4dac-b37f-b17e1885a2b5",
   "metadata": {},
   "source": [
    "pandas's index objects are responsible for holding the axis labels and other metadata "
   ]
  },
  {
   "cell_type": "code",
   "execution_count": 70,
   "id": "037e26c2-c2ce-42cd-906e-55a0e1b40dcb",
   "metadata": {},
   "outputs": [],
   "source": [
    "obj = pd.Series(range(3),index= ['a','b','c'])"
   ]
  },
  {
   "cell_type": "code",
   "execution_count": 71,
   "id": "3daecbba-a331-4d48-a3ec-3c09d20d445d",
   "metadata": {},
   "outputs": [],
   "source": [
    "index = obj.index"
   ]
  },
  {
   "cell_type": "code",
   "execution_count": 72,
   "id": "b69e861c-deca-420f-83bb-27b940b0c088",
   "metadata": {},
   "outputs": [
    {
     "data": {
      "text/plain": [
       "Index(['a', 'b', 'c'], dtype='object')"
      ]
     },
     "execution_count": 72,
     "metadata": {},
     "output_type": "execute_result"
    }
   ],
   "source": [
    "index"
   ]
  },
  {
   "cell_type": "code",
   "execution_count": 73,
   "id": "caed19b6-0ce4-4567-9915-17daf7bd95c6",
   "metadata": {},
   "outputs": [
    {
     "data": {
      "text/plain": [
       "Index(['b', 'c'], dtype='object')"
      ]
     },
     "execution_count": 73,
     "metadata": {},
     "output_type": "execute_result"
    }
   ],
   "source": [
    "index[1:]"
   ]
  },
  {
   "cell_type": "raw",
   "id": "f7361bb3-13c5-4bd2-9ec9-844977f8b528",
   "metadata": {},
   "source": [
    "Index objects are immutable and thus can't be modified by the user which makes it safer to share index objects among data structures"
   ]
  },
  {
   "cell_type": "code",
   "execution_count": 74,
   "id": "8b832e5b-442e-4155-9cd3-e02cff20aa51",
   "metadata": {},
   "outputs": [],
   "source": [
    "labels = pd.Index(np.arange(3))"
   ]
  },
  {
   "cell_type": "code",
   "execution_count": 75,
   "id": "317bfb60-a1e5-4f71-b471-7951ec7baecb",
   "metadata": {},
   "outputs": [
    {
     "data": {
      "text/plain": [
       "Index([0, 1, 2], dtype='int32')"
      ]
     },
     "execution_count": 75,
     "metadata": {},
     "output_type": "execute_result"
    }
   ],
   "source": [
    "labels"
   ]
  },
  {
   "cell_type": "code",
   "execution_count": 76,
   "id": "03eb95b9-be35-4819-b264-5da407115001",
   "metadata": {},
   "outputs": [],
   "source": [
    "obj2 = pd.Series([1.5,2.5,-3.2],index=labels)"
   ]
  },
  {
   "cell_type": "code",
   "execution_count": 77,
   "id": "9bb7b49f-ac01-44f2-bef8-9ac1b18d1e4b",
   "metadata": {},
   "outputs": [
    {
     "data": {
      "text/plain": [
       "0    1.5\n",
       "1    2.5\n",
       "2   -3.2\n",
       "dtype: float64"
      ]
     },
     "execution_count": 77,
     "metadata": {},
     "output_type": "execute_result"
    }
   ],
   "source": [
    "obj2"
   ]
  },
  {
   "cell_type": "code",
   "execution_count": 78,
   "id": "f8f58db5-1735-4a3a-ad3c-f8476a15a29a",
   "metadata": {},
   "outputs": [
    {
     "data": {
      "text/plain": [
       "True"
      ]
     },
     "execution_count": 78,
     "metadata": {},
     "output_type": "execute_result"
    }
   ],
   "source": [
    "obj2.index is labels"
   ]
  },
  {
   "cell_type": "code",
   "execution_count": 79,
   "id": "c8cb6b21-835c-41b8-ad8f-5cc5422fb2c5",
   "metadata": {},
   "outputs": [
    {
     "data": {
      "text/html": [
       "<div>\n",
       "<style scoped>\n",
       "    .dataframe tbody tr th:only-of-type {\n",
       "        vertical-align: middle;\n",
       "    }\n",
       "\n",
       "    .dataframe tbody tr th {\n",
       "        vertical-align: top;\n",
       "    }\n",
       "\n",
       "    .dataframe thead th {\n",
       "        text-align: right;\n",
       "    }\n",
       "</style>\n",
       "<table border=\"1\" class=\"dataframe\">\n",
       "  <thead>\n",
       "    <tr style=\"text-align: right;\">\n",
       "      <th>state</th>\n",
       "      <th>Ohio</th>\n",
       "      <th>Nevada</th>\n",
       "    </tr>\n",
       "    <tr>\n",
       "      <th>year</th>\n",
       "      <th></th>\n",
       "      <th></th>\n",
       "    </tr>\n",
       "  </thead>\n",
       "  <tbody>\n",
       "    <tr>\n",
       "      <th>2000</th>\n",
       "      <td>1.5</td>\n",
       "      <td>NaN</td>\n",
       "    </tr>\n",
       "    <tr>\n",
       "      <th>2001</th>\n",
       "      <td>1.7</td>\n",
       "      <td>2.4</td>\n",
       "    </tr>\n",
       "    <tr>\n",
       "      <th>2002</th>\n",
       "      <td>3.6</td>\n",
       "      <td>2.9</td>\n",
       "    </tr>\n",
       "  </tbody>\n",
       "</table>\n",
       "</div>"
      ],
      "text/plain": [
       "state  Ohio  Nevada\n",
       "year               \n",
       "2000    1.5     NaN\n",
       "2001    1.7     2.4\n",
       "2002    3.6     2.9"
      ]
     },
     "execution_count": 79,
     "metadata": {},
     "output_type": "execute_result"
    }
   ],
   "source": [
    "# an index also behaves like a fixed size set\n",
    "frame3"
   ]
  },
  {
   "cell_type": "code",
   "execution_count": 80,
   "id": "6a3c0f72-9c20-4740-9bc6-3cd031989061",
   "metadata": {},
   "outputs": [
    {
     "data": {
      "text/plain": [
       "Index(['Ohio', 'Nevada'], dtype='object', name='state')"
      ]
     },
     "execution_count": 80,
     "metadata": {},
     "output_type": "execute_result"
    }
   ],
   "source": [
    "frame3.columns"
   ]
  },
  {
   "cell_type": "code",
   "execution_count": 81,
   "id": "3e6d7285-fb6a-4009-99a9-9197c29ae1e1",
   "metadata": {},
   "outputs": [
    {
     "data": {
      "text/plain": [
       "True"
      ]
     },
     "execution_count": 81,
     "metadata": {},
     "output_type": "execute_result"
    }
   ],
   "source": [
    "'Ohio' in frame3.columns"
   ]
  },
  {
   "cell_type": "code",
   "execution_count": 82,
   "id": "03edf51d-7fb6-4eaa-9533-f69ff811bc1c",
   "metadata": {},
   "outputs": [
    {
     "data": {
      "text/plain": [
       "False"
      ]
     },
     "execution_count": 82,
     "metadata": {},
     "output_type": "execute_result"
    }
   ],
   "source": [
    "2003 in frame3.index"
   ]
  },
  {
   "cell_type": "raw",
   "id": "dff0168d-014b-4b5d-825c-68f13b4994af",
   "metadata": {},
   "source": [
    "Unlike python sets, pandas index can contain duplicate labels."
   ]
  },
  {
   "cell_type": "code",
   "execution_count": 83,
   "id": "e5a3f2a8-0d69-4cee-9309-c8d8c2f066bd",
   "metadata": {},
   "outputs": [],
   "source": [
    "dup_labels = pd.Index(['foo','foo','bar','bar'])"
   ]
  },
  {
   "cell_type": "code",
   "execution_count": 84,
   "id": "05ae8cfc-55d7-4e77-8ef8-1713e1529080",
   "metadata": {},
   "outputs": [
    {
     "data": {
      "text/plain": [
       "Index(['foo', 'foo', 'bar', 'bar'], dtype='object')"
      ]
     },
     "execution_count": 84,
     "metadata": {},
     "output_type": "execute_result"
    }
   ],
   "source": [
    "dup_labels"
   ]
  },
  {
   "cell_type": "code",
   "execution_count": null,
   "id": "9b297713-4b2a-4831-8f0e-97ff9b9eeb10",
   "metadata": {},
   "outputs": [],
   "source": []
  }
 ],
 "metadata": {
  "kernelspec": {
   "display_name": "Python [conda env:base] *",
   "language": "python",
   "name": "conda-base-py"
  },
  "language_info": {
   "codemirror_mode": {
    "name": "ipython",
    "version": 3
   },
   "file_extension": ".py",
   "mimetype": "text/x-python",
   "name": "python",
   "nbconvert_exporter": "python",
   "pygments_lexer": "ipython3",
   "version": "3.12.7"
  }
 },
 "nbformat": 4,
 "nbformat_minor": 5
}
