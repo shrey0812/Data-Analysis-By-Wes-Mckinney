{
 "cells": [
  {
   "cell_type": "code",
   "execution_count": 1,
   "id": "40c2d392-c06c-40f1-8f0f-55f7514583de",
   "metadata": {},
   "outputs": [],
   "source": [
    "import numpy as np"
   ]
  },
  {
   "cell_type": "markdown",
   "id": "17ade984-8565-4f9a-a9cc-3df86daa1325",
   "metadata": {},
   "source": [
    "### File Input and Output Arrays"
   ]
  },
  {
   "cell_type": "raw",
   "id": "62cc3e30-7a83-4a5b-8644-f4a9931674f0",
   "metadata": {},
   "source": [
    "Numpy is able to save and load data to and from disk in some text or binary formats."
   ]
  },
  {
   "cell_type": "code",
   "execution_count": 2,
   "id": "b7f0b002-fb2d-4e10-b3a2-c38216b8f0c7",
   "metadata": {},
   "outputs": [],
   "source": [
    "arr = np.arange(10)"
   ]
  },
  {
   "cell_type": "code",
   "execution_count": 3,
   "id": "53a8fbf9-97bd-46c4-9648-3156db8d32b3",
   "metadata": {},
   "outputs": [],
   "source": [
    "np.save('some_array',arr)"
   ]
  },
  {
   "cell_type": "code",
   "execution_count": 4,
   "id": "ab41d1a1-9af7-4675-85e5-496f434574a0",
   "metadata": {},
   "outputs": [
    {
     "data": {
      "text/plain": [
       "array([0, 1, 2, 3, 4, 5, 6, 7, 8, 9])"
      ]
     },
     "execution_count": 4,
     "metadata": {},
     "output_type": "execute_result"
    }
   ],
   "source": [
    "np.load('some_array.npy')"
   ]
  },
  {
   "cell_type": "markdown",
   "id": "aa575486-b080-476f-9d19-39d405160945",
   "metadata": {},
   "source": [
    "### Linear Algebra"
   ]
  },
  {
   "cell_type": "raw",
   "id": "6412199a-9133-475a-a6e6-dcf5bc9b5fd6",
   "metadata": {},
   "source": [
    "Linear algebra operations, like matrix multiplication, decompositions, determinants, and other square matrix math, are an important part of many array libraries."
   ]
  },
  {
   "cell_type": "code",
   "execution_count": 5,
   "id": "444a28cb-15df-4c25-8827-631719fe52df",
   "metadata": {},
   "outputs": [],
   "source": [
    "x = np.array([[1., 2., 3.], [4., 5., 6.]])"
   ]
  },
  {
   "cell_type": "code",
   "execution_count": 6,
   "id": "751892db-14a9-4155-adb2-a016615aae37",
   "metadata": {},
   "outputs": [],
   "source": [
    "y = np.array([[6., 23.], [-1, 7], [8, 9]])"
   ]
  },
  {
   "cell_type": "code",
   "execution_count": 7,
   "id": "cb5235a2-ea22-4681-ba0b-47bee53c7d10",
   "metadata": {},
   "outputs": [
    {
     "data": {
      "text/plain": [
       "array([[1., 2., 3.],\n",
       "       [4., 5., 6.]])"
      ]
     },
     "execution_count": 7,
     "metadata": {},
     "output_type": "execute_result"
    }
   ],
   "source": [
    "x"
   ]
  },
  {
   "cell_type": "code",
   "execution_count": 8,
   "id": "42df543a-0225-4000-b054-d973f80898c5",
   "metadata": {},
   "outputs": [
    {
     "data": {
      "text/plain": [
       "array([[ 6., 23.],\n",
       "       [-1.,  7.],\n",
       "       [ 8.,  9.]])"
      ]
     },
     "execution_count": 8,
     "metadata": {},
     "output_type": "execute_result"
    }
   ],
   "source": [
    "y"
   ]
  },
  {
   "cell_type": "code",
   "execution_count": 9,
   "id": "f7805326-040d-4d3b-95ce-a71bf29ba697",
   "metadata": {},
   "outputs": [
    {
     "data": {
      "text/plain": [
       "array([[ 28.,  64.],\n",
       "       [ 67., 181.]])"
      ]
     },
     "execution_count": 9,
     "metadata": {},
     "output_type": "execute_result"
    }
   ],
   "source": [
    "x.dot(y)"
   ]
  },
  {
   "cell_type": "code",
   "execution_count": 10,
   "id": "e83b9330-7c78-4a6d-970d-005a7baa75b8",
   "metadata": {},
   "outputs": [
    {
     "data": {
      "text/plain": [
       "array([ 6., 15.])"
      ]
     },
     "execution_count": 10,
     "metadata": {},
     "output_type": "execute_result"
    }
   ],
   "source": [
    "np.dot(x,np.ones(3))"
   ]
  },
  {
   "cell_type": "raw",
   "id": "ca8d117e-6724-439c-acc9-29553355482d",
   "metadata": {},
   "source": [
    "numpy.linalg has a standard set of matrix decompositions and things like inverse and determinant"
   ]
  },
  {
   "cell_type": "code",
   "execution_count": 11,
   "id": "64c80703-ef2b-4e2b-bbb8-d36fd266f2f2",
   "metadata": {},
   "outputs": [],
   "source": [
    "from numpy.linalg import inv, qr, det,eig"
   ]
  },
  {
   "cell_type": "code",
   "execution_count": 12,
   "id": "ae7238fa-0e54-42ce-9a7a-296c961a0a21",
   "metadata": {},
   "outputs": [],
   "source": [
    "X = np.random.randn(5,5)"
   ]
  },
  {
   "cell_type": "code",
   "execution_count": 13,
   "id": "28c8e3f7-acea-4b6f-bcff-2a732fc1283d",
   "metadata": {},
   "outputs": [],
   "source": [
    "mat = X.T.dot(X) # computes the dot product"
   ]
  },
  {
   "cell_type": "code",
   "execution_count": 14,
   "id": "d5211919-55a2-4d78-9f64-b96c1c12d688",
   "metadata": {},
   "outputs": [
    {
     "data": {
      "text/plain": [
       "array([[ 9.88622367, -3.89485408, -2.91649454, -4.04710795,  2.3879766 ],\n",
       "       [-3.89485408,  2.4463812 ,  1.61682612,  1.05205241, -1.41247402],\n",
       "       [-2.91649454,  1.61682612,  1.19620871,  0.90154465, -0.97637196],\n",
       "       [-4.04710795,  1.05205241,  0.90154465,  2.28825092, -0.67126536],\n",
       "       [ 2.3879766 , -1.41247402, -0.97637196, -0.67126536,  1.00486639]])"
      ]
     },
     "execution_count": 14,
     "metadata": {},
     "output_type": "execute_result"
    }
   ],
   "source": [
    "inv(mat)"
   ]
  },
  {
   "cell_type": "code",
   "execution_count": 15,
   "id": "4c1d915b-795f-40f9-815d-4677098dacac",
   "metadata": {},
   "outputs": [
    {
     "data": {
      "text/plain": [
       "array([[ 1.00000000e+00, -1.66533454e-16,  6.10622664e-16,\n",
       "         8.88178420e-16,  0.00000000e+00],\n",
       "       [ 0.00000000e+00,  1.00000000e+00,  8.88178420e-16,\n",
       "        -6.66133815e-16,  6.66133815e-16],\n",
       "       [ 8.88178420e-16, -3.10862447e-15,  1.00000000e+00,\n",
       "         2.22044605e-16, -4.44089210e-16],\n",
       "       [-4.44089210e-16, -2.22044605e-16,  3.33066907e-16,\n",
       "         1.00000000e+00, -3.33066907e-16],\n",
       "       [-1.77635684e-15,  1.77635684e-15,  8.88178420e-16,\n",
       "         0.00000000e+00,  1.00000000e+00]])"
      ]
     },
     "execution_count": 15,
     "metadata": {},
     "output_type": "execute_result"
    }
   ],
   "source": [
    "mat.dot(inv(mat))"
   ]
  },
  {
   "cell_type": "code",
   "execution_count": 16,
   "id": "67535a9a-4874-436b-877e-8be9773c9b47",
   "metadata": {},
   "outputs": [],
   "source": [
    "q,r = qr(mat)"
   ]
  },
  {
   "cell_type": "code",
   "execution_count": 17,
   "id": "1fec4cfd-7754-4567-b74a-d5b7272c6dfb",
   "metadata": {},
   "outputs": [
    {
     "data": {
      "text/plain": [
       "array([[-3.20766587, -1.28108895, -3.48926971, -4.05755985, -0.18127579],\n",
       "       [ 0.        , -7.35031859, 10.0451602 , -1.07709757, -1.55884661],\n",
       "       [ 0.        ,  0.        , -5.81918164,  0.58694401, -6.08098529],\n",
       "       [ 0.        ,  0.        ,  0.        , -0.50461329, -0.71072836],\n",
       "       [ 0.        ,  0.        ,  0.        ,  0.        ,  0.31448452]])"
      ]
     },
     "execution_count": 17,
     "metadata": {},
     "output_type": "execute_result"
    }
   ],
   "source": [
    "r"
   ]
  },
  {
   "cell_type": "code",
   "execution_count": 18,
   "id": "4923fabf-e8ee-4db6-8296-614d3fd79a78",
   "metadata": {},
   "outputs": [
    {
     "data": {
      "text/plain": [
       "21.7728439894898"
      ]
     },
     "execution_count": 18,
     "metadata": {},
     "output_type": "execute_result"
    }
   ],
   "source": [
    "det(mat)"
   ]
  },
  {
   "cell_type": "code",
   "execution_count": 19,
   "id": "7da9125c-cc81-4455-a24a-fecca21f2000",
   "metadata": {},
   "outputs": [
    {
     "data": {
      "text/plain": [
       "EigResult(eigenvalues=array([13.63685258,  7.31150948,  5.60491208,  0.06809366,  0.57216134]), eigenvectors=array([[ 0.04305362, -0.18829352,  0.50564673,  0.81529671,  0.20568081],\n",
       "       [-0.46303147, -0.52840661,  0.15476409, -0.34556881,  0.60251024],\n",
       "       [ 0.88045405, -0.20357025,  0.13053595, -0.25479994,  0.31842924],\n",
       "       [-0.03367633, -0.24855252,  0.681467  , -0.32549298, -0.60559442],\n",
       "       [ 0.08610935, -0.76296317, -0.48880727,  0.21214332, -0.35571764]]))"
      ]
     },
     "execution_count": 19,
     "metadata": {},
     "output_type": "execute_result"
    }
   ],
   "source": [
    "eig(mat)"
   ]
  },
  {
   "cell_type": "markdown",
   "id": "6d9882fd-a441-4d42-8bd5-ccbe7e826788",
   "metadata": {},
   "source": [
    "### Pseudorandam Number Generation"
   ]
  },
  {
   "cell_type": "raw",
   "id": "e088a266-8c78-4172-a480-dd47002d337f",
   "metadata": {},
   "source": [
    "numpy.random module supplements the built-in Python random with functions for efficiently generating whole arrays of sample values from many kinds of probability distributions."
   ]
  },
  {
   "cell_type": "code",
   "execution_count": 20,
   "id": "e34d3337-b840-4315-9458-810d15f93245",
   "metadata": {},
   "outputs": [],
   "source": [
    "samples = np.random.randn(4,4)"
   ]
  },
  {
   "cell_type": "code",
   "execution_count": 21,
   "id": "63c94b66-ce1b-458c-91f8-78d0f20b1225",
   "metadata": {},
   "outputs": [
    {
     "data": {
      "text/plain": [
       "array([[-2.22028028,  0.77611955, -0.46091565,  0.86917322],\n",
       "       [-0.95845859,  0.06659505, -0.40544143,  0.49641088],\n",
       "       [ 1.19377264, -1.07050654,  0.13902598,  1.1586707 ],\n",
       "       [-0.26460254, -0.61400675, -1.72976946,  0.59939274]])"
      ]
     },
     "execution_count": 21,
     "metadata": {},
     "output_type": "execute_result"
    }
   ],
   "source": [
    "samples"
   ]
  },
  {
   "cell_type": "raw",
   "id": "c0e5c968-5bbd-4514-b43a-9d647a766120",
   "metadata": {},
   "source": [
    "We say that these are pseudorandom numbers because they are generated by a algorithm with deterministic behaviour based on the seed of the random number generator. "
   ]
  },
  {
   "cell_type": "code",
   "execution_count": 22,
   "id": "bd0a77b8-639c-4b7d-a0ae-a2df90667135",
   "metadata": {},
   "outputs": [],
   "source": [
    "np.random.seed(1234)"
   ]
  },
  {
   "cell_type": "code",
   "execution_count": 23,
   "id": "26243f46-f668-4ace-86ca-083e18cde9c9",
   "metadata": {},
   "outputs": [],
   "source": [
    "rng = np.random.RandomState(1234)"
   ]
  },
  {
   "cell_type": "code",
   "execution_count": 24,
   "id": "e55c84e3-619e-4808-9f3e-9c02f00baef7",
   "metadata": {},
   "outputs": [
    {
     "data": {
      "text/plain": [
       "array([ 0.47143516, -1.19097569,  1.43270697, -0.3126519 , -0.72058873,\n",
       "        0.88716294,  0.85958841, -0.6365235 ,  0.01569637, -2.24268495])"
      ]
     },
     "execution_count": 24,
     "metadata": {},
     "output_type": "execute_result"
    }
   ],
   "source": [
    "arr= rng.randn(10)\n",
    "arr"
   ]
  },
  {
   "cell_type": "code",
   "execution_count": 25,
   "id": "7b266746-c1c9-4ea0-b535-6a4d1686b517",
   "metadata": {},
   "outputs": [
    {
     "data": {
      "text/plain": [
       "array([-2.24268495, -0.6365235 , -0.72058873, -0.3126519 ,  0.01569637,\n",
       "        1.43270697,  0.85958841, -1.19097569,  0.47143516,  0.88716294])"
      ]
     },
     "execution_count": 25,
     "metadata": {},
     "output_type": "execute_result"
    }
   ],
   "source": [
    "rng.permutation(arr)"
   ]
  },
  {
   "cell_type": "code",
   "execution_count": 26,
   "id": "1f0c2061-57a4-4fa8-b337-c349d85e95ad",
   "metadata": {},
   "outputs": [],
   "source": [
    "rng.shuffle(arr)"
   ]
  },
  {
   "cell_type": "markdown",
   "id": "dac2a779-3ed3-4085-944f-ac6afe820d80",
   "metadata": {},
   "source": [
    "### Example: Random Walks"
   ]
  },
  {
   "cell_type": "raw",
   "id": "4543a7e2-560d-43bd-86b8-d794725a05e3",
   "metadata": {},
   "source": [
    "The simulation of random walks provides an illustrative application of utilizing array operations. "
   ]
  },
  {
   "cell_type": "code",
   "execution_count": 27,
   "id": "6cb4dd1e-8271-4d8b-82d5-527f9afc9d24",
   "metadata": {},
   "outputs": [],
   "source": [
    "import random\n",
    "position = 0\n",
    "walk = [position]\n",
    "steps = 1000\n",
    "for i in range(steps):\n",
    "    step = 1 if random.randint(0,1) else -1\n",
    "    position += step\n",
    "    walk.append(position)"
   ]
  },
  {
   "cell_type": "code",
   "execution_count": 28,
   "id": "8bae113c-bf8a-43a9-8b1b-9741442a680e",
   "metadata": {},
   "outputs": [
    {
     "data": {
      "text/plain": [
       "[<matplotlib.lines.Line2D at 0x1a900d9c470>]"
      ]
     },
     "execution_count": 28,
     "metadata": {},
     "output_type": "execute_result"
    },
    {
     "data": {
      "image/png": "[encoded data removed]",
      "text/plain": [
       "<Figure size 640x480 with 1 Axes>"
      ]
     },
     "metadata": {},
     "output_type": "display_data"
    }
   ],
   "source": [
    "import matplotlib.pyplot as plt\n",
    "plt.plot(walk[:100])"
   ]
  },
  {
   "cell_type": "code",
   "execution_count": 29,
   "id": "eb221274-6d57-45a9-a3f9-7d77563e227a",
   "metadata": {},
   "outputs": [],
   "source": [
    "nsteps = 1000"
   ]
  },
  {
   "cell_type": "code",
   "execution_count": 30,
   "id": "b3f9bf76-24d6-4df9-b1db-14d92428ed8b",
   "metadata": {},
   "outputs": [],
   "source": [
    "draws = np.random.randint(0,2,size= nsteps)"
   ]
  },
  {
   "cell_type": "code",
   "execution_count": 31,
   "id": "c4564165-9fcf-47f4-9f8a-3be1267d1fd3",
   "metadata": {},
   "outputs": [],
   "source": [
    "steps = np.where(draws>0,1,-1)"
   ]
  },
  {
   "cell_type": "code",
   "execution_count": 32,
   "id": "53af1d01-8800-4fdb-9f06-497a6fe22d4b",
   "metadata": {},
   "outputs": [],
   "source": [
    "walk = steps.cumsum()"
   ]
  },
  {
   "cell_type": "code",
   "execution_count": 33,
   "id": "014815bb-233f-42f6-be9a-7a1c00f91dca",
   "metadata": {},
   "outputs": [
    {
     "data": {
      "text/plain": [
       "-9"
      ]
     },
     "execution_count": 33,
     "metadata": {},
     "output_type": "execute_result"
    }
   ],
   "source": [
    "walk.min()"
   ]
  },
  {
   "cell_type": "code",
   "execution_count": 34,
   "id": "495c35ef-eb24-41f7-9165-546fda78df36",
   "metadata": {},
   "outputs": [
    {
     "data": {
      "text/plain": [
       "60"
      ]
     },
     "execution_count": 34,
     "metadata": {},
     "output_type": "execute_result"
    }
   ],
   "source": [
    "walk.max()"
   ]
  },
  {
   "cell_type": "code",
   "execution_count": null,
   "id": "a57e7031-73cb-4c1b-aa7c-b1948aa3fdb9",
   "metadata": {},
   "outputs": [],
   "source": []
  }
 ],
 "metadata": {
  "kernelspec": {
   "display_name": "Python [conda env:base] *",
   "language": "python",
   "name": "conda-base-py"
  },
  "language_info": {
   "codemirror_mode": {
    "name": "ipython",
    "version": 3
   },
   "file_extension": ".py",
   "mimetype": "text/x-python",
   "name": "python",
   "nbconvert_exporter": "python",
   "pygments_lexer": "ipython3",
   "version": "3.12.7"
  }
 },
 "nbformat": 4,
 "nbformat_minor": 5
}
