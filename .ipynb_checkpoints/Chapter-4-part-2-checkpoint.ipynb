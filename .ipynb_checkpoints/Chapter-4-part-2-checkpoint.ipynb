{
 "cells": [
  {
   "cell_type": "markdown",
   "id": "6a882da7-407e-46ba-9fa3-58b6991ca919",
   "metadata": {},
   "source": [
    "### Transposing Arrays and Swapping Axes"
   ]
  },
  {
   "cell_type": "code",
   "execution_count": 1,
   "id": "12c53d20-3433-4fa4-b873-785bd1b248f4",
   "metadata": {},
   "outputs": [],
   "source": [
    "import numpy as np\n",
    "arr = np.arange(15).reshape((3,5))"
   ]
  },
  {
   "cell_type": "code",
   "execution_count": 2,
   "id": "f7ca4299-5187-4e5b-a686-127c01978516",
   "metadata": {},
   "outputs": [
    {
     "data": {
      "text/plain": [
       "array([[ 0,  1,  2,  3,  4],\n",
       "       [ 5,  6,  7,  8,  9],\n",
       "       [10, 11, 12, 13, 14]])"
      ]
     },
     "execution_count": 2,
     "metadata": {},
     "output_type": "execute_result"
    }
   ],
   "source": [
    "arr"
   ]
  },
  {
   "cell_type": "code",
   "execution_count": 3,
   "id": "66402bd9-4902-4ee6-9594-44f718ac7cfe",
   "metadata": {},
   "outputs": [
    {
     "data": {
      "text/plain": [
       "array([[ 0,  5, 10],\n",
       "       [ 1,  6, 11],\n",
       "       [ 2,  7, 12],\n",
       "       [ 3,  8, 13],\n",
       "       [ 4,  9, 14]])"
      ]
     },
     "execution_count": 3,
     "metadata": {},
     "output_type": "execute_result"
    }
   ],
   "source": [
    "arr.T"
   ]
  },
  {
   "cell_type": "code",
   "execution_count": 4,
   "id": "b1a126b3-a57b-4096-bf77-fb8f2d5c3217",
   "metadata": {},
   "outputs": [],
   "source": [
    "arr = np.random.randn(6,3)"
   ]
  },
  {
   "cell_type": "code",
   "execution_count": 5,
   "id": "44e16edc-a90c-45df-86d5-6224fefbaa5f",
   "metadata": {},
   "outputs": [
    {
     "data": {
      "text/plain": [
       "array([[ 0.44416769, -0.62993643,  0.2664657 ],\n",
       "       [ 0.04281666,  0.26885629,  0.18746263],\n",
       "       [ 1.75458743, -1.44741142,  0.39083526],\n",
       "       [ 0.48857736, -2.09887725, -1.07921136],\n",
       "       [-0.28523382,  1.5171805 , -0.89272727],\n",
       "       [-0.71711263,  0.25497749,  0.01293872]])"
      ]
     },
     "execution_count": 5,
     "metadata": {},
     "output_type": "execute_result"
    }
   ],
   "source": [
    "arr"
   ]
  },
  {
   "cell_type": "code",
   "execution_count": 6,
   "id": "4495939c-cdfd-4a0a-9705-94b0b176a8a4",
   "metadata": {},
   "outputs": [
    {
     "data": {
      "text/plain": [
       "array([[ 4.11201193, -4.44895843,  0.53021586],\n",
       "       [-4.44895843,  9.33623931,  0.23084749],\n",
       "       [ 0.53021586,  0.23084749,  2.22072496]])"
      ]
     },
     "execution_count": 6,
     "metadata": {},
     "output_type": "execute_result"
    }
   ],
   "source": [
    "np.dot(arr.T,arr)"
   ]
  },
  {
   "cell_type": "code",
   "execution_count": 7,
   "id": "d60c8bf6-dec6-48da-a2ad-99a526b9b9b5",
   "metadata": {},
   "outputs": [
    {
     "data": {
      "text/plain": [
       "array([[ 4.11201193, -4.44895843,  0.53021586],\n",
       "       [-4.44895843,  9.33623931,  0.23084749],\n",
       "       [ 0.53021586,  0.23084749,  2.22072496]])"
      ]
     },
     "execution_count": 7,
     "metadata": {},
     "output_type": "execute_result"
    }
   ],
   "source": [
    "# @ operator can also be used to calculate dot product\n",
    "arr.T @ arr"
   ]
  },
  {
   "cell_type": "code",
   "execution_count": 8,
   "id": "2ac8c86a-fcf2-4ad3-a6b1-c8e0da03f6ae",
   "metadata": {},
   "outputs": [],
   "source": [
    "# For higher dimensions transpose will accept tuple values of axis\n",
    "\n",
    "arr = np.arange(16).reshape((2,2,4))"
   ]
  },
  {
   "cell_type": "code",
   "execution_count": 9,
   "id": "69ac9278-d9ef-4e77-9850-e238d1b43db6",
   "metadata": {},
   "outputs": [
    {
     "data": {
      "text/plain": [
       "array([[[ 0,  1,  2,  3],\n",
       "        [ 4,  5,  6,  7]],\n",
       "\n",
       "       [[ 8,  9, 10, 11],\n",
       "        [12, 13, 14, 15]]])"
      ]
     },
     "execution_count": 9,
     "metadata": {},
     "output_type": "execute_result"
    }
   ],
   "source": [
    "arr"
   ]
  },
  {
   "cell_type": "code",
   "execution_count": 10,
   "id": "8c608332-066d-490e-be79-d6550eb9512f",
   "metadata": {},
   "outputs": [
    {
     "data": {
      "text/plain": [
       "array([[[ 0,  1,  2,  3],\n",
       "        [ 8,  9, 10, 11]],\n",
       "\n",
       "       [[ 4,  5,  6,  7],\n",
       "        [12, 13, 14, 15]]])"
      ]
     },
     "execution_count": 10,
     "metadata": {},
     "output_type": "execute_result"
    }
   ],
   "source": [
    "arr.transpose((1,0,2))"
   ]
  },
  {
   "cell_type": "raw",
   "id": "ddf28e4c-9e47-4dfb-a103-5af34024a36d",
   "metadata": {},
   "source": [
    "It is just reorientation of the array which does not realise in any data copied or moved around"
   ]
  },
  {
   "cell_type": "code",
   "execution_count": 11,
   "id": "9ff3f587-132e-4d89-87d7-2e448923f6ac",
   "metadata": {},
   "outputs": [
    {
     "data": {
      "text/plain": [
       "array([[[ 0,  1,  2,  3],\n",
       "        [ 4,  5,  6,  7]],\n",
       "\n",
       "       [[ 8,  9, 10, 11],\n",
       "        [12, 13, 14, 15]]])"
      ]
     },
     "execution_count": 11,
     "metadata": {},
     "output_type": "execute_result"
    }
   ],
   "source": [
    "# swapaxes -- which takes a pair of axis numbers and switches the indicated axes and rearrange the data:\n",
    "\n",
    "arr"
   ]
  },
  {
   "cell_type": "code",
   "execution_count": 12,
   "id": "06855886-ffb7-4bf4-91ce-e2439c65ab2d",
   "metadata": {},
   "outputs": [
    {
     "data": {
      "text/plain": [
       "array([[[ 0,  4],\n",
       "        [ 1,  5],\n",
       "        [ 2,  6],\n",
       "        [ 3,  7]],\n",
       "\n",
       "       [[ 8, 12],\n",
       "        [ 9, 13],\n",
       "        [10, 14],\n",
       "        [11, 15]]])"
      ]
     },
     "execution_count": 12,
     "metadata": {},
     "output_type": "execute_result"
    }
   ],
   "source": [
    "arr.swapaxes(1,2)"
   ]
  },
  {
   "cell_type": "markdown",
   "id": "93aefa2b-b51b-4017-981f-645b2f31fff9",
   "metadata": {},
   "source": [
    "### Universal Functions: Fast Element-wise Array Functions"
   ]
  },
  {
   "cell_type": "raw",
   "id": "a5a9d9da-971d-4ca6-b003-fccdadfd6cc9",
   "metadata": {},
   "source": [
    "A universal function is a function that performs element-wise operations on data in ndarrays. -- Fast vectorized wrappers Also referred to as unfuncs"
   ]
  },
  {
   "cell_type": "code",
   "execution_count": 13,
   "id": "cdc08fa8-8fdf-43ae-a349-0dab0b2ccb8c",
   "metadata": {},
   "outputs": [],
   "source": [
    "arr = np.arange(10)"
   ]
  },
  {
   "cell_type": "code",
   "execution_count": 14,
   "id": "78f49671-b782-449b-bdcc-c3d518da26cb",
   "metadata": {},
   "outputs": [
    {
     "data": {
      "text/plain": [
       "array([0, 1, 2, 3, 4, 5, 6, 7, 8, 9])"
      ]
     },
     "execution_count": 14,
     "metadata": {},
     "output_type": "execute_result"
    }
   ],
   "source": [
    "arr"
   ]
  },
  {
   "cell_type": "code",
   "execution_count": 15,
   "id": "1964bda7-44e3-42c3-93ac-92ad64d0900b",
   "metadata": {},
   "outputs": [
    {
     "data": {
      "text/plain": [
       "array([0.        , 1.        , 1.41421356, 1.73205081, 2.        ,\n",
       "       2.23606798, 2.44948974, 2.64575131, 2.82842712, 3.        ])"
      ]
     },
     "execution_count": 15,
     "metadata": {},
     "output_type": "execute_result"
    }
   ],
   "source": [
    "np.sqrt(arr)"
   ]
  },
  {
   "cell_type": "code",
   "execution_count": 16,
   "id": "2892f6c1-9bba-42a2-9a56-5608878aefb3",
   "metadata": {},
   "outputs": [
    {
     "data": {
      "text/plain": [
       "array([1.00000000e+00, 2.71828183e+00, 7.38905610e+00, 2.00855369e+01,\n",
       "       5.45981500e+01, 1.48413159e+02, 4.03428793e+02, 1.09663316e+03,\n",
       "       2.98095799e+03, 8.10308393e+03])"
      ]
     },
     "execution_count": 16,
     "metadata": {},
     "output_type": "execute_result"
    }
   ],
   "source": [
    "np.exp(arr)"
   ]
  },
  {
   "cell_type": "raw",
   "id": "51db1df2-642c-4d96-98e9-fea895760c6f",
   "metadata": {},
   "source": [
    "These were the unary ufuncs since they take only one array as input"
   ]
  },
  {
   "cell_type": "code",
   "execution_count": 17,
   "id": "2834a756-c092-4743-8a11-0d96a04722e1",
   "metadata": {},
   "outputs": [],
   "source": [
    "x = np.random.randn(8)"
   ]
  },
  {
   "cell_type": "code",
   "execution_count": 18,
   "id": "bf8559aa-aa6a-4ee4-b2e8-2c042346346f",
   "metadata": {},
   "outputs": [],
   "source": [
    "y = np.random.randn(8)"
   ]
  },
  {
   "cell_type": "code",
   "execution_count": 19,
   "id": "73017a15-21d0-4aa3-aafb-5b5bc9866c17",
   "metadata": {},
   "outputs": [
    {
     "data": {
      "text/plain": [
       "array([-0.39018239, -0.29332386, -0.19542364,  1.88868692, -1.21776086,\n",
       "        1.45295639, -0.34669048,  0.24194577])"
      ]
     },
     "execution_count": 19,
     "metadata": {},
     "output_type": "execute_result"
    }
   ],
   "source": [
    "x"
   ]
  },
  {
   "cell_type": "code",
   "execution_count": 20,
   "id": "8dc6d8e9-fc86-4d08-8180-1a6e6eb92ebd",
   "metadata": {},
   "outputs": [
    {
     "data": {
      "text/plain": [
       "array([-0.74982659,  0.94140293,  0.84589786,  0.02558624,  0.98757232,\n",
       "        0.00499405,  2.75166724,  0.40673104])"
      ]
     },
     "execution_count": 20,
     "metadata": {},
     "output_type": "execute_result"
    }
   ],
   "source": [
    "y"
   ]
  },
  {
   "cell_type": "code",
   "execution_count": 21,
   "id": "3372a0ec-0c49-48e0-a9b1-dc7341c25f74",
   "metadata": {},
   "outputs": [
    {
     "data": {
      "text/plain": [
       "array([-1.14000897,  0.64807907,  0.65047421,  1.91427316, -0.23018853,\n",
       "        1.45795044,  2.40497676,  0.64867681])"
      ]
     },
     "execution_count": 21,
     "metadata": {},
     "output_type": "execute_result"
    }
   ],
   "source": [
    "np.add(x,y)"
   ]
  },
  {
   "cell_type": "code",
   "execution_count": 22,
   "id": "9ae15b5a-36b7-476e-aa36-f286325e47e5",
   "metadata": {},
   "outputs": [
    {
     "data": {
      "text/plain": [
       "array([ 0.3596442 , -1.23472678, -1.0413215 ,  1.86310068, -2.20533318,\n",
       "        1.44796233, -3.09835772, -0.16478527])"
      ]
     },
     "execution_count": 22,
     "metadata": {},
     "output_type": "execute_result"
    }
   ],
   "source": [
    "np.subtract(x,y)"
   ]
  },
  {
   "cell_type": "code",
   "execution_count": 23,
   "id": "535cdabb-ba8f-48cb-8ac3-1b0e87bcb666",
   "metadata": {},
   "outputs": [
    {
     "data": {
      "text/plain": [
       "array([-0.39018239,  0.94140293,  0.84589786,  1.88868692,  0.98757232,\n",
       "        1.45295639,  2.75166724,  0.40673104])"
      ]
     },
     "execution_count": 23,
     "metadata": {},
     "output_type": "execute_result"
    }
   ],
   "source": [
    "np.maximum(x,y)"
   ]
  },
  {
   "cell_type": "raw",
   "id": "ba8fbc6b-99d3-477e-8ef7-fdeb27499586",
   "metadata": {},
   "source": [
    "While not common, a unfunc can return multiple arrays. modf is one such example"
   ]
  },
  {
   "cell_type": "code",
   "execution_count": 24,
   "id": "7604845c-1798-40dc-9f1d-5fd7f647d2fd",
   "metadata": {},
   "outputs": [],
   "source": [
    "arr = np.random.randn(7)*5"
   ]
  },
  {
   "cell_type": "code",
   "execution_count": 25,
   "id": "a9fad6f5-ba22-44b5-b886-6fc37ced7a3e",
   "metadata": {},
   "outputs": [
    {
     "data": {
      "text/plain": [
       "array([-7.80288215, -1.37168155, -4.0612742 , -1.05128632, -0.82057201,\n",
       "        5.53363471,  3.13749797])"
      ]
     },
     "execution_count": 25,
     "metadata": {},
     "output_type": "execute_result"
    }
   ],
   "source": [
    "arr"
   ]
  },
  {
   "cell_type": "code",
   "execution_count": 26,
   "id": "2752b4ac-591e-4154-a5c9-ae0f6fdc9429",
   "metadata": {},
   "outputs": [],
   "source": [
    "remainder,whole_part = np.modf(arr)"
   ]
  },
  {
   "cell_type": "code",
   "execution_count": 27,
   "id": "b58ed690-fbf1-4e98-a12a-bbb1c73b40d7",
   "metadata": {},
   "outputs": [
    {
     "data": {
      "text/plain": [
       "array([-0.80288215, -0.37168155, -0.0612742 , -0.05128632, -0.82057201,\n",
       "        0.53363471,  0.13749797])"
      ]
     },
     "execution_count": 27,
     "metadata": {},
     "output_type": "execute_result"
    }
   ],
   "source": [
    "remainder"
   ]
  },
  {
   "cell_type": "code",
   "execution_count": 28,
   "id": "b873aba5-6b5e-4a79-9738-4f034c436907",
   "metadata": {},
   "outputs": [
    {
     "data": {
      "text/plain": [
       "array([-7., -1., -4., -1., -0.,  5.,  3.])"
      ]
     },
     "execution_count": 28,
     "metadata": {},
     "output_type": "execute_result"
    }
   ],
   "source": [
    "whole_part"
   ]
  },
  {
   "cell_type": "raw",
   "id": "6dfa27ca-9068-4ccb-be01-856dfa511a81",
   "metadata": {},
   "source": [
    "Ufuncs accept an optional out argument that allows them to assign their results into an existing array rather than creating a new one:"
   ]
  },
  {
   "cell_type": "code",
   "execution_count": 29,
   "id": "ce987795-763a-4c41-aef0-40b2ee7ea9bb",
   "metadata": {},
   "outputs": [
    {
     "data": {
      "text/plain": [
       "array([-7.80288215, -1.37168155, -4.0612742 , -1.05128632, -0.82057201,\n",
       "        5.53363471,  3.13749797])"
      ]
     },
     "execution_count": 29,
     "metadata": {},
     "output_type": "execute_result"
    }
   ],
   "source": [
    "arr"
   ]
  },
  {
   "cell_type": "code",
   "execution_count": 30,
   "id": "10e51e7b-5efe-4264-a21e-0b71c1817925",
   "metadata": {},
   "outputs": [],
   "source": [
    "out = np.zeros_like(arr)"
   ]
  },
  {
   "cell_type": "code",
   "execution_count": 31,
   "id": "d5160f93-ab97-4d43-a725-e8c52b95f0f5",
   "metadata": {},
   "outputs": [
    {
     "data": {
      "text/plain": [
       "array([0., 0., 0., 0., 0., 0., 0.])"
      ]
     },
     "execution_count": 31,
     "metadata": {},
     "output_type": "execute_result"
    }
   ],
   "source": [
    "out"
   ]
  },
  {
   "cell_type": "code",
   "execution_count": 32,
   "id": "351136eb-3afa-46ca-82a9-ea7ff92ce841",
   "metadata": {},
   "outputs": [
    {
     "data": {
      "text/plain": [
       "array([-6.80288215, -0.37168155, -3.0612742 , -0.05128632,  0.17942799,\n",
       "        6.53363471,  4.13749797])"
      ]
     },
     "execution_count": 32,
     "metadata": {},
     "output_type": "execute_result"
    }
   ],
   "source": [
    "np.add(arr,1)"
   ]
  },
  {
   "cell_type": "code",
   "execution_count": 33,
   "id": "fe73b43d-14fc-41e2-942a-f4144095de06",
   "metadata": {},
   "outputs": [
    {
     "data": {
      "text/plain": [
       "array([-6.80288215, -0.37168155, -3.0612742 , -0.05128632,  0.17942799,\n",
       "        6.53363471,  4.13749797])"
      ]
     },
     "execution_count": 33,
     "metadata": {},
     "output_type": "execute_result"
    }
   ],
   "source": [
    "np.add(arr,1,out=out)"
   ]
  },
  {
   "cell_type": "code",
   "execution_count": 34,
   "id": "2a79034b-6d54-4740-af00-b971af6c3bb7",
   "metadata": {},
   "outputs": [
    {
     "data": {
      "text/plain": [
       "array([-6.80288215, -0.37168155, -3.0612742 , -0.05128632,  0.17942799,\n",
       "        6.53363471,  4.13749797])"
      ]
     },
     "execution_count": 34,
     "metadata": {},
     "output_type": "execute_result"
    }
   ],
   "source": [
    "out"
   ]
  },
  {
   "cell_type": "code",
   "execution_count": 37,
   "id": "1bd4ade5-15f5-4bf1-8958-e61971d67893",
   "metadata": {},
   "outputs": [
    {
     "data": {
      "text/plain": [
       "array([ 4.78266566, -3.76150758, -6.47259314,  5.87566742, -1.24894202,\n",
       "       -5.16501395, -9.86728333, -0.31074362])"
      ]
     },
     "execution_count": 37,
     "metadata": {},
     "output_type": "execute_result"
    }
   ],
   "source": [
    "arr = np.random.randn(8)*6\n",
    "arr"
   ]
  },
  {
   "cell_type": "code",
   "execution_count": 38,
   "id": "0b1c80e8-19df-4f10-95f9-bc6d7e4979f3",
   "metadata": {},
   "outputs": [
    {
     "data": {
      "text/plain": [
       "array([ 5., -3., -6.,  6., -1., -5., -9., -0.])"
      ]
     },
     "execution_count": 38,
     "metadata": {},
     "output_type": "execute_result"
    }
   ],
   "source": [
    "np.ceil(arr)"
   ]
  },
  {
   "cell_type": "code",
   "execution_count": 39,
   "id": "0bce6d03-529e-43bf-a271-a19235a44f46",
   "metadata": {},
   "outputs": [
    {
     "data": {
      "text/plain": [
       "array([  4.,  -4.,  -7.,   5.,  -2.,  -6., -10.,  -1.])"
      ]
     },
     "execution_count": 39,
     "metadata": {},
     "output_type": "execute_result"
    }
   ],
   "source": [
    "np.floor(arr)"
   ]
  },
  {
   "cell_type": "code",
   "execution_count": 40,
   "id": "51474538-ec88-4c98-b81b-51676eee59b8",
   "metadata": {},
   "outputs": [
    {
     "data": {
      "text/plain": [
       "array([  5.,  -4.,  -6.,   6.,  -1.,  -5., -10.,  -0.])"
      ]
     },
     "execution_count": 40,
     "metadata": {},
     "output_type": "execute_result"
    }
   ],
   "source": [
    "np.rint(arr)"
   ]
  },
  {
   "cell_type": "code",
   "execution_count": 41,
   "id": "8e68f52f-c75b-482c-9b36-6e4443bcc5be",
   "metadata": {},
   "outputs": [
    {
     "data": {
      "text/plain": [
       "(array([ 0.78266566, -0.76150758, -0.47259314,  0.87566742, -0.24894202,\n",
       "        -0.16501395, -0.86728333, -0.31074362]),\n",
       " array([ 4., -3., -6.,  5., -1., -5., -9., -0.]))"
      ]
     },
     "execution_count": 41,
     "metadata": {},
     "output_type": "execute_result"
    }
   ],
   "source": [
    "np.modf(arr)"
   ]
  },
  {
   "cell_type": "code",
   "execution_count": 43,
   "id": "e4b90b66-2cc9-40ca-9a90-2bcdaf30caa2",
   "metadata": {},
   "outputs": [
    {
     "data": {
      "text/plain": [
       "array([False, False, False, False, False, False, False, False])"
      ]
     },
     "execution_count": 43,
     "metadata": {},
     "output_type": "execute_result"
    }
   ],
   "source": [
    "np.isnan(arr)"
   ]
  },
  {
   "cell_type": "code",
   "execution_count": 44,
   "id": "ddfc51db-95d8-46af-a6c5-fe90b7c95c55",
   "metadata": {},
   "outputs": [
    {
     "data": {
      "text/plain": [
       "array([ 0.07021885, -0.81392788,  0.9821159 ,  0.91810739,  0.31632619,\n",
       "        0.43732768, -0.90368169,  0.95210646])"
      ]
     },
     "execution_count": 44,
     "metadata": {},
     "output_type": "execute_result"
    }
   ],
   "source": [
    "np.cos(arr)"
   ]
  },
  {
   "cell_type": "code",
   "execution_count": 45,
   "id": "176e0caf-7042-422b-bd3e-33f0ba04460f",
   "metadata": {},
   "outputs": [
    {
     "data": {
      "text/plain": [
       "array([-0.99753161,  0.58096592, -0.18827736, -0.3963317 , -0.94865048,\n",
       "        0.89930223,  0.42820486, -0.30576673])"
      ]
     },
     "execution_count": 45,
     "metadata": {},
     "output_type": "execute_result"
    }
   ],
   "source": [
    "np.sin(arr)"
   ]
  },
  {
   "cell_type": "code",
   "execution_count": 46,
   "id": "d84552f6-c917-47b8-9751-af3bdfd53bcb",
   "metadata": {},
   "outputs": [
    {
     "data": {
      "text/plain": [
       "array([5.97153196e+01, 2.15182359e+01, 3.23580638e+02, 1.78132583e+02,\n",
       "       1.88673014e+00, 8.75228070e+01, 9.64443314e+03, 1.04867056e+00])"
      ]
     },
     "execution_count": 46,
     "metadata": {},
     "output_type": "execute_result"
    }
   ],
   "source": [
    "np.cosh(arr)"
   ]
  },
  {
   "cell_type": "code",
   "execution_count": 47,
   "id": "50a6e0db-fd12-449b-9c36-694f97c90718",
   "metadata": {},
   "outputs": [
    {
     "data": {
      "text/plain": [
       "array([ 5.97069460e+01, -2.14949872e+01, -3.23579093e+02,  1.78129776e+02,\n",
       "       -1.59992206e+00, -8.75170940e+01, -9.64443308e+03, -3.15768809e-01])"
      ]
     },
     "execution_count": 47,
     "metadata": {},
     "output_type": "execute_result"
    }
   ],
   "source": [
    "np.sinh(arr)"
   ]
  },
  {
   "cell_type": "code",
   "execution_count": 48,
   "id": "4127850e-d5dc-459b-a33b-b05698de36f6",
   "metadata": {},
   "outputs": [
    {
     "data": {
      "text/plain": [
       "array([-14.20603754,  -0.71378059,  -0.19170584,  -0.43168338,\n",
       "        -2.99896281,   2.05635788,  -0.47384479,  -0.32114763])"
      ]
     },
     "execution_count": 48,
     "metadata": {},
     "output_type": "execute_result"
    }
   ],
   "source": [
    "np.tan(arr)"
   ]
  },
  {
   "cell_type": "code",
   "execution_count": 49,
   "id": "a47027ed-f6a4-4d70-a5f4-deacdfc416ff",
   "metadata": {},
   "outputs": [
    {
     "data": {
      "text/plain": [
       "array([ 0.99985977, -0.99891958, -0.99999522,  0.99998424, -0.8479867 ,\n",
       "       -0.99993473, -0.99999999, -0.30111345])"
      ]
     },
     "execution_count": 49,
     "metadata": {},
     "output_type": "execute_result"
    }
   ],
   "source": [
    "np.tanh(arr)"
   ]
  },
  {
   "cell_type": "code",
   "execution_count": 50,
   "id": "3e795392-c120-4e08-8cd7-084642cc003d",
   "metadata": {},
   "outputs": [
    {
     "name": "stderr",
     "output_type": "stream",
     "text": [
      "C:\\Users\\HP\\AppData\\Local\\Temp\\ipykernel_23072\\3874515196.py:1: RuntimeWarning: invalid value encountered in arccos\n",
      "  np.arccos(arr)\n"
     ]
    },
    {
     "data": {
      "text/plain": [
       "array([       nan,        nan,        nan,        nan,        nan,\n",
       "              nan,        nan, 1.88677162])"
      ]
     },
     "execution_count": 50,
     "metadata": {},
     "output_type": "execute_result"
    }
   ],
   "source": [
    "np.arccos(arr)"
   ]
  },
  {
   "cell_type": "code",
   "execution_count": 51,
   "id": "4b6dee5e-3725-475c-a843-432530b07117",
   "metadata": {},
   "outputs": [
    {
     "data": {
      "text/plain": [
       "array([False, False, False, False, False, False, False, False])"
      ]
     },
     "execution_count": 51,
     "metadata": {},
     "output_type": "execute_result"
    }
   ],
   "source": [
    "np.logical_not(arr)"
   ]
  },
  {
   "cell_type": "code",
   "execution_count": null,
   "id": "b674f8a2-fe1f-4e75-9802-dec110f18364",
   "metadata": {},
   "outputs": [],
   "source": []
  }
 ],
 "metadata": {
  "kernelspec": {
   "display_name": "Python [conda env:base] *",
   "language": "python",
   "name": "conda-base-py"
  },
  "language_info": {
   "codemirror_mode": {
    "name": "ipython",
    "version": 3
   },
   "file_extension": ".py",
   "mimetype": "text/x-python",
   "name": "python",
   "nbconvert_exporter": "python",
   "pygments_lexer": "ipython3",
   "version": "3.12.7"
  }
 },
 "nbformat": 4,
 "nbformat_minor": 5
}
