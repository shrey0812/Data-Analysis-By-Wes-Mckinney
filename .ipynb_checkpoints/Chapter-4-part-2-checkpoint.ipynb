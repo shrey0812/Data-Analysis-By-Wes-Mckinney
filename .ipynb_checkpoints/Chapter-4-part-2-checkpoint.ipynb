{
 "cells": [
  {
   "cell_type": "markdown",
   "id": "6a882da7-407e-46ba-9fa3-58b6991ca919",
   "metadata": {},
   "source": [
    "### Transposing Arrays and Swapping Axes"
   ]
  },
  {
   "cell_type": "code",
   "execution_count": 1,
   "id": "12c53d20-3433-4fa4-b873-785bd1b248f4",
   "metadata": {},
   "outputs": [],
   "source": [
    "import numpy as np\n",
    "arr = np.arange(15).reshape((3,5))"
   ]
  },
  {
   "cell_type": "code",
   "execution_count": 2,
   "id": "f7ca4299-5187-4e5b-a686-127c01978516",
   "metadata": {},
   "outputs": [
    {
     "data": {
      "text/plain": [
       "array([[ 0,  1,  2,  3,  4],\n",
       "       [ 5,  6,  7,  8,  9],\n",
       "       [10, 11, 12, 13, 14]])"
      ]
     },
     "execution_count": 2,
     "metadata": {},
     "output_type": "execute_result"
    }
   ],
   "source": [
    "arr"
   ]
  },
  {
   "cell_type": "code",
   "execution_count": 3,
   "id": "66402bd9-4902-4ee6-9594-44f718ac7cfe",
   "metadata": {},
   "outputs": [
    {
     "data": {
      "text/plain": [
       "array([[ 0,  5, 10],\n",
       "       [ 1,  6, 11],\n",
       "       [ 2,  7, 12],\n",
       "       [ 3,  8, 13],\n",
       "       [ 4,  9, 14]])"
      ]
     },
     "execution_count": 3,
     "metadata": {},
     "output_type": "execute_result"
    }
   ],
   "source": [
    "arr.T"
   ]
  },
  {
   "cell_type": "code",
   "execution_count": 4,
   "id": "b1a126b3-a57b-4096-bf77-fb8f2d5c3217",
   "metadata": {},
   "outputs": [],
   "source": [
    "arr = np.random.randn(6,3)"
   ]
  },
  {
   "cell_type": "code",
   "execution_count": 5,
   "id": "44e16edc-a90c-45df-86d5-6224fefbaa5f",
   "metadata": {},
   "outputs": [
    {
     "data": {
      "text/plain": [
       "array([[ 0.10875646, -0.56141678, -1.65759546],\n",
       "       [ 0.45029562,  0.06877665,  0.1924026 ],\n",
       "       [-0.13836194, -1.66154234, -0.413913  ],\n",
       "       [ 1.65211475, -0.83416933,  0.30285321],\n",
       "       [ 0.77913433,  1.37089342, -0.20166413],\n",
       "       [-1.15831306, -0.53937919,  0.91624762]])"
      ]
     },
     "execution_count": 5,
     "metadata": {},
     "output_type": "execute_result"
    }
   ],
   "source": [
    "arr"
   ]
  },
  {
   "cell_type": "code",
   "execution_count": 6,
   "id": "4495939c-cdfd-4a0a-9705-94b0b176a8a4",
   "metadata": {},
   "outputs": [
    {
     "data": {
      "text/plain": [
       "array([[ 4.91196076,  0.51454299, -0.75444313],\n",
       "       [ 0.51454299,  5.94675912,  0.60827289],\n",
       "       [-0.75444313,  0.60827289,  3.92786363]])"
      ]
     },
     "execution_count": 6,
     "metadata": {},
     "output_type": "execute_result"
    }
   ],
   "source": [
    "np.dot(arr.T,arr)"
   ]
  },
  {
   "cell_type": "code",
   "execution_count": 7,
   "id": "d60c8bf6-dec6-48da-a2ad-99a526b9b9b5",
   "metadata": {},
   "outputs": [
    {
     "data": {
      "text/plain": [
       "array([[ 4.91196076,  0.51454299, -0.75444313],\n",
       "       [ 0.51454299,  5.94675912,  0.60827289],\n",
       "       [-0.75444313,  0.60827289,  3.92786363]])"
      ]
     },
     "execution_count": 7,
     "metadata": {},
     "output_type": "execute_result"
    }
   ],
   "source": [
    "# @ operator can also be used to calculate dot product\n",
    "arr.T @ arr"
   ]
  },
  {
   "cell_type": "code",
   "execution_count": 8,
   "id": "2ac8c86a-fcf2-4ad3-a6b1-c8e0da03f6ae",
   "metadata": {},
   "outputs": [],
   "source": [
    "# For higher dimensions transpose will accept tuple values of axis\n",
    "\n",
    "arr = np.arange(16).reshape((2,2,4))"
   ]
  },
  {
   "cell_type": "code",
   "execution_count": 9,
   "id": "69ac9278-d9ef-4e77-9850-e238d1b43db6",
   "metadata": {},
   "outputs": [
    {
     "data": {
      "text/plain": [
       "array([[[ 0,  1,  2,  3],\n",
       "        [ 4,  5,  6,  7]],\n",
       "\n",
       "       [[ 8,  9, 10, 11],\n",
       "        [12, 13, 14, 15]]])"
      ]
     },
     "execution_count": 9,
     "metadata": {},
     "output_type": "execute_result"
    }
   ],
   "source": [
    "arr"
   ]
  },
  {
   "cell_type": "code",
   "execution_count": 10,
   "id": "8c608332-066d-490e-be79-d6550eb9512f",
   "metadata": {},
   "outputs": [
    {
     "data": {
      "text/plain": [
       "array([[[ 0,  1,  2,  3],\n",
       "        [ 8,  9, 10, 11]],\n",
       "\n",
       "       [[ 4,  5,  6,  7],\n",
       "        [12, 13, 14, 15]]])"
      ]
     },
     "execution_count": 10,
     "metadata": {},
     "output_type": "execute_result"
    }
   ],
   "source": [
    "arr.transpose((1,0,2))"
   ]
  },
  {
   "cell_type": "raw",
   "id": "ddf28e4c-9e47-4dfb-a103-5af34024a36d",
   "metadata": {},
   "source": [
    "It is just reorientation of the array which does not realise in any data copied or moved around"
   ]
  },
  {
   "cell_type": "code",
   "execution_count": 11,
   "id": "9ff3f587-132e-4d89-87d7-2e448923f6ac",
   "metadata": {},
   "outputs": [
    {
     "data": {
      "text/plain": [
       "array([[[ 0,  1,  2,  3],\n",
       "        [ 4,  5,  6,  7]],\n",
       "\n",
       "       [[ 8,  9, 10, 11],\n",
       "        [12, 13, 14, 15]]])"
      ]
     },
     "execution_count": 11,
     "metadata": {},
     "output_type": "execute_result"
    }
   ],
   "source": [
    "# swapaxes -- which takes a pair of axis numbers and switches the indicated axes and rearrange the data:\n",
    "\n",
    "arr"
   ]
  },
  {
   "cell_type": "code",
   "execution_count": 12,
   "id": "06855886-ffb7-4bf4-91ce-e2439c65ab2d",
   "metadata": {},
   "outputs": [
    {
     "data": {
      "text/plain": [
       "array([[[ 0,  4],\n",
       "        [ 1,  5],\n",
       "        [ 2,  6],\n",
       "        [ 3,  7]],\n",
       "\n",
       "       [[ 8, 12],\n",
       "        [ 9, 13],\n",
       "        [10, 14],\n",
       "        [11, 15]]])"
      ]
     },
     "execution_count": 12,
     "metadata": {},
     "output_type": "execute_result"
    }
   ],
   "source": [
    "arr.swapaxes(1,2)"
   ]
  },
  {
   "cell_type": "markdown",
   "id": "93aefa2b-b51b-4017-981f-645b2f31fff9",
   "metadata": {},
   "source": [
    "### Universal Functions: Fast Element-wise Array Functions"
   ]
  },
  {
   "cell_type": "raw",
   "id": "a5a9d9da-971d-4ca6-b003-fccdadfd6cc9",
   "metadata": {},
   "source": [
    "A universal function is a function that performs element-wise operations on data in ndarrays. -- Fast vectorized wrappers Also referred to as unfuncs"
   ]
  },
  {
   "cell_type": "code",
   "execution_count": 13,
   "id": "cdc08fa8-8fdf-43ae-a349-0dab0b2ccb8c",
   "metadata": {},
   "outputs": [],
   "source": [
    "arr = np.arange(10)"
   ]
  },
  {
   "cell_type": "code",
   "execution_count": 14,
   "id": "78f49671-b782-449b-bdcc-c3d518da26cb",
   "metadata": {},
   "outputs": [
    {
     "data": {
      "text/plain": [
       "array([0, 1, 2, 3, 4, 5, 6, 7, 8, 9])"
      ]
     },
     "execution_count": 14,
     "metadata": {},
     "output_type": "execute_result"
    }
   ],
   "source": [
    "arr"
   ]
  },
  {
   "cell_type": "code",
   "execution_count": 15,
   "id": "1964bda7-44e3-42c3-93ac-92ad64d0900b",
   "metadata": {},
   "outputs": [
    {
     "data": {
      "text/plain": [
       "array([0.        , 1.        , 1.41421356, 1.73205081, 2.        ,\n",
       "       2.23606798, 2.44948974, 2.64575131, 2.82842712, 3.        ])"
      ]
     },
     "execution_count": 15,
     "metadata": {},
     "output_type": "execute_result"
    }
   ],
   "source": [
    "np.sqrt(arr)"
   ]
  },
  {
   "cell_type": "code",
   "execution_count": 16,
   "id": "2892f6c1-9bba-42a2-9a56-5608878aefb3",
   "metadata": {},
   "outputs": [
    {
     "data": {
      "text/plain": [
       "array([1.00000000e+00, 2.71828183e+00, 7.38905610e+00, 2.00855369e+01,\n",
       "       5.45981500e+01, 1.48413159e+02, 4.03428793e+02, 1.09663316e+03,\n",
       "       2.98095799e+03, 8.10308393e+03])"
      ]
     },
     "execution_count": 16,
     "metadata": {},
     "output_type": "execute_result"
    }
   ],
   "source": [
    "np.exp(arr)"
   ]
  },
  {
   "cell_type": "raw",
   "id": "51db1df2-642c-4d96-98e9-fea895760c6f",
   "metadata": {},
   "source": [
    "These were the unary ufuncs since they take only one array as input"
   ]
  },
  {
   "cell_type": "code",
   "execution_count": 17,
   "id": "2834a756-c092-4743-8a11-0d96a04722e1",
   "metadata": {},
   "outputs": [],
   "source": [
    "x = np.random.randn(8)"
   ]
  },
  {
   "cell_type": "code",
   "execution_count": 18,
   "id": "bf8559aa-aa6a-4ee4-b2e8-2c042346346f",
   "metadata": {},
   "outputs": [],
   "source": [
    "y = np.random.randn(8)"
   ]
  },
  {
   "cell_type": "code",
   "execution_count": 19,
   "id": "73017a15-21d0-4aa3-aafb-5b5bc9866c17",
   "metadata": {},
   "outputs": [
    {
     "data": {
      "text/plain": [
       "array([-0.63274438,  0.43426588,  0.7110277 , -0.525789  ,  0.24838254,\n",
       "       -2.9891492 , -0.31092749, -0.43864039])"
      ]
     },
     "execution_count": 19,
     "metadata": {},
     "output_type": "execute_result"
    }
   ],
   "source": [
    "x"
   ]
  },
  {
   "cell_type": "code",
   "execution_count": 20,
   "id": "8dc6d8e9-fc86-4d08-8180-1a6e6eb92ebd",
   "metadata": {},
   "outputs": [
    {
     "data": {
      "text/plain": [
       "array([ 0.96615871,  1.77196929,  0.31167365,  0.39544072,  0.64737493,\n",
       "       -1.01808509, -0.4054316 ,  2.59676235])"
      ]
     },
     "execution_count": 20,
     "metadata": {},
     "output_type": "execute_result"
    }
   ],
   "source": [
    "y"
   ]
  },
  {
   "cell_type": "code",
   "execution_count": 21,
   "id": "3372a0ec-0c49-48e0-a9b1-dc7341c25f74",
   "metadata": {},
   "outputs": [
    {
     "data": {
      "text/plain": [
       "array([ 0.33341434,  2.20623517,  1.02270135, -0.13034828,  0.89575747,\n",
       "       -4.00723429, -0.71635909,  2.15812196])"
      ]
     },
     "execution_count": 21,
     "metadata": {},
     "output_type": "execute_result"
    }
   ],
   "source": [
    "np.add(x,y)"
   ]
  },
  {
   "cell_type": "code",
   "execution_count": 22,
   "id": "9ae15b5a-36b7-476e-aa36-f286325e47e5",
   "metadata": {},
   "outputs": [
    {
     "data": {
      "text/plain": [
       "array([-1.59890309, -1.33770341,  0.39935406, -0.92122973, -0.39899239,\n",
       "       -1.97106412,  0.09450411, -3.03540274])"
      ]
     },
     "execution_count": 22,
     "metadata": {},
     "output_type": "execute_result"
    }
   ],
   "source": [
    "np.subtract(x,y)"
   ]
  },
  {
   "cell_type": "code",
   "execution_count": 23,
   "id": "535cdabb-ba8f-48cb-8ac3-1b0e87bcb666",
   "metadata": {},
   "outputs": [
    {
     "data": {
      "text/plain": [
       "array([ 0.96615871,  1.77196929,  0.7110277 ,  0.39544072,  0.64737493,\n",
       "       -1.01808509, -0.31092749,  2.59676235])"
      ]
     },
     "execution_count": 23,
     "metadata": {},
     "output_type": "execute_result"
    }
   ],
   "source": [
    "np.maximum(x,y)"
   ]
  },
  {
   "cell_type": "raw",
   "id": "ba8fbc6b-99d3-477e-8ef7-fdeb27499586",
   "metadata": {},
   "source": [
    "While not common, a unfunc can return multiple arrays. modf is one such example"
   ]
  },
  {
   "cell_type": "code",
   "execution_count": 24,
   "id": "7604845c-1798-40dc-9f1d-5fd7f647d2fd",
   "metadata": {},
   "outputs": [],
   "source": [
    "arr = np.random.randn(7)*5"
   ]
  },
  {
   "cell_type": "code",
   "execution_count": 25,
   "id": "a9fad6f5-ba22-44b5-b886-6fc37ced7a3e",
   "metadata": {},
   "outputs": [
    {
     "data": {
      "text/plain": [
       "array([ 3.70085017,  9.09978308,  0.22608455,  7.15186887, -2.0766605 ,\n",
       "       -3.95539714, 12.66192667])"
      ]
     },
     "execution_count": 25,
     "metadata": {},
     "output_type": "execute_result"
    }
   ],
   "source": [
    "arr"
   ]
  },
  {
   "cell_type": "code",
   "execution_count": 26,
   "id": "2752b4ac-591e-4154-a5c9-ae0f6fdc9429",
   "metadata": {},
   "outputs": [],
   "source": [
    "remainder,whole_part = np.modf(arr)"
   ]
  },
  {
   "cell_type": "code",
   "execution_count": 27,
   "id": "b58ed690-fbf1-4e98-a12a-bbb1c73b40d7",
   "metadata": {},
   "outputs": [
    {
     "data": {
      "text/plain": [
       "array([ 0.70085017,  0.09978308,  0.22608455,  0.15186887, -0.0766605 ,\n",
       "       -0.95539714,  0.66192667])"
      ]
     },
     "execution_count": 27,
     "metadata": {},
     "output_type": "execute_result"
    }
   ],
   "source": [
    "remainder"
   ]
  },
  {
   "cell_type": "code",
   "execution_count": 28,
   "id": "b873aba5-6b5e-4a79-9738-4f034c436907",
   "metadata": {},
   "outputs": [
    {
     "data": {
      "text/plain": [
       "array([ 3.,  9.,  0.,  7., -2., -3., 12.])"
      ]
     },
     "execution_count": 28,
     "metadata": {},
     "output_type": "execute_result"
    }
   ],
   "source": [
    "whole_part"
   ]
  },
  {
   "cell_type": "raw",
   "id": "6dfa27ca-9068-4ccb-be01-856dfa511a81",
   "metadata": {},
   "source": [
    "Ufuncs accept an optional out argument that allows them to assign their results into an existing array rather than creating a new one:"
   ]
  },
  {
   "cell_type": "code",
   "execution_count": 29,
   "id": "ce987795-763a-4c41-aef0-40b2ee7ea9bb",
   "metadata": {},
   "outputs": [
    {
     "data": {
      "text/plain": [
       "array([ 3.70085017,  9.09978308,  0.22608455,  7.15186887, -2.0766605 ,\n",
       "       -3.95539714, 12.66192667])"
      ]
     },
     "execution_count": 29,
     "metadata": {},
     "output_type": "execute_result"
    }
   ],
   "source": [
    "arr"
   ]
  },
  {
   "cell_type": "code",
   "execution_count": 30,
   "id": "10e51e7b-5efe-4264-a21e-0b71c1817925",
   "metadata": {},
   "outputs": [],
   "source": [
    "out = np.zeros_like(arr)"
   ]
  },
  {
   "cell_type": "code",
   "execution_count": 31,
   "id": "d5160f93-ab97-4d43-a725-e8c52b95f0f5",
   "metadata": {},
   "outputs": [
    {
     "data": {
      "text/plain": [
       "array([0., 0., 0., 0., 0., 0., 0.])"
      ]
     },
     "execution_count": 31,
     "metadata": {},
     "output_type": "execute_result"
    }
   ],
   "source": [
    "out"
   ]
  },
  {
   "cell_type": "code",
   "execution_count": 32,
   "id": "351136eb-3afa-46ca-82a9-ea7ff92ce841",
   "metadata": {},
   "outputs": [
    {
     "data": {
      "text/plain": [
       "array([ 4.70085017, 10.09978308,  1.22608455,  8.15186887, -1.0766605 ,\n",
       "       -2.95539714, 13.66192667])"
      ]
     },
     "execution_count": 32,
     "metadata": {},
     "output_type": "execute_result"
    }
   ],
   "source": [
    "np.add(arr,1)"
   ]
  },
  {
   "cell_type": "code",
   "execution_count": 33,
   "id": "fe73b43d-14fc-41e2-942a-f4144095de06",
   "metadata": {},
   "outputs": [
    {
     "data": {
      "text/plain": [
       "array([ 4.70085017, 10.09978308,  1.22608455,  8.15186887, -1.0766605 ,\n",
       "       -2.95539714, 13.66192667])"
      ]
     },
     "execution_count": 33,
     "metadata": {},
     "output_type": "execute_result"
    }
   ],
   "source": [
    "np.add(arr,1,out=out)"
   ]
  },
  {
   "cell_type": "code",
   "execution_count": 34,
   "id": "2a79034b-6d54-4740-af00-b971af6c3bb7",
   "metadata": {},
   "outputs": [
    {
     "data": {
      "text/plain": [
       "array([ 4.70085017, 10.09978308,  1.22608455,  8.15186887, -1.0766605 ,\n",
       "       -2.95539714, 13.66192667])"
      ]
     },
     "execution_count": 34,
     "metadata": {},
     "output_type": "execute_result"
    }
   ],
   "source": [
    "out"
   ]
  },
  {
   "cell_type": "code",
   "execution_count": 35,
   "id": "1bd4ade5-15f5-4bf1-8958-e61971d67893",
   "metadata": {},
   "outputs": [
    {
     "data": {
      "text/plain": [
       "array([-1.42161184,  1.07293616, -6.92269588, -0.21368633,  3.28421841,\n",
       "       -4.24772949, -7.99770897,  0.82841092])"
      ]
     },
     "execution_count": 35,
     "metadata": {},
     "output_type": "execute_result"
    }
   ],
   "source": [
    "arr = np.random.randn(8)*6\n",
    "arr"
   ]
  },
  {
   "cell_type": "code",
   "execution_count": 36,
   "id": "0b1c80e8-19df-4f10-95f9-bc6d7e4979f3",
   "metadata": {},
   "outputs": [
    {
     "data": {
      "text/plain": [
       "array([-1.,  2., -6., -0.,  4., -4., -7.,  1.])"
      ]
     },
     "execution_count": 36,
     "metadata": {},
     "output_type": "execute_result"
    }
   ],
   "source": [
    "np.ceil(arr)"
   ]
  },
  {
   "cell_type": "code",
   "execution_count": 37,
   "id": "0bce6d03-529e-43bf-a271-a19235a44f46",
   "metadata": {},
   "outputs": [
    {
     "data": {
      "text/plain": [
       "array([-2.,  1., -7., -1.,  3., -5., -8.,  0.])"
      ]
     },
     "execution_count": 37,
     "metadata": {},
     "output_type": "execute_result"
    }
   ],
   "source": [
    "np.floor(arr)"
   ]
  },
  {
   "cell_type": "code",
   "execution_count": 38,
   "id": "51474538-ec88-4c98-b81b-51676eee59b8",
   "metadata": {},
   "outputs": [
    {
     "data": {
      "text/plain": [
       "array([-1.,  1., -7., -0.,  3., -4., -8.,  1.])"
      ]
     },
     "execution_count": 38,
     "metadata": {},
     "output_type": "execute_result"
    }
   ],
   "source": [
    "np.rint(arr)"
   ]
  },
  {
   "cell_type": "code",
   "execution_count": 39,
   "id": "8e68f52f-c75b-482c-9b36-6e4443bcc5be",
   "metadata": {},
   "outputs": [
    {
     "data": {
      "text/plain": [
       "(array([-0.42161184,  0.07293616, -0.92269588, -0.21368633,  0.28421841,\n",
       "        -0.24772949, -0.99770897,  0.82841092]),\n",
       " array([-1.,  1., -6., -0.,  3., -4., -7.,  0.]))"
      ]
     },
     "execution_count": 39,
     "metadata": {},
     "output_type": "execute_result"
    }
   ],
   "source": [
    "np.modf(arr)"
   ]
  },
  {
   "cell_type": "code",
   "execution_count": 40,
   "id": "e4b90b66-2cc9-40ca-9a90-2bcdaf30caa2",
   "metadata": {},
   "outputs": [
    {
     "data": {
      "text/plain": [
       "array([False, False, False, False, False, False, False, False])"
      ]
     },
     "execution_count": 40,
     "metadata": {},
     "output_type": "execute_result"
    }
   ],
   "source": [
    "np.isnan(arr)"
   ]
  },
  {
   "cell_type": "code",
   "execution_count": 41,
   "id": "ddfc51db-95d8-46af-a6c5-fe90b7c95c55",
   "metadata": {},
   "outputs": [
    {
     "data": {
      "text/plain": [
       "array([ 0.14863173,  0.47754656,  0.80238795,  0.97725582, -0.98984618,\n",
       "       -0.44811842, -0.143233  ,  0.67604754])"
      ]
     },
     "execution_count": 41,
     "metadata": {},
     "output_type": "execute_result"
    }
   ],
   "source": [
    "np.cos(arr)"
   ]
  },
  {
   "cell_type": "code",
   "execution_count": 42,
   "id": "176e0caf-7042-422b-bd3e-33f0ba04460f",
   "metadata": {},
   "outputs": [
    {
     "data": {
      "text/plain": [
       "array([-0.98889262,  0.87860644, -0.5968028 , -0.21206382, -0.14214269,\n",
       "        0.89397421, -0.98968899,  0.73685801])"
      ]
     },
     "execution_count": 42,
     "metadata": {},
     "output_type": "execute_result"
    }
   ],
   "source": [
    "np.sin(arr)"
   ]
  },
  {
   "cell_type": "code",
   "execution_count": 43,
   "id": "d84552f6-c917-47b8-9751-af3bdfd53bcb",
   "metadata": {},
   "outputs": [
    {
     "data": {
      "text/plain": [
       "array([2.19255946e+00, 1.63297749e+00, 5.07526876e+02, 1.02291793e+00,\n",
       "       1.33627934e+01, 3.49803573e+01, 1.48706834e+03, 1.36321006e+00])"
      ]
     },
     "execution_count": 43,
     "metadata": {},
     "output_type": "execute_result"
    }
   ],
   "source": [
    "np.cosh(arr)"
   ]
  },
  {
   "cell_type": "code",
   "execution_count": 44,
   "id": "50a6e0db-fd12-449b-9c36-694f97c90718",
   "metadata": {},
   "outputs": [
    {
     "data": {
      "text/plain": [
       "array([-1.95123473e+00,  1.29097462e+00, -5.07525891e+02, -2.15316267e-01,\n",
       "        1.33253235e+01, -3.49660606e+01, -1.48706800e+03,  9.26467312e-01])"
      ]
     },
     "execution_count": 44,
     "metadata": {},
     "output_type": "execute_result"
    }
   ],
   "source": [
    "np.sinh(arr)"
   ]
  },
  {
   "cell_type": "code",
   "execution_count": 45,
   "id": "4127850e-d5dc-459b-a33b-b05698de36f6",
   "metadata": {},
   "outputs": [
    {
     "data": {
      "text/plain": [
       "array([-6.65330773,  1.8398341 , -0.74378336, -0.21699929,  0.14360079,\n",
       "       -1.99495081,  6.9096435 ,  1.08995   ])"
      ]
     },
     "execution_count": 45,
     "metadata": {},
     "output_type": "execute_result"
    }
   ],
   "source": [
    "np.tan(arr)"
   ]
  },
  {
   "cell_type": "code",
   "execution_count": 46,
   "id": "a47027ed-f6a4-4d70-a5f4-deacdfc416ff",
   "metadata": {},
   "outputs": [
    {
     "data": {
      "text/plain": [
       "array([-0.88993469,  0.79056486, -0.99999806, -0.21049222,  0.99719596,\n",
       "       -0.99959129, -0.99999977,  0.67962183])"
      ]
     },
     "execution_count": 46,
     "metadata": {},
     "output_type": "execute_result"
    }
   ],
   "source": [
    "np.tanh(arr)"
   ]
  },
  {
   "cell_type": "code",
   "execution_count": 47,
   "id": "3e795392-c120-4e08-8cd7-084642cc003d",
   "metadata": {},
   "outputs": [
    {
     "name": "stderr",
     "output_type": "stream",
     "text": [
      "C:\\Users\\HP\\AppData\\Local\\Temp\\ipykernel_42024\\3874515196.py:1: RuntimeWarning: invalid value encountered in arccos\n",
      "  np.arccos(arr)\n"
     ]
    },
    {
     "data": {
      "text/plain": [
       "array([       nan,        nan,        nan, 1.78614323,        nan,\n",
       "              nan,        nan, 0.59453165])"
      ]
     },
     "execution_count": 47,
     "metadata": {},
     "output_type": "execute_result"
    }
   ],
   "source": [
    "np.arccos(arr)"
   ]
  },
  {
   "cell_type": "code",
   "execution_count": 48,
   "id": "4b6dee5e-3725-475c-a843-432530b07117",
   "metadata": {},
   "outputs": [
    {
     "data": {
      "text/plain": [
       "array([False, False, False, False, False, False, False, False])"
      ]
     },
     "execution_count": 48,
     "metadata": {},
     "output_type": "execute_result"
    }
   ],
   "source": [
    "np.logical_not(arr)"
   ]
  },
  {
   "cell_type": "code",
   "execution_count": 49,
   "id": "b674f8a2-fe1f-4e75-9802-dec110f18364",
   "metadata": {},
   "outputs": [
    {
     "data": {
      "text/plain": [
       "array([ 0.33341434,  2.20623517,  1.02270135, -0.13034828,  0.89575747,\n",
       "       -4.00723429, -0.71635909,  2.15812196])"
      ]
     },
     "execution_count": 49,
     "metadata": {},
     "output_type": "execute_result"
    }
   ],
   "source": [
    "np.add(x,y)"
   ]
  },
  {
   "cell_type": "code",
   "execution_count": 50,
   "id": "1188eda7-0a29-46fe-8bfc-829d14bde382",
   "metadata": {},
   "outputs": [
    {
     "data": {
      "text/plain": [
       "array([-1.59890309, -1.33770341,  0.39935406, -0.92122973, -0.39899239,\n",
       "       -1.97106412,  0.09450411, -3.03540274])"
      ]
     },
     "execution_count": 50,
     "metadata": {},
     "output_type": "execute_result"
    }
   ],
   "source": [
    "np.subtract(x,y)"
   ]
  },
  {
   "cell_type": "code",
   "execution_count": 51,
   "id": "4465db5b-7ea8-4097-9017-4d78c63ecc08",
   "metadata": {},
   "outputs": [
    {
     "data": {
      "text/plain": [
       "array([-0.61133149,  0.7695058 ,  0.2216086 , -0.20791838,  0.16079663,\n",
       "        3.04320822,  0.12605983, -1.13904485])"
      ]
     },
     "execution_count": 51,
     "metadata": {},
     "output_type": "execute_result"
    }
   ],
   "source": [
    "np.multiply(x,y)"
   ]
  },
  {
   "cell_type": "code",
   "execution_count": 52,
   "id": "0514996c-8841-4d06-97b6-ad8ee31ad2ef",
   "metadata": {},
   "outputs": [
    {
     "data": {
      "text/plain": [
       "array([-0.65490728,  0.24507528,  2.2813212 , -1.32962786,  0.38367649,\n",
       "        2.93605048,  0.76690492, -0.16891819])"
      ]
     },
     "execution_count": 52,
     "metadata": {},
     "output_type": "execute_result"
    }
   ],
   "source": [
    "np.divide(x,y)"
   ]
  },
  {
   "cell_type": "code",
   "execution_count": 53,
   "id": "c1075644-5f8f-4e08-9a0c-59c68f61ea3a",
   "metadata": {},
   "outputs": [
    {
     "data": {
      "text/plain": [
       "array([-1.,  0.,  2., -2.,  0.,  2.,  0., -1.])"
      ]
     },
     "execution_count": 53,
     "metadata": {},
     "output_type": "execute_result"
    }
   ],
   "source": [
    "np.floor_divide(x,y)"
   ]
  },
  {
   "cell_type": "code",
   "execution_count": 54,
   "id": "dc79b0f7-7293-4380-a891-8f33ae05f308",
   "metadata": {},
   "outputs": [
    {
     "data": {
      "text/plain": [
       "array([ 0.96615871,  1.77196929,  0.7110277 ,  0.39544072,  0.64737493,\n",
       "       -1.01808509, -0.31092749,  2.59676235])"
      ]
     },
     "execution_count": 54,
     "metadata": {},
     "output_type": "execute_result"
    }
   ],
   "source": [
    "np.maximum(x,y)"
   ]
  },
  {
   "cell_type": "code",
   "execution_count": 55,
   "id": "652f9078-dc37-4131-aced-044a1a45090a",
   "metadata": {},
   "outputs": [
    {
     "data": {
      "text/plain": [
       "array([-0.63274438,  0.43426588,  0.31167365, -0.525789  ,  0.24838254,\n",
       "       -2.9891492 , -0.4054316 , -0.43864039])"
      ]
     },
     "execution_count": 55,
     "metadata": {},
     "output_type": "execute_result"
    }
   ],
   "source": [
    "np.minimum(x,y)"
   ]
  },
  {
   "cell_type": "code",
   "execution_count": 56,
   "id": "574700f8-1a14-4a69-8db4-3e681d881405",
   "metadata": {},
   "outputs": [
    {
     "data": {
      "text/plain": [
       "array([ 0.33341434,  0.43426588,  0.08768041,  0.26509244,  0.24838254,\n",
       "       -0.95297903, -0.31092749,  2.15812196])"
      ]
     },
     "execution_count": 56,
     "metadata": {},
     "output_type": "execute_result"
    }
   ],
   "source": [
    "np.mod(x,y)"
   ]
  },
  {
   "cell_type": "code",
   "execution_count": 57,
   "id": "c4fd9fbc-2286-4451-bc2f-484ea22c2c5b",
   "metadata": {},
   "outputs": [
    {
     "data": {
      "text/plain": [
       "array([ 0.63274438,  0.43426588,  0.7110277 ,  0.525789  ,  0.24838254,\n",
       "       -2.9891492 , -0.31092749,  0.43864039])"
      ]
     },
     "execution_count": 57,
     "metadata": {},
     "output_type": "execute_result"
    }
   ],
   "source": [
    "np.copysign(x,y)"
   ]
  },
  {
   "cell_type": "code",
   "execution_count": 58,
   "id": "1035e1fe-c42d-4ade-a384-56cadd7bb73a",
   "metadata": {},
   "outputs": [
    {
     "data": {
      "text/plain": [
       "array([False, False,  True, False, False, False,  True, False])"
      ]
     },
     "execution_count": 58,
     "metadata": {},
     "output_type": "execute_result"
    }
   ],
   "source": [
    "np.greater(x,y)"
   ]
  },
  {
   "cell_type": "code",
   "execution_count": 59,
   "id": "c9c34e8f-fc8b-4179-92df-f1b9e83c7fb1",
   "metadata": {},
   "outputs": [
    {
     "data": {
      "text/plain": [
       "array([False, False,  True, False, False, False,  True, False])"
      ]
     },
     "execution_count": 59,
     "metadata": {},
     "output_type": "execute_result"
    }
   ],
   "source": [
    "np.greater_equal(x,y)"
   ]
  },
  {
   "cell_type": "markdown",
   "id": "e70a8360-219c-4ed1-a741-a6bd66b3bf64",
   "metadata": {},
   "source": [
    "### Array-Oriented Programming with Arrays "
   ]
  },
  {
   "cell_type": "raw",
   "id": "56e48745-21a7-4f69-9e3d-79934847390f",
   "metadata": {},
   "source": [
    "The practice of replacing explicit loops with array expressions is referred to as vectorization. This is generally faster than pure python alternatives"
   ]
  },
  {
   "cell_type": "code",
   "execution_count": 60,
   "id": "0fdb9a0f-841f-4c18-ba81-58726897c79c",
   "metadata": {},
   "outputs": [
    {
     "data": {
      "text/plain": [
       "array([-5.0000000e+00, -4.9900000e+00, -4.9800000e+00, -4.9700000e+00,\n",
       "       -4.9600000e+00, -4.9500000e+00, -4.9400000e+00, -4.9300000e+00,\n",
       "       -4.9200000e+00, -4.9100000e+00, -4.9000000e+00, -4.8900000e+00,\n",
       "       -4.8800000e+00, -4.8700000e+00, -4.8600000e+00, -4.8500000e+00,\n",
       "       -4.8400000e+00, -4.8300000e+00, -4.8200000e+00, -4.8100000e+00,\n",
       "       -4.8000000e+00, -4.7900000e+00, -4.7800000e+00, -4.7700000e+00,\n",
       "       -4.7600000e+00, -4.7500000e+00, -4.7400000e+00, -4.7300000e+00,\n",
       "       -4.7200000e+00, -4.7100000e+00, -4.7000000e+00, -4.6900000e+00,\n",
       "       -4.6800000e+00, -4.6700000e+00, -4.6600000e+00, -4.6500000e+00,\n",
       "       -4.6400000e+00, -4.6300000e+00, -4.6200000e+00, -4.6100000e+00,\n",
       "       -4.6000000e+00, -4.5900000e+00, -4.5800000e+00, -4.5700000e+00,\n",
       "       -4.5600000e+00, -4.5500000e+00, -4.5400000e+00, -4.5300000e+00,\n",
       "       -4.5200000e+00, -4.5100000e+00, -4.5000000e+00, -4.4900000e+00,\n",
       "       -4.4800000e+00, -4.4700000e+00, -4.4600000e+00, -4.4500000e+00,\n",
       "       -4.4400000e+00, -4.4300000e+00, -4.4200000e+00, -4.4100000e+00,\n",
       "       -4.4000000e+00, -4.3900000e+00, -4.3800000e+00, -4.3700000e+00,\n",
       "       -4.3600000e+00, -4.3500000e+00, -4.3400000e+00, -4.3300000e+00,\n",
       "       -4.3200000e+00, -4.3100000e+00, -4.3000000e+00, -4.2900000e+00,\n",
       "       -4.2800000e+00, -4.2700000e+00, -4.2600000e+00, -4.2500000e+00,\n",
       "       -4.2400000e+00, -4.2300000e+00, -4.2200000e+00, -4.2100000e+00,\n",
       "       -4.2000000e+00, -4.1900000e+00, -4.1800000e+00, -4.1700000e+00,\n",
       "       -4.1600000e+00, -4.1500000e+00, -4.1400000e+00, -4.1300000e+00,\n",
       "       -4.1200000e+00, -4.1100000e+00, -4.1000000e+00, -4.0900000e+00,\n",
       "       -4.0800000e+00, -4.0700000e+00, -4.0600000e+00, -4.0500000e+00,\n",
       "       -4.0400000e+00, -4.0300000e+00, -4.0200000e+00, -4.0100000e+00,\n",
       "       -4.0000000e+00, -3.9900000e+00, -3.9800000e+00, -3.9700000e+00,\n",
       "       -3.9600000e+00, -3.9500000e+00, -3.9400000e+00, -3.9300000e+00,\n",
       "       -3.9200000e+00, -3.9100000e+00, -3.9000000e+00, -3.8900000e+00,\n",
       "       -3.8800000e+00, -3.8700000e+00, -3.8600000e+00, -3.8500000e+00,\n",
       "       -3.8400000e+00, -3.8300000e+00, -3.8200000e+00, -3.8100000e+00,\n",
       "       -3.8000000e+00, -3.7900000e+00, -3.7800000e+00, -3.7700000e+00,\n",
       "       -3.7600000e+00, -3.7500000e+00, -3.7400000e+00, -3.7300000e+00,\n",
       "       -3.7200000e+00, -3.7100000e+00, -3.7000000e+00, -3.6900000e+00,\n",
       "       -3.6800000e+00, -3.6700000e+00, -3.6600000e+00, -3.6500000e+00,\n",
       "       -3.6400000e+00, -3.6300000e+00, -3.6200000e+00, -3.6100000e+00,\n",
       "       -3.6000000e+00, -3.5900000e+00, -3.5800000e+00, -3.5700000e+00,\n",
       "       -3.5600000e+00, -3.5500000e+00, -3.5400000e+00, -3.5300000e+00,\n",
       "       -3.5200000e+00, -3.5100000e+00, -3.5000000e+00, -3.4900000e+00,\n",
       "       -3.4800000e+00, -3.4700000e+00, -3.4600000e+00, -3.4500000e+00,\n",
       "       -3.4400000e+00, -3.4300000e+00, -3.4200000e+00, -3.4100000e+00,\n",
       "       -3.4000000e+00, -3.3900000e+00, -3.3800000e+00, -3.3700000e+00,\n",
       "       -3.3600000e+00, -3.3500000e+00, -3.3400000e+00, -3.3300000e+00,\n",
       "       -3.3200000e+00, -3.3100000e+00, -3.3000000e+00, -3.2900000e+00,\n",
       "       -3.2800000e+00, -3.2700000e+00, -3.2600000e+00, -3.2500000e+00,\n",
       "       -3.2400000e+00, -3.2300000e+00, -3.2200000e+00, -3.2100000e+00,\n",
       "       -3.2000000e+00, -3.1900000e+00, -3.1800000e+00, -3.1700000e+00,\n",
       "       -3.1600000e+00, -3.1500000e+00, -3.1400000e+00, -3.1300000e+00,\n",
       "       -3.1200000e+00, -3.1100000e+00, -3.1000000e+00, -3.0900000e+00,\n",
       "       -3.0800000e+00, -3.0700000e+00, -3.0600000e+00, -3.0500000e+00,\n",
       "       -3.0400000e+00, -3.0300000e+00, -3.0200000e+00, -3.0100000e+00,\n",
       "       -3.0000000e+00, -2.9900000e+00, -2.9800000e+00, -2.9700000e+00,\n",
       "       -2.9600000e+00, -2.9500000e+00, -2.9400000e+00, -2.9300000e+00,\n",
       "       -2.9200000e+00, -2.9100000e+00, -2.9000000e+00, -2.8900000e+00,\n",
       "       -2.8800000e+00, -2.8700000e+00, -2.8600000e+00, -2.8500000e+00,\n",
       "       -2.8400000e+00, -2.8300000e+00, -2.8200000e+00, -2.8100000e+00,\n",
       "       -2.8000000e+00, -2.7900000e+00, -2.7800000e+00, -2.7700000e+00,\n",
       "       -2.7600000e+00, -2.7500000e+00, -2.7400000e+00, -2.7300000e+00,\n",
       "       -2.7200000e+00, -2.7100000e+00, -2.7000000e+00, -2.6900000e+00,\n",
       "       -2.6800000e+00, -2.6700000e+00, -2.6600000e+00, -2.6500000e+00,\n",
       "       -2.6400000e+00, -2.6300000e+00, -2.6200000e+00, -2.6100000e+00,\n",
       "       -2.6000000e+00, -2.5900000e+00, -2.5800000e+00, -2.5700000e+00,\n",
       "       -2.5600000e+00, -2.5500000e+00, -2.5400000e+00, -2.5300000e+00,\n",
       "       -2.5200000e+00, -2.5100000e+00, -2.5000000e+00, -2.4900000e+00,\n",
       "       -2.4800000e+00, -2.4700000e+00, -2.4600000e+00, -2.4500000e+00,\n",
       "       -2.4400000e+00, -2.4300000e+00, -2.4200000e+00, -2.4100000e+00,\n",
       "       -2.4000000e+00, -2.3900000e+00, -2.3800000e+00, -2.3700000e+00,\n",
       "       -2.3600000e+00, -2.3500000e+00, -2.3400000e+00, -2.3300000e+00,\n",
       "       -2.3200000e+00, -2.3100000e+00, -2.3000000e+00, -2.2900000e+00,\n",
       "       -2.2800000e+00, -2.2700000e+00, -2.2600000e+00, -2.2500000e+00,\n",
       "       -2.2400000e+00, -2.2300000e+00, -2.2200000e+00, -2.2100000e+00,\n",
       "       -2.2000000e+00, -2.1900000e+00, -2.1800000e+00, -2.1700000e+00,\n",
       "       -2.1600000e+00, -2.1500000e+00, -2.1400000e+00, -2.1300000e+00,\n",
       "       -2.1200000e+00, -2.1100000e+00, -2.1000000e+00, -2.0900000e+00,\n",
       "       -2.0800000e+00, -2.0700000e+00, -2.0600000e+00, -2.0500000e+00,\n",
       "       -2.0400000e+00, -2.0300000e+00, -2.0200000e+00, -2.0100000e+00,\n",
       "       -2.0000000e+00, -1.9900000e+00, -1.9800000e+00, -1.9700000e+00,\n",
       "       -1.9600000e+00, -1.9500000e+00, -1.9400000e+00, -1.9300000e+00,\n",
       "       -1.9200000e+00, -1.9100000e+00, -1.9000000e+00, -1.8900000e+00,\n",
       "       -1.8800000e+00, -1.8700000e+00, -1.8600000e+00, -1.8500000e+00,\n",
       "       -1.8400000e+00, -1.8300000e+00, -1.8200000e+00, -1.8100000e+00,\n",
       "       -1.8000000e+00, -1.7900000e+00, -1.7800000e+00, -1.7700000e+00,\n",
       "       -1.7600000e+00, -1.7500000e+00, -1.7400000e+00, -1.7300000e+00,\n",
       "       -1.7200000e+00, -1.7100000e+00, -1.7000000e+00, -1.6900000e+00,\n",
       "       -1.6800000e+00, -1.6700000e+00, -1.6600000e+00, -1.6500000e+00,\n",
       "       -1.6400000e+00, -1.6300000e+00, -1.6200000e+00, -1.6100000e+00,\n",
       "       -1.6000000e+00, -1.5900000e+00, -1.5800000e+00, -1.5700000e+00,\n",
       "       -1.5600000e+00, -1.5500000e+00, -1.5400000e+00, -1.5300000e+00,\n",
       "       -1.5200000e+00, -1.5100000e+00, -1.5000000e+00, -1.4900000e+00,\n",
       "       -1.4800000e+00, -1.4700000e+00, -1.4600000e+00, -1.4500000e+00,\n",
       "       -1.4400000e+00, -1.4300000e+00, -1.4200000e+00, -1.4100000e+00,\n",
       "       -1.4000000e+00, -1.3900000e+00, -1.3800000e+00, -1.3700000e+00,\n",
       "       -1.3600000e+00, -1.3500000e+00, -1.3400000e+00, -1.3300000e+00,\n",
       "       -1.3200000e+00, -1.3100000e+00, -1.3000000e+00, -1.2900000e+00,\n",
       "       -1.2800000e+00, -1.2700000e+00, -1.2600000e+00, -1.2500000e+00,\n",
       "       -1.2400000e+00, -1.2300000e+00, -1.2200000e+00, -1.2100000e+00,\n",
       "       -1.2000000e+00, -1.1900000e+00, -1.1800000e+00, -1.1700000e+00,\n",
       "       -1.1600000e+00, -1.1500000e+00, -1.1400000e+00, -1.1300000e+00,\n",
       "       -1.1200000e+00, -1.1100000e+00, -1.1000000e+00, -1.0900000e+00,\n",
       "       -1.0800000e+00, -1.0700000e+00, -1.0600000e+00, -1.0500000e+00,\n",
       "       -1.0400000e+00, -1.0300000e+00, -1.0200000e+00, -1.0100000e+00,\n",
       "       -1.0000000e+00, -9.9000000e-01, -9.8000000e-01, -9.7000000e-01,\n",
       "       -9.6000000e-01, -9.5000000e-01, -9.4000000e-01, -9.3000000e-01,\n",
       "       -9.2000000e-01, -9.1000000e-01, -9.0000000e-01, -8.9000000e-01,\n",
       "       -8.8000000e-01, -8.7000000e-01, -8.6000000e-01, -8.5000000e-01,\n",
       "       -8.4000000e-01, -8.3000000e-01, -8.2000000e-01, -8.1000000e-01,\n",
       "       -8.0000000e-01, -7.9000000e-01, -7.8000000e-01, -7.7000000e-01,\n",
       "       -7.6000000e-01, -7.5000000e-01, -7.4000000e-01, -7.3000000e-01,\n",
       "       -7.2000000e-01, -7.1000000e-01, -7.0000000e-01, -6.9000000e-01,\n",
       "       -6.8000000e-01, -6.7000000e-01, -6.6000000e-01, -6.5000000e-01,\n",
       "       -6.4000000e-01, -6.3000000e-01, -6.2000000e-01, -6.1000000e-01,\n",
       "       -6.0000000e-01, -5.9000000e-01, -5.8000000e-01, -5.7000000e-01,\n",
       "       -5.6000000e-01, -5.5000000e-01, -5.4000000e-01, -5.3000000e-01,\n",
       "       -5.2000000e-01, -5.1000000e-01, -5.0000000e-01, -4.9000000e-01,\n",
       "       -4.8000000e-01, -4.7000000e-01, -4.6000000e-01, -4.5000000e-01,\n",
       "       -4.4000000e-01, -4.3000000e-01, -4.2000000e-01, -4.1000000e-01,\n",
       "       -4.0000000e-01, -3.9000000e-01, -3.8000000e-01, -3.7000000e-01,\n",
       "       -3.6000000e-01, -3.5000000e-01, -3.4000000e-01, -3.3000000e-01,\n",
       "       -3.2000000e-01, -3.1000000e-01, -3.0000000e-01, -2.9000000e-01,\n",
       "       -2.8000000e-01, -2.7000000e-01, -2.6000000e-01, -2.5000000e-01,\n",
       "       -2.4000000e-01, -2.3000000e-01, -2.2000000e-01, -2.1000000e-01,\n",
       "       -2.0000000e-01, -1.9000000e-01, -1.8000000e-01, -1.7000000e-01,\n",
       "       -1.6000000e-01, -1.5000000e-01, -1.4000000e-01, -1.3000000e-01,\n",
       "       -1.2000000e-01, -1.1000000e-01, -1.0000000e-01, -9.0000000e-02,\n",
       "       -8.0000000e-02, -7.0000000e-02, -6.0000000e-02, -5.0000000e-02,\n",
       "       -4.0000000e-02, -3.0000000e-02, -2.0000000e-02, -1.0000000e-02,\n",
       "       -1.0658141e-13,  1.0000000e-02,  2.0000000e-02,  3.0000000e-02,\n",
       "        4.0000000e-02,  5.0000000e-02,  6.0000000e-02,  7.0000000e-02,\n",
       "        8.0000000e-02,  9.0000000e-02,  1.0000000e-01,  1.1000000e-01,\n",
       "        1.2000000e-01,  1.3000000e-01,  1.4000000e-01,  1.5000000e-01,\n",
       "        1.6000000e-01,  1.7000000e-01,  1.8000000e-01,  1.9000000e-01,\n",
       "        2.0000000e-01,  2.1000000e-01,  2.2000000e-01,  2.3000000e-01,\n",
       "        2.4000000e-01,  2.5000000e-01,  2.6000000e-01,  2.7000000e-01,\n",
       "        2.8000000e-01,  2.9000000e-01,  3.0000000e-01,  3.1000000e-01,\n",
       "        3.2000000e-01,  3.3000000e-01,  3.4000000e-01,  3.5000000e-01,\n",
       "        3.6000000e-01,  3.7000000e-01,  3.8000000e-01,  3.9000000e-01,\n",
       "        4.0000000e-01,  4.1000000e-01,  4.2000000e-01,  4.3000000e-01,\n",
       "        4.4000000e-01,  4.5000000e-01,  4.6000000e-01,  4.7000000e-01,\n",
       "        4.8000000e-01,  4.9000000e-01,  5.0000000e-01,  5.1000000e-01,\n",
       "        5.2000000e-01,  5.3000000e-01,  5.4000000e-01,  5.5000000e-01,\n",
       "        5.6000000e-01,  5.7000000e-01,  5.8000000e-01,  5.9000000e-01,\n",
       "        6.0000000e-01,  6.1000000e-01,  6.2000000e-01,  6.3000000e-01,\n",
       "        6.4000000e-01,  6.5000000e-01,  6.6000000e-01,  6.7000000e-01,\n",
       "        6.8000000e-01,  6.9000000e-01,  7.0000000e-01,  7.1000000e-01,\n",
       "        7.2000000e-01,  7.3000000e-01,  7.4000000e-01,  7.5000000e-01,\n",
       "        7.6000000e-01,  7.7000000e-01,  7.8000000e-01,  7.9000000e-01,\n",
       "        8.0000000e-01,  8.1000000e-01,  8.2000000e-01,  8.3000000e-01,\n",
       "        8.4000000e-01,  8.5000000e-01,  8.6000000e-01,  8.7000000e-01,\n",
       "        8.8000000e-01,  8.9000000e-01,  9.0000000e-01,  9.1000000e-01,\n",
       "        9.2000000e-01,  9.3000000e-01,  9.4000000e-01,  9.5000000e-01,\n",
       "        9.6000000e-01,  9.7000000e-01,  9.8000000e-01,  9.9000000e-01,\n",
       "        1.0000000e+00,  1.0100000e+00,  1.0200000e+00,  1.0300000e+00,\n",
       "        1.0400000e+00,  1.0500000e+00,  1.0600000e+00,  1.0700000e+00,\n",
       "        1.0800000e+00,  1.0900000e+00,  1.1000000e+00,  1.1100000e+00,\n",
       "        1.1200000e+00,  1.1300000e+00,  1.1400000e+00,  1.1500000e+00,\n",
       "        1.1600000e+00,  1.1700000e+00,  1.1800000e+00,  1.1900000e+00,\n",
       "        1.2000000e+00,  1.2100000e+00,  1.2200000e+00,  1.2300000e+00,\n",
       "        1.2400000e+00,  1.2500000e+00,  1.2600000e+00,  1.2700000e+00,\n",
       "        1.2800000e+00,  1.2900000e+00,  1.3000000e+00,  1.3100000e+00,\n",
       "        1.3200000e+00,  1.3300000e+00,  1.3400000e+00,  1.3500000e+00,\n",
       "        1.3600000e+00,  1.3700000e+00,  1.3800000e+00,  1.3900000e+00,\n",
       "        1.4000000e+00,  1.4100000e+00,  1.4200000e+00,  1.4300000e+00,\n",
       "        1.4400000e+00,  1.4500000e+00,  1.4600000e+00,  1.4700000e+00,\n",
       "        1.4800000e+00,  1.4900000e+00,  1.5000000e+00,  1.5100000e+00,\n",
       "        1.5200000e+00,  1.5300000e+00,  1.5400000e+00,  1.5500000e+00,\n",
       "        1.5600000e+00,  1.5700000e+00,  1.5800000e+00,  1.5900000e+00,\n",
       "        1.6000000e+00,  1.6100000e+00,  1.6200000e+00,  1.6300000e+00,\n",
       "        1.6400000e+00,  1.6500000e+00,  1.6600000e+00,  1.6700000e+00,\n",
       "        1.6800000e+00,  1.6900000e+00,  1.7000000e+00,  1.7100000e+00,\n",
       "        1.7200000e+00,  1.7300000e+00,  1.7400000e+00,  1.7500000e+00,\n",
       "        1.7600000e+00,  1.7700000e+00,  1.7800000e+00,  1.7900000e+00,\n",
       "        1.8000000e+00,  1.8100000e+00,  1.8200000e+00,  1.8300000e+00,\n",
       "        1.8400000e+00,  1.8500000e+00,  1.8600000e+00,  1.8700000e+00,\n",
       "        1.8800000e+00,  1.8900000e+00,  1.9000000e+00,  1.9100000e+00,\n",
       "        1.9200000e+00,  1.9300000e+00,  1.9400000e+00,  1.9500000e+00,\n",
       "        1.9600000e+00,  1.9700000e+00,  1.9800000e+00,  1.9900000e+00,\n",
       "        2.0000000e+00,  2.0100000e+00,  2.0200000e+00,  2.0300000e+00,\n",
       "        2.0400000e+00,  2.0500000e+00,  2.0600000e+00,  2.0700000e+00,\n",
       "        2.0800000e+00,  2.0900000e+00,  2.1000000e+00,  2.1100000e+00,\n",
       "        2.1200000e+00,  2.1300000e+00,  2.1400000e+00,  2.1500000e+00,\n",
       "        2.1600000e+00,  2.1700000e+00,  2.1800000e+00,  2.1900000e+00,\n",
       "        2.2000000e+00,  2.2100000e+00,  2.2200000e+00,  2.2300000e+00,\n",
       "        2.2400000e+00,  2.2500000e+00,  2.2600000e+00,  2.2700000e+00,\n",
       "        2.2800000e+00,  2.2900000e+00,  2.3000000e+00,  2.3100000e+00,\n",
       "        2.3200000e+00,  2.3300000e+00,  2.3400000e+00,  2.3500000e+00,\n",
       "        2.3600000e+00,  2.3700000e+00,  2.3800000e+00,  2.3900000e+00,\n",
       "        2.4000000e+00,  2.4100000e+00,  2.4200000e+00,  2.4300000e+00,\n",
       "        2.4400000e+00,  2.4500000e+00,  2.4600000e+00,  2.4700000e+00,\n",
       "        2.4800000e+00,  2.4900000e+00,  2.5000000e+00,  2.5100000e+00,\n",
       "        2.5200000e+00,  2.5300000e+00,  2.5400000e+00,  2.5500000e+00,\n",
       "        2.5600000e+00,  2.5700000e+00,  2.5800000e+00,  2.5900000e+00,\n",
       "        2.6000000e+00,  2.6100000e+00,  2.6200000e+00,  2.6300000e+00,\n",
       "        2.6400000e+00,  2.6500000e+00,  2.6600000e+00,  2.6700000e+00,\n",
       "        2.6800000e+00,  2.6900000e+00,  2.7000000e+00,  2.7100000e+00,\n",
       "        2.7200000e+00,  2.7300000e+00,  2.7400000e+00,  2.7500000e+00,\n",
       "        2.7600000e+00,  2.7700000e+00,  2.7800000e+00,  2.7900000e+00,\n",
       "        2.8000000e+00,  2.8100000e+00,  2.8200000e+00,  2.8300000e+00,\n",
       "        2.8400000e+00,  2.8500000e+00,  2.8600000e+00,  2.8700000e+00,\n",
       "        2.8800000e+00,  2.8900000e+00,  2.9000000e+00,  2.9100000e+00,\n",
       "        2.9200000e+00,  2.9300000e+00,  2.9400000e+00,  2.9500000e+00,\n",
       "        2.9600000e+00,  2.9700000e+00,  2.9800000e+00,  2.9900000e+00,\n",
       "        3.0000000e+00,  3.0100000e+00,  3.0200000e+00,  3.0300000e+00,\n",
       "        3.0400000e+00,  3.0500000e+00,  3.0600000e+00,  3.0700000e+00,\n",
       "        3.0800000e+00,  3.0900000e+00,  3.1000000e+00,  3.1100000e+00,\n",
       "        3.1200000e+00,  3.1300000e+00,  3.1400000e+00,  3.1500000e+00,\n",
       "        3.1600000e+00,  3.1700000e+00,  3.1800000e+00,  3.1900000e+00,\n",
       "        3.2000000e+00,  3.2100000e+00,  3.2200000e+00,  3.2300000e+00,\n",
       "        3.2400000e+00,  3.2500000e+00,  3.2600000e+00,  3.2700000e+00,\n",
       "        3.2800000e+00,  3.2900000e+00,  3.3000000e+00,  3.3100000e+00,\n",
       "        3.3200000e+00,  3.3300000e+00,  3.3400000e+00,  3.3500000e+00,\n",
       "        3.3600000e+00,  3.3700000e+00,  3.3800000e+00,  3.3900000e+00,\n",
       "        3.4000000e+00,  3.4100000e+00,  3.4200000e+00,  3.4300000e+00,\n",
       "        3.4400000e+00,  3.4500000e+00,  3.4600000e+00,  3.4700000e+00,\n",
       "        3.4800000e+00,  3.4900000e+00,  3.5000000e+00,  3.5100000e+00,\n",
       "        3.5200000e+00,  3.5300000e+00,  3.5400000e+00,  3.5500000e+00,\n",
       "        3.5600000e+00,  3.5700000e+00,  3.5800000e+00,  3.5900000e+00,\n",
       "        3.6000000e+00,  3.6100000e+00,  3.6200000e+00,  3.6300000e+00,\n",
       "        3.6400000e+00,  3.6500000e+00,  3.6600000e+00,  3.6700000e+00,\n",
       "        3.6800000e+00,  3.6900000e+00,  3.7000000e+00,  3.7100000e+00,\n",
       "        3.7200000e+00,  3.7300000e+00,  3.7400000e+00,  3.7500000e+00,\n",
       "        3.7600000e+00,  3.7700000e+00,  3.7800000e+00,  3.7900000e+00,\n",
       "        3.8000000e+00,  3.8100000e+00,  3.8200000e+00,  3.8300000e+00,\n",
       "        3.8400000e+00,  3.8500000e+00,  3.8600000e+00,  3.8700000e+00,\n",
       "        3.8800000e+00,  3.8900000e+00,  3.9000000e+00,  3.9100000e+00,\n",
       "        3.9200000e+00,  3.9300000e+00,  3.9400000e+00,  3.9500000e+00,\n",
       "        3.9600000e+00,  3.9700000e+00,  3.9800000e+00,  3.9900000e+00,\n",
       "        4.0000000e+00,  4.0100000e+00,  4.0200000e+00,  4.0300000e+00,\n",
       "        4.0400000e+00,  4.0500000e+00,  4.0600000e+00,  4.0700000e+00,\n",
       "        4.0800000e+00,  4.0900000e+00,  4.1000000e+00,  4.1100000e+00,\n",
       "        4.1200000e+00,  4.1300000e+00,  4.1400000e+00,  4.1500000e+00,\n",
       "        4.1600000e+00,  4.1700000e+00,  4.1800000e+00,  4.1900000e+00,\n",
       "        4.2000000e+00,  4.2100000e+00,  4.2200000e+00,  4.2300000e+00,\n",
       "        4.2400000e+00,  4.2500000e+00,  4.2600000e+00,  4.2700000e+00,\n",
       "        4.2800000e+00,  4.2900000e+00,  4.3000000e+00,  4.3100000e+00,\n",
       "        4.3200000e+00,  4.3300000e+00,  4.3400000e+00,  4.3500000e+00,\n",
       "        4.3600000e+00,  4.3700000e+00,  4.3800000e+00,  4.3900000e+00,\n",
       "        4.4000000e+00,  4.4100000e+00,  4.4200000e+00,  4.4300000e+00,\n",
       "        4.4400000e+00,  4.4500000e+00,  4.4600000e+00,  4.4700000e+00,\n",
       "        4.4800000e+00,  4.4900000e+00,  4.5000000e+00,  4.5100000e+00,\n",
       "        4.5200000e+00,  4.5300000e+00,  4.5400000e+00,  4.5500000e+00,\n",
       "        4.5600000e+00,  4.5700000e+00,  4.5800000e+00,  4.5900000e+00,\n",
       "        4.6000000e+00,  4.6100000e+00,  4.6200000e+00,  4.6300000e+00,\n",
       "        4.6400000e+00,  4.6500000e+00,  4.6600000e+00,  4.6700000e+00,\n",
       "        4.6800000e+00,  4.6900000e+00,  4.7000000e+00,  4.7100000e+00,\n",
       "        4.7200000e+00,  4.7300000e+00,  4.7400000e+00,  4.7500000e+00,\n",
       "        4.7600000e+00,  4.7700000e+00,  4.7800000e+00,  4.7900000e+00,\n",
       "        4.8000000e+00,  4.8100000e+00,  4.8200000e+00,  4.8300000e+00,\n",
       "        4.8400000e+00,  4.8500000e+00,  4.8600000e+00,  4.8700000e+00,\n",
       "        4.8800000e+00,  4.8900000e+00,  4.9000000e+00,  4.9100000e+00,\n",
       "        4.9200000e+00,  4.9300000e+00,  4.9400000e+00,  4.9500000e+00,\n",
       "        4.9600000e+00,  4.9700000e+00,  4.9800000e+00,  4.9900000e+00])"
      ]
     },
     "execution_count": 60,
     "metadata": {},
     "output_type": "execute_result"
    }
   ],
   "source": [
    "points = np.arange(-5,5,0.01)\n",
    "points"
   ]
  },
  {
   "cell_type": "code",
   "execution_count": 61,
   "id": "5b637327-eea3-4c68-ab7a-28b849257781",
   "metadata": {},
   "outputs": [],
   "source": [
    "xs,ys = np.meshgrid(points,points)"
   ]
  },
  {
   "cell_type": "code",
   "execution_count": 62,
   "id": "afe4972e-4d81-475b-8231-b74fdcfd4b2f",
   "metadata": {},
   "outputs": [
    {
     "data": {
      "text/plain": [
       "array([[-5.  , -5.  , -5.  , ..., -5.  , -5.  , -5.  ],\n",
       "       [-4.99, -4.99, -4.99, ..., -4.99, -4.99, -4.99],\n",
       "       [-4.98, -4.98, -4.98, ..., -4.98, -4.98, -4.98],\n",
       "       ...,\n",
       "       [ 4.97,  4.97,  4.97, ...,  4.97,  4.97,  4.97],\n",
       "       [ 4.98,  4.98,  4.98, ...,  4.98,  4.98,  4.98],\n",
       "       [ 4.99,  4.99,  4.99, ...,  4.99,  4.99,  4.99]])"
      ]
     },
     "execution_count": 62,
     "metadata": {},
     "output_type": "execute_result"
    }
   ],
   "source": [
    "ys"
   ]
  },
  {
   "cell_type": "code",
   "execution_count": 63,
   "id": "b8357779-31f1-4c91-9096-0251bd1b3075",
   "metadata": {},
   "outputs": [
    {
     "data": {
      "text/plain": [
       "array([[-5.  , -4.99, -4.98, ...,  4.97,  4.98,  4.99],\n",
       "       [-5.  , -4.99, -4.98, ...,  4.97,  4.98,  4.99],\n",
       "       [-5.  , -4.99, -4.98, ...,  4.97,  4.98,  4.99],\n",
       "       ...,\n",
       "       [-5.  , -4.99, -4.98, ...,  4.97,  4.98,  4.99],\n",
       "       [-5.  , -4.99, -4.98, ...,  4.97,  4.98,  4.99],\n",
       "       [-5.  , -4.99, -4.98, ...,  4.97,  4.98,  4.99]])"
      ]
     },
     "execution_count": 63,
     "metadata": {},
     "output_type": "execute_result"
    }
   ],
   "source": [
    "xs"
   ]
  },
  {
   "cell_type": "code",
   "execution_count": 64,
   "id": "9ea96164-2fe4-4c16-979a-a90e859fd2e2",
   "metadata": {},
   "outputs": [
    {
     "data": {
      "text/plain": [
       "array([[7.07106781, 7.06400028, 7.05693985, ..., 7.04988652, 7.05693985,\n",
       "        7.06400028],\n",
       "       [7.06400028, 7.05692568, 7.04985815, ..., 7.04279774, 7.04985815,\n",
       "        7.05692568],\n",
       "       [7.05693985, 7.04985815, 7.04278354, ..., 7.03571603, 7.04278354,\n",
       "        7.04985815],\n",
       "       ...,\n",
       "       [7.04988652, 7.04279774, 7.03571603, ..., 7.0286414 , 7.03571603,\n",
       "        7.04279774],\n",
       "       [7.05693985, 7.04985815, 7.04278354, ..., 7.03571603, 7.04278354,\n",
       "        7.04985815],\n",
       "       [7.06400028, 7.05692568, 7.04985815, ..., 7.04279774, 7.04985815,\n",
       "        7.05692568]])"
      ]
     },
     "execution_count": 64,
     "metadata": {},
     "output_type": "execute_result"
    }
   ],
   "source": [
    "z = np.sqrt(xs**2+ys**2)\n",
    "z"
   ]
  },
  {
   "cell_type": "code",
   "execution_count": 65,
   "id": "9d3ed8d6-f574-4976-86de-ad2caf11e869",
   "metadata": {},
   "outputs": [
    {
     "data": {
      "text/plain": [
       "<matplotlib.colorbar.Colorbar at 0x1b57b6945f0>"
      ]
     },
     "execution_count": 65,
     "metadata": {},
     "output_type": "execute_result"
    },
    {
     "data": {
      "image/png": "[encoded data removed]",
      "text/plain": [
       "<Figure size 640x480 with 2 Axes>"
      ]
     },
     "metadata": {},
     "output_type": "display_data"
    }
   ],
   "source": [
    "import matplotlib.pyplot as plt\n",
    "plt.imshow(z,cmap=plt.cm.gray);plt.colorbar()"
   ]
  },
  {
   "cell_type": "code",
   "execution_count": 66,
   "id": "639ecd7a-9e57-4305-94fa-d471d53ec8e1",
   "metadata": {},
   "outputs": [
    {
     "name": "stderr",
     "output_type": "stream",
     "text": [
      "<>:2: SyntaxWarning: invalid escape sequence '\\s'\n",
      "<>:2: SyntaxWarning: invalid escape sequence '\\s'\n",
      "C:\\Users\\HP\\AppData\\Local\\Temp\\ipykernel_42024\\864789430.py:2: SyntaxWarning: invalid escape sequence '\\s'\n",
      "  plt.title(\"Image plot of $\\sqrt{x^2+y^2}$ for a grid of values\")\n"
     ]
    },
    {
     "data": {
      "text/plain": [
       "Text(0.5, 1.0, 'Image plot of $\\\\sqrt{x^2+y^2}$ for a grid of values')"
      ]
     },
     "execution_count": 66,
     "metadata": {},
     "output_type": "execute_result"
    },
    {
     "data": {
      "image/png": "[encoded data removed]",
      "text/plain": [
       "<Figure size 640x480 with 2 Axes>"
      ]
     },
     "metadata": {},
     "output_type": "display_data"
    }
   ],
   "source": [
    "plt.imshow(z,cmap=plt.cm.gray);plt.colorbar()\n",
    "plt.title(\"Image plot of $\\sqrt{x^2+y^2}$ for a grid of values\")"
   ]
  },
  {
   "cell_type": "markdown",
   "id": "15fb0c37-a6e3-4747-bd4f-fad75a5d5247",
   "metadata": {},
   "source": [
    "#### Expressing Conditional Logic as Array Operations"
   ]
  },
  {
   "cell_type": "raw",
   "id": "5a507d1d-62c8-4cc6-b563-0ebe06c64e52",
   "metadata": {},
   "source": [
    "the np.where function is a vectorized version of the ternary expression x if condition else y."
   ]
  },
  {
   "cell_type": "code",
   "execution_count": 67,
   "id": "aa70c0c5-9566-4e09-8f8a-09c3ca3849de",
   "metadata": {},
   "outputs": [],
   "source": [
    "xarr = np.array([1.1,1.2,1.3,1.4,1.5])"
   ]
  },
  {
   "cell_type": "code",
   "execution_count": 68,
   "id": "004e93d2-e5b3-4d20-aeb7-d998c9bad546",
   "metadata": {},
   "outputs": [],
   "source": [
    "yarr = np.array([2.1,2.2,2.3,2.4,2.5])"
   ]
  },
  {
   "cell_type": "code",
   "execution_count": 69,
   "id": "a1a3272a-94f2-4564-bf7c-f6c04eb4eff0",
   "metadata": {},
   "outputs": [],
   "source": [
    "cond = np.array([True,False,True,True,False])"
   ]
  },
  {
   "cell_type": "code",
   "execution_count": 70,
   "id": "a67b5c20-4691-4e5d-a620-bb6dd3da6d74",
   "metadata": {},
   "outputs": [
    {
     "data": {
      "text/plain": [
       "[1.1, 2.2, 1.3, 1.4, 2.5]"
      ]
     },
     "execution_count": 70,
     "metadata": {},
     "output_type": "execute_result"
    }
   ],
   "source": [
    "result = [(x if c else y) for x,y,c in zip(xarr,yarr,cond)]\n",
    "result\n",
    "# not very fast because all t he work is interpreted in python code. \n",
    "# will not work wiht multidimensional arrays"
   ]
  },
  {
   "cell_type": "code",
   "execution_count": 71,
   "id": "23b8cbb0-f717-4d36-a2e4-fdf77c153b10",
   "metadata": {},
   "outputs": [
    {
     "data": {
      "text/plain": [
       "array([1.1, 2.2, 1.3, 1.4, 2.5])"
      ]
     },
     "execution_count": 71,
     "metadata": {},
     "output_type": "execute_result"
    }
   ],
   "source": [
    "result = np.where(cond,xarr,yarr)\n",
    "result"
   ]
  },
  {
   "cell_type": "code",
   "execution_count": 72,
   "id": "498e6476-e578-4a4c-8b1c-0ed7fc674191",
   "metadata": {},
   "outputs": [],
   "source": [
    "# this can be useful as if we want to replace all postive value with 2 and all negative values with -2. Lets see the example.\n",
    "arr = np.random.randn(4,4)"
   ]
  },
  {
   "cell_type": "code",
   "execution_count": 73,
   "id": "850d2046-0b7d-403f-a6b3-49729f80ea62",
   "metadata": {},
   "outputs": [
    {
     "data": {
      "text/plain": [
       "array([[ 0.6113363 ,  0.71667638, -0.39143021, -0.88385512],\n",
       "       [ 0.19030211, -0.59978722, -2.13120641, -0.6682587 ],\n",
       "       [ 1.55540782, -0.46400888,  0.89485359, -1.99467748],\n",
       "       [-0.51862105,  0.17798088,  0.64284417,  0.16674423]])"
      ]
     },
     "execution_count": 73,
     "metadata": {},
     "output_type": "execute_result"
    }
   ],
   "source": [
    "arr"
   ]
  },
  {
   "cell_type": "code",
   "execution_count": 74,
   "id": "54adceae-e324-4c94-be14-bc14a8c34daf",
   "metadata": {},
   "outputs": [
    {
     "data": {
      "text/plain": [
       "array([[ True,  True, False, False],\n",
       "       [ True, False, False, False],\n",
       "       [ True, False,  True, False],\n",
       "       [False,  True,  True,  True]])"
      ]
     },
     "execution_count": 74,
     "metadata": {},
     "output_type": "execute_result"
    }
   ],
   "source": [
    "arr>0"
   ]
  },
  {
   "cell_type": "code",
   "execution_count": 75,
   "id": "2f77b509-f556-4906-b13c-1d101314f595",
   "metadata": {},
   "outputs": [
    {
     "data": {
      "text/plain": [
       "array([[ 2,  2, -2, -2],\n",
       "       [ 2, -2, -2, -2],\n",
       "       [ 2, -2,  2, -2],\n",
       "       [-2,  2,  2,  2]])"
      ]
     },
     "execution_count": 75,
     "metadata": {},
     "output_type": "execute_result"
    }
   ],
   "source": [
    "np.where(arr>0,2,-2)"
   ]
  },
  {
   "cell_type": "code",
   "execution_count": 76,
   "id": "fa9d241a-c7b2-470d-95df-88f39481d974",
   "metadata": {},
   "outputs": [
    {
     "data": {
      "text/plain": [
       "array([[ 2.        ,  2.        , -0.39143021, -0.88385512],\n",
       "       [ 2.        , -0.59978722, -2.13120641, -0.6682587 ],\n",
       "       [ 2.        , -0.46400888,  2.        , -1.99467748],\n",
       "       [-0.51862105,  2.        ,  2.        ,  2.        ]])"
      ]
     },
     "execution_count": 76,
     "metadata": {},
     "output_type": "execute_result"
    }
   ],
   "source": [
    "np.where(arr>0,2,arr) # set only positive values to 2"
   ]
  },
  {
   "cell_type": "raw",
   "id": "21256e79-d489-4515-9b28-72befc691a56",
   "metadata": {},
   "source": [
    "The array passed to np.where can be more than just equal-sized arrays or scalars "
   ]
  },
  {
   "cell_type": "markdown",
   "id": "547dfbd2-eb5f-46df-afc0-cb7f44d9b436",
   "metadata": {},
   "source": [
    "#### Mathematical and Statistical Model"
   ]
  },
  {
   "cell_type": "raw",
   "id": "008c349c-ff5e-4eeb-ae8f-1f87a54ed2fc",
   "metadata": {},
   "source": [
    "A set of mathematical functions that compute statistics about an entire array or about data along an axis are accessible as methods of array class."
   ]
  },
  {
   "cell_type": "code",
   "execution_count": 77,
   "id": "ae19b5af-3325-428c-9ca0-87d0216706b3",
   "metadata": {},
   "outputs": [],
   "source": [
    "arr = np.random.randn(5,4)"
   ]
  },
  {
   "cell_type": "code",
   "execution_count": 78,
   "id": "42529dfb-236b-491a-bef5-2d1e99029758",
   "metadata": {},
   "outputs": [
    {
     "data": {
      "text/plain": [
       "array([[ 1.5652536 ,  0.25129165, -0.29570339,  0.49256855],\n",
       "       [ 0.67400779, -1.94186211, -0.29628608, -1.26033666],\n",
       "       [-0.33317022,  0.45480327, -1.56587915,  0.13711747],\n",
       "       [ 0.87184812, -0.09954638,  0.53055431, -0.70219175],\n",
       "       [ 0.94086317,  0.91135949,  1.43340218,  0.15901359]])"
      ]
     },
     "execution_count": 78,
     "metadata": {},
     "output_type": "execute_result"
    }
   ],
   "source": [
    "arr"
   ]
  },
  {
   "cell_type": "code",
   "execution_count": 79,
   "id": "7e215227-7db9-48b7-985f-1b3b2ec09da7",
   "metadata": {},
   "outputs": [
    {
     "data": {
      "text/plain": [
       "0.0963553728889435"
      ]
     },
     "execution_count": 79,
     "metadata": {},
     "output_type": "execute_result"
    }
   ],
   "source": [
    "arr.mean()"
   ]
  },
  {
   "cell_type": "code",
   "execution_count": 80,
   "id": "bb321894-5325-4522-b780-61e983166a52",
   "metadata": {},
   "outputs": [
    {
     "data": {
      "text/plain": [
       "0.0963553728889435"
      ]
     },
     "execution_count": 80,
     "metadata": {},
     "output_type": "execute_result"
    }
   ],
   "source": [
    "np.mean(arr)"
   ]
  },
  {
   "cell_type": "code",
   "execution_count": 81,
   "id": "3c5a127c-e7e5-47ef-8d9a-66c671e69d16",
   "metadata": {},
   "outputs": [
    {
     "data": {
      "text/plain": [
       "1.9271074577788698"
      ]
     },
     "execution_count": 81,
     "metadata": {},
     "output_type": "execute_result"
    }
   ],
   "source": [
    "arr.sum()"
   ]
  },
  {
   "cell_type": "code",
   "execution_count": 82,
   "id": "dfac9eb6-28c4-4961-8675-ac68c648ae61",
   "metadata": {},
   "outputs": [
    {
     "data": {
      "text/plain": [
       "array([ 0.5033526 , -0.70611926, -0.32678215,  0.15016607,  0.86115961])"
      ]
     },
     "execution_count": 82,
     "metadata": {},
     "output_type": "execute_result"
    }
   ],
   "source": [
    "arr.mean(axis = 1)"
   ]
  },
  {
   "cell_type": "code",
   "execution_count": 83,
   "id": "7e98e694-cb7a-4618-950f-b5ace601959c",
   "metadata": {},
   "outputs": [
    {
     "data": {
      "text/plain": [
       "array([ 3.71880246, -0.42395408, -0.19391213, -1.17382879])"
      ]
     },
     "execution_count": 83,
     "metadata": {},
     "output_type": "execute_result"
    }
   ],
   "source": [
    "arr.sum(axis = 0)"
   ]
  },
  {
   "cell_type": "code",
   "execution_count": 84,
   "id": "1565a436-1a64-4583-897a-2b6a9f1c695f",
   "metadata": {},
   "outputs": [],
   "source": [
    "arr = np.array([0,1,2,3,4,5,6,7])"
   ]
  },
  {
   "cell_type": "code",
   "execution_count": 85,
   "id": "a409bf03-670f-470e-b430-db5b620078d1",
   "metadata": {},
   "outputs": [
    {
     "data": {
      "text/plain": [
       "array([ 0,  1,  3,  6, 10, 15, 21, 28])"
      ]
     },
     "execution_count": 85,
     "metadata": {},
     "output_type": "execute_result"
    }
   ],
   "source": [
    "arr.cumsum()"
   ]
  },
  {
   "cell_type": "code",
   "execution_count": 86,
   "id": "cc535c6f-0bb1-46d8-b893-6282cbc186e8",
   "metadata": {},
   "outputs": [],
   "source": [
    "arr = np.arange(9).reshape((3,3))"
   ]
  },
  {
   "cell_type": "code",
   "execution_count": 87,
   "id": "54ceae3f-8371-4664-b723-bf23a44a2193",
   "metadata": {},
   "outputs": [
    {
     "data": {
      "text/plain": [
       "array([[0, 1, 2],\n",
       "       [3, 4, 5],\n",
       "       [6, 7, 8]])"
      ]
     },
     "execution_count": 87,
     "metadata": {},
     "output_type": "execute_result"
    }
   ],
   "source": [
    "arr"
   ]
  },
  {
   "cell_type": "code",
   "execution_count": 88,
   "id": "81ac6f2d-1cc2-4430-b101-51c03ad22f30",
   "metadata": {},
   "outputs": [
    {
     "data": {
      "text/plain": [
       "array([[ 0,  1,  2],\n",
       "       [ 3,  5,  7],\n",
       "       [ 9, 12, 15]])"
      ]
     },
     "execution_count": 88,
     "metadata": {},
     "output_type": "execute_result"
    }
   ],
   "source": [
    "arr.cumsum(0)"
   ]
  },
  {
   "cell_type": "code",
   "execution_count": 89,
   "id": "6e1560a8-5b78-426b-846c-590a614d5287",
   "metadata": {},
   "outputs": [
    {
     "data": {
      "text/plain": [
       "array([[ 0,  1,  3],\n",
       "       [ 3,  7, 12],\n",
       "       [ 6, 13, 21]])"
      ]
     },
     "execution_count": 89,
     "metadata": {},
     "output_type": "execute_result"
    }
   ],
   "source": [
    "arr.cumsum(1)"
   ]
  },
  {
   "cell_type": "code",
   "execution_count": 90,
   "id": "a2748115-43d8-4cb0-9c19-0d21fe4b2a9c",
   "metadata": {},
   "outputs": [
    {
     "data": {
      "text/plain": [
       "array([[  0,   0,   0],\n",
       "       [  3,  12,  60],\n",
       "       [  6,  42, 336]])"
      ]
     },
     "execution_count": 90,
     "metadata": {},
     "output_type": "execute_result"
    }
   ],
   "source": [
    "arr.cumprod(1)"
   ]
  },
  {
   "cell_type": "markdown",
   "id": "309896e1-a7df-49b7-b036-41eaf2447964",
   "metadata": {},
   "source": [
    "#### Methods for boolean Arrays"
   ]
  },
  {
   "cell_type": "code",
   "execution_count": 91,
   "id": "2e1162c6-debb-444e-8702-91acdce87d78",
   "metadata": {},
   "outputs": [],
   "source": [
    "arr = np.random.randn(100)"
   ]
  },
  {
   "cell_type": "code",
   "execution_count": 92,
   "id": "752b1571-c519-4b36-a6d6-ced45bcaa375",
   "metadata": {},
   "outputs": [
    {
     "data": {
      "text/plain": [
       "array([ 0.73526735,  0.48730441, -0.50864278,  0.71597483, -1.13719525,\n",
       "        1.06176851, -1.32266937, -1.4233086 , -0.56480644,  0.92538683,\n",
       "        0.08491888, -0.80364217,  2.23383552,  1.33142288, -0.34827925,\n",
       "        0.45294727,  0.27495595, -0.90572164, -0.47456945, -0.07838061,\n",
       "        1.04376351, -1.13979599,  0.80632953,  1.9953269 , -0.57915918,\n",
       "        0.21700969,  0.22261323, -1.17176435,  0.74879336,  2.37527353,\n",
       "        0.55680312,  0.96193548,  0.99782361, -1.93086259,  0.43201642,\n",
       "        0.14151774, -1.12946632,  0.76676459, -0.98122908,  1.70773534,\n",
       "        1.39361536,  0.62403223, -1.31718444,  2.05489507,  1.27497407,\n",
       "       -0.25245237, -1.73710264, -0.7805275 , -0.9041568 ,  0.82438313,\n",
       "       -0.33867035,  0.54978478, -0.14692712, -2.46614863, -0.03540673,\n",
       "        0.14527249,  1.87858038,  0.69233806,  1.8463557 ,  0.49876997,\n",
       "        0.70415459, -0.64970133,  0.86056193, -0.48208917, -1.03177075,\n",
       "       -0.89932313, -1.61923966,  1.3187623 , -0.31239883, -0.79219   ,\n",
       "        1.9358625 , -0.96001708,  0.83272539, -0.06069598, -0.98405355,\n",
       "        0.30121492, -0.42693312,  0.50913979, -0.68112069,  0.96859777,\n",
       "        1.48197984, -0.03290655,  0.10274609, -1.38487271, -0.65230642,\n",
       "        1.45830194, -0.79407288,  1.80926802, -1.15782491, -0.59687189,\n",
       "        1.28819437, -0.26383898,  0.49754116,  0.4754676 ,  1.02147482,\n",
       "        0.05453638, -1.31382168,  0.78347968, -0.03681171,  0.32138373])"
      ]
     },
     "execution_count": 92,
     "metadata": {},
     "output_type": "execute_result"
    }
   ],
   "source": [
    "arr"
   ]
  },
  {
   "cell_type": "code",
   "execution_count": 93,
   "id": "cf6212c8-6a12-4d3a-8211-28b9f587a0b0",
   "metadata": {},
   "outputs": [
    {
     "data": {
      "text/plain": [
       "54"
      ]
     },
     "execution_count": 93,
     "metadata": {},
     "output_type": "execute_result"
    }
   ],
   "source": [
    "(arr>0).sum()"
   ]
  },
  {
   "cell_type": "code",
   "execution_count": 94,
   "id": "006fcd12-6806-4f49-8f27-3b343764e9d5",
   "metadata": {},
   "outputs": [
    {
     "data": {
      "text/plain": [
       "46"
      ]
     },
     "execution_count": 94,
     "metadata": {},
     "output_type": "execute_result"
    }
   ],
   "source": [
    "(arr<=0).sum()"
   ]
  },
  {
   "cell_type": "code",
   "execution_count": 95,
   "id": "f0ccc439-69d7-479a-9304-04748b4e7c0d",
   "metadata": {},
   "outputs": [],
   "source": [
    "bools = np.array([False,False,True,False])"
   ]
  },
  {
   "cell_type": "code",
   "execution_count": 96,
   "id": "83e085d7-b29d-4d0f-addc-b7c83b1db927",
   "metadata": {},
   "outputs": [
    {
     "data": {
      "text/plain": [
       "True"
      ]
     },
     "execution_count": 96,
     "metadata": {},
     "output_type": "execute_result"
    }
   ],
   "source": [
    "bools.any() # tests whether one or more than one value is true in array"
   ]
  },
  {
   "cell_type": "code",
   "execution_count": 97,
   "id": "5c6e412e-657a-4a24-bf8a-5059b942d356",
   "metadata": {},
   "outputs": [
    {
     "data": {
      "text/plain": [
       "False"
      ]
     },
     "execution_count": 97,
     "metadata": {},
     "output_type": "execute_result"
    }
   ],
   "source": [
    "bools.all() # checks if all values are true"
   ]
  },
  {
   "cell_type": "markdown",
   "id": "f3262dc7-4602-4d89-94e0-807d39befd36",
   "metadata": {},
   "source": [
    "#### Sorting"
   ]
  },
  {
   "cell_type": "code",
   "execution_count": 98,
   "id": "495128d5-c51e-43f8-91ed-e777375dacdd",
   "metadata": {},
   "outputs": [],
   "source": [
    "arr = np.random.randn(6)"
   ]
  },
  {
   "cell_type": "code",
   "execution_count": 99,
   "id": "92ec9fd6-3169-4fc2-bb8a-aeeabc594370",
   "metadata": {},
   "outputs": [
    {
     "data": {
      "text/plain": [
       "array([ 1.20641945, -0.4873577 ,  0.56023206,  0.07469936, -0.19061049,\n",
       "       -0.06133216])"
      ]
     },
     "execution_count": 99,
     "metadata": {},
     "output_type": "execute_result"
    }
   ],
   "source": [
    "arr"
   ]
  },
  {
   "cell_type": "code",
   "execution_count": 100,
   "id": "76975f3a-63a1-4c03-b95a-dd7f76cba673",
   "metadata": {},
   "outputs": [],
   "source": [
    "arr.sort()"
   ]
  },
  {
   "cell_type": "code",
   "execution_count": 101,
   "id": "286d4abc-809b-4de7-a617-e2332ab4c9d6",
   "metadata": {},
   "outputs": [
    {
     "data": {
      "text/plain": [
       "array([-0.4873577 , -0.19061049, -0.06133216,  0.07469936,  0.56023206,\n",
       "        1.20641945])"
      ]
     },
     "execution_count": 101,
     "metadata": {},
     "output_type": "execute_result"
    }
   ],
   "source": [
    "arr"
   ]
  },
  {
   "cell_type": "code",
   "execution_count": 102,
   "id": "cd108d17-3a6d-4135-b9fe-5fdde3256d61",
   "metadata": {},
   "outputs": [],
   "source": [
    "arr = np.random.randn(5,3)"
   ]
  },
  {
   "cell_type": "code",
   "execution_count": 103,
   "id": "bb474a47-9318-4cb7-af39-bdb6fa0dc947",
   "metadata": {},
   "outputs": [
    {
     "data": {
      "text/plain": [
       "array([[-1.34506845, -0.1307246 , -0.02168291],\n",
       "       [ 0.31884594, -0.0825293 , -0.07620693],\n",
       "       [ 0.15509378,  0.6708213 ,  0.70280852],\n",
       "       [-0.39336105,  1.26491348, -0.08161973],\n",
       "       [-0.02766879, -0.0275677 ,  0.16161983]])"
      ]
     },
     "execution_count": 103,
     "metadata": {},
     "output_type": "execute_result"
    }
   ],
   "source": [
    "arr"
   ]
  },
  {
   "cell_type": "code",
   "execution_count": 104,
   "id": "715c2959-a7d2-430f-bd09-af47939f2a3f",
   "metadata": {},
   "outputs": [],
   "source": [
    "arr.sort()"
   ]
  },
  {
   "cell_type": "code",
   "execution_count": 105,
   "id": "88fd0afa-3b5f-4105-8f50-c7c78a9ef60c",
   "metadata": {},
   "outputs": [
    {
     "data": {
      "text/plain": [
       "array([[-1.34506845, -0.1307246 , -0.02168291],\n",
       "       [-0.0825293 , -0.07620693,  0.31884594],\n",
       "       [ 0.15509378,  0.6708213 ,  0.70280852],\n",
       "       [-0.39336105, -0.08161973,  1.26491348],\n",
       "       [-0.02766879, -0.0275677 ,  0.16161983]])"
      ]
     },
     "execution_count": 105,
     "metadata": {},
     "output_type": "execute_result"
    }
   ],
   "source": [
    "arr"
   ]
  },
  {
   "cell_type": "code",
   "execution_count": 106,
   "id": "33b44f98-853c-4229-a517-c2f3b2a5c18d",
   "metadata": {},
   "outputs": [],
   "source": [
    "arr.sort(0)"
   ]
  },
  {
   "cell_type": "code",
   "execution_count": 107,
   "id": "337d8959-005e-4914-a530-a3b15e8b1493",
   "metadata": {},
   "outputs": [
    {
     "data": {
      "text/plain": [
       "array([[-1.34506845, -0.1307246 , -0.02168291],\n",
       "       [-0.39336105, -0.08161973,  0.16161983],\n",
       "       [-0.0825293 , -0.07620693,  0.31884594],\n",
       "       [-0.02766879, -0.0275677 ,  0.70280852],\n",
       "       [ 0.15509378,  0.6708213 ,  1.26491348]])"
      ]
     },
     "execution_count": 107,
     "metadata": {},
     "output_type": "execute_result"
    }
   ],
   "source": [
    "arr"
   ]
  },
  {
   "cell_type": "raw",
   "id": "2802b782-b4dc-4f84-be81-5f7a6c0fd462",
   "metadata": {},
   "source": [
    "The top-level method np.sort returns a sorted copy of an array instead of modifying the array in-place."
   ]
  },
  {
   "cell_type": "code",
   "execution_count": 108,
   "id": "b3089d11-cbd2-41ee-acbc-0f2647b80804",
   "metadata": {},
   "outputs": [],
   "source": [
    "arr2 = np.array([5,-10,7,1,0,-3])"
   ]
  },
  {
   "cell_type": "code",
   "execution_count": 109,
   "id": "a48dcf86-7b70-4371-84b0-3f9a8a778357",
   "metadata": {},
   "outputs": [],
   "source": [
    "sorted_arr2 = np.sort(arr2)"
   ]
  },
  {
   "cell_type": "code",
   "execution_count": 110,
   "id": "e0901850-849d-4554-b810-368b74992f94",
   "metadata": {},
   "outputs": [
    {
     "data": {
      "text/plain": [
       "array([-10,  -3,   0,   1,   5,   7])"
      ]
     },
     "execution_count": 110,
     "metadata": {},
     "output_type": "execute_result"
    }
   ],
   "source": [
    "sorted_arr2"
   ]
  },
  {
   "cell_type": "markdown",
   "id": "72b6afc9-8e85-4820-bc64-d3ee9ee213fe",
   "metadata": {},
   "source": [
    "#### Unique and Other set logic"
   ]
  },
  {
   "cell_type": "raw",
   "id": "cb042c32-7a76-4ba7-a8bb-18f49ccec05b",
   "metadata": {},
   "source": [
    "Numpy has some basic set operations for one-d arrays"
   ]
  },
  {
   "cell_type": "code",
   "execution_count": 111,
   "id": "76662a61-5564-400a-9386-51bdfdc342f6",
   "metadata": {},
   "outputs": [],
   "source": [
    "names = np.array(['Bob', 'Joe', 'Will', 'Bob', 'Will','Joe', 'Joe'])"
   ]
  },
  {
   "cell_type": "code",
   "execution_count": 112,
   "id": "56c01ec9-d03e-4ea7-a8f5-56376fe81b35",
   "metadata": {},
   "outputs": [
    {
     "data": {
      "text/plain": [
       "array(['Bob', 'Joe', 'Will', 'Bob', 'Will', 'Joe', 'Joe'], dtype='<U4')"
      ]
     },
     "execution_count": 112,
     "metadata": {},
     "output_type": "execute_result"
    }
   ],
   "source": [
    "names"
   ]
  },
  {
   "cell_type": "code",
   "execution_count": 113,
   "id": "64ec0f22-9940-4849-894f-6cc4038ca2de",
   "metadata": {},
   "outputs": [
    {
     "data": {
      "text/plain": [
       "array(['Bob', 'Joe', 'Will'], dtype='<U4')"
      ]
     },
     "execution_count": 113,
     "metadata": {},
     "output_type": "execute_result"
    }
   ],
   "source": [
    "np.unique(names)"
   ]
  },
  {
   "cell_type": "code",
   "execution_count": 114,
   "id": "2f3740fa-d5e4-4282-adb1-f7d6bf907fd7",
   "metadata": {},
   "outputs": [],
   "source": [
    "ints = np.array([1,1,2,3,4,4,3,6,7,5,5,6,7,4,3])"
   ]
  },
  {
   "cell_type": "code",
   "execution_count": 115,
   "id": "a1d728f9-81ae-4083-b005-242adc2ce449",
   "metadata": {},
   "outputs": [
    {
     "data": {
      "text/plain": [
       "array([1, 2, 3, 4, 5, 6, 7])"
      ]
     },
     "execution_count": 115,
     "metadata": {},
     "output_type": "execute_result"
    }
   ],
   "source": [
    "np.unique(ints)"
   ]
  },
  {
   "cell_type": "code",
   "execution_count": 116,
   "id": "3bfa988f-0023-415e-8950-ef5409244e0e",
   "metadata": {},
   "outputs": [
    {
     "data": {
      "text/plain": [
       "['Bob', 'Joe', 'Will']"
      ]
     },
     "execution_count": 116,
     "metadata": {},
     "output_type": "execute_result"
    }
   ],
   "source": [
    "# contrast with pure python\n",
    "sorted(set(names))"
   ]
  },
  {
   "cell_type": "raw",
   "id": "e84cd8c1-154c-4a86-8ad0-1b80f27d70b6",
   "metadata": {},
   "source": [
    "Function np.in1d, tests membership of the values in one array in another, returning a boolean array"
   ]
  },
  {
   "cell_type": "code",
   "execution_count": 117,
   "id": "ac1270f2-dbb9-40b2-b9dd-c8ceb26e7218",
   "metadata": {},
   "outputs": [],
   "source": [
    "values = np.array([6,0,0,3,2,5,6])"
   ]
  },
  {
   "cell_type": "code",
   "execution_count": 118,
   "id": "dbce3cb9-4c1e-455e-8095-b9b5902aaa82",
   "metadata": {},
   "outputs": [
    {
     "data": {
      "text/plain": [
       "array([ True, False, False,  True,  True, False,  True])"
      ]
     },
     "execution_count": 118,
     "metadata": {},
     "output_type": "execute_result"
    }
   ],
   "source": [
    "np.in1d(values,[2,3,6])"
   ]
  }
 ],
 "metadata": {
  "kernelspec": {
   "display_name": "Python [conda env:base] *",
   "language": "python",
   "name": "conda-base-py"
  },
  "language_info": {
   "codemirror_mode": {
    "name": "ipython",
    "version": 3
   },
   "file_extension": ".py",
   "mimetype": "text/x-python",
   "name": "python",
   "nbconvert_exporter": "python",
   "pygments_lexer": "ipython3",
   "version": "3.12.7"
  }
 },
 "nbformat": 4,
 "nbformat_minor": 5
}
