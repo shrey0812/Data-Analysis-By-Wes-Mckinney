{
 "cells": [
  {
   "cell_type": "markdown",
   "id": "64835029-f14e-49dc-aab6-00deda59c1eb",
   "metadata": {},
   "source": [
    "### CHAPTER 3 BUILT IN DATA STRUCTURES, FUNCTIONS AND FILES"
   ]
  },
  {
   "cell_type": "markdown",
   "id": "71f0b72b-237f-452e-a094-9b227164aa20",
   "metadata": {},
   "source": [
    "# tuples"
   ]
  },
  {
   "cell_type": "code",
   "execution_count": 1,
   "id": "19f85ea0-751f-4fc9-927d-ea0aff039798",
   "metadata": {},
   "outputs": [
    {
     "data": {
      "text/plain": [
       "(3, 4, 5)"
      ]
     },
     "execution_count": 1,
     "metadata": {},
     "output_type": "execute_result"
    }
   ],
   "source": [
    "tup = 3,4,5\n",
    "tup"
   ]
  },
  {
   "cell_type": "code",
   "execution_count": 2,
   "id": "f8a5a4f0-e4fb-4145-b655-3a40b3b0bc8e",
   "metadata": {},
   "outputs": [
    {
     "data": {
      "text/plain": [
       "((4, 5, 6), (7, 8))"
      ]
     },
     "execution_count": 2,
     "metadata": {},
     "output_type": "execute_result"
    }
   ],
   "source": [
    "nested_tup = (4,5,6),(7,8)\n",
    "nested_tup"
   ]
  },
  {
   "cell_type": "code",
   "execution_count": 3,
   "id": "7eaadc52-c94c-4d63-9096-5f51e67478cf",
   "metadata": {},
   "outputs": [
    {
     "data": {
      "text/plain": [
       "(4, 0, 2)"
      ]
     },
     "execution_count": 3,
     "metadata": {},
     "output_type": "execute_result"
    }
   ],
   "source": [
    "# convert any sequence or iterator into tuple by invoking tuple\n",
    "tuple([4,0,2])"
   ]
  },
  {
   "cell_type": "code",
   "execution_count": 4,
   "id": "42fb2b8e-7dd5-4fc1-8e50-7f042a52695e",
   "metadata": {},
   "outputs": [],
   "source": [
    "tup = tuple('string')"
   ]
  },
  {
   "cell_type": "code",
   "execution_count": 5,
   "id": "4d21c217-27e6-43bf-83f9-9c024e1add04",
   "metadata": {},
   "outputs": [
    {
     "data": {
      "text/plain": [
       "('s', 't', 'r', 'i', 'n', 'g')"
      ]
     },
     "execution_count": 5,
     "metadata": {},
     "output_type": "execute_result"
    }
   ],
   "source": [
    "tup"
   ]
  },
  {
   "cell_type": "code",
   "execution_count": 6,
   "id": "775cb5c0-d21c-4512-a0eb-132c05435090",
   "metadata": {},
   "outputs": [
    {
     "data": {
      "text/plain": [
       "'s'"
      ]
     },
     "execution_count": 6,
     "metadata": {},
     "output_type": "execute_result"
    }
   ],
   "source": [
    "tup[0] # elements can be accessed by []"
   ]
  },
  {
   "cell_type": "raw",
   "id": "9e3234b0-e2c1-4efe-bc68-a31aa4155861",
   "metadata": {},
   "source": [
    "While each object stored in the tuple may be mutable themselves, once the tuple is created it is not possible to modify \n",
    "which object is stored in each slot"
   ]
  },
  {
   "cell_type": "code",
   "execution_count": 7,
   "id": "ef95c6b3-91b3-45ec-9420-37e646429e22",
   "metadata": {},
   "outputs": [],
   "source": [
    "tup = tuple(['foo',[1,2],True])"
   ]
  },
  {
   "cell_type": "code",
   "execution_count": 8,
   "id": "1170bbab-70d6-46a6-b961-e67e45021fa6",
   "metadata": {},
   "outputs": [],
   "source": [
    "tup[1].append(3)"
   ]
  },
  {
   "cell_type": "code",
   "execution_count": 9,
   "id": "c8c49f2a-fd97-4b83-9141-d94cb21b8a85",
   "metadata": {},
   "outputs": [
    {
     "data": {
      "text/plain": [
       "('foo', [1, 2, 3], True)"
      ]
     },
     "execution_count": 9,
     "metadata": {},
     "output_type": "execute_result"
    }
   ],
   "source": [
    "tup"
   ]
  },
  {
   "cell_type": "code",
   "execution_count": 10,
   "id": "664d2d1e-7faa-49e1-81b1-60787b630a82",
   "metadata": {},
   "outputs": [
    {
     "data": {
      "text/plain": [
       "(4, None, 'foo', 6, 0, 'bar')"
      ]
     },
     "execution_count": 10,
     "metadata": {},
     "output_type": "execute_result"
    }
   ],
   "source": [
    "# concatenation of tuple can be done\n",
    "\n",
    "(4,None,'foo') + (6,0) + ('bar',)"
   ]
  },
  {
   "cell_type": "code",
   "execution_count": 11,
   "id": "ea9a60bf-ecb1-45f3-95c4-9720130c23c6",
   "metadata": {},
   "outputs": [
    {
     "data": {
      "text/plain": [
       "('foo', 'bar', 'foo', 'bar', 'foo', 'bar', 'foo', 'bar')"
      ]
     },
     "execution_count": 11,
     "metadata": {},
     "output_type": "execute_result"
    }
   ],
   "source": [
    "# multiplying with an integer concatenates it that many times with itself\n",
    "\n",
    "('foo','bar')*4"
   ]
  },
  {
   "cell_type": "code",
   "execution_count": 12,
   "id": "63d75298-1d8f-4057-a862-3004bcd931f5",
   "metadata": {},
   "outputs": [
    {
     "data": {
      "text/plain": [
       "4"
      ]
     },
     "execution_count": 12,
     "metadata": {},
     "output_type": "execute_result"
    }
   ],
   "source": [
    "# unpacking tuples\n",
    "\n",
    "tup = (4,5,6)\n",
    "a,b,c = tup\n",
    "a"
   ]
  },
  {
   "cell_type": "code",
   "execution_count": 13,
   "id": "32828b6e-a0eb-415f-9f53-afca91164f66",
   "metadata": {},
   "outputs": [
    {
     "data": {
      "text/plain": [
       "5"
      ]
     },
     "execution_count": 13,
     "metadata": {},
     "output_type": "execute_result"
    }
   ],
   "source": [
    "b"
   ]
  },
  {
   "cell_type": "code",
   "execution_count": 14,
   "id": "07139c15-218f-4c7d-88f0-e0f5d1de8ec2",
   "metadata": {},
   "outputs": [
    {
     "data": {
      "text/plain": [
       "6"
      ]
     },
     "execution_count": 14,
     "metadata": {},
     "output_type": "execute_result"
    }
   ],
   "source": [
    "c"
   ]
  },
  {
   "cell_type": "code",
   "execution_count": 15,
   "id": "7621c7b4-387b-437b-80b0-e77e311aac70",
   "metadata": {},
   "outputs": [
    {
     "data": {
      "text/plain": [
       "(6, 7)"
      ]
     },
     "execution_count": 15,
     "metadata": {},
     "output_type": "execute_result"
    }
   ],
   "source": [
    "# nested tuples can also be unpacked\n",
    "\n",
    "tup = 4,5,(6,7)\n",
    "a,b,c=tup\n",
    "c"
   ]
  },
  {
   "cell_type": "code",
   "execution_count": 16,
   "id": "3e5e60b7-314f-459b-b792-b5c0672c05e7",
   "metadata": {},
   "outputs": [],
   "source": [
    "a,b,(c,d) = tup"
   ]
  },
  {
   "cell_type": "code",
   "execution_count": 17,
   "id": "b3e8a3bd-403e-4743-9ce0-3540e5733fc3",
   "metadata": {},
   "outputs": [
    {
     "data": {
      "text/plain": [
       "7"
      ]
     },
     "execution_count": 17,
     "metadata": {},
     "output_type": "execute_result"
    }
   ],
   "source": [
    "d"
   ]
  },
  {
   "cell_type": "code",
   "execution_count": 18,
   "id": "8f3776a0-64e8-4bc8-9a1e-d458ee161109",
   "metadata": {},
   "outputs": [
    {
     "data": {
      "text/plain": [
       "1"
      ]
     },
     "execution_count": 18,
     "metadata": {},
     "output_type": "execute_result"
    }
   ],
   "source": [
    "# swapping in python\n",
    "\n",
    "a,b = 1,2\n",
    "a"
   ]
  },
  {
   "cell_type": "code",
   "execution_count": 19,
   "id": "05bc165b-0e44-472e-a836-1f706177a311",
   "metadata": {},
   "outputs": [
    {
     "data": {
      "text/plain": [
       "2"
      ]
     },
     "execution_count": 19,
     "metadata": {},
     "output_type": "execute_result"
    }
   ],
   "source": [
    "b"
   ]
  },
  {
   "cell_type": "code",
   "execution_count": 20,
   "id": "8bcec970-3b19-4199-bf8f-96d966207f6f",
   "metadata": {},
   "outputs": [],
   "source": [
    "b,a = a,b"
   ]
  },
  {
   "cell_type": "code",
   "execution_count": 21,
   "id": "d49c74e4-b948-4b2e-9f5b-06e539b1abd4",
   "metadata": {},
   "outputs": [
    {
     "data": {
      "text/plain": [
       "2"
      ]
     },
     "execution_count": 21,
     "metadata": {},
     "output_type": "execute_result"
    }
   ],
   "source": [
    "a"
   ]
  },
  {
   "cell_type": "code",
   "execution_count": 22,
   "id": "ba48e07d-0a1e-4af9-a30c-f1e0179a8ee9",
   "metadata": {},
   "outputs": [
    {
     "data": {
      "text/plain": [
       "1"
      ]
     },
     "execution_count": 22,
     "metadata": {},
     "output_type": "execute_result"
    }
   ],
   "source": [
    "b"
   ]
  },
  {
   "cell_type": "code",
   "execution_count": 23,
   "id": "0aca573c-318c-4281-af58-2d9e615e0b9f",
   "metadata": {},
   "outputs": [
    {
     "name": "stdout",
     "output_type": "stream",
     "text": [
      "a=1, b=2, c=3\n",
      "a=4, b=5, c=6\n",
      "a=7, b=8, c=9\n"
     ]
    }
   ],
   "source": [
    "# using iteration to unpack sequence\n",
    "\n",
    "seq = [(1,2,3),(4,5,6),(7,8,9)]\n",
    "\n",
    "for a,b,c in seq:\n",
    "    print('a={0}, b={1}, c={2}'.format(a,b,c))"
   ]
  },
  {
   "cell_type": "code",
   "execution_count": 24,
   "id": "32fec1de-8ac8-4831-bef2-9920ff9ec694",
   "metadata": {},
   "outputs": [
    {
     "data": {
      "text/plain": [
       "[3, 4, 5]"
      ]
     },
     "execution_count": 24,
     "metadata": {},
     "output_type": "execute_result"
    }
   ],
   "source": [
    "# using *rest - often used for something you want to discard.\n",
    "# many python users use (_) underscore also for this function\n",
    "\n",
    "values = 1,2,3,4,5\n",
    "a,b,*rest = values\n",
    "rest"
   ]
  },
  {
   "cell_type": "code",
   "execution_count": 25,
   "id": "17fddb21-bbbe-4dd9-8b4d-8d006928e16b",
   "metadata": {},
   "outputs": [
    {
     "data": {
      "text/plain": [
       "4"
      ]
     },
     "execution_count": 25,
     "metadata": {},
     "output_type": "execute_result"
    }
   ],
   "source": [
    "# tuple methods\n",
    "\n",
    "a = (1,2,2,2,3,4,2)\n",
    "a.count(2)"
   ]
  },
  {
   "cell_type": "markdown",
   "id": "99533252-d290-4b0a-bd16-4997cf8e83db",
   "metadata": {},
   "source": [
    "# LIST"
   ]
  },
  {
   "cell_type": "code",
   "execution_count": 26,
   "id": "98f92008-e2f8-49c7-a556-65943d10974f",
   "metadata": {},
   "outputs": [
    {
     "data": {
      "text/plain": [
       "['foo', 'bar', 'baz']"
      ]
     },
     "execution_count": 26,
     "metadata": {},
     "output_type": "execute_result"
    }
   ],
   "source": [
    "# vairable length and content can be modified\n",
    "\n",
    "a_list = [2,3,7,None]\n",
    "\n",
    "tup = ('foo','bar','baz')\n",
    "b_list = list(tup)\n",
    "b_list"
   ]
  },
  {
   "cell_type": "code",
   "execution_count": 27,
   "id": "eb88202a-6900-4b43-8051-2f5ed709b10c",
   "metadata": {},
   "outputs": [],
   "source": [
    "b_list[1] = 'peekaboo'"
   ]
  },
  {
   "cell_type": "code",
   "execution_count": 28,
   "id": "649890fb-3380-4fec-8b51-cf2ce067b767",
   "metadata": {},
   "outputs": [
    {
     "data": {
      "text/plain": [
       "['foo', 'peekaboo', 'baz']"
      ]
     },
     "execution_count": 28,
     "metadata": {},
     "output_type": "execute_result"
    }
   ],
   "source": [
    "b_list"
   ]
  },
  {
   "cell_type": "code",
   "execution_count": 29,
   "id": "c8e8b450-1fcf-44c2-89fb-7c1d287ab333",
   "metadata": {},
   "outputs": [],
   "source": [
    "gen = range(10)"
   ]
  },
  {
   "cell_type": "code",
   "execution_count": 30,
   "id": "470376d5-a089-4adb-8aaf-bca7e3dd1bd6",
   "metadata": {},
   "outputs": [
    {
     "data": {
      "text/plain": [
       "range(0, 10)"
      ]
     },
     "execution_count": 30,
     "metadata": {},
     "output_type": "execute_result"
    }
   ],
   "source": [
    "gen"
   ]
  },
  {
   "cell_type": "code",
   "execution_count": 31,
   "id": "f8235fe6-a821-42bb-932b-e79ca884e065",
   "metadata": {},
   "outputs": [
    {
     "data": {
      "text/plain": [
       "[0, 1, 2, 3, 4, 5, 6, 7, 8, 9]"
      ]
     },
     "execution_count": 31,
     "metadata": {},
     "output_type": "execute_result"
    }
   ],
   "source": [
    "list(gen)"
   ]
  },
  {
   "cell_type": "code",
   "execution_count": 32,
   "id": "ada2c1e8-999c-4459-8b8a-7e3110ec509e",
   "metadata": {},
   "outputs": [
    {
     "data": {
      "text/plain": [
       "['foo', 'peekaboo', 'baz', 'dwarf']"
      ]
     },
     "execution_count": 32,
     "metadata": {},
     "output_type": "execute_result"
    }
   ],
   "source": [
    "# adding and removing elements from list\n",
    "\n",
    "b_list.append('dwarf')\n",
    "b_list"
   ]
  },
  {
   "cell_type": "code",
   "execution_count": 33,
   "id": "04ea350f-5663-4212-8b8f-413be2d8612a",
   "metadata": {},
   "outputs": [],
   "source": [
    "# for a specific location\n",
    "b_list.insert(1,'red') # computationally extensive as compared to append"
   ]
  },
  {
   "cell_type": "code",
   "execution_count": 34,
   "id": "024079b9-b735-4ba4-97da-e90f8b38f512",
   "metadata": {},
   "outputs": [
    {
     "data": {
      "text/plain": [
       "['foo', 'red', 'peekaboo', 'baz', 'dwarf']"
      ]
     },
     "execution_count": 34,
     "metadata": {},
     "output_type": "execute_result"
    }
   ],
   "source": [
    "b_list"
   ]
  },
  {
   "cell_type": "code",
   "execution_count": 35,
   "id": "44039eba-8430-400d-b8c3-a62bc67a8624",
   "metadata": {},
   "outputs": [
    {
     "data": {
      "text/plain": [
       "'peekaboo'"
      ]
     },
     "execution_count": 35,
     "metadata": {},
     "output_type": "execute_result"
    }
   ],
   "source": [
    "# deleting at a location\n",
    "b_list.pop(2)"
   ]
  },
  {
   "cell_type": "code",
   "execution_count": 36,
   "id": "ce269715-1172-4821-878a-5c0bc9e4ca6f",
   "metadata": {},
   "outputs": [
    {
     "data": {
      "text/plain": [
       "['foo', 'red', 'baz', 'dwarf']"
      ]
     },
     "execution_count": 36,
     "metadata": {},
     "output_type": "execute_result"
    }
   ],
   "source": [
    "b_list"
   ]
  },
  {
   "cell_type": "code",
   "execution_count": 37,
   "id": "1bb19eeb-e9cd-4242-b34c-5cc24e952028",
   "metadata": {},
   "outputs": [
    {
     "data": {
      "text/plain": [
       "['foo', 'baz', 'dwarf']"
      ]
     },
     "execution_count": 37,
     "metadata": {},
     "output_type": "execute_result"
    }
   ],
   "source": [
    "# delete by element value\n",
    "\n",
    "b_list.remove('red')\n",
    "b_list"
   ]
  },
  {
   "cell_type": "code",
   "execution_count": 38,
   "id": "11464faf-d4ec-4f8c-9665-319acffc2ef4",
   "metadata": {},
   "outputs": [
    {
     "data": {
      "text/plain": [
       "True"
      ]
     },
     "execution_count": 38,
     "metadata": {},
     "output_type": "execute_result"
    }
   ],
   "source": [
    "'dwarf' in b_list"
   ]
  },
  {
   "cell_type": "code",
   "execution_count": 39,
   "id": "38163013-bc7a-432b-8f1d-c920ff0cff57",
   "metadata": {},
   "outputs": [
    {
     "data": {
      "text/plain": [
       "False"
      ]
     },
     "execution_count": 39,
     "metadata": {},
     "output_type": "execute_result"
    }
   ],
   "source": [
    "'dwarf' not in b_list"
   ]
  },
  {
   "cell_type": "raw",
   "id": "f0910604-9c97-4782-846d-c4b6a4b7a04e",
   "metadata": {},
   "source": [
    "Checking a value is in list is a lot slower as compared to dict,sets. As python makes a linear scan through the list whereas does other in constant time"
   ]
  },
  {
   "cell_type": "code",
   "execution_count": 40,
   "id": "7cb45404-35da-49bd-bb05-d5857144cf1c",
   "metadata": {},
   "outputs": [
    {
     "data": {
      "text/plain": [
       "[4, None, 'foo', 7, 8, (2, 3)]"
      ]
     },
     "execution_count": 40,
     "metadata": {},
     "output_type": "execute_result"
    }
   ],
   "source": [
    "# Concatenation and combining list\n",
    "\n",
    "[4,None,'foo'] + [7,8,(2,3)]"
   ]
  },
  {
   "cell_type": "code",
   "execution_count": 41,
   "id": "0497d709-3ae7-466d-bdb6-dec8da691acc",
   "metadata": {},
   "outputs": [
    {
     "data": {
      "text/plain": [
       "[4, None, 'foo', 7, 8, (2, 3)]"
      ]
     },
     "execution_count": 41,
     "metadata": {},
     "output_type": "execute_result"
    }
   ],
   "source": [
    "# append multiple elements simultaneously using extend function\n",
    "# extend function is faster than using (+) for concatenation\n",
    "x = [4,None,'foo']\n",
    "x.extend([7,8,(2,3)])\n",
    "x"
   ]
  },
  {
   "cell_type": "code",
   "execution_count": 42,
   "id": "0c76cdf8-acc4-44e0-83de-2555ca6c0dd5",
   "metadata": {},
   "outputs": [
    {
     "data": {
      "text/plain": [
       "[1, 2, 3, 5, 7]"
      ]
     },
     "execution_count": 42,
     "metadata": {},
     "output_type": "execute_result"
    }
   ],
   "source": [
    "# sorting\n",
    "\n",
    "a = [7,2,5,1,3]\n",
    "a.sort()\n",
    "a"
   ]
  },
  {
   "cell_type": "code",
   "execution_count": 43,
   "id": "cb19ae8b-228d-46bf-a09e-fb47d9db2d5a",
   "metadata": {},
   "outputs": [
    {
     "data": {
      "text/plain": [
       "['He', 'saw', 'six', 'small', 'foxes']"
      ]
     },
     "execution_count": 43,
     "metadata": {},
     "output_type": "execute_result"
    }
   ],
   "source": [
    "b = ['saw','small','He','foxes','six']\n",
    "b.sort(key=len)\n",
    "b"
   ]
  },
  {
   "cell_type": "code",
   "execution_count": 44,
   "id": "44f8391a-cba3-4e32-979b-c31df2db7c64",
   "metadata": {},
   "outputs": [
    {
     "data": {
      "text/plain": [
       "4"
      ]
     },
     "execution_count": 44,
     "metadata": {},
     "output_type": "execute_result"
    }
   ],
   "source": [
    "# bisect module implements binary search and insertion in a sorted list\n",
    "# bisect.bisect finds the location where an element should be inserted to keep it sorted\n",
    "# bisect.insort actually inserts to that location\n",
    "import bisect\n",
    "c = [1,2,2,2,3,4,7]\n",
    "bisect.bisect(c,2)"
   ]
  },
  {
   "cell_type": "code",
   "execution_count": 45,
   "id": "edd4cd33-4c53-4ac5-817d-130e98b32f7e",
   "metadata": {},
   "outputs": [
    {
     "data": {
      "text/plain": [
       "6"
      ]
     },
     "execution_count": 45,
     "metadata": {},
     "output_type": "execute_result"
    }
   ],
   "source": [
    "bisect.bisect(c,5)"
   ]
  },
  {
   "cell_type": "code",
   "execution_count": 46,
   "id": "b81e2a2f-8e7a-4c4b-a85e-21e011337e05",
   "metadata": {},
   "outputs": [],
   "source": [
    "bisect.insort(c,6)"
   ]
  },
  {
   "cell_type": "code",
   "execution_count": 47,
   "id": "f1be18cf-cd25-4a9c-b6a3-a05ea75d0a08",
   "metadata": {},
   "outputs": [
    {
     "data": {
      "text/plain": [
       "[1, 2, 2, 2, 3, 4, 6, 7]"
      ]
     },
     "execution_count": 47,
     "metadata": {},
     "output_type": "execute_result"
    }
   ],
   "source": [
    "c"
   ]
  },
  {
   "cell_type": "code",
   "execution_count": 48,
   "id": "4fe2a94c-d69e-42b9-8945-dc02c9af0a19",
   "metadata": {},
   "outputs": [],
   "source": [
    "# bisect module does not check whether the list is sorted because it will be computationally extensive"
   ]
  },
  {
   "cell_type": "code",
   "execution_count": 49,
   "id": "c30da175-9ea6-48ef-ac5b-ed31eef1ae81",
   "metadata": {},
   "outputs": [
    {
     "data": {
      "text/plain": [
       "[2, 3, 7, 5]"
      ]
     },
     "execution_count": 49,
     "metadata": {},
     "output_type": "execute_result"
    }
   ],
   "source": [
    "# Slicing\n",
    "\n",
    "seq  = [7,2,3,7,5,6,0,1]\n",
    "seq[1:5]"
   ]
  },
  {
   "cell_type": "code",
   "execution_count": 50,
   "id": "b13f3dda-4615-4855-ba3c-a2565e08c8df",
   "metadata": {},
   "outputs": [
    {
     "data": {
      "text/plain": [
       "[7, 2, 3, 6, 3, 6, 0, 1]"
      ]
     },
     "execution_count": 50,
     "metadata": {},
     "output_type": "execute_result"
    }
   ],
   "source": [
    "seq[3:5] = [6,3]\n",
    "seq"
   ]
  },
  {
   "cell_type": "code",
   "execution_count": 51,
   "id": "292b56a3-d9fd-44dc-be91-9f1697960fa0",
   "metadata": {},
   "outputs": [
    {
     "data": {
      "text/plain": [
       "[7, 2, 3, 6, 3]"
      ]
     },
     "execution_count": 51,
     "metadata": {},
     "output_type": "execute_result"
    }
   ],
   "source": [
    "seq[:5]"
   ]
  },
  {
   "cell_type": "code",
   "execution_count": 52,
   "id": "bbaf9cbe-6175-4169-8567-513de5bed041",
   "metadata": {},
   "outputs": [
    {
     "data": {
      "text/plain": [
       "[6, 3, 6, 0, 1]"
      ]
     },
     "execution_count": 52,
     "metadata": {},
     "output_type": "execute_result"
    }
   ],
   "source": [
    "seq[3:]"
   ]
  },
  {
   "cell_type": "code",
   "execution_count": 53,
   "id": "c6cfd844-1f5e-4e4b-a666-66eeab11d45b",
   "metadata": {},
   "outputs": [
    {
     "data": {
      "text/plain": [
       "[3, 6, 0, 1]"
      ]
     },
     "execution_count": 53,
     "metadata": {},
     "output_type": "execute_result"
    }
   ],
   "source": [
    "seq[-4:]"
   ]
  },
  {
   "cell_type": "code",
   "execution_count": 54,
   "id": "7a1407ae-cec4-4608-ba3b-ea573c22979f",
   "metadata": {},
   "outputs": [
    {
     "data": {
      "text/plain": [
       "[3, 6, 3, 6]"
      ]
     },
     "execution_count": 54,
     "metadata": {},
     "output_type": "execute_result"
    }
   ],
   "source": [
    "seq[-6:-2]"
   ]
  },
  {
   "cell_type": "code",
   "execution_count": 55,
   "id": "179df410-0e60-4454-b5e0-f68f5de8b33c",
   "metadata": {},
   "outputs": [
    {
     "data": {
      "text/plain": [
       "[7, 3, 3, 0]"
      ]
     },
     "execution_count": 55,
     "metadata": {},
     "output_type": "execute_result"
    }
   ],
   "source": [
    "seq[::2]"
   ]
  },
  {
   "cell_type": "code",
   "execution_count": 56,
   "id": "6e04ef41-fce4-4fb2-bec5-f3ce9d054c96",
   "metadata": {},
   "outputs": [
    {
     "data": {
      "text/plain": [
       "[1, 0, 6, 3, 6, 3, 2, 7]"
      ]
     },
     "execution_count": 56,
     "metadata": {},
     "output_type": "execute_result"
    }
   ],
   "source": [
    "seq[::-1]"
   ]
  },
  {
   "cell_type": "code",
   "execution_count": 57,
   "id": "c2d750dd-b1fd-4b6f-83a8-eb4b9e85ebd3",
   "metadata": {},
   "outputs": [],
   "source": [
    "# built-in sequence functions\n",
    "# for i,values in enumerate(collection):\n"
   ]
  },
  {
   "cell_type": "code",
   "execution_count": 58,
   "id": "cdd62fd7-ec31-43a1-8dd9-85a9c23a1e68",
   "metadata": {},
   "outputs": [
    {
     "data": {
      "text/plain": [
       "{'foo': 0, 'bar': 1, 'baz': 2}"
      ]
     },
     "execution_count": 58,
     "metadata": {},
     "output_type": "execute_result"
    }
   ],
   "source": [
    "some_list = ['foo','bar','baz']\n",
    "mapping = {}\n",
    "for i,v in enumerate(some_list):\n",
    "    mapping[v] = i\n",
    "mapping"
   ]
  },
  {
   "cell_type": "code",
   "execution_count": 59,
   "id": "28dd6bbe-23bf-487e-95af-0f4d9dc870ab",
   "metadata": {},
   "outputs": [
    {
     "data": {
      "text/plain": [
       "[1, 3, 4, 7, 23, 42, 57]"
      ]
     },
     "execution_count": 59,
     "metadata": {},
     "output_type": "execute_result"
    }
   ],
   "source": [
    "# sorted function returns new sorted list from the elements of any sequence\n",
    "\n",
    "sorted([7,1,3,42,57,4,23])"
   ]
  },
  {
   "cell_type": "code",
   "execution_count": 60,
   "id": "35f21920-8dba-4cc1-bd8e-c9b4f90f8fec",
   "metadata": {},
   "outputs": [
    {
     "data": {
      "text/plain": [
       "[' ', 'a', 'c', 'e', 'e', 'h', 'o', 'r', 'r', 's']"
      ]
     },
     "execution_count": 60,
     "metadata": {},
     "output_type": "execute_result"
    }
   ],
   "source": [
    "sorted('horse race')"
   ]
  },
  {
   "cell_type": "code",
   "execution_count": 61,
   "id": "f4b7bc5c-f8ef-42c1-b695-b82dcb40717d",
   "metadata": {},
   "outputs": [
    {
     "data": {
      "text/plain": [
       "[('foo', 'one'), ('bar', 'two'), ('baz', 'three')]"
      ]
     },
     "execution_count": 61,
     "metadata": {},
     "output_type": "execute_result"
    }
   ],
   "source": [
    "# zip pairs up the elements of a number of lists, tuples, or other sequences to create a list of tuples\n",
    "seq1 = ['foo','bar','baz']\n",
    "seq2 = ['one','two','three']\n",
    "zipped = zip(seq1,seq2)\n",
    "list(zipped)"
   ]
  },
  {
   "cell_type": "code",
   "execution_count": 62,
   "id": "8d6115d4-dd1e-4d41-adfe-19f377ed8e1b",
   "metadata": {},
   "outputs": [
    {
     "data": {
      "text/plain": [
       "[('foo', 'one', True), ('bar', 'two', False)]"
      ]
     },
     "execution_count": 62,
     "metadata": {},
     "output_type": "execute_result"
    }
   ],
   "source": [
    "# zip can take arbitrary number of sequences and the number of element it produces depends upon the shortest sequence\n",
    "seq3 = [True,False]\n",
    "list(zip(seq1,seq2,seq3))"
   ]
  },
  {
   "cell_type": "code",
   "execution_count": 63,
   "id": "f7eae410-4019-4a3a-bbc3-7e11bbf8aad5",
   "metadata": {},
   "outputs": [
    {
     "name": "stdout",
     "output_type": "stream",
     "text": [
      "0 : foo, one\n",
      "1 : bar, two\n",
      "2 : baz, three\n"
     ]
    }
   ],
   "source": [
    "# common use is to iterate over multiple sequences \n",
    "for i,(a,b) in enumerate(zip(seq1,seq2)):\n",
    "    print('{0} : {1}, {2}'.format(i,a,b))"
   ]
  },
  {
   "cell_type": "code",
   "execution_count": 64,
   "id": "427a2024-33ef-4bb3-84cd-1f5161465e1c",
   "metadata": {},
   "outputs": [
    {
     "data": {
      "text/plain": [
       "('Nolan', 'Roger', 'Curt')"
      ]
     },
     "execution_count": 64,
     "metadata": {},
     "output_type": "execute_result"
    }
   ],
   "source": [
    "# zip can be applied in a clever way to unzip a sequence\n",
    "pitchers = [('Nolan','Ryan'),('Roger','Clemens'),('Curt','Schiling')]\n",
    "\n",
    "first_names,last_names = zip(*pitchers)\n",
    "first_names"
   ]
  },
  {
   "cell_type": "code",
   "execution_count": 65,
   "id": "b849f1e4-184c-4253-b38c-ae381d59fc49",
   "metadata": {},
   "outputs": [
    {
     "data": {
      "text/plain": [
       "('Ryan', 'Clemens', 'Schiling')"
      ]
     },
     "execution_count": 65,
     "metadata": {},
     "output_type": "execute_result"
    }
   ],
   "source": [
    "last_names"
   ]
  },
  {
   "cell_type": "code",
   "execution_count": 66,
   "id": "2a1eb46d-73ad-4a6e-9293-29886c6bbdfd",
   "metadata": {},
   "outputs": [
    {
     "data": {
      "text/plain": [
       "[9, 8, 7, 6, 5, 4, 3, 2, 1, 0]"
      ]
     },
     "execution_count": 66,
     "metadata": {},
     "output_type": "execute_result"
    }
   ],
   "source": [
    "# reversed iterates over all elements in reverse order \n",
    "list(reversed(range(10)))"
   ]
  },
  {
   "cell_type": "markdown",
   "id": "78ac1635-4153-49ab-8ab7-0e90063281ea",
   "metadata": {},
   "source": [
    "# dict"
   ]
  },
  {
   "cell_type": "raw",
   "id": "9a4b49b6-0941-4c80-8acf-81c7f0034c24",
   "metadata": {},
   "source": [
    "Unordered collection of key-value pairs. Each key is associated with a value so that value can be conveniently retreived, inserted, modicfied or deleted. "
   ]
  },
  {
   "cell_type": "code",
   "execution_count": 67,
   "id": "32ada9bc-9bbe-4b45-9042-8e2fe970283e",
   "metadata": {},
   "outputs": [],
   "source": [
    "empty_dict = {}"
   ]
  },
  {
   "cell_type": "code",
   "execution_count": 68,
   "id": "e25ec29b-a038-4077-9e51-7b3986e79dbc",
   "metadata": {},
   "outputs": [
    {
     "data": {
      "text/plain": [
       "{'a': 'some value', 'b': [1, 2, 3, 4]}"
      ]
     },
     "execution_count": 68,
     "metadata": {},
     "output_type": "execute_result"
    }
   ],
   "source": [
    "d1 = {'a':'some value', 'b':[1,2,3,4]}\n",
    "d1"
   ]
  },
  {
   "cell_type": "code",
   "execution_count": 69,
   "id": "d1f6f6eb-06b7-4955-aae8-0c42741a6389",
   "metadata": {},
   "outputs": [],
   "source": [
    "d1[7] = 'an integer'"
   ]
  },
  {
   "cell_type": "code",
   "execution_count": 70,
   "id": "d2abea89-9cce-4043-a7f3-4ff2bbf4d720",
   "metadata": {},
   "outputs": [
    {
     "data": {
      "text/plain": [
       "{'a': 'some value', 'b': [1, 2, 3, 4], 7: 'an integer'}"
      ]
     },
     "execution_count": 70,
     "metadata": {},
     "output_type": "execute_result"
    }
   ],
   "source": [
    "d1"
   ]
  },
  {
   "cell_type": "code",
   "execution_count": 71,
   "id": "13528634-accb-4616-ae97-1957606e17e8",
   "metadata": {},
   "outputs": [
    {
     "data": {
      "text/plain": [
       "[1, 2, 3, 4]"
      ]
     },
     "execution_count": 71,
     "metadata": {},
     "output_type": "execute_result"
    }
   ],
   "source": [
    "d1['b']"
   ]
  },
  {
   "cell_type": "code",
   "execution_count": 72,
   "id": "98f00525-68f3-4ae9-b68f-2e182af5ee75",
   "metadata": {},
   "outputs": [
    {
     "data": {
      "text/plain": [
       "True"
      ]
     },
     "execution_count": 72,
     "metadata": {},
     "output_type": "execute_result"
    }
   ],
   "source": [
    "'b' in d1"
   ]
  },
  {
   "cell_type": "code",
   "execution_count": 73,
   "id": "22b3b11e-d921-4399-9030-504ec84df076",
   "metadata": {},
   "outputs": [],
   "source": [
    "d1[5] = 'some value'"
   ]
  },
  {
   "cell_type": "code",
   "execution_count": 74,
   "id": "8768173b-75ea-4eae-9063-84b722f357ce",
   "metadata": {},
   "outputs": [
    {
     "data": {
      "text/plain": [
       "{'a': 'some value', 'b': [1, 2, 3, 4], 7: 'an integer', 5: 'some value'}"
      ]
     },
     "execution_count": 74,
     "metadata": {},
     "output_type": "execute_result"
    }
   ],
   "source": [
    "d1"
   ]
  },
  {
   "cell_type": "code",
   "execution_count": 75,
   "id": "b9d1b3e8-7b12-42bf-8051-9ef99f461104",
   "metadata": {},
   "outputs": [],
   "source": [
    "d1['dummy'] = 'another value'\n"
   ]
  },
  {
   "cell_type": "code",
   "execution_count": 76,
   "id": "95c991a4-0cbc-44de-93f9-0955b336aa56",
   "metadata": {},
   "outputs": [
    {
     "data": {
      "text/plain": [
       "{'a': 'some value',\n",
       " 'b': [1, 2, 3, 4],\n",
       " 7: 'an integer',\n",
       " 5: 'some value',\n",
       " 'dummy': 'another value'}"
      ]
     },
     "execution_count": 76,
     "metadata": {},
     "output_type": "execute_result"
    }
   ],
   "source": [
    "d1"
   ]
  },
  {
   "cell_type": "code",
   "execution_count": 77,
   "id": "aa8814f8-85d1-4632-8760-d803a2055ee7",
   "metadata": {},
   "outputs": [],
   "source": [
    "del d1[5]"
   ]
  },
  {
   "cell_type": "code",
   "execution_count": 78,
   "id": "cae09578-1b81-4cde-b178-1a94adfdb227",
   "metadata": {},
   "outputs": [
    {
     "data": {
      "text/plain": [
       "{'a': 'some value',\n",
       " 'b': [1, 2, 3, 4],\n",
       " 7: 'an integer',\n",
       " 'dummy': 'another value'}"
      ]
     },
     "execution_count": 78,
     "metadata": {},
     "output_type": "execute_result"
    }
   ],
   "source": [
    "d1"
   ]
  },
  {
   "cell_type": "code",
   "execution_count": 79,
   "id": "76052835-437a-4db0-ad9c-99d751668d53",
   "metadata": {},
   "outputs": [],
   "source": [
    "ret = d1.pop('dummy')"
   ]
  },
  {
   "cell_type": "code",
   "execution_count": 80,
   "id": "fdee9028-da8e-4ea5-9d3e-b7e7eb365189",
   "metadata": {},
   "outputs": [
    {
     "data": {
      "text/plain": [
       "'another value'"
      ]
     },
     "execution_count": 80,
     "metadata": {},
     "output_type": "execute_result"
    }
   ],
   "source": [
    "ret"
   ]
  },
  {
   "cell_type": "code",
   "execution_count": 81,
   "id": "84ea00cf-6c98-42b3-bc7e-5349eebb354d",
   "metadata": {},
   "outputs": [
    {
     "data": {
      "text/plain": [
       "{'a': 'some value', 'b': [1, 2, 3, 4], 7: 'an integer'}"
      ]
     },
     "execution_count": 81,
     "metadata": {},
     "output_type": "execute_result"
    }
   ],
   "source": [
    "d1"
   ]
  },
  {
   "cell_type": "code",
   "execution_count": 82,
   "id": "290a2454-2647-4c15-8dae-7f49a6ca89c1",
   "metadata": {},
   "outputs": [
    {
     "data": {
      "text/plain": [
       "['a', 'b', 7]"
      ]
     },
     "execution_count": 82,
     "metadata": {},
     "output_type": "execute_result"
    }
   ],
   "source": [
    "# keys and values functions gives you iterators of the dict's keys and values. The order depend on their order of insertion.\n",
    "\n",
    "list(d1.keys())"
   ]
  },
  {
   "cell_type": "code",
   "execution_count": 83,
   "id": "47875a61-486c-4a66-9448-2be38db470b8",
   "metadata": {},
   "outputs": [
    {
     "data": {
      "text/plain": [
       "['some value', [1, 2, 3, 4], 'an integer']"
      ]
     },
     "execution_count": 83,
     "metadata": {},
     "output_type": "execute_result"
    }
   ],
   "source": [
    "list(d1.values())"
   ]
  },
  {
   "cell_type": "code",
   "execution_count": 84,
   "id": "f7f5e71f-8ada-4ade-a3b5-1017d5b0bbe3",
   "metadata": {},
   "outputs": [],
   "source": [
    "# you can merge one dict into another using the update method\n",
    "# update changes the dict in-place so any old values will be discarded\n",
    "d1.update({'b': 'foo','c':12})"
   ]
  },
  {
   "cell_type": "code",
   "execution_count": 85,
   "id": "a02724d1-9f29-4b78-9d7a-49419ba4962e",
   "metadata": {},
   "outputs": [
    {
     "data": {
      "text/plain": [
       "{'a': 'some value', 'b': 'foo', 7: 'an integer', 'c': 12}"
      ]
     },
     "execution_count": 85,
     "metadata": {},
     "output_type": "execute_result"
    }
   ],
   "source": [
    "d1"
   ]
  },
  {
   "cell_type": "code",
   "execution_count": 86,
   "id": "28efefdf-8db7-48cd-996d-4156d9f4cb66",
   "metadata": {},
   "outputs": [
    {
     "data": {
      "text/plain": [
       "{0: 4, 1: 3, 2: 2, 3: 1, 4: 0}"
      ]
     },
     "execution_count": 86,
     "metadata": {},
     "output_type": "execute_result"
    }
   ],
   "source": [
    "# creating dict from sequences \n",
    "mapping = dict(zip(list(range(5)),list(reversed(range(5)))))\n",
    "mapping"
   ]
  },
  {
   "cell_type": "code",
   "execution_count": 87,
   "id": "705218c9-71cc-4a95-8034-88b0448aca0f",
   "metadata": {},
   "outputs": [],
   "source": [
    "# the get and pop method can take a default value to be returned \n",
    "# get will return None if the key is not present, while pop raises an exception"
   ]
  },
  {
   "cell_type": "code",
   "execution_count": 88,
   "id": "459c6a09-c555-4597-a44b-c27d13af3b4a",
   "metadata": {},
   "outputs": [
    {
     "data": {
      "text/plain": [
       "{'a': ['apple', 'atom'], 'b': ['bat', 'bar', 'book']}"
      ]
     },
     "execution_count": 88,
     "metadata": {},
     "output_type": "execute_result"
    }
   ],
   "source": [
    "words = ['apple','bat','bar','atom','book']\n",
    "by_letter = {}\n",
    "for word in words:\n",
    "    letter = word[0]\n",
    "    if letter not in by_letter:\n",
    "        by_letter[letter] = [word]\n",
    "    else:\n",
    "        by_letter[letter].append(word)\n",
    "by_letter"
   ]
  },
  {
   "cell_type": "code",
   "execution_count": 89,
   "id": "41611fd5-f4bf-4b52-94ba-4251f60cf1df",
   "metadata": {},
   "outputs": [],
   "source": [
    "# setdefault can be used to simplify this workflow\n",
    "by_letter = {}\n",
    "for word in words:\n",
    "    letter = word[0]\n",
    "    by_letter.setdefault(letter,[]).append(word)"
   ]
  },
  {
   "cell_type": "code",
   "execution_count": 90,
   "id": "99e0968a-9af4-46ca-a680-2dcacf8f7699",
   "metadata": {},
   "outputs": [
    {
     "data": {
      "text/plain": [
       "{'a': ['apple', 'atom'], 'b': ['bat', 'bar', 'book']}"
      ]
     },
     "execution_count": 90,
     "metadata": {},
     "output_type": "execute_result"
    }
   ],
   "source": [
    "by_letter"
   ]
  },
  {
   "cell_type": "code",
   "execution_count": 91,
   "id": "27ecf153-e85c-4b1c-afc5-6a08201dae43",
   "metadata": {},
   "outputs": [],
   "source": [
    "# the collections module has useful class called defaultdict, which makes it even easier\n",
    "\n",
    "from collections import defaultdict\n",
    "by_letter = defaultdict(list)\n",
    "for word in words:\n",
    "    by_letter[word[0]].append(word)"
   ]
  },
  {
   "cell_type": "code",
   "execution_count": 92,
   "id": "da724220-1ea0-4082-bd1a-a06a7c1e8f05",
   "metadata": {},
   "outputs": [
    {
     "data": {
      "text/plain": [
       "defaultdict(list, {'a': ['apple', 'atom'], 'b': ['bat', 'bar', 'book']})"
      ]
     },
     "execution_count": 92,
     "metadata": {},
     "output_type": "execute_result"
    }
   ],
   "source": [
    "by_letter"
   ]
  },
  {
   "cell_type": "markdown",
   "id": "f458e058-429a-4aaa-a5e1-99347b7379ec",
   "metadata": {},
   "source": [
    "# SETS"
   ]
  },
  {
   "cell_type": "raw",
   "id": "8842a3ea-5c25-4a93-9373-891f4c1b1a14",
   "metadata": {},
   "source": [
    "Unordered collection of unique elements \n",
    "Dict keys, but no values\n",
    "Creation ising 2 ways:\n",
    "1: set()\n",
    "2: set literal with curly braces"
   ]
  },
  {
   "cell_type": "code",
   "execution_count": 93,
   "id": "b8570fe8-7c3a-41a2-b8c0-3e9e09c34756",
   "metadata": {},
   "outputs": [
    {
     "data": {
      "text/plain": [
       "{1, 2, 3, 4}"
      ]
     },
     "execution_count": 93,
     "metadata": {},
     "output_type": "execute_result"
    }
   ],
   "source": [
    "set([2,2,2,1,1,3,3,3,4,4,4])"
   ]
  },
  {
   "cell_type": "code",
   "execution_count": 94,
   "id": "b797bd18-8237-4af9-88a8-3355d142ebab",
   "metadata": {},
   "outputs": [
    {
     "data": {
      "text/plain": [
       "{2, 3, 4}"
      ]
     },
     "execution_count": 94,
     "metadata": {},
     "output_type": "execute_result"
    }
   ],
   "source": [
    "{2,2,2,2,3,3,3,3,4,4,4}"
   ]
  },
  {
   "cell_type": "code",
   "execution_count": 95,
   "id": "5a79f531-73a7-4855-ba67-5b4cce62040a",
   "metadata": {},
   "outputs": [
    {
     "data": {
      "text/plain": [
       "{1, 2, 3, 4, 5, 6, 7, 8}"
      ]
     },
     "execution_count": 95,
     "metadata": {},
     "output_type": "execute_result"
    }
   ],
   "source": [
    "# set supports mathematical operation like union, intersection, difference, symmetric difference\n",
    "\n",
    "a = {1,2,3,4,5}\n",
    "b = {3,4,5,6,7,8}\n",
    "\n",
    "a.union(b)"
   ]
  },
  {
   "cell_type": "code",
   "execution_count": 96,
   "id": "f4334709-a11c-432a-946c-88e5fccbeac5",
   "metadata": {},
   "outputs": [
    {
     "data": {
      "text/plain": [
       "{1, 2, 3, 4, 5, 6, 7, 8}"
      ]
     },
     "execution_count": 96,
     "metadata": {},
     "output_type": "execute_result"
    }
   ],
   "source": [
    "a | b"
   ]
  },
  {
   "cell_type": "code",
   "execution_count": 97,
   "id": "38968e10-bfc7-409c-a0e6-4633da9d2fe5",
   "metadata": {},
   "outputs": [
    {
     "data": {
      "text/plain": [
       "{3, 4, 5}"
      ]
     },
     "execution_count": 97,
     "metadata": {},
     "output_type": "execute_result"
    }
   ],
   "source": [
    "a.intersection(b)"
   ]
  },
  {
   "cell_type": "code",
   "execution_count": 98,
   "id": "1e8da6dd-73b2-46e7-a130-6d9f1e72fe08",
   "metadata": {},
   "outputs": [
    {
     "data": {
      "text/plain": [
       "{3, 4, 5}"
      ]
     },
     "execution_count": 98,
     "metadata": {},
     "output_type": "execute_result"
    }
   ],
   "source": [
    "a & b"
   ]
  },
  {
   "cell_type": "code",
   "execution_count": 99,
   "id": "d2e03cb7-6fd0-4afe-8b30-626dccf3058c",
   "metadata": {},
   "outputs": [],
   "source": [
    "# there are many common set methods which can be referred to on the official documentation"
   ]
  },
  {
   "cell_type": "raw",
   "id": "571c89f8-c0c1-46aa-b9a5-4bd2ca6ca817",
   "metadata": {},
   "source": [
    "All of the logical set operation have in-place counterparts, which enable you to replace the contents of the set on the left side of the operation with the result"
   ]
  },
  {
   "cell_type": "code",
   "execution_count": 100,
   "id": "f46568f4-fb29-4f5c-9283-6065da8868aa",
   "metadata": {},
   "outputs": [],
   "source": [
    "c = a.copy()"
   ]
  },
  {
   "cell_type": "code",
   "execution_count": 101,
   "id": "75d77b5f-8336-4c0b-b498-bd886afb5ddf",
   "metadata": {},
   "outputs": [
    {
     "data": {
      "text/plain": [
       "{1, 2, 3, 4, 5}"
      ]
     },
     "execution_count": 101,
     "metadata": {},
     "output_type": "execute_result"
    }
   ],
   "source": [
    "c"
   ]
  },
  {
   "cell_type": "code",
   "execution_count": 102,
   "id": "ef7c9920-ec2e-4585-b787-eb783a87374c",
   "metadata": {},
   "outputs": [],
   "source": [
    "c |= b"
   ]
  },
  {
   "cell_type": "code",
   "execution_count": 103,
   "id": "f53d1bcd-aa9d-4804-9e5d-e12911d165be",
   "metadata": {},
   "outputs": [
    {
     "data": {
      "text/plain": [
       "{1, 2, 3, 4, 5, 6, 7, 8}"
      ]
     },
     "execution_count": 103,
     "metadata": {},
     "output_type": "execute_result"
    }
   ],
   "source": [
    "c"
   ]
  },
  {
   "cell_type": "code",
   "execution_count": 104,
   "id": "59908b3e-5ac8-457b-a4f6-f479422aa1b6",
   "metadata": {},
   "outputs": [],
   "source": [
    "d = a.copy()"
   ]
  },
  {
   "cell_type": "code",
   "execution_count": 105,
   "id": "380dadc4-6efb-4787-9d63-56d90dca3a0b",
   "metadata": {},
   "outputs": [],
   "source": [
    "d &= b"
   ]
  },
  {
   "cell_type": "code",
   "execution_count": 106,
   "id": "47144a40-04df-4043-9878-52bf87c3cfda",
   "metadata": {},
   "outputs": [
    {
     "data": {
      "text/plain": [
       "{3, 4, 5}"
      ]
     },
     "execution_count": 106,
     "metadata": {},
     "output_type": "execute_result"
    }
   ],
   "source": [
    "d"
   ]
  },
  {
   "cell_type": "raw",
   "id": "8d9727c0-557d-4947-ba23-e348053164be",
   "metadata": {},
   "source": [
    "Set are also generally immutable and must be hashable (which means on calling a hash on a value does not raise an exception) "
   ]
  },
  {
   "cell_type": "code",
   "execution_count": null,
   "id": "4d463c71-a6af-4a5e-8288-6de1e8137cc4",
   "metadata": {},
   "outputs": [],
   "source": []
  }
 ],
 "metadata": {
  "kernelspec": {
   "display_name": "Python [conda env:base] *",
   "language": "python",
   "name": "conda-base-py"
  },
  "language_info": {
   "codemirror_mode": {
    "name": "ipython",
    "version": 3
   },
   "file_extension": ".py",
   "mimetype": "text/x-python",
   "name": "python",
   "nbconvert_exporter": "python",
   "pygments_lexer": "ipython3",
   "version": "3.12.7"
  }
 },
 "nbformat": 4,
 "nbformat_minor": 5
}
