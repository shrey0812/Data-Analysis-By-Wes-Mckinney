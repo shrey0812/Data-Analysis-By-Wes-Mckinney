{
 "cells": [
  {
   "cell_type": "markdown",
   "id": "846a732e-2ec2-4fd6-8e7f-b9639c554a86",
   "metadata": {},
   "source": [
    "# List, Set and Dict Comprehensions"
   ]
  },
  {
   "cell_type": "raw",
   "id": "2a25e734-e680-43b0-b05d-6e7abe3b39d3",
   "metadata": {},
   "source": [
    "List comprehensions allow you to concisely form a new list by filtering the elements of a collection, transforming the elements passing the filter in one concise expression\n",
    "\n",
    "[expr for value in collection if condition]"
   ]
  },
  {
   "cell_type": "code",
   "execution_count": 1,
   "id": "babdba80-2b1e-4d4a-a944-ad30ac36a85d",
   "metadata": {},
   "outputs": [
    {
     "data": {
      "text/plain": [
       "['BAT', 'CAR', 'DOVE', 'PYTHON']"
      ]
     },
     "execution_count": 1,
     "metadata": {},
     "output_type": "execute_result"
    }
   ],
   "source": [
    "strings = ['a','as','bat','car','dove','python']\n",
    "\n",
    "[x.upper() for x in strings if len(x)>2]"
   ]
  },
  {
   "cell_type": "raw",
   "id": "3dc3ee0d-0881-4b01-8ad6-d37c9aebe8ba",
   "metadata": {},
   "source": [
    "dict comprehension ==\n",
    "\n",
    "{key-expr: value for value in collection if condition} "
   ]
  },
  {
   "cell_type": "raw",
   "id": "ed1ea322-9647-49a4-898f-5eb659b3da63",
   "metadata": {},
   "source": [
    "set comprehension == \n",
    "\n",
    "{expr for value in collection if condition}"
   ]
  },
  {
   "cell_type": "code",
   "execution_count": 2,
   "id": "fd189285-f5ae-4641-88d3-72597939bcbf",
   "metadata": {},
   "outputs": [],
   "source": [
    "unique_length = {len(x) for x in strings}"
   ]
  },
  {
   "cell_type": "code",
   "execution_count": 3,
   "id": "ac1b5da5-8ee8-428f-8ae4-058618d51408",
   "metadata": {},
   "outputs": [
    {
     "data": {
      "text/plain": [
       "{1, 2, 3, 4, 6}"
      ]
     },
     "execution_count": 3,
     "metadata": {},
     "output_type": "execute_result"
    }
   ],
   "source": [
    "unique_length"
   ]
  },
  {
   "cell_type": "code",
   "execution_count": 4,
   "id": "7ceaf827-1fd2-40a2-84dc-8bcc0ddfb82a",
   "metadata": {},
   "outputs": [
    {
     "data": {
      "text/plain": [
       "{1, 2, 3, 4, 6}"
      ]
     },
     "execution_count": 4,
     "metadata": {},
     "output_type": "execute_result"
    }
   ],
   "source": [
    "# express using the map function\n",
    "\n",
    "set(map(len, strings))"
   ]
  },
  {
   "cell_type": "code",
   "execution_count": 5,
   "id": "5530f19a-cefa-477d-9037-55c1eae9c3cf",
   "metadata": {},
   "outputs": [],
   "source": [
    "loc_mapping = {val : index for index, val in enumerate(strings)}"
   ]
  },
  {
   "cell_type": "code",
   "execution_count": 6,
   "id": "e09177d7-92f5-468d-a05a-b7254dad2f76",
   "metadata": {},
   "outputs": [
    {
     "data": {
      "text/plain": [
       "{'a': 0, 'as': 1, 'bat': 2, 'car': 3, 'dove': 4, 'python': 5}"
      ]
     },
     "execution_count": 6,
     "metadata": {},
     "output_type": "execute_result"
    }
   ],
   "source": [
    "loc_mapping"
   ]
  },
  {
   "cell_type": "code",
   "execution_count": 9,
   "id": "eca2b189-e2d8-4a31-9f93-0c354bde798f",
   "metadata": {},
   "outputs": [
    {
     "data": {
      "text/plain": [
       "['Haaarry', 'Emilaaay', 'Natallia']"
      ]
     },
     "execution_count": 9,
     "metadata": {},
     "output_type": "execute_result"
    }
   ],
   "source": [
    "# Nested list comprehension\n",
    "\n",
    "# take the example from just how we seperated the genres and the countries in the kaggle data set\n",
    "\n",
    "all_data = [['John','Haaarry','Emilaaay','Michael'],['Maria','Juan','Javier','Natallia']]\n",
    "\n",
    "result = [name for names in all_data for name in names if name.count('a')>2]\n",
    "result\n",
    "\n",
    "# the for part of the list comprehension are arranged according to their order of nesting, and any filter is put at the end as before "
   ]
  },
  {
   "cell_type": "code",
   "execution_count": 10,
   "id": "1cb05557-d6bc-4ffb-b11e-2b2f99a4e717",
   "metadata": {},
   "outputs": [],
   "source": [
    "some_tuple = ((1,2,3),(4,5,6),(7,8,9))\n",
    "flatten  = [x for tup in some_tuple for x in tup if x%2==0]"
   ]
  },
  {
   "cell_type": "code",
   "execution_count": 11,
   "id": "b6ebf217-35db-4e91-b30d-d91bea6126a3",
   "metadata": {},
   "outputs": [
    {
     "data": {
      "text/plain": [
       "[2, 4, 6, 8]"
      ]
     },
     "execution_count": 11,
     "metadata": {},
     "output_type": "execute_result"
    }
   ],
   "source": [
    "flatten"
   ]
  },
  {
   "cell_type": "code",
   "execution_count": 12,
   "id": "c46d5364-353f-45a8-bcdf-c291003074f1",
   "metadata": {},
   "outputs": [
    {
     "data": {
      "text/plain": [
       "[[1, 2, 3], [4, 5, 6], [7, 8, 9]]"
      ]
     },
     "execution_count": 12,
     "metadata": {},
     "output_type": "execute_result"
    }
   ],
   "source": [
    "[[x for x in tup] for tup in some_tuple]"
   ]
  },
  {
   "cell_type": "markdown",
   "id": "ba97f17d-71d6-4fde-a464-28a2329a242d",
   "metadata": {},
   "source": [
    "# Functions"
   ]
  },
  {
   "cell_type": "raw",
   "id": "106b108b-a518-4fd0-aa4c-16af9a3f06e1",
   "metadata": {},
   "source": [
    "If you anticipate needing to repeat the same code more than once, it may be worth writing a reusable function\n",
    "It also makes the code more readable"
   ]
  },
  {
   "cell_type": "code",
   "execution_count": 13,
   "id": "f4a4dbb8-dba2-42f6-b16e-f3673211e08b",
   "metadata": {},
   "outputs": [],
   "source": [
    "def my_function(x,y,z = 1.5):\n",
    "    if z>1:\n",
    "        return z * (x+y)\n",
    "    else:\n",
    "        return z/(x+y)"
   ]
  },
  {
   "cell_type": "code",
   "execution_count": 14,
   "id": "9652a9cc-0ef3-4a40-913a-57138ae715ef",
   "metadata": {},
   "outputs": [
    {
     "data": {
      "text/plain": [
       "4.5"
      ]
     },
     "execution_count": 14,
     "metadata": {},
     "output_type": "execute_result"
    }
   ],
   "source": [
    "my_function(1,2)"
   ]
  },
  {
   "cell_type": "code",
   "execution_count": 15,
   "id": "e577a067-4e84-4823-a4c8-53b2c5e32fbb",
   "metadata": {},
   "outputs": [
    {
     "data": {
      "text/plain": [
       "4.5"
      ]
     },
     "execution_count": 15,
     "metadata": {},
     "output_type": "execute_result"
    }
   ],
   "source": [
    "result = my_function(1,2)\n",
    "result"
   ]
  },
  {
   "cell_type": "code",
   "execution_count": 16,
   "id": "2c6f4ba4-b713-45c0-89a0-ec1c20e39955",
   "metadata": {},
   "outputs": [],
   "source": [
    "# there is no issue with having multiple return statements \n",
    "\n",
    "# if python reaches the end of the function without return statement it returns None\n",
    "\n",
    "def function_without_return(x):\n",
    "    print(x)"
   ]
  },
  {
   "cell_type": "code",
   "execution_count": 17,
   "id": "95bc6caf-9618-44d4-bc54-79287cc448e0",
   "metadata": {},
   "outputs": [
    {
     "name": "stdout",
     "output_type": "stream",
     "text": [
      "hello\n"
     ]
    }
   ],
   "source": [
    "function_without_return(\"hello\")"
   ]
  },
  {
   "cell_type": "code",
   "execution_count": 18,
   "id": "ec0e6f69-71e1-4b8f-962a-49943d19a244",
   "metadata": {},
   "outputs": [
    {
     "name": "stdout",
     "output_type": "stream",
     "text": [
      "hello\n"
     ]
    }
   ],
   "source": [
    "result = function_without_return(\"hello\")\n",
    "result"
   ]
  },
  {
   "cell_type": "code",
   "execution_count": 19,
   "id": "4e5ddb69-f292-4edb-9d42-79f59992e266",
   "metadata": {},
   "outputs": [
    {
     "name": "stdout",
     "output_type": "stream",
     "text": [
      "None\n"
     ]
    }
   ],
   "source": [
    "print(result)"
   ]
  },
  {
   "cell_type": "code",
   "execution_count": 20,
   "id": "17b4d2d0-07aa-424d-8eaf-80767c6af0df",
   "metadata": {},
   "outputs": [
    {
     "data": {
      "text/plain": [
       "0.06363636363636363"
      ]
     },
     "execution_count": 20,
     "metadata": {},
     "output_type": "execute_result"
    }
   ],
   "source": [
    "# each function can have positional arguments and keyword arguments. \n",
    "# in my_function, x and y are positional arguments and z is a keyword argument\n",
    "\n",
    "my_function(5,6, z = 0.7)"
   ]
  },
  {
   "cell_type": "code",
   "execution_count": 21,
   "id": "719cc54f-3d04-4fd7-883a-968f169192bb",
   "metadata": {},
   "outputs": [
    {
     "data": {
      "text/plain": [
       "35.49"
      ]
     },
     "execution_count": 21,
     "metadata": {},
     "output_type": "execute_result"
    }
   ],
   "source": [
    "my_function(3.14,7,3.5)"
   ]
  },
  {
   "cell_type": "code",
   "execution_count": 22,
   "id": "2a7bce8d-cc11-4357-8070-7a3ca59c18f5",
   "metadata": {},
   "outputs": [
    {
     "data": {
      "text/plain": [
       "45.0"
      ]
     },
     "execution_count": 22,
     "metadata": {},
     "output_type": "execute_result"
    }
   ],
   "source": [
    "my_function(10,20)"
   ]
  },
  {
   "cell_type": "raw",
   "id": "aa7ba688-49de-417f-81c7-9d86dc33a762",
   "metadata": {},
   "source": [
    "The main restriction to function arguments is that the keyword argument must follow a positional argument.\n",
    "You can specify keyword argument in any order, so you just have to remember the name, not the order in which they are."
   ]
  },
  {
   "cell_type": "markdown",
   "id": "7f198d80-e917-4a4a-ba92-f7fd7994d804",
   "metadata": {},
   "source": [
    "# NameSpaces, Scope and Local function"
   ]
  },
  {
   "cell_type": "raw",
   "id": "680b033e-b848-400f-a874-cfdec540506e",
   "metadata": {},
   "source": [
    "An alternative and more descriptive name describing a variable scope in Python is a namespace.\n",
    "Any variable that are assigned within a function by default are assigned to a local namespace.\n",
    "The local namespace is created when the function is called and immediately populated by the function arguments and then is destroyed after the function is finished."
   ]
  },
  {
   "cell_type": "code",
   "execution_count": 29,
   "id": "1facc5af-d282-483e-8a88-7e12672dede1",
   "metadata": {},
   "outputs": [],
   "source": [
    "def func():\n",
    "    a = []\n",
    "    for i in range(5):\n",
    "        a.append(i)\n",
    "    print(a)\n",
    "\n",
    "# a cannot be accessed outside the function"
   ]
  },
  {
   "cell_type": "code",
   "execution_count": 30,
   "id": "040275ad-41b9-4995-9abb-6a0ae39f633e",
   "metadata": {},
   "outputs": [
    {
     "name": "stdout",
     "output_type": "stream",
     "text": [
      "[0, 1, 2, 3, 4]\n"
     ]
    }
   ],
   "source": [
    "func()"
   ]
  },
  {
   "cell_type": "code",
   "execution_count": 36,
   "id": "d674b6a5-9b09-46d5-bb4e-690c1bdd6e6f",
   "metadata": {},
   "outputs": [],
   "source": [
    "a = []\n",
    "def func():\n",
    "    for i in range(5):\n",
    "        a.append(i)\n",
    "# each function call will modify the list"
   ]
  },
  {
   "cell_type": "code",
   "execution_count": 32,
   "id": "541bb2bc-9440-472d-87f7-98b30a9809bf",
   "metadata": {},
   "outputs": [],
   "source": [
    "func()"
   ]
  },
  {
   "cell_type": "code",
   "execution_count": 33,
   "id": "9005551b-6098-47ef-be0a-fce8fbd170c2",
   "metadata": {},
   "outputs": [
    {
     "data": {
      "text/plain": [
       "[0, 1, 2, 3, 4]"
      ]
     },
     "execution_count": 33,
     "metadata": {},
     "output_type": "execute_result"
    }
   ],
   "source": [
    "a"
   ]
  },
  {
   "cell_type": "code",
   "execution_count": 34,
   "id": "8b5e2ec4-62a0-465e-b208-231d554ccc85",
   "metadata": {},
   "outputs": [],
   "source": [
    "func()"
   ]
  },
  {
   "cell_type": "code",
   "execution_count": 35,
   "id": "1cb53e14-1436-44e8-8ad5-c85a976c2817",
   "metadata": {},
   "outputs": [
    {
     "data": {
      "text/plain": [
       "[0, 1, 2, 3, 4, 0, 1, 2, 3, 4]"
      ]
     },
     "execution_count": 35,
     "metadata": {},
     "output_type": "execute_result"
    }
   ],
   "source": [
    "a"
   ]
  },
  {
   "cell_type": "raw",
   "id": "b1ef2f40-63b4-478c-91b9-4adaf499982e",
   "metadata": {},
   "source": [
    "Assigning variables outside of the function's scope is possible, but those variable must be declared explicitly either using a global or nonlocal keyword.\n",
    "nonlocal allows a function to modify variable defined in a higher level scope that is not global"
   ]
  },
  {
   "cell_type": "code",
   "execution_count": null,
   "id": "dbaf8095-781a-44ae-ad2b-8165eb1c745a",
   "metadata": {},
   "outputs": [],
   "source": []
  }
 ],
 "metadata": {
  "kernelspec": {
   "display_name": "Python [conda env:base] *",
   "language": "python",
   "name": "conda-base-py"
  },
  "language_info": {
   "codemirror_mode": {
    "name": "ipython",
    "version": 3
   },
   "file_extension": ".py",
   "mimetype": "text/x-python",
   "name": "python",
   "nbconvert_exporter": "python",
   "pygments_lexer": "ipython3",
   "version": "3.12.7"
  }
 },
 "nbformat": 4,
 "nbformat_minor": 5
}
