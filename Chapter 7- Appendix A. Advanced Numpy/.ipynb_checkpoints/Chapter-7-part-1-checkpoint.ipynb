{
 "cells": [
  {
   "cell_type": "markdown",
   "id": "558ddd60-0fe3-4c6e-9ecc-7314b77d29fe",
   "metadata": {},
   "source": [
    "### ***ndarray Object Internals***"
   ]
  },
  {
   "cell_type": "markdown",
   "id": "60b139be-fba8-4203-9b1c-2e5671d27f50",
   "metadata": {},
   "source": [
    "1. **ndarray provides a way to interpret a block of homogenously typed data as a multidimensional array object**. \n",
    "2. **Part of what makes ndarray flexible is that every array object is a strided view on a block of data**.\n",
    "3. **More precisely, the ndarray internally consists of the following**:\n",
    "    4. *A pointer to data—that is, a block of data in RAM or in a memorymapped file*\n",
    "    5. *The data type or dtype, describing fixed-size value cells in the array*\n",
    "    6. *A tuple indicating the array’s shape*\n",
    "    7. *A tuple of strides, integers indicating the number of bytes to “step” in order to advance one element along a dimension*"
   ]
  },
  {
   "cell_type": "code",
   "execution_count": 1,
   "id": "7683bd46-6c2f-4506-8577-2521602a1ee4",
   "metadata": {},
   "outputs": [],
   "source": [
    "import numpy as np"
   ]
  },
  {
   "cell_type": "code",
   "execution_count": 2,
   "id": "a23958f7-54a6-47bf-8ced-c8f641492281",
   "metadata": {},
   "outputs": [
    {
     "data": {
      "text/plain": [
       "(10, 5)"
      ]
     },
     "execution_count": 2,
     "metadata": {},
     "output_type": "execute_result"
    }
   ],
   "source": [
    "np.ones((10,5)).shape"
   ]
  },
  {
   "cell_type": "code",
   "execution_count": 3,
   "id": "17bded1f-1997-4a6a-b689-1075c67b1c43",
   "metadata": {},
   "outputs": [
    {
     "data": {
      "text/plain": [
       "(160, 40, 8)"
      ]
     },
     "execution_count": 3,
     "metadata": {},
     "output_type": "execute_result"
    }
   ],
   "source": [
    "np.ones((3,4,5),dtype=np.float64).strides"
   ]
  },
  {
   "cell_type": "markdown",
   "id": "811fb6ac-18a8-4245-9f37-00354b922f86",
   "metadata": {},
   "source": [
    "*Strides can even negative which can allow an array to move backward in memory.*\n",
    "\n",
    "eg. obj[[::-1]]"
   ]
  },
  {
   "cell_type": "markdown",
   "id": "2131012c-c4cc-4f9c-ac09-b82b88dd6dcd",
   "metadata": {},
   "source": [
    "#### ***Numpy dtype heirarchy*** "
   ]
  },
  {
   "cell_type": "code",
   "execution_count": 4,
   "id": "a61d5e9c-19b5-486b-b043-f7b7ea2eca0b",
   "metadata": {},
   "outputs": [],
   "source": [
    "# the dtypes have superclasses np.integer and np.floating which can be used in conjunction with the np.issubdtype function\n",
    "ints = np.ones(10,dtype=np.uint16)"
   ]
  },
  {
   "cell_type": "code",
   "execution_count": 5,
   "id": "0a517dd5-054b-4b87-9ca5-b4727c7bd8fb",
   "metadata": {},
   "outputs": [],
   "source": [
    "floats = np.ones(10,dtype=np.float32)"
   ]
  },
  {
   "cell_type": "code",
   "execution_count": 6,
   "id": "1e4935b0-4184-4e50-85b5-009e94d653eb",
   "metadata": {},
   "outputs": [
    {
     "data": {
      "text/plain": [
       "True"
      ]
     },
     "execution_count": 6,
     "metadata": {},
     "output_type": "execute_result"
    }
   ],
   "source": [
    "np.issubdtype(ints.dtype,np.integer)"
   ]
  },
  {
   "cell_type": "code",
   "execution_count": 7,
   "id": "5474d17c-c7ca-45ef-8a35-422e74a8c450",
   "metadata": {},
   "outputs": [
    {
     "data": {
      "text/plain": [
       "True"
      ]
     },
     "execution_count": 7,
     "metadata": {},
     "output_type": "execute_result"
    }
   ],
   "source": [
    "np.issubdtype(floats.dtype,np.floating)"
   ]
  },
  {
   "cell_type": "code",
   "execution_count": 8,
   "id": "39549dd4-e2c2-4334-9ab3-57fe551a77cf",
   "metadata": {},
   "outputs": [
    {
     "data": {
      "text/plain": [
       "[numpy.float64,\n",
       " numpy.floating,\n",
       " numpy.inexact,\n",
       " numpy.number,\n",
       " numpy.generic,\n",
       " float,\n",
       " object]"
      ]
     },
     "execution_count": 8,
     "metadata": {},
     "output_type": "execute_result"
    }
   ],
   "source": [
    "# you can also see all of the parent classes of a specific dtype by calling the type's mro method:\n",
    "np.float64.mro()"
   ]
  },
  {
   "cell_type": "code",
   "execution_count": 9,
   "id": "e4828831-500b-4895-9a44-fa0eeb87f453",
   "metadata": {},
   "outputs": [
    {
     "data": {
      "text/plain": [
       "True"
      ]
     },
     "execution_count": 9,
     "metadata": {},
     "output_type": "execute_result"
    }
   ],
   "source": [
    "# we also have\n",
    "np.issubdtype(ints.dtype,np.number)"
   ]
  },
  {
   "cell_type": "markdown",
   "id": "ceb77ab3-c3e0-4ff9-8f43-f50a08e306e9",
   "metadata": {},
   "source": [
    "### ***Advanced Array Manipulation***"
   ]
  },
  {
   "cell_type": "markdown",
   "id": "c542577f-d892-474e-97b7-f2341824fdf0",
   "metadata": {},
   "source": [
    "*While much of heavy lifting for data analysis is done by pandas, you may require this at some point*"
   ]
  },
  {
   "cell_type": "markdown",
   "id": "e8d80ffe-bb75-4e12-b519-1ff2311ba429",
   "metadata": {},
   "source": [
    "#### ***Reshaping array***"
   ]
  },
  {
   "cell_type": "markdown",
   "id": "d138f0a7-8d3c-4118-be18-183078182da2",
   "metadata": {},
   "source": [
    "*You can convert an array from one shape to another without copying any data.*"
   ]
  },
  {
   "cell_type": "code",
   "execution_count": 10,
   "id": "086b9521-0ad2-44bb-95c9-1f88cb59b84e",
   "metadata": {},
   "outputs": [],
   "source": [
    "arr = np.arange(8)"
   ]
  },
  {
   "cell_type": "code",
   "execution_count": 11,
   "id": "ca6c1b1d-38f9-4d74-8449-46c857401948",
   "metadata": {},
   "outputs": [
    {
     "data": {
      "text/plain": [
       "array([0, 1, 2, 3, 4, 5, 6, 7])"
      ]
     },
     "execution_count": 11,
     "metadata": {},
     "output_type": "execute_result"
    }
   ],
   "source": [
    "arr"
   ]
  },
  {
   "cell_type": "code",
   "execution_count": 12,
   "id": "6ab92825-8c27-45b3-b7a3-9300f159f723",
   "metadata": {},
   "outputs": [
    {
     "data": {
      "text/plain": [
       "array([[0, 1],\n",
       "       [2, 3],\n",
       "       [4, 5],\n",
       "       [6, 7]])"
      ]
     },
     "execution_count": 12,
     "metadata": {},
     "output_type": "execute_result"
    }
   ],
   "source": [
    "arr.reshape((4,2))"
   ]
  },
  {
   "cell_type": "code",
   "execution_count": 13,
   "id": "e3932ca0-0e57-466a-931b-3c67d4914b25",
   "metadata": {},
   "outputs": [
    {
     "data": {
      "text/plain": [
       "array([[0, 1, 2, 3],\n",
       "       [4, 5, 6, 7]])"
      ]
     },
     "execution_count": 13,
     "metadata": {},
     "output_type": "execute_result"
    }
   ],
   "source": [
    "# a multidimensional array can also be reshaped\n",
    "arr.reshape((4,2)).reshape((2,4))"
   ]
  },
  {
   "cell_type": "code",
   "execution_count": 14,
   "id": "556735ac-b64d-4e2d-b2f8-3ad0487d4613",
   "metadata": {},
   "outputs": [],
   "source": [
    "# one of the value can be -1, in which case the value used for that dimension  will be inferred from the data\n",
    "arr = np.arange(15)\n"
   ]
  },
  {
   "cell_type": "code",
   "execution_count": 15,
   "id": "1466aced-42d1-48be-bf5f-dee257acd5a3",
   "metadata": {},
   "outputs": [
    {
     "data": {
      "text/plain": [
       "array([ 0,  1,  2,  3,  4,  5,  6,  7,  8,  9, 10, 11, 12, 13, 14])"
      ]
     },
     "execution_count": 15,
     "metadata": {},
     "output_type": "execute_result"
    }
   ],
   "source": [
    "arr"
   ]
  },
  {
   "cell_type": "code",
   "execution_count": 16,
   "id": "c4b3770b-b9a7-4d11-ae32-fe9098c66e4c",
   "metadata": {},
   "outputs": [
    {
     "data": {
      "text/plain": [
       "array([[ 0,  1,  2],\n",
       "       [ 3,  4,  5],\n",
       "       [ 6,  7,  8],\n",
       "       [ 9, 10, 11],\n",
       "       [12, 13, 14]])"
      ]
     },
     "execution_count": 16,
     "metadata": {},
     "output_type": "execute_result"
    }
   ],
   "source": [
    "arr.reshape((5,-1))"
   ]
  },
  {
   "cell_type": "code",
   "execution_count": 17,
   "id": "745a0c45-a978-43b2-b3ba-98ecb0040894",
   "metadata": {},
   "outputs": [],
   "source": [
    "arr1 = np.arange(20)"
   ]
  },
  {
   "cell_type": "code",
   "execution_count": 18,
   "id": "ed368c09-52b8-477b-bb79-bdc0aa8dd5b4",
   "metadata": {},
   "outputs": [
    {
     "data": {
      "text/plain": [
       "array([[ 0,  1,  2,  3],\n",
       "       [ 4,  5,  6,  7],\n",
       "       [ 8,  9, 10, 11],\n",
       "       [12, 13, 14, 15],\n",
       "       [16, 17, 18, 19]])"
      ]
     },
     "execution_count": 18,
     "metadata": {},
     "output_type": "execute_result"
    }
   ],
   "source": [
    "arr1.reshape((5,-1))"
   ]
  },
  {
   "cell_type": "code",
   "execution_count": 19,
   "id": "3b5c2fd7-f3d9-43c1-a578-f28f59eab371",
   "metadata": {},
   "outputs": [],
   "source": [
    "# since an array's shape attribute is a tuple, it can be passed to reshape too:\n",
    "\n",
    "other_arr = np.ones((3,5))"
   ]
  },
  {
   "cell_type": "code",
   "execution_count": 20,
   "id": "14d9a381-32ec-46ff-b538-f9430546f7ba",
   "metadata": {},
   "outputs": [
    {
     "data": {
      "text/plain": [
       "(3, 5)"
      ]
     },
     "execution_count": 20,
     "metadata": {},
     "output_type": "execute_result"
    }
   ],
   "source": [
    "other_arr.shape"
   ]
  },
  {
   "cell_type": "code",
   "execution_count": 21,
   "id": "60834327-2988-4186-9a1b-b39765f85254",
   "metadata": {},
   "outputs": [
    {
     "data": {
      "text/plain": [
       "array([[ 0,  1,  2,  3,  4],\n",
       "       [ 5,  6,  7,  8,  9],\n",
       "       [10, 11, 12, 13, 14]])"
      ]
     },
     "execution_count": 21,
     "metadata": {},
     "output_type": "execute_result"
    }
   ],
   "source": [
    "arr.reshape(other_arr.shape)"
   ]
  },
  {
   "cell_type": "markdown",
   "id": "fe4d5822-9ea2-4f77-b244-67eecfa068d6",
   "metadata": {},
   "source": [
    "**The opposite operation to reshaping from one-dimensional to a higher dimension is typically known as flattening or raveling**"
   ]
  },
  {
   "cell_type": "code",
   "execution_count": 22,
   "id": "0e61ea1b-26e0-4f03-a53a-997d3e96fdea",
   "metadata": {},
   "outputs": [],
   "source": [
    "arr = np.arange(15).reshape((5,3))"
   ]
  },
  {
   "cell_type": "code",
   "execution_count": 23,
   "id": "8c428bbc-b74b-4d79-87e8-2a4a5c4be60d",
   "metadata": {},
   "outputs": [
    {
     "data": {
      "text/plain": [
       "array([[ 0,  1,  2],\n",
       "       [ 3,  4,  5],\n",
       "       [ 6,  7,  8],\n",
       "       [ 9, 10, 11],\n",
       "       [12, 13, 14]])"
      ]
     },
     "execution_count": 23,
     "metadata": {},
     "output_type": "execute_result"
    }
   ],
   "source": [
    "arr"
   ]
  },
  {
   "cell_type": "code",
   "execution_count": 24,
   "id": "396b18d0-6b49-4a3e-b2b8-cac2d0d9ba9f",
   "metadata": {},
   "outputs": [
    {
     "data": {
      "text/plain": [
       "array([ 0,  1,  2,  3,  4,  5,  6,  7,  8,  9, 10, 11, 12, 13, 14])"
      ]
     },
     "execution_count": 24,
     "metadata": {},
     "output_type": "execute_result"
    }
   ],
   "source": [
    "arr.ravel()"
   ]
  },
  {
   "cell_type": "raw",
   "id": "a2c31d67-1d56-45d4-ab77-b7d348d6b362",
   "metadata": {},
   "source": [
    "ravel() does not return copy of the array while flatten() returns copy of the array"
   ]
  },
  {
   "cell_type": "code",
   "execution_count": 25,
   "id": "c012d7bc-b47b-4ce7-a473-271d67d56980",
   "metadata": {},
   "outputs": [
    {
     "data": {
      "text/plain": [
       "array([ 0,  1,  2,  3,  4,  5,  6,  7,  8,  9, 10, 11, 12, 13, 14])"
      ]
     },
     "execution_count": 25,
     "metadata": {},
     "output_type": "execute_result"
    }
   ],
   "source": [
    "arr.flatten()"
   ]
  },
  {
   "cell_type": "markdown",
   "id": "5cdcd3e0-3f3d-496e-9cf6-c4de39c962f2",
   "metadata": {},
   "source": [
    "#### ***C versus FORTRAN Order***"
   ]
  },
  {
   "cell_type": "markdown",
   "id": "d09de156-0fa8-4b3f-bcbd-e462382804f2",
   "metadata": {},
   "source": [
    "*FORTRAN -- matrices are column major -- column values are stored in adjacent memory locations.*\n",
    "\n",
    "*C -- matrices are row major -- row values are stored in adjacent memory locations.*"
   ]
  },
  {
   "cell_type": "code",
   "execution_count": 26,
   "id": "5c8f58ee-81ab-46ca-8588-0191bba968ab",
   "metadata": {},
   "outputs": [],
   "source": [
    "arr = np.arange(12).reshape((3,4))"
   ]
  },
  {
   "cell_type": "code",
   "execution_count": 27,
   "id": "6173a755-75b5-4279-9fcc-6ecd25303af9",
   "metadata": {},
   "outputs": [
    {
     "data": {
      "text/plain": [
       "array([[ 0,  1,  2,  3],\n",
       "       [ 4,  5,  6,  7],\n",
       "       [ 8,  9, 10, 11]])"
      ]
     },
     "execution_count": 27,
     "metadata": {},
     "output_type": "execute_result"
    }
   ],
   "source": [
    "arr"
   ]
  },
  {
   "cell_type": "code",
   "execution_count": 28,
   "id": "26150775-11ec-4ec3-945a-53a7e612bc75",
   "metadata": {},
   "outputs": [
    {
     "data": {
      "text/plain": [
       "array([ 0,  1,  2,  3,  4,  5,  6,  7,  8,  9, 10, 11])"
      ]
     },
     "execution_count": 28,
     "metadata": {},
     "output_type": "execute_result"
    }
   ],
   "source": [
    "arr.ravel()"
   ]
  },
  {
   "cell_type": "code",
   "execution_count": 29,
   "id": "f7fa8a2a-0b1e-407f-98eb-b3ddc2b2539d",
   "metadata": {},
   "outputs": [
    {
     "data": {
      "text/plain": [
       "array([ 0,  4,  8,  1,  5,  9,  2,  6, 10,  3,  7, 11])"
      ]
     },
     "execution_count": 29,
     "metadata": {},
     "output_type": "execute_result"
    }
   ],
   "source": [
    "arr.ravel('F')"
   ]
  },
  {
   "cell_type": "markdown",
   "id": "317741c1-b93a-4478-9203-c75e96c9c8d0",
   "metadata": {},
   "source": [
    "#### ***Concatenation and Splitting Array***"
   ]
  },
  {
   "cell_type": "markdown",
   "id": "e2910c00-ee5c-4638-936e-c429127e18f5",
   "metadata": {},
   "source": [
    "*numpy.concatenate takes a sequence of arrays and joins them together in order along the input axis:*"
   ]
  },
  {
   "cell_type": "code",
   "execution_count": 30,
   "id": "c243f7bf-67f1-4c20-8f62-3e74d3eebb88",
   "metadata": {},
   "outputs": [],
   "source": [
    "arr1 = np.array([[1,2,3],[4,5,6]])"
   ]
  },
  {
   "cell_type": "code",
   "execution_count": 31,
   "id": "b7e473d9-c369-448b-a31c-ea02a5edfdf2",
   "metadata": {},
   "outputs": [],
   "source": [
    "arr2 = np.array([[7,8,9],[10,11,12]])"
   ]
  },
  {
   "cell_type": "code",
   "execution_count": 32,
   "id": "a24b868d-7ea8-4a7c-9c19-9d1e39b01fe2",
   "metadata": {},
   "outputs": [
    {
     "data": {
      "text/plain": [
       "array([[ 1,  2,  3,  7,  8,  9],\n",
       "       [ 4,  5,  6, 10, 11, 12]])"
      ]
     },
     "execution_count": 32,
     "metadata": {},
     "output_type": "execute_result"
    }
   ],
   "source": [
    "np.concatenate([arr1,arr2],axis=1)"
   ]
  },
  {
   "cell_type": "code",
   "execution_count": 33,
   "id": "e38e3c6b-ee47-47a9-81fa-b9f7ceaa94cf",
   "metadata": {},
   "outputs": [
    {
     "data": {
      "text/plain": [
       "array([[ 1,  2,  3],\n",
       "       [ 4,  5,  6],\n",
       "       [ 7,  8,  9],\n",
       "       [10, 11, 12]])"
      ]
     },
     "execution_count": 33,
     "metadata": {},
     "output_type": "execute_result"
    }
   ],
   "source": [
    "np.concatenate([arr1,arr2],axis=0)"
   ]
  },
  {
   "cell_type": "code",
   "execution_count": 34,
   "id": "5b87d3b3-d139-4582-b84c-454fbca777b7",
   "metadata": {},
   "outputs": [
    {
     "data": {
      "text/plain": [
       "array([[ 1,  2,  3],\n",
       "       [ 4,  5,  6],\n",
       "       [ 7,  8,  9],\n",
       "       [10, 11, 12]])"
      ]
     },
     "execution_count": 34,
     "metadata": {},
     "output_type": "execute_result"
    }
   ],
   "source": [
    "np.vstack((arr1,arr2))"
   ]
  },
  {
   "cell_type": "code",
   "execution_count": 35,
   "id": "996f3ab7-f7f8-4823-9faa-9812d4217dcd",
   "metadata": {},
   "outputs": [
    {
     "data": {
      "text/plain": [
       "array([[ 1,  2,  3,  7,  8,  9],\n",
       "       [ 4,  5,  6, 10, 11, 12]])"
      ]
     },
     "execution_count": 35,
     "metadata": {},
     "output_type": "execute_result"
    }
   ],
   "source": [
    "np.hstack((arr1,arr2))"
   ]
  },
  {
   "cell_type": "markdown",
   "id": "5d6cd506-6a06-4ba0-9993-803a8d4084ec",
   "metadata": {},
   "source": [
    "***split, on the other hand, slices apart an array into multiple arrays along an axis:***"
   ]
  },
  {
   "cell_type": "code",
   "execution_count": 36,
   "id": "641a30d3-45dd-4aca-827a-22ddd7fc588f",
   "metadata": {},
   "outputs": [],
   "source": [
    "arr = np.random.randn(5,2)"
   ]
  },
  {
   "cell_type": "code",
   "execution_count": 37,
   "id": "3fd73197-aa1b-44ff-9568-d09dfde20216",
   "metadata": {},
   "outputs": [
    {
     "data": {
      "text/plain": [
       "array([[ 0.62759792,  0.81979715],\n",
       "       [ 0.30847778,  0.53597999],\n",
       "       [ 0.78667828,  1.22697069],\n",
       "       [-1.97315729,  1.78041135],\n",
       "       [ 0.73235149, -0.26197522]])"
      ]
     },
     "execution_count": 37,
     "metadata": {},
     "output_type": "execute_result"
    }
   ],
   "source": [
    "arr"
   ]
  },
  {
   "cell_type": "code",
   "execution_count": 38,
   "id": "a19a3f48-1264-4ab5-a9aa-5574e8c4a728",
   "metadata": {},
   "outputs": [],
   "source": [
    "first,second,third = np.split(arr,[1,3]) # the value [1,3] indicates the indices at which to split the array into pieces "
   ]
  },
  {
   "cell_type": "code",
   "execution_count": 39,
   "id": "f721633a-b067-4e3b-86c8-73d7d32a9346",
   "metadata": {},
   "outputs": [
    {
     "data": {
      "text/plain": [
       "array([[0.62759792, 0.81979715]])"
      ]
     },
     "execution_count": 39,
     "metadata": {},
     "output_type": "execute_result"
    }
   ],
   "source": [
    "first"
   ]
  },
  {
   "cell_type": "code",
   "execution_count": 40,
   "id": "aae9361c-fc3d-4423-9724-2c3d9656dd28",
   "metadata": {},
   "outputs": [
    {
     "data": {
      "text/plain": [
       "array([[0.30847778, 0.53597999],\n",
       "       [0.78667828, 1.22697069]])"
      ]
     },
     "execution_count": 40,
     "metadata": {},
     "output_type": "execute_result"
    }
   ],
   "source": [
    "second"
   ]
  },
  {
   "cell_type": "code",
   "execution_count": 41,
   "id": "e0f82c11-7319-4428-a7f0-f4075f1b029a",
   "metadata": {},
   "outputs": [
    {
     "data": {
      "text/plain": [
       "array([[-1.97315729,  1.78041135],\n",
       "       [ 0.73235149, -0.26197522]])"
      ]
     },
     "execution_count": 41,
     "metadata": {},
     "output_type": "execute_result"
    }
   ],
   "source": [
    "third"
   ]
  },
  {
   "cell_type": "markdown",
   "id": "6b29e130-6421-48ae-807c-ff8682a6be41",
   "metadata": {},
   "source": [
    "#### ***Stacking Helpers: r_ and c_***"
   ]
  },
  {
   "cell_type": "code",
   "execution_count": 42,
   "id": "e413ba08-3d08-47f1-aa9f-e83e3d0d25cf",
   "metadata": {},
   "outputs": [],
   "source": [
    "arr = np.arange(6)"
   ]
  },
  {
   "cell_type": "code",
   "execution_count": 43,
   "id": "b42425c0-1d1f-4532-8794-47842f3b06f7",
   "metadata": {},
   "outputs": [],
   "source": [
    "arr1 = arr.reshape((3,2))"
   ]
  },
  {
   "cell_type": "code",
   "execution_count": 44,
   "id": "64c4ddfd-affa-4350-8dad-baa83dcaa82d",
   "metadata": {},
   "outputs": [],
   "source": [
    "arr2 = np.random.randn(3,2)"
   ]
  },
  {
   "cell_type": "code",
   "execution_count": 45,
   "id": "5a4ca0f3-7630-4991-b6e0-f1b1c813f4ce",
   "metadata": {},
   "outputs": [
    {
     "data": {
      "text/plain": [
       "array([[ 0.        ,  1.        ],\n",
       "       [ 2.        ,  3.        ],\n",
       "       [ 4.        ,  5.        ],\n",
       "       [ 0.23669321,  0.62308946],\n",
       "       [-1.38531346, -0.86860088],\n",
       "       [ 0.23018646, -2.37609683]])"
      ]
     },
     "execution_count": 45,
     "metadata": {},
     "output_type": "execute_result"
    }
   ],
   "source": [
    "np.r_[arr1,arr2]"
   ]
  },
  {
   "cell_type": "code",
   "execution_count": 46,
   "id": "c5c08051-db05-4a50-9963-e5051c925b99",
   "metadata": {},
   "outputs": [
    {
     "data": {
      "text/plain": [
       "array([[ 0.        ,  1.        ,  0.        ],\n",
       "       [ 2.        ,  3.        ,  1.        ],\n",
       "       [ 4.        ,  5.        ,  2.        ],\n",
       "       [ 0.23669321,  0.62308946,  3.        ],\n",
       "       [-1.38531346, -0.86860088,  4.        ],\n",
       "       [ 0.23018646, -2.37609683,  5.        ]])"
      ]
     },
     "execution_count": 46,
     "metadata": {},
     "output_type": "execute_result"
    }
   ],
   "source": [
    "np.c_[np.r_[arr1,arr2],arr]"
   ]
  },
  {
   "cell_type": "code",
   "execution_count": 47,
   "id": "b325c39a-cb92-4a66-9ad5-a4ec9216268d",
   "metadata": {},
   "outputs": [
    {
     "data": {
      "text/plain": [
       "array([[ 0.        ,  1.        ,  0.23669321,  0.62308946],\n",
       "       [ 2.        ,  3.        , -1.38531346, -0.86860088],\n",
       "       [ 4.        ,  5.        ,  0.23018646, -2.37609683]])"
      ]
     },
     "execution_count": 47,
     "metadata": {},
     "output_type": "execute_result"
    }
   ],
   "source": [
    "np.c_[arr1,arr2]"
   ]
  },
  {
   "cell_type": "code",
   "execution_count": 48,
   "id": "6ba88c6a-3de9-4bb9-91a4-9f41dea5914c",
   "metadata": {},
   "outputs": [
    {
     "data": {
      "text/plain": [
       "array([[  1, -10],\n",
       "       [  2,  -9],\n",
       "       [  3,  -8],\n",
       "       [  4,  -7],\n",
       "       [  5,  -6]])"
      ]
     },
     "execution_count": 48,
     "metadata": {},
     "output_type": "execute_result"
    }
   ],
   "source": [
    "np.c_[1:6,-10:-5]"
   ]
  },
  {
   "cell_type": "markdown",
   "id": "a235454e-66ba-4d2e-a39d-8851015c2a8d",
   "metadata": {},
   "source": [
    "#### Repeating Elements: tile and repeat"
   ]
  },
  {
   "cell_type": "markdown",
   "id": "50b38fe8-4213-44d4-a157-95ea7cc10801",
   "metadata": {},
   "source": [
    "*Two useful tools for repeating and replicating arrays to produce larger arrays are the **repeat** and **tile** functions.*\n",
    "\n",
    "***repeat** replicates each element in an array some number of times, producing a large array.*\n",
    "\n",
    "***tile**, is a shortcut for stacking copies of an array along an axis.*"
   ]
  },
  {
   "cell_type": "code",
   "execution_count": 49,
   "id": "59f32f4d-aeb3-449f-b2e2-910c9232434c",
   "metadata": {},
   "outputs": [],
   "source": [
    "arr = np.arange(3)"
   ]
  },
  {
   "cell_type": "code",
   "execution_count": 50,
   "id": "f66b05af-7925-4bac-aa7e-281b1e4e3fcc",
   "metadata": {},
   "outputs": [
    {
     "data": {
      "text/plain": [
       "array([0, 1, 2])"
      ]
     },
     "execution_count": 50,
     "metadata": {},
     "output_type": "execute_result"
    }
   ],
   "source": [
    "arr"
   ]
  },
  {
   "cell_type": "code",
   "execution_count": 51,
   "id": "90576d84-914c-4dd2-b460-e602b96c39b1",
   "metadata": {},
   "outputs": [
    {
     "data": {
      "text/plain": [
       "array([0, 0, 0, 1, 1, 1, 2, 2, 2])"
      ]
     },
     "execution_count": 51,
     "metadata": {},
     "output_type": "execute_result"
    }
   ],
   "source": [
    "arr.repeat(3)"
   ]
  },
  {
   "cell_type": "code",
   "execution_count": 52,
   "id": "7bfd5b2e-a2f2-4173-b8ad-e9ae1fd68b12",
   "metadata": {},
   "outputs": [
    {
     "data": {
      "text/plain": [
       "array([0, 0, 1, 1, 1, 2, 2, 2, 2])"
      ]
     },
     "execution_count": 52,
     "metadata": {},
     "output_type": "execute_result"
    }
   ],
   "source": [
    "arr.repeat([2,3,4]) # for each element to be repeated different number of times"
   ]
  },
  {
   "cell_type": "code",
   "execution_count": 53,
   "id": "06196f48-3c92-4474-84a2-a3302129a660",
   "metadata": {},
   "outputs": [],
   "source": [
    "# multidimensional array can have their elements repeated along a particular axis\n",
    "\n",
    "arr = np.random.randn(2,2)"
   ]
  },
  {
   "cell_type": "code",
   "execution_count": 54,
   "id": "0c5a0be1-56c0-46e7-81c5-a74a37fa28cc",
   "metadata": {},
   "outputs": [
    {
     "data": {
      "text/plain": [
       "array([[ 0.21563322,  0.93231894],\n",
       "       [ 0.07884797, -0.60083107]])"
      ]
     },
     "execution_count": 54,
     "metadata": {},
     "output_type": "execute_result"
    }
   ],
   "source": [
    "arr"
   ]
  },
  {
   "cell_type": "code",
   "execution_count": 55,
   "id": "0c6d1a54-857d-4249-9688-8598611757d8",
   "metadata": {},
   "outputs": [
    {
     "data": {
      "text/plain": [
       "array([[ 0.21563322,  0.93231894],\n",
       "       [ 0.21563322,  0.93231894],\n",
       "       [ 0.07884797, -0.60083107],\n",
       "       [ 0.07884797, -0.60083107]])"
      ]
     },
     "execution_count": 55,
     "metadata": {},
     "output_type": "execute_result"
    }
   ],
   "source": [
    "arr.repeat(2,axis=0)"
   ]
  },
  {
   "cell_type": "code",
   "execution_count": 56,
   "id": "18a29381-e1db-4cc5-ad34-e32e48f06d01",
   "metadata": {},
   "outputs": [
    {
     "data": {
      "text/plain": [
       "array([ 0.21563322,  0.21563322,  0.93231894,  0.93231894,  0.07884797,\n",
       "        0.07884797, -0.60083107, -0.60083107])"
      ]
     },
     "execution_count": 56,
     "metadata": {},
     "output_type": "execute_result"
    }
   ],
   "source": [
    "arr.repeat(2) # notice it flattens the array if axis is not passed"
   ]
  },
  {
   "cell_type": "code",
   "execution_count": 57,
   "id": "fc74ec4a-22db-4bf6-9be6-af3a5f0ee0fc",
   "metadata": {},
   "outputs": [
    {
     "data": {
      "text/plain": [
       "array([[ 0.21563322,  0.21563322,  0.93231894,  0.93231894,  0.93231894],\n",
       "       [ 0.07884797,  0.07884797, -0.60083107, -0.60083107, -0.60083107]])"
      ]
     },
     "execution_count": 57,
     "metadata": {},
     "output_type": "execute_result"
    }
   ],
   "source": [
    "arr.repeat([2,3],axis=1)"
   ]
  },
  {
   "cell_type": "code",
   "execution_count": 58,
   "id": "f4f47c7f-678a-4c48-b0e9-4c5a48dc1e1b",
   "metadata": {},
   "outputs": [
    {
     "data": {
      "text/plain": [
       "array([[ 0.21563322,  0.93231894],\n",
       "       [ 0.07884797, -0.60083107]])"
      ]
     },
     "execution_count": 58,
     "metadata": {},
     "output_type": "execute_result"
    }
   ],
   "source": [
    "arr"
   ]
  },
  {
   "cell_type": "code",
   "execution_count": 59,
   "id": "8ae441d4-ef56-4415-b57d-f4b7009078bc",
   "metadata": {},
   "outputs": [
    {
     "data": {
      "text/plain": [
       "array([[ 0.21563322,  0.93231894,  0.21563322,  0.93231894],\n",
       "       [ 0.07884797, -0.60083107,  0.07884797, -0.60083107]])"
      ]
     },
     "execution_count": 59,
     "metadata": {},
     "output_type": "execute_result"
    }
   ],
   "source": [
    "np.tile(arr,2)"
   ]
  },
  {
   "cell_type": "code",
   "execution_count": 60,
   "id": "c0672d3e-3567-4b53-b3be-2d8698dca102",
   "metadata": {},
   "outputs": [
    {
     "data": {
      "text/plain": [
       "array([[ 0.21563322,  0.93231894],\n",
       "       [ 0.07884797, -0.60083107]])"
      ]
     },
     "execution_count": 60,
     "metadata": {},
     "output_type": "execute_result"
    }
   ],
   "source": [
    "arr"
   ]
  },
  {
   "cell_type": "code",
   "execution_count": 61,
   "id": "15ed0c91-466c-4103-bedf-e0e783d84ff9",
   "metadata": {},
   "outputs": [
    {
     "data": {
      "text/plain": [
       "array([[ 0.21563322,  0.93231894],\n",
       "       [ 0.07884797, -0.60083107],\n",
       "       [ 0.21563322,  0.93231894],\n",
       "       [ 0.07884797, -0.60083107]])"
      ]
     },
     "execution_count": 61,
     "metadata": {},
     "output_type": "execute_result"
    }
   ],
   "source": [
    "np.tile(arr,(2,1))"
   ]
  },
  {
   "cell_type": "code",
   "execution_count": 62,
   "id": "120e36a0-4e65-4332-b412-9d5c0e0cfec7",
   "metadata": {},
   "outputs": [
    {
     "data": {
      "text/plain": [
       "array([[ 0.21563322,  0.93231894,  0.21563322,  0.93231894],\n",
       "       [ 0.07884797, -0.60083107,  0.07884797, -0.60083107],\n",
       "       [ 0.21563322,  0.93231894,  0.21563322,  0.93231894],\n",
       "       [ 0.07884797, -0.60083107,  0.07884797, -0.60083107],\n",
       "       [ 0.21563322,  0.93231894,  0.21563322,  0.93231894],\n",
       "       [ 0.07884797, -0.60083107,  0.07884797, -0.60083107]])"
      ]
     },
     "execution_count": 62,
     "metadata": {},
     "output_type": "execute_result"
    }
   ],
   "source": [
    "np.tile(arr,(3,2))"
   ]
  },
  {
   "cell_type": "markdown",
   "id": "e88531f1-6019-44b0-bb5b-8bd53628bb19",
   "metadata": {},
   "source": [
    "#### ***Fancy Indexing Equivalent: take and put***"
   ]
  },
  {
   "cell_type": "code",
   "execution_count": 63,
   "id": "60b45498-f6a5-4051-8557-e43b4bf47af8",
   "metadata": {},
   "outputs": [],
   "source": [
    "arr = np.arange(10)*100"
   ]
  },
  {
   "cell_type": "code",
   "execution_count": 64,
   "id": "e4e13f33-2e82-41a9-b25d-4665d3b417a0",
   "metadata": {},
   "outputs": [
    {
     "data": {
      "text/plain": [
       "array([  0, 100, 200, 300, 400, 500, 600, 700, 800, 900])"
      ]
     },
     "execution_count": 64,
     "metadata": {},
     "output_type": "execute_result"
    }
   ],
   "source": [
    "arr"
   ]
  },
  {
   "cell_type": "code",
   "execution_count": 65,
   "id": "1bbee439-9248-4302-bd04-aedcdf8cfd1d",
   "metadata": {},
   "outputs": [],
   "source": [
    "inds = [7,2,6,3]"
   ]
  },
  {
   "cell_type": "code",
   "execution_count": 66,
   "id": "e392d1b8-21e5-4883-a700-7dff8260ddf8",
   "metadata": {},
   "outputs": [
    {
     "data": {
      "text/plain": [
       "array([700, 200, 600, 300])"
      ]
     },
     "execution_count": 66,
     "metadata": {},
     "output_type": "execute_result"
    }
   ],
   "source": [
    "arr[inds]"
   ]
  },
  {
   "cell_type": "code",
   "execution_count": 67,
   "id": "68a0b7db-9007-4ebf-933c-5b2ed7ca130f",
   "metadata": {},
   "outputs": [
    {
     "data": {
      "text/plain": [
       "array([700, 200, 600, 300])"
      ]
     },
     "execution_count": 67,
     "metadata": {},
     "output_type": "execute_result"
    }
   ],
   "source": [
    "arr.take(inds)"
   ]
  },
  {
   "cell_type": "code",
   "execution_count": 68,
   "id": "0a95345d-a054-4820-8175-b622aacd7d60",
   "metadata": {},
   "outputs": [],
   "source": [
    "arr.put(inds,42)"
   ]
  },
  {
   "cell_type": "code",
   "execution_count": 69,
   "id": "2ef52c79-f78c-4b39-8085-28449bba49a8",
   "metadata": {},
   "outputs": [
    {
     "data": {
      "text/plain": [
       "array([  0, 100,  42,  42, 400, 500,  42,  42, 800, 900])"
      ]
     },
     "execution_count": 69,
     "metadata": {},
     "output_type": "execute_result"
    }
   ],
   "source": [
    "arr"
   ]
  },
  {
   "cell_type": "code",
   "execution_count": 70,
   "id": "31a83ea8-5521-41aa-b0e1-fe0dabe1eadf",
   "metadata": {},
   "outputs": [],
   "source": [
    "arr.put(inds,[40,41,43,42])"
   ]
  },
  {
   "cell_type": "code",
   "execution_count": 71,
   "id": "1eb72b96-cd46-4510-8bb4-a85acb6269e6",
   "metadata": {},
   "outputs": [
    {
     "data": {
      "text/plain": [
       "array([  0, 100,  41,  42, 400, 500,  43,  40, 800, 900])"
      ]
     },
     "execution_count": 71,
     "metadata": {},
     "output_type": "execute_result"
    }
   ],
   "source": [
    "arr"
   ]
  },
  {
   "cell_type": "code",
   "execution_count": 72,
   "id": "bc391d49-1cbb-4bc7-8007-04925f79949f",
   "metadata": {},
   "outputs": [],
   "source": [
    "# to use take along other axis, you can pass the axis keyword\n",
    "inds = [2,0,2,1]"
   ]
  },
  {
   "cell_type": "code",
   "execution_count": 73,
   "id": "3c9fa83d-5b84-4378-8d47-a3a01d7cdc3f",
   "metadata": {},
   "outputs": [],
   "source": [
    "arr = np.random.randn(2,4)"
   ]
  },
  {
   "cell_type": "code",
   "execution_count": 74,
   "id": "d7798a5a-cc4e-491a-a097-27087864cd3d",
   "metadata": {},
   "outputs": [
    {
     "data": {
      "text/plain": [
       "array([[-0.09663553,  0.35229709,  0.41068387,  1.5435796 ],\n",
       "       [ 0.59125662, -1.12538739,  1.15570769, -0.39656128]])"
      ]
     },
     "execution_count": 74,
     "metadata": {},
     "output_type": "execute_result"
    }
   ],
   "source": [
    "arr"
   ]
  },
  {
   "cell_type": "code",
   "execution_count": 75,
   "id": "845890cf-09a5-454a-9c19-f86d2eff91b3",
   "metadata": {},
   "outputs": [
    {
     "data": {
      "text/plain": [
       "array([[ 0.41068387, -0.09663553,  0.41068387,  0.35229709],\n",
       "       [ 1.15570769,  0.59125662,  1.15570769, -1.12538739]])"
      ]
     },
     "execution_count": 75,
     "metadata": {},
     "output_type": "execute_result"
    }
   ],
   "source": [
    "arr.take(inds,axis=1)"
   ]
  },
  {
   "cell_type": "markdown",
   "id": "9f0f7de1-e23c-4c9f-98bd-34a657639f29",
   "metadata": {},
   "source": [
    "### ***Broadcasting***"
   ]
  },
  {
   "cell_type": "markdown",
   "id": "3e6de11b-2118-4d32-8b88-fb3047cbd721",
   "metadata": {},
   "source": [
    "*It governs how operations work between array of different shapes.*"
   ]
  },
  {
   "cell_type": "code",
   "execution_count": 76,
   "id": "5fa9bba3-4a37-4ffe-b069-fb96492c205d",
   "metadata": {},
   "outputs": [],
   "source": [
    "arr= np.arange(5)"
   ]
  },
  {
   "cell_type": "code",
   "execution_count": 77,
   "id": "57ad93ff-062a-439e-acf0-e2f5d134bc4b",
   "metadata": {},
   "outputs": [
    {
     "data": {
      "text/plain": [
       "array([0, 1, 2, 3, 4])"
      ]
     },
     "execution_count": 77,
     "metadata": {},
     "output_type": "execute_result"
    }
   ],
   "source": [
    "arr"
   ]
  },
  {
   "cell_type": "code",
   "execution_count": 78,
   "id": "44c5b3a9-41a0-4d7e-ab7c-5c73e72e08b3",
   "metadata": {},
   "outputs": [
    {
     "data": {
      "text/plain": [
       "array([ 0,  4,  8, 12, 16])"
      ]
     },
     "execution_count": 78,
     "metadata": {},
     "output_type": "execute_result"
    }
   ],
   "source": [
    "arr*4 # the scalar value 4 is broadcasted to all th other elements of the array arr in the multiplication operation"
   ]
  },
  {
   "cell_type": "code",
   "execution_count": 79,
   "id": "0ef888a9-7561-477d-9063-d98fce20e93a",
   "metadata": {},
   "outputs": [],
   "source": [
    "arr = np.random.randn(4,3)"
   ]
  },
  {
   "cell_type": "code",
   "execution_count": 80,
   "id": "bb215ed9-4cab-4dfb-825a-605a39f81205",
   "metadata": {},
   "outputs": [
    {
     "data": {
      "text/plain": [
       "array([[-0.39944912,  0.34825583, -0.01394106],\n",
       "       [-0.90059731,  0.05042898, -1.09216457],\n",
       "       [-0.2305115 ,  2.16578349, -2.31892095],\n",
       "       [ 0.32282304,  0.66212233,  0.30563256]])"
      ]
     },
     "execution_count": 80,
     "metadata": {},
     "output_type": "execute_result"
    }
   ],
   "source": [
    "arr"
   ]
  },
  {
   "cell_type": "code",
   "execution_count": 81,
   "id": "1db51c21-f80c-4fc5-bfb3-dd0bfb030266",
   "metadata": {},
   "outputs": [
    {
     "data": {
      "text/plain": [
       "array([-0.30193372,  0.80664766, -0.77984851])"
      ]
     },
     "execution_count": 81,
     "metadata": {},
     "output_type": "execute_result"
    }
   ],
   "source": [
    "arr.mean(0)"
   ]
  },
  {
   "cell_type": "code",
   "execution_count": 82,
   "id": "0e93c387-52c9-4fea-a459-bca9b09ddf0b",
   "metadata": {},
   "outputs": [],
   "source": [
    "demeaned = arr-arr.mean(0)"
   ]
  },
  {
   "cell_type": "code",
   "execution_count": 83,
   "id": "a9b8da91-564b-4207-a725-dd3a4661b5f6",
   "metadata": {},
   "outputs": [
    {
     "data": {
      "text/plain": [
       "array([[-0.09751539, -0.45839183,  0.76590744],\n",
       "       [-0.59866359, -0.75621868, -0.31231606],\n",
       "       [ 0.07142223,  1.35913583, -1.53907245],\n",
       "       [ 0.62475676, -0.14452533,  1.08548106]])"
      ]
     },
     "execution_count": 83,
     "metadata": {},
     "output_type": "execute_result"
    }
   ],
   "source": [
    "demeaned"
   ]
  },
  {
   "cell_type": "code",
   "execution_count": 84,
   "id": "adb1b37b-afa9-43cf-9ecd-179ab104c6e1",
   "metadata": {},
   "outputs": [
    {
     "data": {
      "text/plain": [
       "array([[-0.39944912,  0.34825583, -0.01394106],\n",
       "       [-0.90059731,  0.05042898, -1.09216457],\n",
       "       [-0.2305115 ,  2.16578349, -2.31892095],\n",
       "       [ 0.32282304,  0.66212233,  0.30563256]])"
      ]
     },
     "execution_count": 84,
     "metadata": {},
     "output_type": "execute_result"
    }
   ],
   "source": [
    "arr"
   ]
  },
  {
   "cell_type": "code",
   "execution_count": 85,
   "id": "c4049308-d97a-4482-95c7-61aaf6c24d6f",
   "metadata": {},
   "outputs": [],
   "source": [
    "row_means = arr.mean(1)"
   ]
  },
  {
   "cell_type": "code",
   "execution_count": 86,
   "id": "5a39af49-64a3-4dc6-a5ed-4d214d07fb8a",
   "metadata": {},
   "outputs": [
    {
     "data": {
      "text/plain": [
       "array([-0.02171145, -0.6474443 , -0.12788299,  0.43019264])"
      ]
     },
     "execution_count": 86,
     "metadata": {},
     "output_type": "execute_result"
    }
   ],
   "source": [
    "row_means"
   ]
  },
  {
   "cell_type": "code",
   "execution_count": 87,
   "id": "f5096fdb-cbad-4909-a9ab-98dabbc42b09",
   "metadata": {},
   "outputs": [
    {
     "data": {
      "text/plain": [
       "(4,)"
      ]
     },
     "execution_count": 87,
     "metadata": {},
     "output_type": "execute_result"
    }
   ],
   "source": [
    "row_means.shape"
   ]
  },
  {
   "cell_type": "code",
   "execution_count": 88,
   "id": "953d20bd-8262-4df9-a5ad-2bf2016a0c92",
   "metadata": {},
   "outputs": [
    {
     "data": {
      "text/plain": [
       "array([[-0.02171145],\n",
       "       [-0.6474443 ],\n",
       "       [-0.12788299],\n",
       "       [ 0.43019264]])"
      ]
     },
     "execution_count": 88,
     "metadata": {},
     "output_type": "execute_result"
    }
   ],
   "source": [
    "row_means.reshape((4,1))"
   ]
  },
  {
   "cell_type": "code",
   "execution_count": 89,
   "id": "ef3f478e-ebd3-4460-904b-7fe0ad10c475",
   "metadata": {},
   "outputs": [],
   "source": [
    "demeaned = arr-row_means.reshape((4,1))"
   ]
  },
  {
   "cell_type": "code",
   "execution_count": 90,
   "id": "26a75cd5-b3ca-4a51-86f8-cfa4c8de1d6b",
   "metadata": {},
   "outputs": [
    {
     "data": {
      "text/plain": [
       "array([[-0.37773767,  0.36996728,  0.00777039],\n",
       "       [-0.25315302,  0.69787328, -0.44472027],\n",
       "       [-0.10262851,  2.29366648, -2.19103797],\n",
       "       [-0.1073696 ,  0.23192969, -0.12456008]])"
      ]
     },
     "execution_count": 90,
     "metadata": {},
     "output_type": "execute_result"
    }
   ],
   "source": [
    "demeaned"
   ]
  },
  {
   "cell_type": "code",
   "execution_count": 91,
   "id": "e2e6d698-d70c-407d-b875-3718c72dd8ab",
   "metadata": {},
   "outputs": [
    {
     "data": {
      "text/plain": [
       "array([-5.20417043e-18,  3.70074342e-17,  0.00000000e+00, -1.85037171e-17])"
      ]
     },
     "execution_count": 91,
     "metadata": {},
     "output_type": "execute_result"
    }
   ],
   "source": [
    "demeaned.mean(1)"
   ]
  },
  {
   "cell_type": "code",
   "execution_count": 92,
   "id": "3b5d8972-7cc2-4396-acd5-6f8cc5ca2088",
   "metadata": {},
   "outputs": [
    {
     "data": {
      "text/plain": [
       "array([[-0.37773767,  0.36996728,  0.00777039],\n",
       "       [-0.25315302,  0.69787328, -0.44472027],\n",
       "       [-0.10262851,  2.29366648, -2.19103797],\n",
       "       [-0.1073696 ,  0.23192969, -0.12456008]])"
      ]
     },
     "execution_count": 92,
     "metadata": {},
     "output_type": "execute_result"
    }
   ],
   "source": [
    "arr-arr.mean(1).reshape((4,1))"
   ]
  },
  {
   "cell_type": "code",
   "execution_count": 93,
   "id": "c613cfa6-9dff-4b92-98e3-07164fa20c92",
   "metadata": {},
   "outputs": [],
   "source": [
    "arr = np.zeros((4,4))"
   ]
  },
  {
   "cell_type": "code",
   "execution_count": 94,
   "id": "d5a26b06-2537-479b-a0eb-c0eae38c8c81",
   "metadata": {},
   "outputs": [],
   "source": [
    "arr_3d = arr[:,np.newaxis,:]"
   ]
  },
  {
   "cell_type": "code",
   "execution_count": 95,
   "id": "24ad0ec6-5289-42f5-b884-9dfca715b7c1",
   "metadata": {},
   "outputs": [
    {
     "data": {
      "text/plain": [
       "(4, 1, 4)"
      ]
     },
     "execution_count": 95,
     "metadata": {},
     "output_type": "execute_result"
    }
   ],
   "source": [
    "arr_3d.shape"
   ]
  },
  {
   "cell_type": "code",
   "execution_count": 96,
   "id": "a1834d1d-8f94-48cb-a1db-2f463571bd15",
   "metadata": {},
   "outputs": [
    {
     "data": {
      "text/plain": [
       "array([[[0., 0., 0., 0.]],\n",
       "\n",
       "       [[0., 0., 0., 0.]],\n",
       "\n",
       "       [[0., 0., 0., 0.]],\n",
       "\n",
       "       [[0., 0., 0., 0.]]])"
      ]
     },
     "execution_count": 96,
     "metadata": {},
     "output_type": "execute_result"
    }
   ],
   "source": [
    "arr_3d"
   ]
  },
  {
   "cell_type": "code",
   "execution_count": 97,
   "id": "62047270-56e5-4b7f-a3d9-cb53683b5d6f",
   "metadata": {},
   "outputs": [],
   "source": [
    "arr_1d = np.random.normal(size=3)"
   ]
  },
  {
   "cell_type": "code",
   "execution_count": 98,
   "id": "559774e0-7c8a-48c6-ae3d-d5f0d439da2b",
   "metadata": {},
   "outputs": [
    {
     "data": {
      "text/plain": [
       "array([ 1.48883856, -1.03475736, -0.11668608])"
      ]
     },
     "execution_count": 98,
     "metadata": {},
     "output_type": "execute_result"
    }
   ],
   "source": [
    "arr_1d"
   ]
  },
  {
   "cell_type": "code",
   "execution_count": 99,
   "id": "efc79051-8760-45a9-b58b-4a73f17859db",
   "metadata": {},
   "outputs": [
    {
     "data": {
      "text/plain": [
       "array([[ 1.48883856],\n",
       "       [-1.03475736],\n",
       "       [-0.11668608]])"
      ]
     },
     "execution_count": 99,
     "metadata": {},
     "output_type": "execute_result"
    }
   ],
   "source": [
    "arr_1d[:,np.newaxis]"
   ]
  },
  {
   "cell_type": "code",
   "execution_count": 100,
   "id": "950cf19c-f023-4daa-8b38-983fdf2367af",
   "metadata": {},
   "outputs": [
    {
     "data": {
      "text/plain": [
       "array([[ 1.48883856, -1.03475736, -0.11668608]])"
      ]
     },
     "execution_count": 100,
     "metadata": {},
     "output_type": "execute_result"
    }
   ],
   "source": [
    "arr_1d[np.newaxis,:]"
   ]
  },
  {
   "cell_type": "code",
   "execution_count": 101,
   "id": "636c856d-1dfa-4d53-b1b0-9703d56bf8eb",
   "metadata": {},
   "outputs": [],
   "source": [
    "arr = np.random.randn(3,4,5)"
   ]
  },
  {
   "cell_type": "code",
   "execution_count": 102,
   "id": "955e49c5-110a-4161-bd77-5c1db1bbeb3c",
   "metadata": {},
   "outputs": [],
   "source": [
    "depth_means = arr.mean(2)"
   ]
  },
  {
   "cell_type": "code",
   "execution_count": 103,
   "id": "9748eb88-6aaa-49ca-9ac1-3312bd66bebe",
   "metadata": {},
   "outputs": [
    {
     "data": {
      "text/plain": [
       "array([[ 0.33501239,  0.22620632, -0.30178896, -0.16890987],\n",
       "       [-0.14001324, -0.00210464, -0.0064693 , -0.150707  ],\n",
       "       [-0.07509772,  0.30277673,  0.07868871,  0.08624097]])"
      ]
     },
     "execution_count": 103,
     "metadata": {},
     "output_type": "execute_result"
    }
   ],
   "source": [
    "depth_means"
   ]
  },
  {
   "cell_type": "code",
   "execution_count": 104,
   "id": "afecead5-ddbf-4a86-b4c0-eb4271b4ba0c",
   "metadata": {},
   "outputs": [
    {
     "data": {
      "text/plain": [
       "(3, 4)"
      ]
     },
     "execution_count": 104,
     "metadata": {},
     "output_type": "execute_result"
    }
   ],
   "source": [
    "depth_means.shape"
   ]
  },
  {
   "cell_type": "code",
   "execution_count": 105,
   "id": "22ead875-7de3-4f15-95af-b9ac65b29d83",
   "metadata": {},
   "outputs": [],
   "source": [
    "demeaned = arr - depth_means[:,:,np.newaxis]"
   ]
  },
  {
   "cell_type": "code",
   "execution_count": 106,
   "id": "b3c2aa45-5cc2-40ed-8ae8-05272b0bea90",
   "metadata": {},
   "outputs": [
    {
     "data": {
      "text/plain": [
       "array([[ 0.00000000e+00,  0.00000000e+00, -3.33066907e-17,\n",
       "         0.00000000e+00],\n",
       "       [-1.11022302e-17, -4.44089210e-17,  0.00000000e+00,\n",
       "         0.00000000e+00],\n",
       "       [-2.22044605e-17,  3.33066907e-17,  2.22044605e-17,\n",
       "         1.38777878e-17]])"
      ]
     },
     "execution_count": 106,
     "metadata": {},
     "output_type": "execute_result"
    }
   ],
   "source": [
    "demeaned.mean(2)"
   ]
  },
  {
   "cell_type": "code",
   "execution_count": null,
   "id": "67750db4-ef4e-4441-8a15-9565f23def39",
   "metadata": {},
   "outputs": [],
   "source": []
  }
 ],
 "metadata": {
  "kernelspec": {
   "display_name": "Python [conda env:base] *",
   "language": "python",
   "name": "conda-base-py"
  },
  "language_info": {
   "codemirror_mode": {
    "name": "ipython",
    "version": 3
   },
   "file_extension": ".py",
   "mimetype": "text/x-python",
   "name": "python",
   "nbconvert_exporter": "python",
   "pygments_lexer": "ipython3",
   "version": "3.12.7"
  }
 },
 "nbformat": 4,
 "nbformat_minor": 5
}
