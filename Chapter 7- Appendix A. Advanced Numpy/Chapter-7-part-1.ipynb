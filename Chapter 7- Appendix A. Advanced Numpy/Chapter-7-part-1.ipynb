{
 "cells": [
  {
   "cell_type": "markdown",
   "id": "558ddd60-0fe3-4c6e-9ecc-7314b77d29fe",
   "metadata": {},
   "source": [
    "### ***ndarray Object Internals***"
   ]
  },
  {
   "cell_type": "markdown",
   "id": "60b139be-fba8-4203-9b1c-2e5671d27f50",
   "metadata": {},
   "source": [
    "1. **ndarray provides a way to interpret a block of homogenously typed data as a multidimensional array object**. \n",
    "2. **Part of what makes ndarray flexible is that every array object is a strided view on a block of data**.\n",
    "3. **More precisely, the ndarray internally consists of the following**:\n",
    "    4. *A pointer to data—that is, a block of data in RAM or in a memorymapped file*\n",
    "    5. *The data type or dtype, describing fixed-size value cells in the array*\n",
    "    6. *A tuple indicating the array’s shape*\n",
    "    7. *A tuple of strides, integers indicating the number of bytes to “step” in order to advance one element along a dimension*"
   ]
  },
  {
   "cell_type": "code",
   "execution_count": 1,
   "id": "7683bd46-6c2f-4506-8577-2521602a1ee4",
   "metadata": {},
   "outputs": [],
   "source": [
    "import numpy as np"
   ]
  },
  {
   "cell_type": "code",
   "execution_count": 2,
   "id": "a23958f7-54a6-47bf-8ced-c8f641492281",
   "metadata": {},
   "outputs": [
    {
     "data": {
      "text/plain": [
       "(10, 5)"
      ]
     },
     "execution_count": 2,
     "metadata": {},
     "output_type": "execute_result"
    }
   ],
   "source": [
    "np.ones((10,5)).shape"
   ]
  },
  {
   "cell_type": "code",
   "execution_count": 4,
   "id": "17bded1f-1997-4a6a-b689-1075c67b1c43",
   "metadata": {},
   "outputs": [
    {
     "data": {
      "text/plain": [
       "(160, 40, 8)"
      ]
     },
     "execution_count": 4,
     "metadata": {},
     "output_type": "execute_result"
    }
   ],
   "source": [
    "np.ones((3,4,5),dtype=np.float64).strides"
   ]
  },
  {
   "cell_type": "markdown",
   "id": "811fb6ac-18a8-4245-9f37-00354b922f86",
   "metadata": {},
   "source": [
    "*Strides can even negative which can allow an array to move backward in memory.*\n",
    "\n",
    "eg. obj[[::-1]]"
   ]
  },
  {
   "cell_type": "markdown",
   "id": "2131012c-c4cc-4f9c-ac09-b82b88dd6dcd",
   "metadata": {},
   "source": [
    "#### ***Numpy dtype heirarchy*** "
   ]
  },
  {
   "cell_type": "code",
   "execution_count": 5,
   "id": "a61d5e9c-19b5-486b-b043-f7b7ea2eca0b",
   "metadata": {},
   "outputs": [],
   "source": [
    "# the dtypes have superclasses np.integer and np.floating which can be used in conjunction with the np.issubdtype function\n",
    "ints = np.ones(10,dtype=np.uint16)"
   ]
  },
  {
   "cell_type": "code",
   "execution_count": 6,
   "id": "0a517dd5-054b-4b87-9ca5-b4727c7bd8fb",
   "metadata": {},
   "outputs": [],
   "source": [
    "floats = np.ones(10,dtype=np.float32)"
   ]
  },
  {
   "cell_type": "code",
   "execution_count": 8,
   "id": "1e4935b0-4184-4e50-85b5-009e94d653eb",
   "metadata": {},
   "outputs": [
    {
     "data": {
      "text/plain": [
       "True"
      ]
     },
     "execution_count": 8,
     "metadata": {},
     "output_type": "execute_result"
    }
   ],
   "source": [
    "np.issubdtype(ints.dtype,np.integer)"
   ]
  },
  {
   "cell_type": "code",
   "execution_count": 9,
   "id": "5474d17c-c7ca-45ef-8a35-422e74a8c450",
   "metadata": {},
   "outputs": [
    {
     "data": {
      "text/plain": [
       "True"
      ]
     },
     "execution_count": 9,
     "metadata": {},
     "output_type": "execute_result"
    }
   ],
   "source": [
    "np.issubdtype(floats.dtype,np.floating)"
   ]
  },
  {
   "cell_type": "code",
   "execution_count": 10,
   "id": "39549dd4-e2c2-4334-9ab3-57fe551a77cf",
   "metadata": {},
   "outputs": [
    {
     "data": {
      "text/plain": [
       "[numpy.float64,\n",
       " numpy.floating,\n",
       " numpy.inexact,\n",
       " numpy.number,\n",
       " numpy.generic,\n",
       " float,\n",
       " object]"
      ]
     },
     "execution_count": 10,
     "metadata": {},
     "output_type": "execute_result"
    }
   ],
   "source": [
    "# you can also see all of the parent classes of a specific dtype by calling the type's mro method:\n",
    "np.float64.mro()"
   ]
  },
  {
   "cell_type": "code",
   "execution_count": 11,
   "id": "e4828831-500b-4895-9a44-fa0eeb87f453",
   "metadata": {},
   "outputs": [
    {
     "data": {
      "text/plain": [
       "True"
      ]
     },
     "execution_count": 11,
     "metadata": {},
     "output_type": "execute_result"
    }
   ],
   "source": [
    "# we also have\n",
    "np.issubdtype(ints.dtype,np.number)"
   ]
  },
  {
   "cell_type": "markdown",
   "id": "ceb77ab3-c3e0-4ff9-8f43-f50a08e306e9",
   "metadata": {},
   "source": [
    "### ***Advanced Array Manipulation***"
   ]
  },
  {
   "cell_type": "markdown",
   "id": "c542577f-d892-474e-97b7-f2341824fdf0",
   "metadata": {},
   "source": [
    "*While much of heavy lifting for data analysis is done by pandas, you may require this at some point*"
   ]
  },
  {
   "cell_type": "markdown",
   "id": "e8d80ffe-bb75-4e12-b519-1ff2311ba429",
   "metadata": {},
   "source": [
    "#### ***Reshaping array***"
   ]
  },
  {
   "cell_type": "markdown",
   "id": "d138f0a7-8d3c-4118-be18-183078182da2",
   "metadata": {},
   "source": [
    "*You can convert an array from one shape to another without copying any data.*"
   ]
  },
  {
   "cell_type": "code",
   "execution_count": 12,
   "id": "086b9521-0ad2-44bb-95c9-1f88cb59b84e",
   "metadata": {},
   "outputs": [],
   "source": [
    "arr = np.arange(8)"
   ]
  },
  {
   "cell_type": "code",
   "execution_count": 13,
   "id": "ca6c1b1d-38f9-4d74-8449-46c857401948",
   "metadata": {},
   "outputs": [
    {
     "data": {
      "text/plain": [
       "array([0, 1, 2, 3, 4, 5, 6, 7])"
      ]
     },
     "execution_count": 13,
     "metadata": {},
     "output_type": "execute_result"
    }
   ],
   "source": [
    "arr"
   ]
  },
  {
   "cell_type": "code",
   "execution_count": 14,
   "id": "6ab92825-8c27-45b3-b7a3-9300f159f723",
   "metadata": {},
   "outputs": [
    {
     "data": {
      "text/plain": [
       "array([[0, 1],\n",
       "       [2, 3],\n",
       "       [4, 5],\n",
       "       [6, 7]])"
      ]
     },
     "execution_count": 14,
     "metadata": {},
     "output_type": "execute_result"
    }
   ],
   "source": [
    "arr.reshape((4,2))"
   ]
  },
  {
   "cell_type": "code",
   "execution_count": 15,
   "id": "e3932ca0-0e57-466a-931b-3c67d4914b25",
   "metadata": {},
   "outputs": [
    {
     "data": {
      "text/plain": [
       "array([[0, 1, 2, 3],\n",
       "       [4, 5, 6, 7]])"
      ]
     },
     "execution_count": 15,
     "metadata": {},
     "output_type": "execute_result"
    }
   ],
   "source": [
    "# a multidimensional array can also be reshaped\n",
    "arr.reshape((4,2)).reshape((2,4))"
   ]
  },
  {
   "cell_type": "code",
   "execution_count": 16,
   "id": "556735ac-b64d-4e2d-b2f8-3ad0487d4613",
   "metadata": {},
   "outputs": [],
   "source": [
    "# one of the value can be -1, in which case the value used for that dimension  will be inferred from the data\n",
    "arr = np.arange(15)\n"
   ]
  },
  {
   "cell_type": "code",
   "execution_count": 17,
   "id": "1466aced-42d1-48be-bf5f-dee257acd5a3",
   "metadata": {},
   "outputs": [
    {
     "data": {
      "text/plain": [
       "array([ 0,  1,  2,  3,  4,  5,  6,  7,  8,  9, 10, 11, 12, 13, 14])"
      ]
     },
     "execution_count": 17,
     "metadata": {},
     "output_type": "execute_result"
    }
   ],
   "source": [
    "arr"
   ]
  },
  {
   "cell_type": "code",
   "execution_count": 18,
   "id": "c4b3770b-b9a7-4d11-ae32-fe9098c66e4c",
   "metadata": {},
   "outputs": [
    {
     "data": {
      "text/plain": [
       "array([[ 0,  1,  2],\n",
       "       [ 3,  4,  5],\n",
       "       [ 6,  7,  8],\n",
       "       [ 9, 10, 11],\n",
       "       [12, 13, 14]])"
      ]
     },
     "execution_count": 18,
     "metadata": {},
     "output_type": "execute_result"
    }
   ],
   "source": [
    "arr.reshape((5,-1))"
   ]
  },
  {
   "cell_type": "code",
   "execution_count": 20,
   "id": "745a0c45-a978-43b2-b3ba-98ecb0040894",
   "metadata": {},
   "outputs": [],
   "source": [
    "arr1 = np.arange(20)"
   ]
  },
  {
   "cell_type": "code",
   "execution_count": 23,
   "id": "ed368c09-52b8-477b-bb79-bdc0aa8dd5b4",
   "metadata": {},
   "outputs": [
    {
     "data": {
      "text/plain": [
       "array([[ 0,  1,  2,  3],\n",
       "       [ 4,  5,  6,  7],\n",
       "       [ 8,  9, 10, 11],\n",
       "       [12, 13, 14, 15],\n",
       "       [16, 17, 18, 19]])"
      ]
     },
     "execution_count": 23,
     "metadata": {},
     "output_type": "execute_result"
    }
   ],
   "source": [
    "arr1.reshape((5,-1))"
   ]
  },
  {
   "cell_type": "code",
   "execution_count": 24,
   "id": "3b5c2fd7-f3d9-43c1-a578-f28f59eab371",
   "metadata": {},
   "outputs": [],
   "source": [
    "# since an array's shape attribute is a tuple, it can be passed to reshape too:\n",
    "\n",
    "other_arr = np.ones((3,5))"
   ]
  },
  {
   "cell_type": "code",
   "execution_count": 25,
   "id": "14d9a381-32ec-46ff-b538-f9430546f7ba",
   "metadata": {},
   "outputs": [
    {
     "data": {
      "text/plain": [
       "(3, 5)"
      ]
     },
     "execution_count": 25,
     "metadata": {},
     "output_type": "execute_result"
    }
   ],
   "source": [
    "other_arr.shape"
   ]
  },
  {
   "cell_type": "code",
   "execution_count": 26,
   "id": "60834327-2988-4186-9a1b-b39765f85254",
   "metadata": {},
   "outputs": [
    {
     "data": {
      "text/plain": [
       "array([[ 0,  1,  2,  3,  4],\n",
       "       [ 5,  6,  7,  8,  9],\n",
       "       [10, 11, 12, 13, 14]])"
      ]
     },
     "execution_count": 26,
     "metadata": {},
     "output_type": "execute_result"
    }
   ],
   "source": [
    "arr.reshape(other_arr.shape)"
   ]
  },
  {
   "cell_type": "markdown",
   "id": "fe4d5822-9ea2-4f77-b244-67eecfa068d6",
   "metadata": {},
   "source": [
    "**The opposite operation to reshaping from one-dimensional to a higher dimension is typically known as flattening or raveling**"
   ]
  },
  {
   "cell_type": "code",
   "execution_count": 27,
   "id": "0e61ea1b-26e0-4f03-a53a-997d3e96fdea",
   "metadata": {},
   "outputs": [],
   "source": [
    "arr = np.arange(15).reshape((5,3))"
   ]
  },
  {
   "cell_type": "code",
   "execution_count": 28,
   "id": "8c428bbc-b74b-4d79-87e8-2a4a5c4be60d",
   "metadata": {},
   "outputs": [
    {
     "data": {
      "text/plain": [
       "array([[ 0,  1,  2],\n",
       "       [ 3,  4,  5],\n",
       "       [ 6,  7,  8],\n",
       "       [ 9, 10, 11],\n",
       "       [12, 13, 14]])"
      ]
     },
     "execution_count": 28,
     "metadata": {},
     "output_type": "execute_result"
    }
   ],
   "source": [
    "arr"
   ]
  },
  {
   "cell_type": "code",
   "execution_count": 29,
   "id": "396b18d0-6b49-4a3e-b2b8-cac2d0d9ba9f",
   "metadata": {},
   "outputs": [
    {
     "data": {
      "text/plain": [
       "array([ 0,  1,  2,  3,  4,  5,  6,  7,  8,  9, 10, 11, 12, 13, 14])"
      ]
     },
     "execution_count": 29,
     "metadata": {},
     "output_type": "execute_result"
    }
   ],
   "source": [
    "arr.ravel()"
   ]
  },
  {
   "cell_type": "raw",
   "id": "a2c31d67-1d56-45d4-ab77-b7d348d6b362",
   "metadata": {},
   "source": [
    "ravel() does not return copy of the array while flatten() returns copy of the array"
   ]
  },
  {
   "cell_type": "code",
   "execution_count": 30,
   "id": "c012d7bc-b47b-4ce7-a473-271d67d56980",
   "metadata": {},
   "outputs": [
    {
     "data": {
      "text/plain": [
       "array([ 0,  1,  2,  3,  4,  5,  6,  7,  8,  9, 10, 11, 12, 13, 14])"
      ]
     },
     "execution_count": 30,
     "metadata": {},
     "output_type": "execute_result"
    }
   ],
   "source": [
    "arr.flatten()"
   ]
  },
  {
   "cell_type": "markdown",
   "id": "5cdcd3e0-3f3d-496e-9cf6-c4de39c962f2",
   "metadata": {},
   "source": [
    "#### ***C versus FORTRAN Order***"
   ]
  },
  {
   "cell_type": "code",
   "execution_count": null,
   "id": "ca5f50a1-d6a3-4895-a509-ea255326791c",
   "metadata": {},
   "outputs": [],
   "source": []
  }
 ],
 "metadata": {
  "kernelspec": {
   "display_name": "Python [conda env:base] *",
   "language": "python",
   "name": "conda-base-py"
  },
  "language_info": {
   "codemirror_mode": {
    "name": "ipython",
    "version": 3
   },
   "file_extension": ".py",
   "mimetype": "text/x-python",
   "name": "python",
   "nbconvert_exporter": "python",
   "pygments_lexer": "ipython3",
   "version": "3.12.7"
  }
 },
 "nbformat": 4,
 "nbformat_minor": 5
}
