{
 "cells": [
  {
   "cell_type": "code",
   "execution_count": 1,
   "id": "5cfab008-0248-4d46-ace5-d96369f1cece",
   "metadata": {},
   "outputs": [],
   "source": [
    "import numpy as np"
   ]
  },
  {
   "cell_type": "code",
   "execution_count": 2,
   "id": "574c6d13-e432-403e-9100-aab8f2fb62f7",
   "metadata": {},
   "outputs": [],
   "source": [
    "data = np.floor(np.random.uniform(0,1000,size=50))"
   ]
  },
  {
   "cell_type": "code",
   "execution_count": 3,
   "id": "dda8646e-3397-4f75-8900-743d78ae50dd",
   "metadata": {},
   "outputs": [],
   "source": [
    "bins = np.array([0,100,1000,5000,10000])"
   ]
  },
  {
   "cell_type": "code",
   "execution_count": 4,
   "id": "52cd64e9-7645-4b15-9dea-54b9f81bb505",
   "metadata": {},
   "outputs": [
    {
     "data": {
      "text/plain": [
       "array([ 42., 646., 533., 716., 939., 395., 266., 557., 914.,  81., 451.,\n",
       "       422., 425., 745., 544., 395.,  14., 899., 141., 108., 103., 442.,\n",
       "       140., 352., 233., 485., 909., 338., 483., 259., 812., 637., 710.,\n",
       "       282., 943., 984., 344., 433., 346., 221., 818., 254., 218., 489.,\n",
       "       509., 644., 566., 320., 606., 376.])"
      ]
     },
     "execution_count": 4,
     "metadata": {},
     "output_type": "execute_result"
    }
   ],
   "source": [
    "data"
   ]
  },
  {
   "cell_type": "code",
   "execution_count": 5,
   "id": "2f476a9b-929e-48de-a5b4-3df227c60acc",
   "metadata": {},
   "outputs": [],
   "source": [
    "labels = bins.searchsorted(data)"
   ]
  },
  {
   "cell_type": "code",
   "execution_count": 6,
   "id": "0b750b3c-4e91-4694-b490-5a087457fc29",
   "metadata": {},
   "outputs": [
    {
     "data": {
      "text/plain": [
       "array([1, 2, 2, 2, 2, 2, 2, 2, 2, 1, 2, 2, 2, 2, 2, 2, 1, 2, 2, 2, 2, 2,\n",
       "       2, 2, 2, 2, 2, 2, 2, 2, 2, 2, 2, 2, 2, 2, 2, 2, 2, 2, 2, 2, 2, 2,\n",
       "       2, 2, 2, 2, 2, 2], dtype=int64)"
      ]
     },
     "execution_count": 6,
     "metadata": {},
     "output_type": "execute_result"
    }
   ],
   "source": [
    "labels"
   ]
  },
  {
   "cell_type": "code",
   "execution_count": 7,
   "id": "d9a55b9e-8c60-4abb-b99e-3885e367b99d",
   "metadata": {},
   "outputs": [],
   "source": [
    "import pandas as pd"
   ]
  },
  {
   "cell_type": "code",
   "execution_count": null,
   "id": "eea40184-654e-43bb-a591-0a7672887052",
   "metadata": {},
   "outputs": [],
   "source": [
    "pd.Series()"
   ]
  }
 ],
 "metadata": {
  "kernelspec": {
   "display_name": "Python [conda env:base] *",
   "language": "python",
   "name": "conda-base-py"
  },
  "language_info": {
   "codemirror_mode": {
    "name": "ipython",
    "version": 3
   },
   "file_extension": ".py",
   "mimetype": "text/x-python",
   "name": "python",
   "nbconvert_exporter": "python",
   "pygments_lexer": "ipython3",
   "version": "3.12.7"
  }
 },
 "nbformat": 4,
 "nbformat_minor": 5
}
