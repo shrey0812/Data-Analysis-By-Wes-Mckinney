{
 "cells": [
  {
   "cell_type": "code",
   "execution_count": 1,
   "id": "5cfab008-0248-4d46-ace5-d96369f1cece",
   "metadata": {},
   "outputs": [],
   "source": [
    "import numpy as np"
   ]
  },
  {
   "cell_type": "code",
   "execution_count": 2,
   "id": "574c6d13-e432-403e-9100-aab8f2fb62f7",
   "metadata": {},
   "outputs": [],
   "source": [
    "data = np.floor(np.random.uniform(0,1000,size=50))"
   ]
  },
  {
   "cell_type": "code",
   "execution_count": 3,
   "id": "dda8646e-3397-4f75-8900-743d78ae50dd",
   "metadata": {},
   "outputs": [],
   "source": [
    "bins = np.array([0,100,1000,5000,10000])"
   ]
  },
  {
   "cell_type": "code",
   "execution_count": 4,
   "id": "52cd64e9-7645-4b15-9dea-54b9f81bb505",
   "metadata": {},
   "outputs": [
    {
     "data": {
      "text/plain": [
       "array([ 42., 646., 533., 716., 939., 395., 266., 557., 914.,  81., 451.,\n",
       "       422., 425., 745., 544., 395.,  14., 899., 141., 108., 103., 442.,\n",
       "       140., 352., 233., 485., 909., 338., 483., 259., 812., 637., 710.,\n",
       "       282., 943., 984., 344., 433., 346., 221., 818., 254., 218., 489.,\n",
       "       509., 644., 566., 320., 606., 376.])"
      ]
     },
     "execution_count": 4,
     "metadata": {},
     "output_type": "execute_result"
    }
   ],
   "source": [
    "data"
   ]
  },
  {
   "cell_type": "code",
   "execution_count": 5,
   "id": "2f476a9b-929e-48de-a5b4-3df227c60acc",
   "metadata": {},
   "outputs": [],
   "source": [
    "labels = bins.searchsorted(data)"
   ]
  },
  {
   "cell_type": "code",
   "execution_count": 6,
   "id": "0b750b3c-4e91-4694-b490-5a087457fc29",
   "metadata": {},
   "outputs": [
    {
     "data": {
      "text/plain": [
       "array([1, 2, 2, 2, 2, 2, 2, 2, 2, 1, 2, 2, 2, 2, 2, 2, 1, 2, 2, 2, 2, 2,\n",
       "       2, 2, 2, 2, 2, 2, 2, 2, 2, 2, 2, 2, 2, 2, 2, 2, 2, 2, 2, 2, 2, 2,\n",
       "       2, 2, 2, 2, 2, 2], dtype=int64)"
      ]
     },
     "execution_count": 6,
     "metadata": {},
     "output_type": "execute_result"
    }
   ],
   "source": [
    "labels"
   ]
  },
  {
   "cell_type": "code",
   "execution_count": 7,
   "id": "d9a55b9e-8c60-4abb-b99e-3885e367b99d",
   "metadata": {},
   "outputs": [],
   "source": [
    "import pandas as pd"
   ]
  },
  {
   "cell_type": "code",
   "execution_count": 8,
   "id": "eea40184-654e-43bb-a591-0a7672887052",
   "metadata": {},
   "outputs": [
    {
     "data": {
      "text/plain": [
       "1     45.666667\n",
       "2    496.851064\n",
       "dtype: float64"
      ]
     },
     "execution_count": 8,
     "metadata": {},
     "output_type": "execute_result"
    }
   ],
   "source": [
    "pd.Series(data).groupby(labels).mean()"
   ]
  },
  {
   "cell_type": "markdown",
   "id": "fbf680b4-4417-4b8f-b54b-7322504fd655",
   "metadata": {},
   "source": [
    "### ***Writing fast Numpy functions with Numba***"
   ]
  },
  {
   "cell_type": "code",
   "execution_count": 9,
   "id": "bbcdaf60-1c62-42f6-b5d2-166f01566860",
   "metadata": {},
   "outputs": [],
   "source": [
    "def mean_distance(x,y):\n",
    "    nx = len(x)\n",
    "    result = 0.0\n",
    "    count=0\n",
    "    for i in range(nx):\n",
    "        result += x[i]-y[i]\n",
    "        count += 1\n",
    "    return result/count"
   ]
  },
  {
   "cell_type": "code",
   "execution_count": 10,
   "id": "d4bc6263-ff04-4590-8d21-ade25fca5990",
   "metadata": {},
   "outputs": [],
   "source": [
    "# this function is very slow"
   ]
  },
  {
   "cell_type": "code",
   "execution_count": 11,
   "id": "4dbb1cba-9b35-4e20-af26-2a091cf53c93",
   "metadata": {},
   "outputs": [],
   "source": [
    "x = np.random.randn(10000000)"
   ]
  },
  {
   "cell_type": "code",
   "execution_count": 12,
   "id": "8aa9cfca-780f-4706-8af8-71c38a429473",
   "metadata": {},
   "outputs": [],
   "source": [
    "y=np.random.randn(10000000)"
   ]
  },
  {
   "cell_type": "code",
   "execution_count": 13,
   "id": "e21e14c6-eff3-4d4e-b79d-f5b7da1a59fa",
   "metadata": {},
   "outputs": [
    {
     "name": "stdout",
     "output_type": "stream",
     "text": [
      "3.07 s ± 276 ms per loop (mean ± std. dev. of 7 runs, 1 loop each)\n"
     ]
    }
   ],
   "source": [
    "%timeit mean_distance(x,y)"
   ]
  },
  {
   "cell_type": "code",
   "execution_count": 14,
   "id": "7699f1e7-03a4-489c-9b3f-4335cb9bea67",
   "metadata": {},
   "outputs": [
    {
     "name": "stdout",
     "output_type": "stream",
     "text": [
      "54.5 ms ± 4.38 ms per loop (mean ± std. dev. of 7 runs, 10 loops each)\n"
     ]
    }
   ],
   "source": [
    "%timeit (x-y).mean()"
   ]
  },
  {
   "cell_type": "code",
   "execution_count": 15,
   "id": "4c901fcf-9a29-49bb-b38b-d1cb4b6cc345",
   "metadata": {},
   "outputs": [],
   "source": [
    "import numba as nb"
   ]
  },
  {
   "cell_type": "code",
   "execution_count": 16,
   "id": "85ee5b4a-9cd6-4e55-8f3d-cdd6d76520ec",
   "metadata": {},
   "outputs": [],
   "source": [
    "numba_mean_distance = nb.jit(mean_distance)"
   ]
  },
  {
   "cell_type": "code",
   "execution_count": 17,
   "id": "5eee2fa3-e597-4a53-9777-58c8ce013adc",
   "metadata": {},
   "outputs": [
    {
     "name": "stdout",
     "output_type": "stream",
     "text": [
      "10.7 ms ± 749 μs per loop (mean ± std. dev. of 7 runs, 1 loop each)\n"
     ]
    }
   ],
   "source": [
    "%timeit numba_mean_distance(x,y)"
   ]
  },
  {
   "cell_type": "markdown",
   "id": "856d2043-83a9-4f50-b62a-88f20364c60a",
   "metadata": {},
   "source": [
    "*Numba cannot compile all pure python code, but it supports significant subset of python*"
   ]
  },
  {
   "cell_type": "code",
   "execution_count": null,
   "id": "cf76e950-c0dd-4999-aa84-55541a1287b5",
   "metadata": {},
   "outputs": [],
   "source": []
  }
 ],
 "metadata": {
  "kernelspec": {
   "display_name": "Python [conda env:base] *",
   "language": "python",
   "name": "conda-base-py"
  },
  "language_info": {
   "codemirror_mode": {
    "name": "ipython",
    "version": 3
   },
   "file_extension": ".py",
   "mimetype": "text/x-python",
   "name": "python",
   "nbconvert_exporter": "python",
   "pygments_lexer": "ipython3",
   "version": "3.12.7"
  }
 },
 "nbformat": 4,
 "nbformat_minor": 5
}
