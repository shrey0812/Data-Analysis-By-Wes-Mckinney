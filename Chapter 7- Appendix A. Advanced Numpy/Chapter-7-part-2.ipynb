{
 "cells": [
  {
   "cell_type": "markdown",
   "id": "b4f0a95f-4421-4bc2-8e91-837dbda3710d",
   "metadata": {},
   "source": [
    "#### ***Setting Values by Broadcasting***"
   ]
  },
  {
   "cell_type": "markdown",
   "id": "8225a776-da98-47b3-9460-143c734eba69",
   "metadata": {},
   "source": [
    "*The same broadcasting rule governing arithmetic operations also applies to setting values via array indexing.*"
   ]
  },
  {
   "cell_type": "code",
   "execution_count": 1,
   "id": "79e70d99-b514-4f55-bb88-aa9f1e4a6708",
   "metadata": {},
   "outputs": [],
   "source": [
    "import numpy as np"
   ]
  },
  {
   "cell_type": "code",
   "execution_count": 2,
   "id": "155872f4-df0f-4ec4-a237-c0fc115dce2b",
   "metadata": {},
   "outputs": [],
   "source": [
    "arr = np.zeros((4,3))"
   ]
  },
  {
   "cell_type": "code",
   "execution_count": 3,
   "id": "d08898a2-0394-474a-804c-9361671d8475",
   "metadata": {},
   "outputs": [],
   "source": [
    "arr[:] = 5"
   ]
  },
  {
   "cell_type": "code",
   "execution_count": 4,
   "id": "68eccbfa-31f0-45e2-b901-484ec66d5738",
   "metadata": {},
   "outputs": [
    {
     "data": {
      "text/plain": [
       "array([[5., 5., 5.],\n",
       "       [5., 5., 5.],\n",
       "       [5., 5., 5.],\n",
       "       [5., 5., 5.]])"
      ]
     },
     "execution_count": 4,
     "metadata": {},
     "output_type": "execute_result"
    }
   ],
   "source": [
    "arr"
   ]
  },
  {
   "cell_type": "markdown",
   "id": "d022387e-5454-4ce9-94e8-00704fc5625a",
   "metadata": {},
   "source": [
    "*if we had 1D array to set the value into the columns of an array, we can do that as long as the shape is comfortable*"
   ]
  },
  {
   "cell_type": "code",
   "execution_count": 5,
   "id": "b3792279-e949-4d40-a5b9-7edaf0af7844",
   "metadata": {},
   "outputs": [],
   "source": [
    "col = np.array([1.28,-0.42,0.44,1.6])"
   ]
  },
  {
   "cell_type": "code",
   "execution_count": 6,
   "id": "e531623c-5b0f-4ec5-9ef4-7a6c8dbd6f46",
   "metadata": {},
   "outputs": [],
   "source": [
    "arr[:] = col[:,np.newaxis]"
   ]
  },
  {
   "cell_type": "code",
   "execution_count": 7,
   "id": "3d9b3375-5a7b-4b02-b6c8-e2f6259d9e7f",
   "metadata": {},
   "outputs": [
    {
     "data": {
      "text/plain": [
       "array([[ 1.28,  1.28,  1.28],\n",
       "       [-0.42, -0.42, -0.42],\n",
       "       [ 0.44,  0.44,  0.44],\n",
       "       [ 1.6 ,  1.6 ,  1.6 ]])"
      ]
     },
     "execution_count": 7,
     "metadata": {},
     "output_type": "execute_result"
    }
   ],
   "source": [
    "arr"
   ]
  },
  {
   "cell_type": "code",
   "execution_count": 8,
   "id": "fab997b3-f7be-40d5-a6b0-125c7453ac6c",
   "metadata": {},
   "outputs": [],
   "source": [
    "arr = arr.reshape((3,4))"
   ]
  },
  {
   "cell_type": "code",
   "execution_count": 9,
   "id": "3fbd3ae1-614f-4ba9-9c70-92b1915ef044",
   "metadata": {},
   "outputs": [
    {
     "data": {
      "text/plain": [
       "array([[ 1.28,  1.28,  1.28, -0.42],\n",
       "       [-0.42, -0.42,  0.44,  0.44],\n",
       "       [ 0.44,  1.6 ,  1.6 ,  1.6 ]])"
      ]
     },
     "execution_count": 9,
     "metadata": {},
     "output_type": "execute_result"
    }
   ],
   "source": [
    "arr"
   ]
  },
  {
   "cell_type": "code",
   "execution_count": 10,
   "id": "d9f6b5b4-f2ef-44a4-a661-9ec1c2e3425d",
   "metadata": {},
   "outputs": [],
   "source": [
    "arr[:] = col[np.newaxis,:]"
   ]
  },
  {
   "cell_type": "code",
   "execution_count": 11,
   "id": "7e64691c-de63-4d0a-be83-096b1b0cb57f",
   "metadata": {},
   "outputs": [
    {
     "data": {
      "text/plain": [
       "array([[ 1.28, -0.42,  0.44,  1.6 ],\n",
       "       [ 1.28, -0.42,  0.44,  1.6 ],\n",
       "       [ 1.28, -0.42,  0.44,  1.6 ]])"
      ]
     },
     "execution_count": 11,
     "metadata": {},
     "output_type": "execute_result"
    }
   ],
   "source": [
    "arr"
   ]
  },
  {
   "cell_type": "code",
   "execution_count": 12,
   "id": "02205db7-c874-4f42-a39c-1200b5c7129e",
   "metadata": {},
   "outputs": [],
   "source": [
    "arr[:2] = [[-1.37],[0.506]]"
   ]
  },
  {
   "cell_type": "code",
   "execution_count": 13,
   "id": "85b2727e-3aba-44bd-90cc-b1894a6076a8",
   "metadata": {},
   "outputs": [
    {
     "data": {
      "text/plain": [
       "array([[-1.37 , -1.37 , -1.37 , -1.37 ],\n",
       "       [ 0.506,  0.506,  0.506,  0.506],\n",
       "       [ 1.28 , -0.42 ,  0.44 ,  1.6  ]])"
      ]
     },
     "execution_count": 13,
     "metadata": {},
     "output_type": "execute_result"
    }
   ],
   "source": [
    "arr"
   ]
  },
  {
   "cell_type": "markdown",
   "id": "c7d66f57-d631-4714-ba65-f67cd53d4cb6",
   "metadata": {},
   "source": [
    "### ***Advanced Ufunc Usage***"
   ]
  },
  {
   "cell_type": "raw",
   "id": "b099c573-406f-4fdd-8e11-cafa839a496d",
   "metadata": {},
   "source": [
    "There are number of additional functions that can help you write a more concise code without loops "
   ]
  },
  {
   "cell_type": "markdown",
   "id": "fc4f86ab-cb4c-454c-b1e0-21cd7f8900d4",
   "metadata": {},
   "source": [
    "#### ***Ufunc Instance Methods***"
   ]
  },
  {
   "cell_type": "raw",
   "id": "8be4613c-677f-403f-88d8-9cda3fe2e8fc",
   "metadata": {},
   "source": [
    "Each of numpy's binary ufuncs has special methods for performing certain kinds of special vectorized operations."
   ]
  },
  {
   "cell_type": "code",
   "execution_count": 14,
   "id": "647503a9-44ec-4ce2-afaf-8e90945d10b4",
   "metadata": {},
   "outputs": [],
   "source": [
    "arr = np.arange(10)"
   ]
  },
  {
   "cell_type": "code",
   "execution_count": 15,
   "id": "9ddf95bd-5e86-4a5a-a722-49fcdd51845b",
   "metadata": {},
   "outputs": [
    {
     "data": {
      "text/plain": [
       "45"
      ]
     },
     "execution_count": 15,
     "metadata": {},
     "output_type": "execute_result"
    }
   ],
   "source": [
    "# reduce takes the values of the array aggregates its values,optionally along an axis.\n",
    "np.add.reduce(arr) "
   ]
  },
  {
   "cell_type": "code",
   "execution_count": 16,
   "id": "11750d34-d495-4f31-9ee1-8b01655e155f",
   "metadata": {},
   "outputs": [
    {
     "data": {
      "text/plain": [
       "45"
      ]
     },
     "execution_count": 16,
     "metadata": {},
     "output_type": "execute_result"
    }
   ],
   "source": [
    "arr.sum()"
   ]
  },
  {
   "cell_type": "code",
   "execution_count": 17,
   "id": "e11794b8-7238-44b3-959d-d5f15b24978c",
   "metadata": {},
   "outputs": [],
   "source": [
    "# np.logical_and to check whether the values in each row of an array are sorted:\n",
    "np.random.seed(12346) # for reproducibility"
   ]
  },
  {
   "cell_type": "code",
   "execution_count": 18,
   "id": "37f8ff09-8e2c-4bad-a12e-4f05217b88db",
   "metadata": {},
   "outputs": [],
   "source": [
    "arr = np.random.randn(5,5)"
   ]
  },
  {
   "cell_type": "code",
   "execution_count": 19,
   "id": "c30af1f6-0510-4139-891c-9337e1e450ae",
   "metadata": {},
   "outputs": [],
   "source": [
    "arr[::2].sort(1)"
   ]
  },
  {
   "cell_type": "code",
   "execution_count": 20,
   "id": "dfaafb9d-a12f-4d3c-9bcf-82b7eb07772b",
   "metadata": {},
   "outputs": [
    {
     "data": {
      "text/plain": [
       "array([[ True,  True,  True,  True],\n",
       "       [False,  True, False, False],\n",
       "       [ True,  True,  True,  True],\n",
       "       [ True, False,  True,  True],\n",
       "       [ True,  True,  True,  True]])"
      ]
     },
     "execution_count": 20,
     "metadata": {},
     "output_type": "execute_result"
    }
   ],
   "source": [
    "arr[:,:-1]<arr[:,1:]"
   ]
  },
  {
   "cell_type": "code",
   "execution_count": 21,
   "id": "48ad16a7-7793-481e-82de-7d56a0e232eb",
   "metadata": {},
   "outputs": [
    {
     "data": {
      "text/plain": [
       "array([ True, False,  True, False,  True])"
      ]
     },
     "execution_count": 21,
     "metadata": {},
     "output_type": "execute_result"
    }
   ],
   "source": [
    "np.logical_and.reduce(arr[:,:-1]<arr[:,1:],axis=1)"
   ]
  },
  {
   "cell_type": "code",
   "execution_count": 22,
   "id": "0ef9009f-4d06-474b-bcf9-d559a4116372",
   "metadata": {},
   "outputs": [
    {
     "data": {
      "text/plain": [
       "array([[ 0,  1,  2,  3,  4],\n",
       "       [ 5,  6,  7,  8,  9],\n",
       "       [10, 11, 12, 13, 14]])"
      ]
     },
     "execution_count": 22,
     "metadata": {},
     "output_type": "execute_result"
    }
   ],
   "source": [
    "# the accumulate is related to reduce like cumsum is related to sum\n",
    "arr = np.arange(15).reshape((3,5))\n",
    "arr"
   ]
  },
  {
   "cell_type": "code",
   "execution_count": 23,
   "id": "e108147d-6971-4a8b-81e4-a6719327dbab",
   "metadata": {},
   "outputs": [
    {
     "data": {
      "text/plain": [
       "array([[ 0,  1,  3,  6, 10],\n",
       "       [ 5, 11, 18, 26, 35],\n",
       "       [10, 21, 33, 46, 60]])"
      ]
     },
     "execution_count": 23,
     "metadata": {},
     "output_type": "execute_result"
    }
   ],
   "source": [
    "np.add.accumulate(arr,axis=1)"
   ]
  },
  {
   "cell_type": "code",
   "execution_count": 24,
   "id": "e437d3b0-2d74-4f6a-9143-25ad843a0cad",
   "metadata": {},
   "outputs": [],
   "source": [
    "# outer performs a cross product between two arrays\n",
    "arr = np.arange(3).repeat([1,2,2])"
   ]
  },
  {
   "cell_type": "code",
   "execution_count": 25,
   "id": "5194d6b6-a0b7-4341-86aa-e9dc23397136",
   "metadata": {},
   "outputs": [
    {
     "data": {
      "text/plain": [
       "array([0, 1, 1, 2, 2])"
      ]
     },
     "execution_count": 25,
     "metadata": {},
     "output_type": "execute_result"
    }
   ],
   "source": [
    "arr"
   ]
  },
  {
   "cell_type": "code",
   "execution_count": 26,
   "id": "42bc6d06-fd99-479f-bdbf-0975c141e485",
   "metadata": {},
   "outputs": [
    {
     "data": {
      "text/plain": [
       "array([[0, 0, 0, 0, 0],\n",
       "       [0, 1, 2, 3, 4],\n",
       "       [0, 1, 2, 3, 4],\n",
       "       [0, 2, 4, 6, 8],\n",
       "       [0, 2, 4, 6, 8]])"
      ]
     },
     "execution_count": 26,
     "metadata": {},
     "output_type": "execute_result"
    }
   ],
   "source": [
    "np.multiply.outer(arr,np.arange(5))"
   ]
  },
  {
   "cell_type": "code",
   "execution_count": 27,
   "id": "2cc80464-4e15-46bf-a149-2b8bfc760270",
   "metadata": {},
   "outputs": [],
   "source": [
    "x,y = np.random.randn(3,4),np.random.randn(5)"
   ]
  },
  {
   "cell_type": "code",
   "execution_count": 28,
   "id": "0e1fffbf-5949-42c9-8918-f34c5330036f",
   "metadata": {},
   "outputs": [],
   "source": [
    "result = np.subtract.outer(x,y)"
   ]
  },
  {
   "cell_type": "code",
   "execution_count": 29,
   "id": "2bfe9a2f-c368-4875-832c-9e77486cec39",
   "metadata": {},
   "outputs": [
    {
     "data": {
      "text/plain": [
       "array([[[-0.07129513,  1.80587986,  0.04445711, -0.77002945,\n",
       "          0.37076839],\n",
       "        [-0.48729668,  1.38987831, -0.37154444, -1.18603099,\n",
       "         -0.04523316],\n",
       "        [-0.49099936,  1.38617563, -0.37524711, -1.18973367,\n",
       "         -0.04893584],\n",
       "        [-0.70194533,  1.17522966, -0.58619309, -1.40067964,\n",
       "         -0.25988181]],\n",
       "\n",
       "       [[-0.5388528 ,  1.33832219, -0.42310056, -1.23758711,\n",
       "         -0.09678928],\n",
       "        [-0.39734742,  1.47982757, -0.28159518, -1.09608173,\n",
       "          0.0447161 ],\n",
       "        [-0.78758534,  1.08958965, -0.6718331 , -1.48631965,\n",
       "         -0.34552182],\n",
       "        [-2.05029021, -0.17311522, -1.93453796, -2.74902452,\n",
       "         -1.60822669]],\n",
       "\n",
       "       [[ 0.2637349 ,  2.14090989,  0.37948715, -0.43499941,\n",
       "          0.70579842],\n",
       "        [-1.3352883 ,  0.54188669, -1.21953606, -2.03402261,\n",
       "         -0.89322478],\n",
       "        [-1.37407525,  0.50309974, -1.25832301, -2.07280956,\n",
       "         -0.93201173],\n",
       "        [-0.70013722,  1.17703777, -0.58438498, -1.39887153,\n",
       "         -0.2580737 ]]])"
      ]
     },
     "execution_count": 29,
     "metadata": {},
     "output_type": "execute_result"
    }
   ],
   "source": [
    "result"
   ]
  },
  {
   "cell_type": "code",
   "execution_count": 30,
   "id": "db605152-c7d7-43dd-9fe6-54f1d942ba42",
   "metadata": {},
   "outputs": [
    {
     "data": {
      "text/plain": [
       "(3, 4, 5)"
      ]
     },
     "execution_count": 30,
     "metadata": {},
     "output_type": "execute_result"
    }
   ],
   "source": [
    "result.shape"
   ]
  },
  {
   "cell_type": "code",
   "execution_count": 31,
   "id": "db5cda37-7073-43dc-8604-e7a8833f6b1a",
   "metadata": {},
   "outputs": [],
   "source": [
    "#reduceat performs \"local reduce\", in an essence an array \"group by\" operation in which slices of the array are agregated together."
   ]
  },
  {
   "cell_type": "code",
   "execution_count": 32,
   "id": "64f77a7d-17f2-45df-8306-e0aab8f5ed96",
   "metadata": {},
   "outputs": [],
   "source": [
    "arr = np.arange(10)"
   ]
  },
  {
   "cell_type": "code",
   "execution_count": 33,
   "id": "25ac6edc-93f3-4acf-820a-9f93ff4539b4",
   "metadata": {},
   "outputs": [
    {
     "data": {
      "text/plain": [
       "array([10, 18, 17])"
      ]
     },
     "execution_count": 33,
     "metadata": {},
     "output_type": "execute_result"
    }
   ],
   "source": [
    "np.add.reduceat(arr,[0,5,8])"
   ]
  },
  {
   "cell_type": "code",
   "execution_count": 34,
   "id": "dd717bd9-9113-442b-b29a-ccb13aab9150",
   "metadata": {},
   "outputs": [
    {
     "data": {
      "text/plain": [
       "array([0, 1, 2, 3, 4, 5, 6, 7, 8, 9])"
      ]
     },
     "execution_count": 34,
     "metadata": {},
     "output_type": "execute_result"
    }
   ],
   "source": [
    "arr"
   ]
  },
  {
   "cell_type": "code",
   "execution_count": 35,
   "id": "ea9d8ff8-e84c-4900-8f63-7407286e91e0",
   "metadata": {},
   "outputs": [],
   "source": [
    "arr = np.multiply.outer(np.arange(4),np.arange(5))"
   ]
  },
  {
   "cell_type": "code",
   "execution_count": 36,
   "id": "a45b13d0-5a77-436f-9a60-bcc47aa7ddfe",
   "metadata": {},
   "outputs": [
    {
     "data": {
      "text/plain": [
       "array([[ 0,  0,  0,  0,  0],\n",
       "       [ 0,  1,  2,  3,  4],\n",
       "       [ 0,  2,  4,  6,  8],\n",
       "       [ 0,  3,  6,  9, 12]])"
      ]
     },
     "execution_count": 36,
     "metadata": {},
     "output_type": "execute_result"
    }
   ],
   "source": [
    "arr"
   ]
  },
  {
   "cell_type": "code",
   "execution_count": 37,
   "id": "3769c8b5-1c6e-4aee-864c-ef2b501277c7",
   "metadata": {},
   "outputs": [
    {
     "data": {
      "text/plain": [
       "array([[ 0,  0,  0],\n",
       "       [ 1,  5,  4],\n",
       "       [ 2, 10,  8],\n",
       "       [ 3, 15, 12]])"
      ]
     },
     "execution_count": 37,
     "metadata": {},
     "output_type": "execute_result"
    }
   ],
   "source": [
    "np.add.reduceat(arr,[0,2,4],axis=1)"
   ]
  },
  {
   "cell_type": "markdown",
   "id": "6ba23d93-271e-44f1-867c-7a6c3aa315f7",
   "metadata": {},
   "source": [
    "### ***Structured and Record Arrays***"
   ]
  },
  {
   "cell_type": "code",
   "execution_count": 38,
   "id": "ca49d22c-2da3-4fe9-8072-af6e464c9766",
   "metadata": {},
   "outputs": [],
   "source": [
    "dtype = [('x', np.float64), ('y', np.int32)]"
   ]
  },
  {
   "cell_type": "code",
   "execution_count": 39,
   "id": "87ae1f13-754b-4a70-a00e-1287b5e4ab23",
   "metadata": {},
   "outputs": [],
   "source": [
    "sarr = np.array([(1.5,6),(np.pi,-2)],dtype=dtype)"
   ]
  },
  {
   "cell_type": "code",
   "execution_count": 40,
   "id": "9d292a3f-6b73-487a-8405-665e613e4e85",
   "metadata": {},
   "outputs": [
    {
     "data": {
      "text/plain": [
       "array([(1.5       ,  6), (3.14159265, -2)],\n",
       "      dtype=[('x', '<f8'), ('y', '<i4')])"
      ]
     },
     "execution_count": 40,
     "metadata": {},
     "output_type": "execute_result"
    }
   ],
   "source": [
    "sarr"
   ]
  },
  {
   "cell_type": "code",
   "execution_count": 41,
   "id": "261094b7-6a83-4382-9370-7e378ea250ec",
   "metadata": {},
   "outputs": [
    {
     "data": {
      "text/plain": [
       "(1.5, 6)"
      ]
     },
     "execution_count": 41,
     "metadata": {},
     "output_type": "execute_result"
    }
   ],
   "source": [
    "sarr[0]"
   ]
  },
  {
   "cell_type": "code",
   "execution_count": 42,
   "id": "f918f629-b7cf-46fc-8b2f-879d06cf9bae",
   "metadata": {},
   "outputs": [
    {
     "data": {
      "text/plain": [
       "6"
      ]
     },
     "execution_count": 42,
     "metadata": {},
     "output_type": "execute_result"
    }
   ],
   "source": [
    "sarr[0]['y']"
   ]
  },
  {
   "cell_type": "code",
   "execution_count": 43,
   "id": "606690ef-d3cb-4d60-9aef-d594c0febece",
   "metadata": {},
   "outputs": [
    {
     "data": {
      "text/plain": [
       "array([1.5       , 3.14159265])"
      ]
     },
     "execution_count": 43,
     "metadata": {},
     "output_type": "execute_result"
    }
   ],
   "source": [
    "sarr['x']"
   ]
  },
  {
   "cell_type": "markdown",
   "id": "5c245d11-5c60-4626-bfe0-b7e8f7290023",
   "metadata": {},
   "source": [
    "#### ***Nested dtypes and Multidimensional Fields*** "
   ]
  },
  {
   "cell_type": "code",
   "execution_count": 44,
   "id": "0ac985c6-afad-425b-8b53-4c4ed01676e8",
   "metadata": {},
   "outputs": [],
   "source": [
    "dtype = [('x', np.int64, 3), ('y', np.int32)]"
   ]
  },
  {
   "cell_type": "code",
   "execution_count": 45,
   "id": "0d3c4667-a48f-468e-a089-7c57b5a04773",
   "metadata": {},
   "outputs": [],
   "source": [
    "arr = np.zeros(4,dtype=dtype)"
   ]
  },
  {
   "cell_type": "code",
   "execution_count": 46,
   "id": "b3f0d5fb-bf9b-422f-a909-19647a12b944",
   "metadata": {},
   "outputs": [
    {
     "data": {
      "text/plain": [
       "array([([0, 0, 0], 0), ([0, 0, 0], 0), ([0, 0, 0], 0), ([0, 0, 0], 0)],\n",
       "      dtype=[('x', '<i8', (3,)), ('y', '<i4')])"
      ]
     },
     "execution_count": 46,
     "metadata": {},
     "output_type": "execute_result"
    }
   ],
   "source": [
    "arr"
   ]
  },
  {
   "cell_type": "code",
   "execution_count": 47,
   "id": "567e6b2b-c17d-44ae-91f0-c8110e52fec8",
   "metadata": {},
   "outputs": [
    {
     "data": {
      "text/plain": [
       "array([0, 0, 0], dtype=int64)"
      ]
     },
     "execution_count": 47,
     "metadata": {},
     "output_type": "execute_result"
    }
   ],
   "source": [
    "arr[0]['x']"
   ]
  },
  {
   "cell_type": "code",
   "execution_count": 48,
   "id": "560dac46-411d-4e66-b360-b3cfa0c0138f",
   "metadata": {},
   "outputs": [
    {
     "data": {
      "text/plain": [
       "array([[0, 0, 0],\n",
       "       [0, 0, 0],\n",
       "       [0, 0, 0],\n",
       "       [0, 0, 0]], dtype=int64)"
      ]
     },
     "execution_count": 48,
     "metadata": {},
     "output_type": "execute_result"
    }
   ],
   "source": [
    "arr['x']"
   ]
  },
  {
   "cell_type": "code",
   "execution_count": 49,
   "id": "271050d8-69e3-4cc6-aac9-23cded0f9f41",
   "metadata": {},
   "outputs": [],
   "source": [
    "dtype = [('x', [('a', 'f8'), ('b', 'f4')]), ('y',np.int32)]"
   ]
  },
  {
   "cell_type": "code",
   "execution_count": 50,
   "id": "0b93cf5f-24b7-484c-a376-3b7e6ebca5d2",
   "metadata": {},
   "outputs": [],
   "source": [
    "data = np.array([((1, 2), 5), ((3, 4), 6)], dtype=dtype)"
   ]
  },
  {
   "cell_type": "code",
   "execution_count": 51,
   "id": "9d8dccbc-097f-46d8-a552-406af6fd8e11",
   "metadata": {},
   "outputs": [
    {
     "data": {
      "text/plain": [
       "array([(1., 2.), (3., 4.)], dtype=[('a', '<f8'), ('b', '<f4')])"
      ]
     },
     "execution_count": 51,
     "metadata": {},
     "output_type": "execute_result"
    }
   ],
   "source": [
    "data['x']"
   ]
  },
  {
   "cell_type": "code",
   "execution_count": 52,
   "id": "9409fa58-b870-4633-abe6-261996b6905d",
   "metadata": {},
   "outputs": [
    {
     "data": {
      "text/plain": [
       "array([5, 6])"
      ]
     },
     "execution_count": 52,
     "metadata": {},
     "output_type": "execute_result"
    }
   ],
   "source": [
    "data['y']"
   ]
  },
  {
   "cell_type": "code",
   "execution_count": 53,
   "id": "6029b5e3-c0a3-4933-96e7-bd4078ee17eb",
   "metadata": {},
   "outputs": [
    {
     "data": {
      "text/plain": [
       "array([1., 3.])"
      ]
     },
     "execution_count": 53,
     "metadata": {},
     "output_type": "execute_result"
    }
   ],
   "source": [
    "data['x']['a']"
   ]
  },
  {
   "cell_type": "markdown",
   "id": "d17865f8-6917-4fba-92b5-d8bd825c295c",
   "metadata": {},
   "source": [
    "### ***MORE ABOUT SORTING***"
   ]
  },
  {
   "cell_type": "code",
   "execution_count": 54,
   "id": "991f5810-bd47-4bd1-bb6f-fd4e3a1e4c06",
   "metadata": {},
   "outputs": [],
   "source": [
    "arr = np.random.randn(6).round(2)"
   ]
  },
  {
   "cell_type": "code",
   "execution_count": 55,
   "id": "89587e12-4d86-42ef-b64d-0c5ef83e5804",
   "metadata": {},
   "outputs": [],
   "source": [
    "arr.sort()"
   ]
  },
  {
   "cell_type": "code",
   "execution_count": 56,
   "id": "3df91a84-52b9-47ae-92a7-52a7fa60661f",
   "metadata": {},
   "outputs": [
    {
     "data": {
      "text/plain": [
       "array([-1.47, -1.43, -0.1 , -0.  ,  0.14,  1.24])"
      ]
     },
     "execution_count": 56,
     "metadata": {},
     "output_type": "execute_result"
    }
   ],
   "source": [
    "arr"
   ]
  },
  {
   "cell_type": "code",
   "execution_count": 57,
   "id": "0e87e1bd-735a-4847-8211-6177a16337e2",
   "metadata": {},
   "outputs": [],
   "source": [
    "arr = np.random.randn(3,5)"
   ]
  },
  {
   "cell_type": "code",
   "execution_count": 58,
   "id": "ec9cd8c3-0344-4382-890b-1e37150fafbd",
   "metadata": {},
   "outputs": [
    {
     "data": {
      "text/plain": [
       "array([[ 0.25360248, -0.18324574, -0.7066303 ,  0.42676074, -0.27757707],\n",
       "       [-0.82828458, -2.76283358,  0.98349424,  0.43775139, -0.84956379],\n",
       "       [ 0.71876344,  0.73289771,  0.50470465, -0.7892592 ,  0.5391877 ]])"
      ]
     },
     "execution_count": 58,
     "metadata": {},
     "output_type": "execute_result"
    }
   ],
   "source": [
    "arr"
   ]
  },
  {
   "cell_type": "code",
   "execution_count": 59,
   "id": "6b489d59-d42b-4394-be4c-cebb900d7d08",
   "metadata": {},
   "outputs": [],
   "source": [
    "arr[:,0].sort()"
   ]
  },
  {
   "cell_type": "code",
   "execution_count": 60,
   "id": "19eff35d-bd34-405e-900f-c084b60cc1f6",
   "metadata": {},
   "outputs": [
    {
     "data": {
      "text/plain": [
       "array([[-0.82828458, -0.18324574, -0.7066303 ,  0.42676074, -0.27757707],\n",
       "       [ 0.25360248, -2.76283358,  0.98349424,  0.43775139, -0.84956379],\n",
       "       [ 0.71876344,  0.73289771,  0.50470465, -0.7892592 ,  0.5391877 ]])"
      ]
     },
     "execution_count": 60,
     "metadata": {},
     "output_type": "execute_result"
    }
   ],
   "source": [
    "arr"
   ]
  },
  {
   "cell_type": "code",
   "execution_count": 61,
   "id": "d18b3123-23e9-42f3-b650-c7df0562d56e",
   "metadata": {},
   "outputs": [],
   "source": [
    "# numpy.sort creates a new array\n",
    "arr = np.random.randn(5)"
   ]
  },
  {
   "cell_type": "code",
   "execution_count": 62,
   "id": "b2e789b4-2a9f-46b9-9e0b-869a6f080317",
   "metadata": {},
   "outputs": [
    {
     "data": {
      "text/plain": [
       "array([ 1.29070685,  0.86761856,  0.41133011,  0.44593599, -0.3171888 ])"
      ]
     },
     "execution_count": 62,
     "metadata": {},
     "output_type": "execute_result"
    }
   ],
   "source": [
    "arr"
   ]
  },
  {
   "cell_type": "code",
   "execution_count": 63,
   "id": "7f07fe83-91df-42b3-9d40-da6d8172dfb9",
   "metadata": {},
   "outputs": [
    {
     "data": {
      "text/plain": [
       "array([-0.3171888 ,  0.41133011,  0.44593599,  0.86761856,  1.29070685])"
      ]
     },
     "execution_count": 63,
     "metadata": {},
     "output_type": "execute_result"
    }
   ],
   "source": [
    "np.sort(arr)"
   ]
  },
  {
   "cell_type": "code",
   "execution_count": 64,
   "id": "31d2cc86-135b-4be5-a59d-87ced685a71d",
   "metadata": {},
   "outputs": [
    {
     "data": {
      "text/plain": [
       "array([ 1.29070685,  0.86761856,  0.41133011,  0.44593599, -0.3171888 ])"
      ]
     },
     "execution_count": 64,
     "metadata": {},
     "output_type": "execute_result"
    }
   ],
   "source": [
    "arr"
   ]
  },
  {
   "cell_type": "code",
   "execution_count": 65,
   "id": "13345c03-561d-4695-a382-1bb02e1e2c85",
   "metadata": {},
   "outputs": [],
   "source": [
    "# sort also takes axis args\n",
    "arr = np.random.randn(3,5).round(3)"
   ]
  },
  {
   "cell_type": "code",
   "execution_count": 66,
   "id": "3b749163-d3ef-4a2c-a9b5-baf42eaadd2b",
   "metadata": {},
   "outputs": [
    {
     "data": {
      "text/plain": [
       "array([[-1.049,  1.346,  0.356, -0.092, -0.535],\n",
       "       [-0.036, -0.259, -0.199,  0.574,  0.561],\n",
       "       [ 0.21 , -0.808,  0.889,  1.192, -0.288]])"
      ]
     },
     "execution_count": 66,
     "metadata": {},
     "output_type": "execute_result"
    }
   ],
   "source": [
    "arr"
   ]
  },
  {
   "cell_type": "code",
   "execution_count": 67,
   "id": "465e796a-e854-465c-9d69-175a7e8183cc",
   "metadata": {},
   "outputs": [],
   "source": [
    "arr.sort(axis=1)"
   ]
  },
  {
   "cell_type": "code",
   "execution_count": 68,
   "id": "76894741-a540-445f-8466-b0b062f87e18",
   "metadata": {},
   "outputs": [
    {
     "data": {
      "text/plain": [
       "array([[-1.049, -0.535, -0.092,  0.356,  1.346],\n",
       "       [-0.259, -0.199, -0.036,  0.561,  0.574],\n",
       "       [-0.808, -0.288,  0.21 ,  0.889,  1.192]])"
      ]
     },
     "execution_count": 68,
     "metadata": {},
     "output_type": "execute_result"
    }
   ],
   "source": [
    "arr"
   ]
  },
  {
   "cell_type": "markdown",
   "id": "475463a6-691b-437e-b995-d049bd0ac3bf",
   "metadata": {},
   "source": [
    "***You may notice that there is no function for descending order. So what python users do is sort in asc order and then return reverse of the array***"
   ]
  },
  {
   "cell_type": "code",
   "execution_count": 69,
   "id": "aecf96d1-301d-46e3-97bd-48c172fe0a78",
   "metadata": {},
   "outputs": [
    {
     "data": {
      "text/plain": [
       "array([[ 1.346,  0.356, -0.092, -0.535, -1.049],\n",
       "       [ 0.574,  0.561, -0.036, -0.199, -0.259],\n",
       "       [ 1.192,  0.889,  0.21 , -0.288, -0.808]])"
      ]
     },
     "execution_count": 69,
     "metadata": {},
     "output_type": "execute_result"
    }
   ],
   "source": [
    "arr[:,::-1]"
   ]
  },
  {
   "cell_type": "markdown",
   "id": "0cd2cfeb-cc4d-47c6-a618-7c49f4bcbf08",
   "metadata": {},
   "source": [
    "#### ***Indirect Sorts: argsort and lexsort***"
   ]
  },
  {
   "cell_type": "markdown",
   "id": "f2a563dd-74a8-44fe-8f02-c5a2a531e464",
   "metadata": {},
   "source": [
    "*For example, in a students table, the student's name has to be first sorted by last name and then by first name. This is example of indirect sort*"
   ]
  },
  {
   "cell_type": "code",
   "execution_count": 70,
   "id": "5e918c32-5479-4c5a-87bd-380434fb9d2b",
   "metadata": {},
   "outputs": [],
   "source": [
    "values = np.array([5,0,1,3,2])"
   ]
  },
  {
   "cell_type": "code",
   "execution_count": 71,
   "id": "9a2fe801-3aeb-4635-979d-59dfe72c1778",
   "metadata": {},
   "outputs": [],
   "source": [
    "indexer = values.argsort()"
   ]
  },
  {
   "cell_type": "code",
   "execution_count": 72,
   "id": "05585612-fc17-464f-93ff-b2580709ef0f",
   "metadata": {},
   "outputs": [
    {
     "data": {
      "text/plain": [
       "array([1, 2, 4, 3, 0], dtype=int64)"
      ]
     },
     "execution_count": 72,
     "metadata": {},
     "output_type": "execute_result"
    }
   ],
   "source": [
    "indexer"
   ]
  },
  {
   "cell_type": "code",
   "execution_count": 73,
   "id": "b7459514-3262-4671-8c01-ffad2b315a16",
   "metadata": {},
   "outputs": [
    {
     "data": {
      "text/plain": [
       "array([0, 1, 2, 3, 5])"
      ]
     },
     "execution_count": 73,
     "metadata": {},
     "output_type": "execute_result"
    }
   ],
   "source": [
    "values[indexer]"
   ]
  },
  {
   "cell_type": "code",
   "execution_count": 74,
   "id": "06b8a47a-149f-4d66-95dd-4ca8da1d113a",
   "metadata": {},
   "outputs": [],
   "source": [
    "arr = np.random.randn(3,5).round(3)"
   ]
  },
  {
   "cell_type": "code",
   "execution_count": 75,
   "id": "0f9d5114-9a9d-41bc-bd1f-d850346b1b19",
   "metadata": {},
   "outputs": [
    {
     "data": {
      "text/plain": [
       "array([[-1.641, -1.605, -1.246, -1.023,  0.53 ],\n",
       "       [ 0.774, -1.712,  0.756, -1.408, -0.881],\n",
       "       [-0.19 , -1.126,  0.215,  1.057,  0.552]])"
      ]
     },
     "execution_count": 75,
     "metadata": {},
     "output_type": "execute_result"
    }
   ],
   "source": [
    "arr"
   ]
  },
  {
   "cell_type": "code",
   "execution_count": 76,
   "id": "f1460dfe-bbe7-421e-bbcf-3e3c71cf4397",
   "metadata": {},
   "outputs": [],
   "source": [
    "arr[0] = values"
   ]
  },
  {
   "cell_type": "code",
   "execution_count": 77,
   "id": "6e778aaf-dd27-40ad-a32d-bf99fae82295",
   "metadata": {},
   "outputs": [
    {
     "data": {
      "text/plain": [
       "array([[ 5.   ,  0.   ,  1.   ,  3.   ,  2.   ],\n",
       "       [ 0.774, -1.712,  0.756, -1.408, -0.881],\n",
       "       [-0.19 , -1.126,  0.215,  1.057,  0.552]])"
      ]
     },
     "execution_count": 77,
     "metadata": {},
     "output_type": "execute_result"
    }
   ],
   "source": [
    "arr"
   ]
  },
  {
   "cell_type": "code",
   "execution_count": 78,
   "id": "a30fea7b-a125-437d-93c6-236bd70717fb",
   "metadata": {},
   "outputs": [
    {
     "data": {
      "text/plain": [
       "array([[ 0.   ,  1.   ,  2.   ,  3.   ,  5.   ],\n",
       "       [-1.712,  0.756, -0.881, -1.408,  0.774],\n",
       "       [-1.126,  0.215,  0.552,  1.057, -0.19 ]])"
      ]
     },
     "execution_count": 78,
     "metadata": {},
     "output_type": "execute_result"
    }
   ],
   "source": [
    "arr[:,arr[0].argsort()]"
   ]
  },
  {
   "cell_type": "code",
   "execution_count": 79,
   "id": "bf534c13-8dbe-4e46-af20-6e1af27ba411",
   "metadata": {},
   "outputs": [],
   "source": [
    "# lexsort is similar but it performs an indirect lexicographically sort on multiple keys"
   ]
  },
  {
   "cell_type": "code",
   "execution_count": 80,
   "id": "dfe28387-8c78-4e74-b411-59e80e0f5fa1",
   "metadata": {},
   "outputs": [],
   "source": [
    "first_name = np.array(['Bob', 'Jane', 'Steve', 'Bill','Barbara'])"
   ]
  },
  {
   "cell_type": "code",
   "execution_count": 81,
   "id": "aaf2009b-9df1-463a-bfb6-85915b924f5a",
   "metadata": {},
   "outputs": [],
   "source": [
    "last_name = np.array(['Jones', 'Arnold', 'Arnold','Jones', 'Walters'])"
   ]
  },
  {
   "cell_type": "code",
   "execution_count": 82,
   "id": "66c38c2b-2137-4955-971b-594977bd2e8e",
   "metadata": {},
   "outputs": [],
   "source": [
    "sorter = np.lexsort((first_name,last_name))"
   ]
  },
  {
   "cell_type": "code",
   "execution_count": 83,
   "id": "9ac4b233-7601-4743-bc2a-298d06dd9e3d",
   "metadata": {},
   "outputs": [
    {
     "data": {
      "text/plain": [
       "array([1, 2, 3, 0, 4], dtype=int64)"
      ]
     },
     "execution_count": 83,
     "metadata": {},
     "output_type": "execute_result"
    }
   ],
   "source": [
    "sorter"
   ]
  },
  {
   "cell_type": "code",
   "execution_count": 84,
   "id": "9a6745db-8d8c-43c6-bf5b-3b531576d69b",
   "metadata": {},
   "outputs": [
    {
     "data": {
      "text/plain": [
       "[('Arnold', 'Jane'),\n",
       " ('Arnold', 'Steve'),\n",
       " ('Jones', 'Bill'),\n",
       " ('Jones', 'Bob'),\n",
       " ('Walters', 'Barbara')]"
      ]
     },
     "execution_count": 84,
     "metadata": {},
     "output_type": "execute_result"
    }
   ],
   "source": [
    "list(zip(last_name[sorter],first_name[sorter]))"
   ]
  },
  {
   "cell_type": "markdown",
   "id": "31718e47-ed82-45c4-9d38-ea4107a265c7",
   "metadata": {},
   "source": [
    "#### ***Alternative sort Algorithms***"
   ]
  },
  {
   "cell_type": "markdown",
   "id": "71859acb-ed24-4d62-93e5-048e5cedcf50",
   "metadata": {},
   "source": [
    "*A stable sorting algorithm preserves the relative position of equal elements.*"
   ]
  },
  {
   "cell_type": "code",
   "execution_count": 85,
   "id": "eab520e6-92e6-459f-b6ab-c8c1aaae6e62",
   "metadata": {},
   "outputs": [],
   "source": [
    "values = np.array(['2:first', '2:second', '1:first','1:second','1:third'])"
   ]
  },
  {
   "cell_type": "code",
   "execution_count": 86,
   "id": "d0b818b3-3ed6-41e1-8a9b-cd6d7fce666a",
   "metadata": {},
   "outputs": [],
   "source": [
    "key = np.array([2,2,1,1,1])"
   ]
  },
  {
   "cell_type": "code",
   "execution_count": 87,
   "id": "7ed9ab34-37b8-47d0-9408-b6c7500ab2a2",
   "metadata": {},
   "outputs": [],
   "source": [
    "indexer = key.argsort(kind = 'mergesort')"
   ]
  },
  {
   "cell_type": "code",
   "execution_count": 88,
   "id": "2fb16acd-338d-49dd-86f3-d279ccf4752c",
   "metadata": {},
   "outputs": [
    {
     "data": {
      "text/plain": [
       "array([2, 3, 4, 0, 1], dtype=int64)"
      ]
     },
     "execution_count": 88,
     "metadata": {},
     "output_type": "execute_result"
    }
   ],
   "source": [
    "indexer"
   ]
  },
  {
   "cell_type": "code",
   "execution_count": 89,
   "id": "7547a3da-6ec4-43e7-a008-90db7aa0b951",
   "metadata": {},
   "outputs": [
    {
     "data": {
      "text/plain": [
       "array(['1:first', '1:second', '1:third', '2:first', '2:second'],\n",
       "      dtype='<U8')"
      ]
     },
     "execution_count": 89,
     "metadata": {},
     "output_type": "execute_result"
    }
   ],
   "source": [
    "values.take(indexer)"
   ]
  },
  {
   "cell_type": "markdown",
   "id": "5f1c89c7-ac2b-4b68-9ace-d44811e1291b",
   "metadata": {},
   "source": [
    "#### ***Partially Sorting Arrays***"
   ]
  },
  {
   "cell_type": "markdown",
   "id": "5a11afa4-a4b1-40f1-b0fc-a051eec55a74",
   "metadata": {},
   "source": [
    "*Numpy has fast methods numpy.partition and np.argpartition for partioning an array around the k-th smallest element*"
   ]
  },
  {
   "cell_type": "code",
   "execution_count": 90,
   "id": "c536c0e3-e9f5-4cc6-be24-826f9c1dbde2",
   "metadata": {},
   "outputs": [],
   "source": [
    "np.random.seed(12345)"
   ]
  },
  {
   "cell_type": "code",
   "execution_count": 91,
   "id": "4aa93e8c-5d3c-41ee-85ae-fde705c482a5",
   "metadata": {},
   "outputs": [],
   "source": [
    "arr = np.random.randn(20)"
   ]
  },
  {
   "cell_type": "code",
   "execution_count": 92,
   "id": "554f6435-2e1a-4893-86a2-e40a38baf72a",
   "metadata": {},
   "outputs": [
    {
     "data": {
      "text/plain": [
       "array([-0.20470766,  0.47894334, -0.51943872, -0.5557303 ,  1.96578057,\n",
       "        1.39340583,  0.09290788,  0.28174615,  0.76902257,  1.24643474,\n",
       "        1.00718936, -1.29622111,  0.27499163,  0.22891288,  1.35291684,\n",
       "        0.88642934, -2.00163731, -0.37184254,  1.66902531, -0.43856974])"
      ]
     },
     "execution_count": 92,
     "metadata": {},
     "output_type": "execute_result"
    }
   ],
   "source": [
    "arr"
   ]
  },
  {
   "cell_type": "code",
   "execution_count": 93,
   "id": "6abdf358-6f86-434a-8ba8-660f3150eab1",
   "metadata": {},
   "outputs": [
    {
     "data": {
      "text/plain": [
       "array([-2.00163731, -1.29622111, -0.5557303 , -0.51943872, -0.37184254,\n",
       "       -0.43856974, -0.20470766,  0.28174615,  0.76902257,  0.47894334,\n",
       "        1.00718936,  0.09290788,  0.27499163,  0.22891288,  1.35291684,\n",
       "        0.88642934,  1.39340583,  1.96578057,  1.66902531,  1.24643474])"
      ]
     },
     "execution_count": 93,
     "metadata": {},
     "output_type": "execute_result"
    }
   ],
   "source": [
    "np.partition(arr,3)"
   ]
  },
  {
   "cell_type": "code",
   "execution_count": 94,
   "id": "3ebe66d5-0ac6-4e5d-9134-5dd796cfe70d",
   "metadata": {},
   "outputs": [],
   "source": [
    "indices = np.argpartition(arr,3)"
   ]
  },
  {
   "cell_type": "code",
   "execution_count": 95,
   "id": "30103e94-422d-426e-8e04-1e54ad4683b6",
   "metadata": {},
   "outputs": [
    {
     "data": {
      "text/plain": [
       "array([16, 11,  3,  2, 17, 19,  0,  7,  8,  1, 10,  6, 12, 13, 14, 15,  5,\n",
       "        4, 18,  9], dtype=int64)"
      ]
     },
     "execution_count": 95,
     "metadata": {},
     "output_type": "execute_result"
    }
   ],
   "source": [
    "indices"
   ]
  },
  {
   "cell_type": "code",
   "execution_count": 96,
   "id": "e74950e0-2d33-47b7-b562-6ddfe6600ea1",
   "metadata": {},
   "outputs": [
    {
     "data": {
      "text/plain": [
       "array([-2.00163731, -1.29622111, -0.5557303 , -0.51943872, -0.37184254,\n",
       "       -0.43856974, -0.20470766,  0.28174615,  0.76902257,  0.47894334,\n",
       "        1.00718936,  0.09290788,  0.27499163,  0.22891288,  1.35291684,\n",
       "        0.88642934,  1.39340583,  1.96578057,  1.66902531,  1.24643474])"
      ]
     },
     "execution_count": 96,
     "metadata": {},
     "output_type": "execute_result"
    }
   ],
   "source": [
    "arr.take(indices)"
   ]
  },
  {
   "cell_type": "markdown",
   "id": "b8816e4e-c67e-4768-8ab1-ee4e73c25b96",
   "metadata": {},
   "source": [
    "#### ***numpy.searchsorted: Finding elements in a sorted array***"
   ]
  },
  {
   "cell_type": "markdown",
   "id": "fab1a05c-1088-481a-84ea-ece288265b21",
   "metadata": {},
   "source": [
    "*searchsorted is a method that performs binary search on a sorted array, returning the location in the array where the value need to be inserted*"
   ]
  },
  {
   "cell_type": "code",
   "execution_count": 97,
   "id": "d9093442-d2eb-4337-b6be-f3ff0cbd4826",
   "metadata": {},
   "outputs": [],
   "source": [
    "arr = np.array([0,1,7,12,15])"
   ]
  },
  {
   "cell_type": "code",
   "execution_count": 98,
   "id": "1f5f4a3a-a396-465c-aabc-51fe03b17b05",
   "metadata": {},
   "outputs": [
    {
     "data": {
      "text/plain": [
       "3"
      ]
     },
     "execution_count": 98,
     "metadata": {},
     "output_type": "execute_result"
    }
   ],
   "source": [
    "arr.searchsorted(9)"
   ]
  },
  {
   "cell_type": "code",
   "execution_count": 99,
   "id": "bb0b8fe7-7849-48d0-88d9-1859fbbce78a",
   "metadata": {},
   "outputs": [
    {
     "data": {
      "text/plain": [
       "array([0, 3, 3, 5], dtype=int64)"
      ]
     },
     "execution_count": 99,
     "metadata": {},
     "output_type": "execute_result"
    }
   ],
   "source": [
    "arr.searchsorted([0,8,11,16])"
   ]
  },
  {
   "cell_type": "code",
   "execution_count": 100,
   "id": "82e81246-0937-4bda-ab11-7ebbb7e33d34",
   "metadata": {},
   "outputs": [],
   "source": [
    "arr = np.array([0,0,0,1,1,1,1])"
   ]
  },
  {
   "cell_type": "code",
   "execution_count": 101,
   "id": "1ca39327-c8a3-468f-8293-46ded103a65c",
   "metadata": {},
   "outputs": [
    {
     "data": {
      "text/plain": [
       "array([0, 3], dtype=int64)"
      ]
     },
     "execution_count": 101,
     "metadata": {},
     "output_type": "execute_result"
    }
   ],
   "source": [
    "arr.searchsorted([0,1])"
   ]
  },
  {
   "cell_type": "code",
   "execution_count": 102,
   "id": "d2a4821e-a9a5-4ede-8970-3105b934f5af",
   "metadata": {},
   "outputs": [
    {
     "data": {
      "text/plain": [
       "array([3, 7], dtype=int64)"
      ]
     },
     "execution_count": 102,
     "metadata": {},
     "output_type": "execute_result"
    }
   ],
   "source": [
    "arr.searchsorted([0, 1], side='right')"
   ]
  },
  {
   "cell_type": "code",
   "execution_count": null,
   "id": "c03cafca-7205-4cad-b9e7-0c165a3634ae",
   "metadata": {},
   "outputs": [],
   "source": []
  }
 ],
 "metadata": {
  "kernelspec": {
   "display_name": "Python [conda env:base] *",
   "language": "python",
   "name": "conda-base-py"
  },
  "language_info": {
   "codemirror_mode": {
    "name": "ipython",
    "version": 3
   },
   "file_extension": ".py",
   "mimetype": "text/x-python",
   "name": "python",
   "nbconvert_exporter": "python",
   "pygments_lexer": "ipython3",
   "version": "3.12.7"
  }
 },
 "nbformat": 4,
 "nbformat_minor": 5
}
