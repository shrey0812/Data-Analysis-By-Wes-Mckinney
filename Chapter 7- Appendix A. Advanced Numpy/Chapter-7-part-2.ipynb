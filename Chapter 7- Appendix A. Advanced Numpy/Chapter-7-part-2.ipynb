{
 "cells": [
  {
   "cell_type": "markdown",
   "id": "b4f0a95f-4421-4bc2-8e91-837dbda3710d",
   "metadata": {},
   "source": [
    "#### ***Setting Values by Broadcasting***"
   ]
  },
  {
   "cell_type": "markdown",
   "id": "8225a776-da98-47b3-9460-143c734eba69",
   "metadata": {},
   "source": [
    "*The same broadcasting rule governing arithmetic operations also applies to setting values via array indexing.*"
   ]
  },
  {
   "cell_type": "code",
   "execution_count": 1,
   "id": "79e70d99-b514-4f55-bb88-aa9f1e4a6708",
   "metadata": {},
   "outputs": [],
   "source": [
    "import numpy as np"
   ]
  },
  {
   "cell_type": "code",
   "execution_count": 3,
   "id": "155872f4-df0f-4ec4-a237-c0fc115dce2b",
   "metadata": {},
   "outputs": [],
   "source": [
    "arr = np.zeros((4,3))"
   ]
  },
  {
   "cell_type": "code",
   "execution_count": 4,
   "id": "d08898a2-0394-474a-804c-9361671d8475",
   "metadata": {},
   "outputs": [],
   "source": [
    "arr[:] = 5"
   ]
  },
  {
   "cell_type": "code",
   "execution_count": 5,
   "id": "68eccbfa-31f0-45e2-b901-484ec66d5738",
   "metadata": {},
   "outputs": [
    {
     "data": {
      "text/plain": [
       "array([[5., 5., 5.],\n",
       "       [5., 5., 5.],\n",
       "       [5., 5., 5.],\n",
       "       [5., 5., 5.]])"
      ]
     },
     "execution_count": 5,
     "metadata": {},
     "output_type": "execute_result"
    }
   ],
   "source": [
    "arr"
   ]
  },
  {
   "cell_type": "markdown",
   "id": "d022387e-5454-4ce9-94e8-00704fc5625a",
   "metadata": {},
   "source": [
    "*if we had 1D array to set the value into the columns of an array, we can do that as long as the shape is comfortable*"
   ]
  },
  {
   "cell_type": "code",
   "execution_count": 6,
   "id": "b3792279-e949-4d40-a5b9-7edaf0af7844",
   "metadata": {},
   "outputs": [],
   "source": [
    "col = np.array([1.28,-0.42,0.44,1.6])"
   ]
  },
  {
   "cell_type": "code",
   "execution_count": 7,
   "id": "e531623c-5b0f-4ec5-9ef4-7a6c8dbd6f46",
   "metadata": {},
   "outputs": [],
   "source": [
    "arr[:] = col[:,np.newaxis]"
   ]
  },
  {
   "cell_type": "code",
   "execution_count": 8,
   "id": "3d9b3375-5a7b-4b02-b6c8-e2f6259d9e7f",
   "metadata": {},
   "outputs": [
    {
     "data": {
      "text/plain": [
       "array([[ 1.28,  1.28,  1.28],\n",
       "       [-0.42, -0.42, -0.42],\n",
       "       [ 0.44,  0.44,  0.44],\n",
       "       [ 1.6 ,  1.6 ,  1.6 ]])"
      ]
     },
     "execution_count": 8,
     "metadata": {},
     "output_type": "execute_result"
    }
   ],
   "source": [
    "arr"
   ]
  },
  {
   "cell_type": "code",
   "execution_count": 9,
   "id": "fab997b3-f7be-40d5-a6b0-125c7453ac6c",
   "metadata": {},
   "outputs": [],
   "source": [
    "arr = arr.reshape((3,4))"
   ]
  },
  {
   "cell_type": "code",
   "execution_count": 10,
   "id": "3fbd3ae1-614f-4ba9-9c70-92b1915ef044",
   "metadata": {},
   "outputs": [
    {
     "data": {
      "text/plain": [
       "array([[ 1.28,  1.28,  1.28, -0.42],\n",
       "       [-0.42, -0.42,  0.44,  0.44],\n",
       "       [ 0.44,  1.6 ,  1.6 ,  1.6 ]])"
      ]
     },
     "execution_count": 10,
     "metadata": {},
     "output_type": "execute_result"
    }
   ],
   "source": [
    "arr"
   ]
  },
  {
   "cell_type": "code",
   "execution_count": 11,
   "id": "d9f6b5b4-f2ef-44a4-a661-9ec1c2e3425d",
   "metadata": {},
   "outputs": [],
   "source": [
    "arr[:] = col[np.newaxis,:]"
   ]
  },
  {
   "cell_type": "code",
   "execution_count": 12,
   "id": "7e64691c-de63-4d0a-be83-096b1b0cb57f",
   "metadata": {},
   "outputs": [
    {
     "data": {
      "text/plain": [
       "array([[ 1.28, -0.42,  0.44,  1.6 ],\n",
       "       [ 1.28, -0.42,  0.44,  1.6 ],\n",
       "       [ 1.28, -0.42,  0.44,  1.6 ]])"
      ]
     },
     "execution_count": 12,
     "metadata": {},
     "output_type": "execute_result"
    }
   ],
   "source": [
    "arr"
   ]
  },
  {
   "cell_type": "code",
   "execution_count": 13,
   "id": "02205db7-c874-4f42-a39c-1200b5c7129e",
   "metadata": {},
   "outputs": [],
   "source": [
    "arr[:2] = [[-1.37],[0.506]]"
   ]
  },
  {
   "cell_type": "code",
   "execution_count": 14,
   "id": "85b2727e-3aba-44bd-90cc-b1894a6076a8",
   "metadata": {},
   "outputs": [
    {
     "data": {
      "text/plain": [
       "array([[-1.37 , -1.37 , -1.37 , -1.37 ],\n",
       "       [ 0.506,  0.506,  0.506,  0.506],\n",
       "       [ 1.28 , -0.42 ,  0.44 ,  1.6  ]])"
      ]
     },
     "execution_count": 14,
     "metadata": {},
     "output_type": "execute_result"
    }
   ],
   "source": [
    "arr"
   ]
  },
  {
   "cell_type": "markdown",
   "id": "c7d66f57-d631-4714-ba65-f67cd53d4cb6",
   "metadata": {},
   "source": [
    "### ***Advanced Ufunc Usage***"
   ]
  },
  {
   "cell_type": "raw",
   "id": "b099c573-406f-4fdd-8e11-cafa839a496d",
   "metadata": {},
   "source": [
    "There are number of additional functions that can help you write a more concise code without loops "
   ]
  },
  {
   "cell_type": "markdown",
   "id": "fc4f86ab-cb4c-454c-b1e0-21cd7f8900d4",
   "metadata": {},
   "source": [
    "#### ***Ufunc Instance Methods***"
   ]
  },
  {
   "cell_type": "raw",
   "id": "8be4613c-677f-403f-88d8-9cda3fe2e8fc",
   "metadata": {},
   "source": [
    "Each of numpy's binary ufuncs has special methods for performing certain kinds of special vectorized operations."
   ]
  },
  {
   "cell_type": "code",
   "execution_count": 15,
   "id": "647503a9-44ec-4ce2-afaf-8e90945d10b4",
   "metadata": {},
   "outputs": [],
   "source": [
    "arr = np.arange(10)"
   ]
  },
  {
   "cell_type": "code",
   "execution_count": 18,
   "id": "9ddf95bd-5e86-4a5a-a722-49fcdd51845b",
   "metadata": {},
   "outputs": [
    {
     "data": {
      "text/plain": [
       "45"
      ]
     },
     "execution_count": 18,
     "metadata": {},
     "output_type": "execute_result"
    }
   ],
   "source": [
    "# reduce takes the values of the array aggregates its values,optionally along an axis.\n",
    "np.add.reduce(arr) "
   ]
  },
  {
   "cell_type": "code",
   "execution_count": 17,
   "id": "11750d34-d495-4f31-9ee1-8b01655e155f",
   "metadata": {},
   "outputs": [
    {
     "data": {
      "text/plain": [
       "45"
      ]
     },
     "execution_count": 17,
     "metadata": {},
     "output_type": "execute_result"
    }
   ],
   "source": [
    "arr.sum()"
   ]
  },
  {
   "cell_type": "code",
   "execution_count": 20,
   "id": "e11794b8-7238-44b3-959d-d5f15b24978c",
   "metadata": {},
   "outputs": [],
   "source": [
    "# np.logical_and to check whether the values in each row of an array are sorted:\n",
    "np.random.seed(12346) # for reproducibility"
   ]
  },
  {
   "cell_type": "code",
   "execution_count": 21,
   "id": "37f8ff09-8e2c-4bad-a12e-4f05217b88db",
   "metadata": {},
   "outputs": [],
   "source": [
    "arr = np.random.randn(5,5)"
   ]
  },
  {
   "cell_type": "code",
   "execution_count": 22,
   "id": "c30af1f6-0510-4139-891c-9337e1e450ae",
   "metadata": {},
   "outputs": [],
   "source": [
    "arr[::2].sort(1)"
   ]
  },
  {
   "cell_type": "code",
   "execution_count": 23,
   "id": "dfaafb9d-a12f-4d3c-9bcf-82b7eb07772b",
   "metadata": {},
   "outputs": [
    {
     "data": {
      "text/plain": [
       "array([[ True,  True,  True,  True],\n",
       "       [False,  True, False, False],\n",
       "       [ True,  True,  True,  True],\n",
       "       [ True, False,  True,  True],\n",
       "       [ True,  True,  True,  True]])"
      ]
     },
     "execution_count": 23,
     "metadata": {},
     "output_type": "execute_result"
    }
   ],
   "source": [
    "arr[:,:-1]<arr[:,1:]"
   ]
  },
  {
   "cell_type": "code",
   "execution_count": 24,
   "id": "48ad16a7-7793-481e-82de-7d56a0e232eb",
   "metadata": {},
   "outputs": [
    {
     "data": {
      "text/plain": [
       "array([ True, False,  True, False,  True])"
      ]
     },
     "execution_count": 24,
     "metadata": {},
     "output_type": "execute_result"
    }
   ],
   "source": [
    "np.logical_and.reduce(arr[:,:-1]<arr[:,1:],axis=1)"
   ]
  },
  {
   "cell_type": "code",
   "execution_count": 27,
   "id": "0ef9009f-4d06-474b-bcf9-d559a4116372",
   "metadata": {},
   "outputs": [
    {
     "data": {
      "text/plain": [
       "array([[ 0,  1,  2,  3,  4],\n",
       "       [ 5,  6,  7,  8,  9],\n",
       "       [10, 11, 12, 13, 14]])"
      ]
     },
     "execution_count": 27,
     "metadata": {},
     "output_type": "execute_result"
    }
   ],
   "source": [
    "# the accumulate is related to reduce like cumsum is related to sum\n",
    "arr = np.arange(15).reshape((3,5))\n",
    "arr"
   ]
  },
  {
   "cell_type": "code",
   "execution_count": 26,
   "id": "e108147d-6971-4a8b-81e4-a6719327dbab",
   "metadata": {},
   "outputs": [
    {
     "data": {
      "text/plain": [
       "array([[ 0,  1,  3,  6, 10],\n",
       "       [ 5, 11, 18, 26, 35],\n",
       "       [10, 21, 33, 46, 60]])"
      ]
     },
     "execution_count": 26,
     "metadata": {},
     "output_type": "execute_result"
    }
   ],
   "source": [
    "np.add.accumulate(arr,axis=1)"
   ]
  },
  {
   "cell_type": "code",
   "execution_count": 29,
   "id": "e437d3b0-2d74-4f6a-9143-25ad843a0cad",
   "metadata": {},
   "outputs": [],
   "source": [
    "# outer performs a cross product between two arrays\n",
    "arr = np.arange(3).repeat([1,2,2])"
   ]
  },
  {
   "cell_type": "code",
   "execution_count": 30,
   "id": "5194d6b6-a0b7-4341-86aa-e9dc23397136",
   "metadata": {},
   "outputs": [
    {
     "data": {
      "text/plain": [
       "array([0, 1, 1, 2, 2])"
      ]
     },
     "execution_count": 30,
     "metadata": {},
     "output_type": "execute_result"
    }
   ],
   "source": [
    "arr"
   ]
  },
  {
   "cell_type": "code",
   "execution_count": 31,
   "id": "42bc6d06-fd99-479f-bdbf-0975c141e485",
   "metadata": {},
   "outputs": [
    {
     "data": {
      "text/plain": [
       "array([[0, 0, 0, 0, 0],\n",
       "       [0, 1, 2, 3, 4],\n",
       "       [0, 1, 2, 3, 4],\n",
       "       [0, 2, 4, 6, 8],\n",
       "       [0, 2, 4, 6, 8]])"
      ]
     },
     "execution_count": 31,
     "metadata": {},
     "output_type": "execute_result"
    }
   ],
   "source": [
    "np.multiply.outer(arr,np.arange(5))"
   ]
  },
  {
   "cell_type": "code",
   "execution_count": 32,
   "id": "2cc80464-4e15-46bf-a149-2b8bfc760270",
   "metadata": {},
   "outputs": [],
   "source": [
    "x,y = np.random.randn(3,4),np.random.randn(5)"
   ]
  },
  {
   "cell_type": "code",
   "execution_count": 33,
   "id": "0e1fffbf-5949-42c9-8918-f34c5330036f",
   "metadata": {},
   "outputs": [],
   "source": [
    "result = np.subtract.outer(x,y)"
   ]
  },
  {
   "cell_type": "code",
   "execution_count": 34,
   "id": "2bfe9a2f-c368-4875-832c-9e77486cec39",
   "metadata": {},
   "outputs": [
    {
     "data": {
      "text/plain": [
       "array([[[-0.07129513,  1.80587986,  0.04445711, -0.77002945,\n",
       "          0.37076839],\n",
       "        [-0.48729668,  1.38987831, -0.37154444, -1.18603099,\n",
       "         -0.04523316],\n",
       "        [-0.49099936,  1.38617563, -0.37524711, -1.18973367,\n",
       "         -0.04893584],\n",
       "        [-0.70194533,  1.17522966, -0.58619309, -1.40067964,\n",
       "         -0.25988181]],\n",
       "\n",
       "       [[-0.5388528 ,  1.33832219, -0.42310056, -1.23758711,\n",
       "         -0.09678928],\n",
       "        [-0.39734742,  1.47982757, -0.28159518, -1.09608173,\n",
       "          0.0447161 ],\n",
       "        [-0.78758534,  1.08958965, -0.6718331 , -1.48631965,\n",
       "         -0.34552182],\n",
       "        [-2.05029021, -0.17311522, -1.93453796, -2.74902452,\n",
       "         -1.60822669]],\n",
       "\n",
       "       [[ 0.2637349 ,  2.14090989,  0.37948715, -0.43499941,\n",
       "          0.70579842],\n",
       "        [-1.3352883 ,  0.54188669, -1.21953606, -2.03402261,\n",
       "         -0.89322478],\n",
       "        [-1.37407525,  0.50309974, -1.25832301, -2.07280956,\n",
       "         -0.93201173],\n",
       "        [-0.70013722,  1.17703777, -0.58438498, -1.39887153,\n",
       "         -0.2580737 ]]])"
      ]
     },
     "execution_count": 34,
     "metadata": {},
     "output_type": "execute_result"
    }
   ],
   "source": [
    "result"
   ]
  },
  {
   "cell_type": "code",
   "execution_count": 35,
   "id": "db605152-c7d7-43dd-9fe6-54f1d942ba42",
   "metadata": {},
   "outputs": [
    {
     "data": {
      "text/plain": [
       "(3, 4, 5)"
      ]
     },
     "execution_count": 35,
     "metadata": {},
     "output_type": "execute_result"
    }
   ],
   "source": [
    "result.shape"
   ]
  },
  {
   "cell_type": "code",
   "execution_count": 36,
   "id": "db5cda37-7073-43dc-8604-e7a8833f6b1a",
   "metadata": {},
   "outputs": [],
   "source": [
    "#reduceat performs \"local reduce\", in an essence an array \"group by\" operation in which slices of the array are agregated together."
   ]
  },
  {
   "cell_type": "code",
   "execution_count": 37,
   "id": "64f77a7d-17f2-45df-8306-e0aab8f5ed96",
   "metadata": {},
   "outputs": [],
   "source": [
    "arr = np.arange(10)"
   ]
  },
  {
   "cell_type": "code",
   "execution_count": 38,
   "id": "25ac6edc-93f3-4acf-820a-9f93ff4539b4",
   "metadata": {},
   "outputs": [
    {
     "data": {
      "text/plain": [
       "array([10, 18, 17])"
      ]
     },
     "execution_count": 38,
     "metadata": {},
     "output_type": "execute_result"
    }
   ],
   "source": [
    "np.add.reduceat(arr,[0,5,8])"
   ]
  },
  {
   "cell_type": "code",
   "execution_count": 39,
   "id": "dd717bd9-9113-442b-b29a-ccb13aab9150",
   "metadata": {},
   "outputs": [
    {
     "data": {
      "text/plain": [
       "array([0, 1, 2, 3, 4, 5, 6, 7, 8, 9])"
      ]
     },
     "execution_count": 39,
     "metadata": {},
     "output_type": "execute_result"
    }
   ],
   "source": [
    "arr"
   ]
  },
  {
   "cell_type": "code",
   "execution_count": 40,
   "id": "ea9d8ff8-e84c-4900-8f63-7407286e91e0",
   "metadata": {},
   "outputs": [],
   "source": [
    "arr = np.multiply.outer(np.arange(4),np.arange(5))"
   ]
  },
  {
   "cell_type": "code",
   "execution_count": 41,
   "id": "a45b13d0-5a77-436f-9a60-bcc47aa7ddfe",
   "metadata": {},
   "outputs": [
    {
     "data": {
      "text/plain": [
       "array([[ 0,  0,  0,  0,  0],\n",
       "       [ 0,  1,  2,  3,  4],\n",
       "       [ 0,  2,  4,  6,  8],\n",
       "       [ 0,  3,  6,  9, 12]])"
      ]
     },
     "execution_count": 41,
     "metadata": {},
     "output_type": "execute_result"
    }
   ],
   "source": [
    "arr"
   ]
  },
  {
   "cell_type": "code",
   "execution_count": 42,
   "id": "3769c8b5-1c6e-4aee-864c-ef2b501277c7",
   "metadata": {},
   "outputs": [
    {
     "data": {
      "text/plain": [
       "array([[ 0,  0,  0],\n",
       "       [ 1,  5,  4],\n",
       "       [ 2, 10,  8],\n",
       "       [ 3, 15, 12]])"
      ]
     },
     "execution_count": 42,
     "metadata": {},
     "output_type": "execute_result"
    }
   ],
   "source": [
    "np.add.reduceat(arr,[0,2,4],axis=1)"
   ]
  },
  {
   "cell_type": "markdown",
   "id": "6ba23d93-271e-44f1-867c-7a6c3aa315f7",
   "metadata": {},
   "source": [
    "### ***Structured and Record Arrays***"
   ]
  },
  {
   "cell_type": "code",
   "execution_count": 43,
   "id": "ca49d22c-2da3-4fe9-8072-af6e464c9766",
   "metadata": {},
   "outputs": [],
   "source": [
    "dtype = [('x', np.float64), ('y', np.int32)]"
   ]
  },
  {
   "cell_type": "code",
   "execution_count": 45,
   "id": "87ae1f13-754b-4a70-a00e-1287b5e4ab23",
   "metadata": {},
   "outputs": [],
   "source": [
    "sarr = np.array([(1.5,6),(np.pi,-2)],dtype=dtype)"
   ]
  },
  {
   "cell_type": "code",
   "execution_count": 46,
   "id": "9d292a3f-6b73-487a-8405-665e613e4e85",
   "metadata": {},
   "outputs": [
    {
     "data": {
      "text/plain": [
       "array([(1.5       ,  6), (3.14159265, -2)],\n",
       "      dtype=[('x', '<f8'), ('y', '<i4')])"
      ]
     },
     "execution_count": 46,
     "metadata": {},
     "output_type": "execute_result"
    }
   ],
   "source": [
    "sarr"
   ]
  },
  {
   "cell_type": "code",
   "execution_count": 47,
   "id": "261094b7-6a83-4382-9370-7e378ea250ec",
   "metadata": {},
   "outputs": [
    {
     "data": {
      "text/plain": [
       "(1.5, 6)"
      ]
     },
     "execution_count": 47,
     "metadata": {},
     "output_type": "execute_result"
    }
   ],
   "source": [
    "sarr[0]"
   ]
  },
  {
   "cell_type": "code",
   "execution_count": 48,
   "id": "f918f629-b7cf-46fc-8b2f-879d06cf9bae",
   "metadata": {},
   "outputs": [
    {
     "data": {
      "text/plain": [
       "6"
      ]
     },
     "execution_count": 48,
     "metadata": {},
     "output_type": "execute_result"
    }
   ],
   "source": [
    "sarr[0]['y']"
   ]
  },
  {
   "cell_type": "code",
   "execution_count": 49,
   "id": "606690ef-d3cb-4d60-9aef-d594c0febece",
   "metadata": {},
   "outputs": [
    {
     "data": {
      "text/plain": [
       "array([1.5       , 3.14159265])"
      ]
     },
     "execution_count": 49,
     "metadata": {},
     "output_type": "execute_result"
    }
   ],
   "source": [
    "sarr['x']"
   ]
  },
  {
   "cell_type": "markdown",
   "id": "5c245d11-5c60-4626-bfe0-b7e8f7290023",
   "metadata": {},
   "source": [
    "#### ***Nested dtypes and Multidimensional Fields*** "
   ]
  },
  {
   "cell_type": "code",
   "execution_count": 50,
   "id": "0ac985c6-afad-425b-8b53-4c4ed01676e8",
   "metadata": {},
   "outputs": [],
   "source": [
    "dtype = [('x', np.int64, 3), ('y', np.int32)]"
   ]
  },
  {
   "cell_type": "code",
   "execution_count": 51,
   "id": "0d3c4667-a48f-468e-a089-7c57b5a04773",
   "metadata": {},
   "outputs": [],
   "source": [
    "arr = np.zeros(4,dtype=dtype)"
   ]
  },
  {
   "cell_type": "code",
   "execution_count": 52,
   "id": "b3f0d5fb-bf9b-422f-a909-19647a12b944",
   "metadata": {},
   "outputs": [
    {
     "data": {
      "text/plain": [
       "array([([0, 0, 0], 0), ([0, 0, 0], 0), ([0, 0, 0], 0), ([0, 0, 0], 0)],\n",
       "      dtype=[('x', '<i8', (3,)), ('y', '<i4')])"
      ]
     },
     "execution_count": 52,
     "metadata": {},
     "output_type": "execute_result"
    }
   ],
   "source": [
    "arr"
   ]
  },
  {
   "cell_type": "code",
   "execution_count": 53,
   "id": "567e6b2b-c17d-44ae-91f0-c8110e52fec8",
   "metadata": {},
   "outputs": [
    {
     "data": {
      "text/plain": [
       "array([0, 0, 0], dtype=int64)"
      ]
     },
     "execution_count": 53,
     "metadata": {},
     "output_type": "execute_result"
    }
   ],
   "source": [
    "arr[0]['x']"
   ]
  },
  {
   "cell_type": "code",
   "execution_count": 54,
   "id": "560dac46-411d-4e66-b360-b3cfa0c0138f",
   "metadata": {},
   "outputs": [
    {
     "data": {
      "text/plain": [
       "array([[0, 0, 0],\n",
       "       [0, 0, 0],\n",
       "       [0, 0, 0],\n",
       "       [0, 0, 0]], dtype=int64)"
      ]
     },
     "execution_count": 54,
     "metadata": {},
     "output_type": "execute_result"
    }
   ],
   "source": [
    "arr['x']"
   ]
  },
  {
   "cell_type": "code",
   "execution_count": 55,
   "id": "271050d8-69e3-4cc6-aac9-23cded0f9f41",
   "metadata": {},
   "outputs": [],
   "source": [
    "dtype = [('x', [('a', 'f8'), ('b', 'f4')]), ('y',np.int32)]"
   ]
  },
  {
   "cell_type": "code",
   "execution_count": null,
   "id": "0b93cf5f-24b7-484c-a376-3b7e6ebca5d2",
   "metadata": {},
   "outputs": [],
   "source": []
  }
 ],
 "metadata": {
  "kernelspec": {
   "display_name": "Python [conda env:base] *",
   "language": "python",
   "name": "conda-base-py"
  },
  "language_info": {
   "codemirror_mode": {
    "name": "ipython",
    "version": 3
   },
   "file_extension": ".py",
   "mimetype": "text/x-python",
   "name": "python",
   "nbconvert_exporter": "python",
   "pygments_lexer": "ipython3",
   "version": "3.12.7"
  }
 },
 "nbformat": 4,
 "nbformat_minor": 5
}
