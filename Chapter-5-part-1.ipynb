{
 "cells": [
  {
   "cell_type": "markdown",
   "id": "0d782c64-5aee-4828-ac90-8d939f4c66ee",
   "metadata": {},
   "source": [
    "### Getting Started with Pandas"
   ]
  },
  {
   "cell_type": "raw",
   "id": "3784f7f0-0e62-4f89-af9a-5908b07f0e1b",
   "metadata": {},
   "source": [
    "Contains data structures and data manipulation tools designed to make data cleaning and analysis fast and east in python."
   ]
  },
  {
   "cell_type": "raw",
   "id": "ea9c863b-f1dd-40a8-b101-9c5bac100a04",
   "metadata": {},
   "source": [
    "pandas is often used in tandem with numerical computing tools like NumPy and SciPy, analytical libraries like statsmodels and scikit-learn, and data visualization libraries like matplotlib."
   ]
  },
  {
   "cell_type": "raw",
   "id": "1ea955bf-1602-45ef-8810-8f857db89f29",
   "metadata": {},
   "source": [
    "pandas adopt numpy's array based operations and a preference for data processing without using loops"
   ]
  },
  {
   "cell_type": "raw",
   "id": "231740a9-0905-440a-9649-14cf59621509",
   "metadata": {},
   "source": [
    "pandas is designed for working with heterogenous and tabular data"
   ]
  },
  {
   "cell_type": "code",
   "execution_count": 1,
   "id": "cf2d359e-3557-40ce-8b9e-f5bbcc2a18dd",
   "metadata": {},
   "outputs": [],
   "source": [
    "import pandas as pd"
   ]
  },
  {
   "cell_type": "markdown",
   "id": "600ccf07-29fd-41a9-96b9-7c1f8d2fc119",
   "metadata": {},
   "source": [
    "#### Introduction to pandas Data Structures"
   ]
  },
  {
   "cell_type": "markdown",
   "id": "a3b209ff-6f16-4889-8e57-6842617d59fe",
   "metadata": {},
   "source": [
    "##### Series\n",
    "*It is a one dimensional array-like object containing a sequence of values(of similar types of Numpy types) and as associated array of data labels called index.*"
   ]
  },
  {
   "cell_type": "code",
   "execution_count": 2,
   "id": "d16ad467-9825-4bea-b2fa-8c319e379f68",
   "metadata": {},
   "outputs": [],
   "source": [
    "obj = pd.Series([4,7,-5,2,7])"
   ]
  },
  {
   "cell_type": "code",
   "execution_count": 4,
   "id": "6ad07eb1-9bcd-497b-b7fc-8c2df7f058c8",
   "metadata": {},
   "outputs": [
    {
     "data": {
      "text/plain": [
       "0    4\n",
       "1    7\n",
       "2   -5\n",
       "3    2\n",
       "4    7\n",
       "dtype: int64"
      ]
     },
     "execution_count": 4,
     "metadata": {},
     "output_type": "execute_result"
    }
   ],
   "source": [
    "obj\n",
    "# it also prints the indexes since we have not given it has chosen by default"
   ]
  },
  {
   "cell_type": "code",
   "execution_count": 5,
   "id": "b598c41d-1c47-494e-a0d1-7b5d473ff557",
   "metadata": {},
   "outputs": [
    {
     "data": {
      "text/plain": [
       "<NumpyExtensionArray>\n",
       "[4, 7, -5, 2, 7]\n",
       "Length: 5, dtype: int64"
      ]
     },
     "execution_count": 5,
     "metadata": {},
     "output_type": "execute_result"
    }
   ],
   "source": [
    "obj.array"
   ]
  },
  {
   "cell_type": "code",
   "execution_count": 6,
   "id": "84a8406f-a788-4945-ad65-5d87e854a837",
   "metadata": {},
   "outputs": [
    {
     "data": {
      "text/plain": [
       "RangeIndex(start=0, stop=5, step=1)"
      ]
     },
     "execution_count": 6,
     "metadata": {},
     "output_type": "execute_result"
    }
   ],
   "source": [
    "obj.index"
   ]
  },
  {
   "cell_type": "code",
   "execution_count": 7,
   "id": "4f573c38-dc3d-4ba2-8ac6-967195e9dd2b",
   "metadata": {},
   "outputs": [],
   "source": [
    "obj2 = pd.Series([4,7,-3,5,6],index=['d','e','f','g','h'])"
   ]
  },
  {
   "cell_type": "code",
   "execution_count": 8,
   "id": "0e920fab-fc81-4a1d-9d42-1eadbdf2101b",
   "metadata": {},
   "outputs": [
    {
     "data": {
      "text/plain": [
       "d    4\n",
       "e    7\n",
       "f   -3\n",
       "g    5\n",
       "h    6\n",
       "dtype: int64"
      ]
     },
     "execution_count": 8,
     "metadata": {},
     "output_type": "execute_result"
    }
   ],
   "source": [
    "obj2"
   ]
  },
  {
   "cell_type": "code",
   "execution_count": 9,
   "id": "54b26426-d2cb-46bd-b8f3-37c0d0313f4f",
   "metadata": {},
   "outputs": [
    {
     "data": {
      "text/plain": [
       "-3"
      ]
     },
     "execution_count": 9,
     "metadata": {},
     "output_type": "execute_result"
    }
   ],
   "source": [
    "obj2['f']"
   ]
  },
  {
   "cell_type": "code",
   "execution_count": 10,
   "id": "3c2d1ef1-4aa8-495a-894d-e67ac746cae5",
   "metadata": {},
   "outputs": [],
   "source": [
    "obj2['f'] = 6"
   ]
  },
  {
   "cell_type": "code",
   "execution_count": 11,
   "id": "3b979d37-258d-4063-83f6-f8db59de4c9f",
   "metadata": {},
   "outputs": [
    {
     "data": {
      "text/plain": [
       "d    4\n",
       "e    7\n",
       "f    6\n",
       "g    5\n",
       "h    6\n",
       "dtype: int64"
      ]
     },
     "execution_count": 11,
     "metadata": {},
     "output_type": "execute_result"
    }
   ],
   "source": [
    "obj2"
   ]
  },
  {
   "cell_type": "code",
   "execution_count": 13,
   "id": "d6fd7625-738d-438a-b45c-6778acca4acd",
   "metadata": {},
   "outputs": [
    {
     "data": {
      "text/plain": [
       "d    4\n",
       "e    7\n",
       "f    6\n",
       "dtype: int64"
      ]
     },
     "execution_count": 13,
     "metadata": {},
     "output_type": "execute_result"
    }
   ],
   "source": [
    "obj2[['d','e','f']] # this ['d','e','f'] is interpreted as a python list of indices"
   ]
  },
  {
   "cell_type": "code",
   "execution_count": 15,
   "id": "69827e38-15fb-4c7f-9bbd-e385a338d7d0",
   "metadata": {},
   "outputs": [
    {
     "data": {
      "text/plain": [
       "e    7\n",
       "f    6\n",
       "h    6\n",
       "dtype: int64"
      ]
     },
     "execution_count": 15,
     "metadata": {},
     "output_type": "execute_result"
    }
   ],
   "source": [
    "# using numpy functions \n",
    "\n",
    "obj2[obj2>5]"
   ]
  },
  {
   "cell_type": "code",
   "execution_count": 16,
   "id": "9838c483-6004-499c-9db5-e7279a4881d3",
   "metadata": {},
   "outputs": [
    {
     "data": {
      "text/plain": [
       "d     8\n",
       "e    14\n",
       "f    12\n",
       "g    10\n",
       "h    12\n",
       "dtype: int64"
      ]
     },
     "execution_count": 16,
     "metadata": {},
     "output_type": "execute_result"
    }
   ],
   "source": [
    "obj2*2"
   ]
  },
  {
   "cell_type": "code",
   "execution_count": 17,
   "id": "41549b61-1004-449e-a856-2b989f332384",
   "metadata": {},
   "outputs": [],
   "source": [
    "import numpy as np"
   ]
  },
  {
   "cell_type": "code",
   "execution_count": 18,
   "id": "69bc10ea-e3dc-45f7-b15a-1053a21be481",
   "metadata": {},
   "outputs": [
    {
     "data": {
      "text/plain": [
       "d      54.598150\n",
       "e    1096.633158\n",
       "f     403.428793\n",
       "g     148.413159\n",
       "h     403.428793\n",
       "dtype: float64"
      ]
     },
     "execution_count": 18,
     "metadata": {},
     "output_type": "execute_result"
    }
   ],
   "source": [
    "np.exp(obj2)"
   ]
  },
  {
   "cell_type": "raw",
   "id": "405d1f1d-4b99-4e48-8346-aa953f19cb68",
   "metadata": {},
   "source": [
    "Series can also be interpreted as a fixed-length, ordered dict, that maps indexes to data values."
   ]
  },
  {
   "cell_type": "code",
   "execution_count": 19,
   "id": "963afad5-9bdf-4cf7-928e-b6eb2837e7f4",
   "metadata": {},
   "outputs": [
    {
     "data": {
      "text/plain": [
       "True"
      ]
     },
     "execution_count": 19,
     "metadata": {},
     "output_type": "execute_result"
    }
   ],
   "source": [
    "'f' in obj2"
   ]
  },
  {
   "cell_type": "code",
   "execution_count": 20,
   "id": "f105ff44-2929-4d7d-81c9-d3add0a25ca2",
   "metadata": {},
   "outputs": [
    {
     "data": {
      "text/plain": [
       "False"
      ]
     },
     "execution_count": 20,
     "metadata": {},
     "output_type": "execute_result"
    }
   ],
   "source": [
    "'b' in obj2"
   ]
  },
  {
   "cell_type": "code",
   "execution_count": 21,
   "id": "28fa6af1-8809-4ed9-8eee-b68e5b44616d",
   "metadata": {},
   "outputs": [],
   "source": [
    "sdata = {'Ohio': 35000, 'Texas': 71000, 'Oregon': 16000, 'Utah': 5000}"
   ]
  },
  {
   "cell_type": "code",
   "execution_count": null,
   "id": "27b85dea-2ade-46de-b3ac-6aeeae5a88f3",
   "metadata": {},
   "outputs": [],
   "source": [
    "obj3 "
   ]
  }
 ],
 "metadata": {
  "kernelspec": {
   "display_name": "Python [conda env:base] *",
   "language": "python",
   "name": "conda-base-py"
  },
  "language_info": {
   "codemirror_mode": {
    "name": "ipython",
    "version": 3
   },
   "file_extension": ".py",
   "mimetype": "text/x-python",
   "name": "python",
   "nbconvert_exporter": "python",
   "pygments_lexer": "ipython3",
   "version": "3.12.7"
  }
 },
 "nbformat": 4,
 "nbformat_minor": 5
}
