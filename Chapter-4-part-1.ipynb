{
 "cells": [
  {
   "cell_type": "markdown",
   "id": "75ad5fe0-ca8e-4758-9025-dd7fef8e2eec",
   "metadata": {},
   "source": [
    "# Numpy"
   ]
  },
  {
   "cell_type": "markdown",
   "id": "f79d4dd7-14f3-4a74-9044-fc0a21346b93",
   "metadata": {},
   "source": [
    "##### Numpy one of the most important foundational packages of python.\n",
    "##### Many packages providing scientific functionality use Numpy's Array objects.\n",
    "\n",
    "1. ndarray -- an efficient multidimensional array providing fast array operations and flexible broadcasting capabilities.\n",
    "2. Mathematical functions for performing fast operations on entire array data without loop.\n",
    "3. Tools for reading/writing array data to disk and working memory-mapped files.\n",
    "4. Linear algebra, random number generation, and Fourier transform capabilities\n",
    "5. A C api to connect with libraries written in C, C++ and FORTRAN"
   ]
  },
  {
   "cell_type": "markdown",
   "id": "2e9b1ad4-1676-4b0f-9e9b-610df1ec11bb",
   "metadata": {},
   "source": [
    "##### While Numpy by itself does not provide modeling or scientificc functionality, but it helps in using tools with array computing semantics like pandas."
   ]
  },
  {
   "cell_type": "markdown",
   "id": "37729a83-e874-43e8-9670-6152a0bb4d44",
   "metadata": {
    "jp-MarkdownHeadingCollapsed": true
   },
   "source": [
    "#### For most data analysis applications, the main areas of functionality focus on are:\n",
    "1. Fast array-based operations for data munging and cleaning, subsetting and filtering, transformation, and any other kinds of computations\n",
    "2. Common array algorithms like sorting, unique, and set operations\n",
    "3. Efficient descriptive statistics and aggregating/summarizing data\n",
    "4. Data alignment and relational data manipulations for merging and joining together heterogeneous datasets\n",
    "5. Expressing conditional logic as array expressions instead of loops with if-elif-else branches\n",
    "6. Group-wise data manipulations (aggregation, transformation, function application)"
   ]
  },
  {
   "cell_type": "markdown",
   "id": "e46af67d-2da7-4c0a-af6f-b6afe1729057",
   "metadata": {},
   "source": [
    "#### Why is numpy efficient which is one of its most important uses?"
   ]
  },
  {
   "cell_type": "markdown",
   "id": "1dce7683-7a93-482f-9e3c-25c0264b9d84",
   "metadata": {},
   "source": [
    "1. Numpy internally stores data in contiguous block of memory independent of each other.\n",
    "2. C based algorithms (most important advantages)\n",
    "3. Perform complex array operations on entire arrays without the need of loop, which can be slow for large sequences."
   ]
  },
  {
   "cell_type": "code",
   "execution_count": 1,
   "id": "b474ea37-e425-4462-a95b-5828e18d2b4d",
   "metadata": {},
   "outputs": [],
   "source": [
    "import numpy as np\n",
    "\n",
    "my_array = np.arange(1000000)\n",
    "my_list = list(range(1000000))"
   ]
  },
  {
   "cell_type": "code",
   "execution_count": 2,
   "id": "603a4c0c-f669-4095-b972-4aa1437a4aa0",
   "metadata": {},
   "outputs": [
    {
     "name": "stdout",
     "output_type": "stream",
     "text": [
      "CPU times: total: 0 ns\n",
      "Wall time: 0 ns\n"
     ]
    }
   ],
   "source": [
    "%time\n",
    "for _ in range(10):\n",
    "    my_arr2 = my_array * 2"
   ]
  },
  {
   "cell_type": "code",
   "execution_count": 3,
   "id": "2363d9b3-4259-452c-901d-a2dc74ca4aa8",
   "metadata": {},
   "outputs": [
    {
     "name": "stdout",
     "output_type": "stream",
     "text": [
      "CPU times: total: 0 ns\n",
      "Wall time: 0 ns\n"
     ]
    }
   ],
   "source": [
    "%time\n",
    "for _ in range(10):\n",
    "    my_list2 = [x*2 for x in my_list]\n",
    "# i dont know why the time is showing 0 it took longer time to execute also."
   ]
  },
  {
   "cell_type": "markdown",
   "id": "7a978731-6eae-4ed7-af28-f6102fbca9cf",
   "metadata": {},
   "source": [
    "##### ndarray is a fast flexible container for large datasets of python\n",
    "##### enables you to perform mathematical ops on whole array just like scalar elements"
   ]
  },
  {
   "cell_type": "code",
   "execution_count": 4,
   "id": "46837d70-c622-48cf-8779-1828000c4d68",
   "metadata": {},
   "outputs": [
    {
     "data": {
      "text/plain": [
       "array([[ 0.67496582, -0.29501942,  0.46609846],\n",
       "       [ 1.10929145, -1.55018771,  1.44558131]])"
      ]
     },
     "execution_count": 4,
     "metadata": {},
     "output_type": "execute_result"
    }
   ],
   "source": [
    "data = np.random.randn(2,3)\n",
    "data"
   ]
  },
  {
   "cell_type": "code",
   "execution_count": 5,
   "id": "9fd5bb52-d644-447c-9d41-f76642dc97ef",
   "metadata": {},
   "outputs": [
    {
     "data": {
      "text/plain": [
       "array([[  67.49658234,  -29.50194195,   46.60984567],\n",
       "       [ 110.92914528, -155.01877076,  144.55813144]])"
      ]
     },
     "execution_count": 5,
     "metadata": {},
     "output_type": "execute_result"
    }
   ],
   "source": [
    "data*100"
   ]
  },
  {
   "cell_type": "code",
   "execution_count": 6,
   "id": "ff5ee6e3-5d24-41f5-82a3-86afbb39dc71",
   "metadata": {},
   "outputs": [
    {
     "data": {
      "text/plain": [
       "array([[ 1.34993165, -0.59003884,  0.93219691],\n",
       "       [ 2.21858291, -3.10037542,  2.89116263]])"
      ]
     },
     "execution_count": 6,
     "metadata": {},
     "output_type": "execute_result"
    }
   ],
   "source": [
    "data + data"
   ]
  },
  {
   "cell_type": "markdown",
   "id": "b1e668b3-03a7-44bd-81d3-8bfdd59a9895",
   "metadata": {},
   "source": [
    "##### ndarray containes only homogenous data"
   ]
  },
  {
   "cell_type": "code",
   "execution_count": 7,
   "id": "74a3def6-0fbd-415e-b465-fed72072b8f2",
   "metadata": {},
   "outputs": [
    {
     "data": {
      "text/plain": [
       "(2, 3)"
      ]
     },
     "execution_count": 7,
     "metadata": {},
     "output_type": "execute_result"
    }
   ],
   "source": [
    "data.shape"
   ]
  },
  {
   "cell_type": "code",
   "execution_count": 8,
   "id": "6aef71c1-509b-48cd-983f-d7f6651f2d5d",
   "metadata": {},
   "outputs": [
    {
     "data": {
      "text/plain": [
       "dtype('float64')"
      ]
     },
     "execution_count": 8,
     "metadata": {},
     "output_type": "execute_result"
    }
   ],
   "source": [
    "data.dtype"
   ]
  },
  {
   "cell_type": "code",
   "execution_count": 9,
   "id": "faad5683-091c-45a2-85a8-26dbb5df55a9",
   "metadata": {},
   "outputs": [
    {
     "data": {
      "text/plain": [
       "array([6. , 7.5, 8. , 0. , 1. ])"
      ]
     },
     "execution_count": 9,
     "metadata": {},
     "output_type": "execute_result"
    }
   ],
   "source": [
    "# creating numpy arrays\n",
    "\n",
    "data1 = [6,7.5,8,0,1]\n",
    "arr1 = np.array(data1)\n",
    "arr1"
   ]
  },
  {
   "cell_type": "code",
   "execution_count": 10,
   "id": "97bed159-1221-4152-93d6-55185efcdb7d",
   "metadata": {},
   "outputs": [
    {
     "data": {
      "text/plain": [
       "array([[1, 2, 3, 4],\n",
       "       [5, 6, 7, 8]])"
      ]
     },
     "execution_count": 10,
     "metadata": {},
     "output_type": "execute_result"
    }
   ],
   "source": [
    "data2 = [[1,2,3,4],[5,6,7,8]]\n",
    "arr2 = np.array(data2)\n",
    "arr2\n",
    "# since data2 was a list of list arr2 also has 2 dimensions with shape inferred from the data"
   ]
  },
  {
   "cell_type": "code",
   "execution_count": 11,
   "id": "841ac1fb-efa6-4326-bc66-463fa09e4a64",
   "metadata": {},
   "outputs": [
    {
     "data": {
      "text/plain": [
       "2"
      ]
     },
     "execution_count": 11,
     "metadata": {},
     "output_type": "execute_result"
    }
   ],
   "source": [
    "arr2.ndim"
   ]
  },
  {
   "cell_type": "code",
   "execution_count": 12,
   "id": "15733834-233d-4750-8839-0de643825b75",
   "metadata": {},
   "outputs": [
    {
     "data": {
      "text/plain": [
       "(2, 4)"
      ]
     },
     "execution_count": 12,
     "metadata": {},
     "output_type": "execute_result"
    }
   ],
   "source": [
    "arr2.shape"
   ]
  },
  {
   "cell_type": "code",
   "execution_count": 13,
   "id": "9a379488-e5d9-4708-8eab-561fab43f56b",
   "metadata": {},
   "outputs": [
    {
     "data": {
      "text/plain": [
       "dtype('float64')"
      ]
     },
     "execution_count": 13,
     "metadata": {},
     "output_type": "execute_result"
    }
   ],
   "source": [
    "arr1.dtype"
   ]
  },
  {
   "cell_type": "code",
   "execution_count": 14,
   "id": "36c1695e-fc73-4bd8-8d7c-9de822ed349a",
   "metadata": {},
   "outputs": [
    {
     "data": {
      "text/plain": [
       "dtype('int32')"
      ]
     },
     "execution_count": 14,
     "metadata": {},
     "output_type": "execute_result"
    }
   ],
   "source": [
    "arr2.dtype"
   ]
  },
  {
   "cell_type": "code",
   "execution_count": 15,
   "id": "259ca724-ac19-4b04-aaf3-031795d931c9",
   "metadata": {},
   "outputs": [
    {
     "data": {
      "text/plain": [
       "array([0., 0., 0., 0., 0., 0., 0., 0., 0., 0.])"
      ]
     },
     "execution_count": 15,
     "metadata": {},
     "output_type": "execute_result"
    }
   ],
   "source": [
    "# array of zero\n",
    "np.zeros(10)"
   ]
  },
  {
   "cell_type": "code",
   "execution_count": 16,
   "id": "5128be6e-7e9d-423f-9132-1a5204ac4da8",
   "metadata": {},
   "outputs": [
    {
     "data": {
      "text/plain": [
       "array([[0., 0., 0., 0., 0., 0.],\n",
       "       [0., 0., 0., 0., 0., 0.],\n",
       "       [0., 0., 0., 0., 0., 0.]])"
      ]
     },
     "execution_count": 16,
     "metadata": {},
     "output_type": "execute_result"
    }
   ],
   "source": [
    "np.zeros((3,6))"
   ]
  },
  {
   "cell_type": "code",
   "execution_count": 17,
   "id": "965d8c48-e013-4b9b-b883-58e9bdd3c3ff",
   "metadata": {},
   "outputs": [
    {
     "data": {
      "text/plain": [
       "array([[[7.70164874e-312, 2.47032823e-322],\n",
       "        [0.00000000e+000, 0.00000000e+000],\n",
       "        [1.18831764e-312, 6.82116729e-043]],\n",
       "\n",
       "       [[5.27486918e-091, 3.99761406e+175],\n",
       "        [6.55036289e-043, 3.64069989e+175],\n",
       "        [3.99910963e+252, 6.57679456e-038]]])"
      ]
     },
     "execution_count": 17,
     "metadata": {},
     "output_type": "execute_result"
    }
   ],
   "source": [
    "# empty creates an array without initializing its value to any particular value. the values can be zeros or garbage value\n",
    "np.empty((2,3,2))"
   ]
  },
  {
   "cell_type": "code",
   "execution_count": 18,
   "id": "1fc85b8a-310d-4543-b450-4e2186a961ca",
   "metadata": {},
   "outputs": [
    {
     "data": {
      "text/plain": [
       "array([ 0,  1,  2,  3,  4,  5,  6,  7,  8,  9, 10, 11, 12, 13, 14])"
      ]
     },
     "execution_count": 18,
     "metadata": {},
     "output_type": "execute_result"
    }
   ],
   "source": [
    "# arange has built in range function\n",
    "np.arange(15)"
   ]
  },
  {
   "cell_type": "markdown",
   "id": "3da032ce-6c20-44c9-a02e-ab9b054a13d6",
   "metadata": {},
   "source": [
    "### Data Types for ndarrays"
   ]
  },
  {
   "cell_type": "code",
   "execution_count": 19,
   "id": "632d232f-9bbf-461e-9b69-2add5f0582d8",
   "metadata": {},
   "outputs": [],
   "source": [
    "arr1 = np.array([1,2,3],dtype = np.float64)"
   ]
  },
  {
   "cell_type": "code",
   "execution_count": 20,
   "id": "1c0c715a-1f9c-4260-b199-60a4acd53284",
   "metadata": {},
   "outputs": [],
   "source": [
    "arr2 = np.array([1,2,3],dtype = np.int32)"
   ]
  },
  {
   "cell_type": "code",
   "execution_count": 21,
   "id": "cd16d8c4-817b-41c0-9761-036ece1e1e69",
   "metadata": {},
   "outputs": [
    {
     "data": {
      "text/plain": [
       "dtype('float64')"
      ]
     },
     "execution_count": 21,
     "metadata": {},
     "output_type": "execute_result"
    }
   ],
   "source": [
    "arr1.dtype"
   ]
  },
  {
   "cell_type": "code",
   "execution_count": 22,
   "id": "3ee1f9d3-991f-48a0-a188-11269c9b95cb",
   "metadata": {},
   "outputs": [
    {
     "data": {
      "text/plain": [
       "dtype('int32')"
      ]
     },
     "execution_count": 22,
     "metadata": {},
     "output_type": "execute_result"
    }
   ],
   "source": [
    "arr2.dtype\n",
    "\n",
    "# dtypes are a source of numpy flexibility for interacting with data coming from other systems. "
   ]
  },
  {
   "cell_type": "code",
   "execution_count": 23,
   "id": "e1692996-76a2-4c29-874c-8ddd6a194743",
   "metadata": {},
   "outputs": [
    {
     "data": {
      "text/plain": [
       "dtype('int32')"
      ]
     },
     "execution_count": 23,
     "metadata": {},
     "output_type": "execute_result"
    }
   ],
   "source": [
    "# you can explicitly convert or cast an array from one dtype to another using astype method\n",
    "\n",
    "arr = np.array([1,2,3,4,5])\n",
    "arr.dtype"
   ]
  },
  {
   "cell_type": "code",
   "execution_count": 24,
   "id": "8884fa55-5f6c-4972-b6fb-6627fd2474f9",
   "metadata": {},
   "outputs": [
    {
     "data": {
      "text/plain": [
       "dtype('float64')"
      ]
     },
     "execution_count": 24,
     "metadata": {},
     "output_type": "execute_result"
    }
   ],
   "source": [
    "float_arr = arr.astype(np.float64)\n",
    "float_arr.dtype"
   ]
  },
  {
   "cell_type": "code",
   "execution_count": 25,
   "id": "8812774c-d7ce-4fb4-96d5-5f601d784cb5",
   "metadata": {},
   "outputs": [
    {
     "data": {
      "text/plain": [
       "array([ 3.7, -1.2, -2.6,  0.5, 12.9, 10.1])"
      ]
     },
     "execution_count": 25,
     "metadata": {},
     "output_type": "execute_result"
    }
   ],
   "source": [
    "arr = np.array([3.7, -1.2, -2.6, 0.5, 12.9, 10.1])\n",
    "arr"
   ]
  },
  {
   "cell_type": "code",
   "execution_count": 26,
   "id": "1914f041-ed2c-488f-a325-70bff41c3154",
   "metadata": {},
   "outputs": [
    {
     "data": {
      "text/plain": [
       "array([ 3, -1, -2,  0, 12, 10])"
      ]
     },
     "execution_count": 26,
     "metadata": {},
     "output_type": "execute_result"
    }
   ],
   "source": [
    "arr.astype(np.int32)"
   ]
  },
  {
   "cell_type": "code",
   "execution_count": 27,
   "id": "ec91fc3b-a45f-4227-8abf-9485f7912d5a",
   "metadata": {},
   "outputs": [
    {
     "data": {
      "text/plain": [
       "array([ 1.24, 56.  , 65.  ])"
      ]
     },
     "execution_count": 27,
     "metadata": {},
     "output_type": "execute_result"
    }
   ],
   "source": [
    "numeric_strings = np.array(['1.24','56','65'], dtype = np.string_)\n",
    "numeric_strings.astype(np.float64)"
   ]
  },
  {
   "cell_type": "code",
   "execution_count": 28,
   "id": "81913647-9f5f-4310-abfc-1c4d986fc743",
   "metadata": {},
   "outputs": [
    {
     "data": {
      "text/plain": [
       "array([0., 1., 2., 3., 4., 5., 6., 7., 8., 9.])"
      ]
     },
     "execution_count": 28,
     "metadata": {},
     "output_type": "execute_result"
    }
   ],
   "source": [
    "# you can also use another array dtype\n",
    "\n",
    "int_array = np.arange(10)\n",
    "calibers = np.array([.22,.27,8.9,.357],dtype = np.float64)\n",
    "int_array.astype(calibers.dtype)"
   ]
  },
  {
   "cell_type": "code",
   "execution_count": 29,
   "id": "64de8424-0efc-415b-9fe8-973d46de0950",
   "metadata": {},
   "outputs": [
    {
     "data": {
      "text/plain": [
       "array([4128860, 6029375, 3801155, 5570652, 6619251, 7536754, 4718684,\n",
       "            80], dtype=uint32)"
      ]
     },
     "execution_count": 29,
     "metadata": {},
     "output_type": "execute_result"
    }
   ],
   "source": [
    "# there are shorthand type code strings you can also use to refer to a dtype\n",
    "empty_int32 = np.empty(8,dtype = 'u4')\n",
    "empty_int32\n",
    "\n",
    "# calling astype always creates a new array"
   ]
  },
  {
   "cell_type": "markdown",
   "id": "f351a876-09fb-4ece-b6a1-9dd898915b3c",
   "metadata": {},
   "source": [
    "### Arithmetic with Numpy array"
   ]
  },
  {
   "cell_type": "raw",
   "id": "447e7965-778f-4ce2-bc02-b432fdcc2977",
   "metadata": {},
   "source": [
    "Arrays are important because they enable to express bath operations on data without writing loops. \n",
    "Numpy users call this Vectorization"
   ]
  },
  {
   "cell_type": "code",
   "execution_count": 30,
   "id": "60e42ada-bce7-4e11-b31f-8ce57616ed60",
   "metadata": {},
   "outputs": [
    {
     "data": {
      "text/plain": [
       "array([[1., 2., 3.],\n",
       "       [4., 5., 6.]])"
      ]
     },
     "execution_count": 30,
     "metadata": {},
     "output_type": "execute_result"
    }
   ],
   "source": [
    "arr = np.array([[1,2,3],[4,5,6]],dtype = np.float64)\n",
    "arr"
   ]
  },
  {
   "cell_type": "code",
   "execution_count": 31,
   "id": "8f72f119-f6da-41c1-a44a-2d827f9c5c53",
   "metadata": {},
   "outputs": [
    {
     "data": {
      "text/plain": [
       "array([[ 1.,  4.,  9.],\n",
       "       [16., 25., 36.]])"
      ]
     },
     "execution_count": 31,
     "metadata": {},
     "output_type": "execute_result"
    }
   ],
   "source": [
    "arr*arr"
   ]
  },
  {
   "cell_type": "code",
   "execution_count": 32,
   "id": "f3acb91d-eecb-4a5e-8d60-9f743ede14ec",
   "metadata": {},
   "outputs": [
    {
     "data": {
      "text/plain": [
       "array([[0., 0., 0.],\n",
       "       [0., 0., 0.]])"
      ]
     },
     "execution_count": 32,
     "metadata": {},
     "output_type": "execute_result"
    }
   ],
   "source": [
    "arr-arr"
   ]
  },
  {
   "cell_type": "code",
   "execution_count": 33,
   "id": "69ee2ab0-92d0-4448-9a70-b60033ddd6ab",
   "metadata": {},
   "outputs": [
    {
     "data": {
      "text/plain": [
       "array([[1.        , 0.5       , 0.33333333],\n",
       "       [0.25      , 0.2       , 0.16666667]])"
      ]
     },
     "execution_count": 33,
     "metadata": {},
     "output_type": "execute_result"
    }
   ],
   "source": [
    "# arithmetic ops with scalars propogate the scalar argument to each element in the array\n",
    "1/arr"
   ]
  },
  {
   "cell_type": "code",
   "execution_count": 34,
   "id": "697f123e-3b30-4dc1-bb05-d38dee0fb8b9",
   "metadata": {},
   "outputs": [
    {
     "data": {
      "text/plain": [
       "array([[1.        , 1.41421356, 1.73205081],\n",
       "       [2.        , 2.23606798, 2.44948974]])"
      ]
     },
     "execution_count": 34,
     "metadata": {},
     "output_type": "execute_result"
    }
   ],
   "source": [
    "arr ** 0.5"
   ]
  },
  {
   "cell_type": "code",
   "execution_count": 35,
   "id": "814d62f5-1675-4320-82a0-e5152add52f8",
   "metadata": {},
   "outputs": [
    {
     "data": {
      "text/plain": [
       "array([[ 0.,  4.,  1.],\n",
       "       [ 7.,  2., 12.]])"
      ]
     },
     "execution_count": 35,
     "metadata": {},
     "output_type": "execute_result"
    }
   ],
   "source": [
    "arr2 = np.array([[0., 4., 1.], [7., 2., 12.]])\n",
    "arr2"
   ]
  },
  {
   "cell_type": "code",
   "execution_count": 36,
   "id": "d78faf91-cce6-46b4-b0a3-51f332694f32",
   "metadata": {},
   "outputs": [
    {
     "data": {
      "text/plain": [
       "array([[False,  True, False],\n",
       "       [ True, False,  True]])"
      ]
     },
     "execution_count": 36,
     "metadata": {},
     "output_type": "execute_result"
    }
   ],
   "source": [
    "# Comparisons between arrays of the same size yield boolean arrays:\n",
    "arr2>arr1"
   ]
  },
  {
   "cell_type": "raw",
   "id": "2cdaefc5-7242-44b9-9445-65151af1fae2",
   "metadata": {},
   "source": [
    "Evaluating operations between differently sized arrays is called broadcasting."
   ]
  },
  {
   "cell_type": "markdown",
   "id": "8a03499f-29ce-475e-a315-540379fe11f5",
   "metadata": {},
   "source": [
    "### Basic indexing and slicing "
   ]
  },
  {
   "cell_type": "code",
   "execution_count": 37,
   "id": "f437014a-3975-4afd-adc0-9bbba9cf12c2",
   "metadata": {},
   "outputs": [],
   "source": [
    "arr = np.arange(10)"
   ]
  },
  {
   "cell_type": "code",
   "execution_count": 38,
   "id": "16f4f97d-9d32-45a9-a1c6-6260e3080fc3",
   "metadata": {},
   "outputs": [
    {
     "data": {
      "text/plain": [
       "array([0, 1, 2, 3, 4, 5, 6, 7, 8, 9])"
      ]
     },
     "execution_count": 38,
     "metadata": {},
     "output_type": "execute_result"
    }
   ],
   "source": [
    "arr"
   ]
  },
  {
   "cell_type": "code",
   "execution_count": 39,
   "id": "f6f778c9-9e22-4770-97d3-52b86521bd23",
   "metadata": {},
   "outputs": [
    {
     "data": {
      "text/plain": [
       "5"
      ]
     },
     "execution_count": 39,
     "metadata": {},
     "output_type": "execute_result"
    }
   ],
   "source": [
    "arr[5]"
   ]
  },
  {
   "cell_type": "code",
   "execution_count": 40,
   "id": "2e8cfd55-124e-4da5-93f5-a1f4b8a9af02",
   "metadata": {},
   "outputs": [
    {
     "data": {
      "text/plain": [
       "array([5, 6, 7])"
      ]
     },
     "execution_count": 40,
     "metadata": {},
     "output_type": "execute_result"
    }
   ],
   "source": [
    "arr[5:8]"
   ]
  },
  {
   "cell_type": "code",
   "execution_count": 41,
   "id": "fb756310-24b9-4eca-993c-8682c688bdee",
   "metadata": {},
   "outputs": [],
   "source": [
    "arr[5:8] = 12 # example of broadcasting"
   ]
  },
  {
   "cell_type": "code",
   "execution_count": 42,
   "id": "592643d0-e98c-4264-bb38-3772aa591fc5",
   "metadata": {},
   "outputs": [
    {
     "data": {
      "text/plain": [
       "array([ 0,  1,  2,  3,  4, 12, 12, 12,  8,  9])"
      ]
     },
     "execution_count": 42,
     "metadata": {},
     "output_type": "execute_result"
    }
   ],
   "source": [
    "arr"
   ]
  },
  {
   "cell_type": "code",
   "execution_count": 43,
   "id": "0788fa24-6bb4-483c-8df4-3d48af2717f8",
   "metadata": {},
   "outputs": [],
   "source": [
    "# first distinction from python lists is that array slices are only views so the data is not copied or modified"
   ]
  },
  {
   "cell_type": "code",
   "execution_count": 44,
   "id": "95c88595-09d6-481e-90b4-2bb2fc5d6591",
   "metadata": {},
   "outputs": [],
   "source": [
    "arr_slice = arr[5:8]"
   ]
  },
  {
   "cell_type": "code",
   "execution_count": 45,
   "id": "2ea4d29d-b58a-4719-84bf-8b5e529f232a",
   "metadata": {},
   "outputs": [
    {
     "data": {
      "text/plain": [
       "array([12, 12, 12])"
      ]
     },
     "execution_count": 45,
     "metadata": {},
     "output_type": "execute_result"
    }
   ],
   "source": [
    "arr_slice"
   ]
  },
  {
   "cell_type": "code",
   "execution_count": 46,
   "id": "b96af8b7-8419-4249-8f37-21ca1e5cccf0",
   "metadata": {},
   "outputs": [],
   "source": [
    "arr_slice[1] = 12345"
   ]
  },
  {
   "cell_type": "code",
   "execution_count": 47,
   "id": "208b441e-2abf-4317-b7f4-c2db636c6b96",
   "metadata": {},
   "outputs": [
    {
     "data": {
      "text/plain": [
       "array([    0,     1,     2,     3,     4,    12, 12345,    12,     8,\n",
       "           9])"
      ]
     },
     "execution_count": 47,
     "metadata": {},
     "output_type": "execute_result"
    }
   ],
   "source": [
    "arr"
   ]
  },
  {
   "cell_type": "code",
   "execution_count": 48,
   "id": "f9e32966-069c-402f-97cd-826a5dae147a",
   "metadata": {},
   "outputs": [],
   "source": [
    "arr_slice[:] = 64 # : assign value to all values of the array"
   ]
  },
  {
   "cell_type": "code",
   "execution_count": 49,
   "id": "5a5019ad-4820-44bb-b491-c060a90b7a63",
   "metadata": {},
   "outputs": [
    {
     "data": {
      "text/plain": [
       "array([ 0,  1,  2,  3,  4, 64, 64, 64,  8,  9])"
      ]
     },
     "execution_count": 49,
     "metadata": {},
     "output_type": "execute_result"
    }
   ],
   "source": [
    "arr"
   ]
  },
  {
   "cell_type": "raw",
   "id": "7fbb2ea5-c077-4f5d-b6a2-1318781c094c",
   "metadata": {},
   "source": [
    "As Numpy is designed to work with large arrays, you could imagine the performance and memory problems if Numpy insisted on copying data."
   ]
  },
  {
   "cell_type": "code",
   "execution_count": 50,
   "id": "e11ebb5d-6a9d-493f-97ff-702f076a8fa0",
   "metadata": {},
   "outputs": [],
   "source": [
    "arr2d = np.array([[1,2,3],[4,5,6],[7,8,9]])"
   ]
  },
  {
   "cell_type": "code",
   "execution_count": 51,
   "id": "955f863b-3ceb-4653-9248-6bed4be0c821",
   "metadata": {},
   "outputs": [
    {
     "data": {
      "text/plain": [
       "array([[1, 2, 3],\n",
       "       [4, 5, 6],\n",
       "       [7, 8, 9]])"
      ]
     },
     "execution_count": 51,
     "metadata": {},
     "output_type": "execute_result"
    }
   ],
   "source": [
    "arr2d"
   ]
  },
  {
   "cell_type": "code",
   "execution_count": 52,
   "id": "8d8b7667-0619-4d26-9051-43d9001c807f",
   "metadata": {},
   "outputs": [
    {
     "data": {
      "text/plain": [
       "array([7, 8, 9])"
      ]
     },
     "execution_count": 52,
     "metadata": {},
     "output_type": "execute_result"
    }
   ],
   "source": [
    "arr2d[2]"
   ]
  },
  {
   "cell_type": "code",
   "execution_count": 53,
   "id": "76c00305-ab9a-406a-ad8e-72f848e8280e",
   "metadata": {},
   "outputs": [
    {
     "data": {
      "text/plain": [
       "3"
      ]
     },
     "execution_count": 53,
     "metadata": {},
     "output_type": "execute_result"
    }
   ],
   "source": [
    "arr2d[0][2]"
   ]
  },
  {
   "cell_type": "code",
   "execution_count": 54,
   "id": "ec7bdab7-26ac-4baf-91b3-95ad1017cf3e",
   "metadata": {},
   "outputs": [
    {
     "data": {
      "text/plain": [
       "3"
      ]
     },
     "execution_count": 54,
     "metadata": {},
     "output_type": "execute_result"
    }
   ],
   "source": [
    "arr2d[0,2]"
   ]
  },
  {
   "cell_type": "raw",
   "id": "ba29cbef-5ff6-4b53-ade7-fef3af0aa2bd",
   "metadata": {},
   "source": [
    "if you omit later indices, the returned object will be a lower dimensional ndarray consisting of all the data long with the higher dimension"
   ]
  },
  {
   "cell_type": "code",
   "execution_count": 55,
   "id": "dc81bceb-1585-44b0-b8d5-17239dff0ccf",
   "metadata": {},
   "outputs": [
    {
     "data": {
      "text/plain": [
       "array([1, 2, 3])"
      ]
     },
     "execution_count": 55,
     "metadata": {},
     "output_type": "execute_result"
    }
   ],
   "source": [
    "arr2d[0]"
   ]
  },
  {
   "cell_type": "code",
   "execution_count": 56,
   "id": "70ca5d24-328e-41e5-b374-c5a7f3e81fa3",
   "metadata": {},
   "outputs": [],
   "source": [
    "arr3d = np.array([[[1,2,3],[4,5,6]],[[7,8,9],[10,11,12]]])"
   ]
  },
  {
   "cell_type": "code",
   "execution_count": 57,
   "id": "f2128ff7-3b94-4f8f-adc7-db21e95c171e",
   "metadata": {},
   "outputs": [
    {
     "data": {
      "text/plain": [
       "array([[[ 1,  2,  3],\n",
       "        [ 4,  5,  6]],\n",
       "\n",
       "       [[ 7,  8,  9],\n",
       "        [10, 11, 12]]])"
      ]
     },
     "execution_count": 57,
     "metadata": {},
     "output_type": "execute_result"
    }
   ],
   "source": [
    "arr3d"
   ]
  },
  {
   "cell_type": "code",
   "execution_count": 58,
   "id": "745c1a05-5b6c-41a0-a457-590a13d6a0d7",
   "metadata": {},
   "outputs": [
    {
     "data": {
      "text/plain": [
       "array([[1, 2, 3],\n",
       "       [4, 5, 6]])"
      ]
     },
     "execution_count": 58,
     "metadata": {},
     "output_type": "execute_result"
    }
   ],
   "source": [
    "arr3d[0]"
   ]
  },
  {
   "cell_type": "code",
   "execution_count": 59,
   "id": "af470ad0-1545-4787-aa14-f72b0f594e75",
   "metadata": {},
   "outputs": [],
   "source": [
    "old_values = arr3d[0].copy()"
   ]
  },
  {
   "cell_type": "code",
   "execution_count": 60,
   "id": "2665d2d8-f519-4dc6-8d18-d2693f3a667b",
   "metadata": {},
   "outputs": [],
   "source": [
    "arr3d[0] = 42"
   ]
  },
  {
   "cell_type": "code",
   "execution_count": 61,
   "id": "fb63b987-c0d9-4e0c-a63a-780ca68aefc9",
   "metadata": {},
   "outputs": [
    {
     "data": {
      "text/plain": [
       "array([[[42, 42, 42],\n",
       "        [42, 42, 42]],\n",
       "\n",
       "       [[ 7,  8,  9],\n",
       "        [10, 11, 12]]])"
      ]
     },
     "execution_count": 61,
     "metadata": {},
     "output_type": "execute_result"
    }
   ],
   "source": [
    "arr3d"
   ]
  },
  {
   "cell_type": "code",
   "execution_count": 62,
   "id": "d0ac0c0c-20bb-4574-8074-a7d67e8ffe2d",
   "metadata": {},
   "outputs": [],
   "source": [
    "arr3d[0] = old_values"
   ]
  },
  {
   "cell_type": "code",
   "execution_count": 63,
   "id": "1603e71b-690b-4cc9-ad57-dd2bb5271191",
   "metadata": {},
   "outputs": [
    {
     "data": {
      "text/plain": [
       "array([[[ 1,  2,  3],\n",
       "        [ 4,  5,  6]],\n",
       "\n",
       "       [[ 7,  8,  9],\n",
       "        [10, 11, 12]]])"
      ]
     },
     "execution_count": 63,
     "metadata": {},
     "output_type": "execute_result"
    }
   ],
   "source": [
    "arr3d"
   ]
  },
  {
   "cell_type": "code",
   "execution_count": 64,
   "id": "b3429735-ed31-4bf3-aca6-258f824c2303",
   "metadata": {},
   "outputs": [
    {
     "data": {
      "text/plain": [
       "array([7, 8, 9])"
      ]
     },
     "execution_count": 64,
     "metadata": {},
     "output_type": "execute_result"
    }
   ],
   "source": [
    "arr3d[1,0]"
   ]
  },
  {
   "cell_type": "code",
   "execution_count": 65,
   "id": "50ba00a9-bda3-4641-93d7-72b31c8e365c",
   "metadata": {},
   "outputs": [],
   "source": [
    "# the above expression is same as though we had indexed in two steps\n",
    "x = arr3d[1]"
   ]
  },
  {
   "cell_type": "code",
   "execution_count": 66,
   "id": "9aad8171-e13f-44ef-9bcf-a3b3a0ac602a",
   "metadata": {},
   "outputs": [
    {
     "data": {
      "text/plain": [
       "array([[ 7,  8,  9],\n",
       "       [10, 11, 12]])"
      ]
     },
     "execution_count": 66,
     "metadata": {},
     "output_type": "execute_result"
    }
   ],
   "source": [
    "x"
   ]
  },
  {
   "cell_type": "code",
   "execution_count": 67,
   "id": "2bbad719-9976-45f8-9fc7-44fd03879a91",
   "metadata": {},
   "outputs": [
    {
     "data": {
      "text/plain": [
       "array([7, 8, 9])"
      ]
     },
     "execution_count": 67,
     "metadata": {},
     "output_type": "execute_result"
    }
   ],
   "source": [
    "x[0]"
   ]
  },
  {
   "cell_type": "raw",
   "id": "ef2685af-91e4-414f-9bd6-3cada6932174",
   "metadata": {},
   "source": [
    "In all cases where subsections of the arrays are selected, the returned arrays are views."
   ]
  },
  {
   "cell_type": "markdown",
   "id": "a13288b0-7809-4718-a449-4695aae170cb",
   "metadata": {},
   "source": [
    "### Indexing with Slices"
   ]
  },
  {
   "cell_type": "code",
   "execution_count": 68,
   "id": "52ce2173-29d1-474b-be78-d6cb221a8fc6",
   "metadata": {},
   "outputs": [
    {
     "data": {
      "text/plain": [
       "array([ 0,  1,  2,  3,  4, 64, 64, 64,  8,  9])"
      ]
     },
     "execution_count": 68,
     "metadata": {},
     "output_type": "execute_result"
    }
   ],
   "source": [
    "arr"
   ]
  },
  {
   "cell_type": "code",
   "execution_count": 69,
   "id": "3edcf14d-2ae3-44ee-ad1e-ee4b2c2540e6",
   "metadata": {},
   "outputs": [
    {
     "data": {
      "text/plain": [
       "array([ 1,  2,  3,  4, 64])"
      ]
     },
     "execution_count": 69,
     "metadata": {},
     "output_type": "execute_result"
    }
   ],
   "source": [
    "arr[1:6] # numpy array can be sliced just like python list but they are only views"
   ]
  },
  {
   "cell_type": "code",
   "execution_count": 70,
   "id": "4a536fb5-7d87-4e48-ab8f-f7760c1c2f2d",
   "metadata": {},
   "outputs": [
    {
     "data": {
      "text/plain": [
       "array([[1, 2, 3],\n",
       "       [4, 5, 6],\n",
       "       [7, 8, 9]])"
      ]
     },
     "execution_count": 70,
     "metadata": {},
     "output_type": "execute_result"
    }
   ],
   "source": [
    "arr2d"
   ]
  },
  {
   "cell_type": "code",
   "execution_count": 71,
   "id": "9938abe2-dec5-4ad8-a0ad-56a6e241a01b",
   "metadata": {},
   "outputs": [
    {
     "data": {
      "text/plain": [
       "array([[1, 2, 3],\n",
       "       [4, 5, 6]])"
      ]
     },
     "execution_count": 71,
     "metadata": {},
     "output_type": "execute_result"
    }
   ],
   "source": [
    "arr2d[:2] # it can also be read as \"select first 2 rows of the array\""
   ]
  },
  {
   "cell_type": "code",
   "execution_count": 72,
   "id": "6901cd15-edf2-4ecf-8046-060eb7ef87f0",
   "metadata": {},
   "outputs": [
    {
     "data": {
      "text/plain": [
       "array([[7, 8, 9]])"
      ]
     },
     "execution_count": 72,
     "metadata": {},
     "output_type": "execute_result"
    }
   ],
   "source": [
    "arr2d[len(arr2d)-1:]"
   ]
  },
  {
   "cell_type": "code",
   "execution_count": 73,
   "id": "f04a546a-7299-4971-8073-d322b29aad2d",
   "metadata": {},
   "outputs": [
    {
     "data": {
      "text/plain": [
       "array([[2, 3],\n",
       "       [5, 6]])"
      ]
     },
     "execution_count": 73,
     "metadata": {},
     "output_type": "execute_result"
    }
   ],
   "source": [
    "arr2d[:2,1:]"
   ]
  },
  {
   "cell_type": "code",
   "execution_count": 74,
   "id": "d84eb374-8e92-48da-9a64-07be6d219ff9",
   "metadata": {},
   "outputs": [
    {
     "data": {
      "text/plain": [
       "array([4, 5])"
      ]
     },
     "execution_count": 74,
     "metadata": {},
     "output_type": "execute_result"
    }
   ],
   "source": [
    "arr2d[1,:2] # second row but only 1 and 2 col"
   ]
  },
  {
   "cell_type": "code",
   "execution_count": 75,
   "id": "5956ae56-22e9-4ba7-91bc-ade2e20ef77d",
   "metadata": {},
   "outputs": [
    {
     "data": {
      "text/plain": [
       "array([3, 6])"
      ]
     },
     "execution_count": 75,
     "metadata": {},
     "output_type": "execute_result"
    }
   ],
   "source": [
    "arr2d[:2,2] # 3rd col but 1 and 2 row"
   ]
  },
  {
   "cell_type": "code",
   "execution_count": 76,
   "id": "bff10153-d677-48b0-a9ba-5b44f8a33a71",
   "metadata": {},
   "outputs": [
    {
     "data": {
      "text/plain": [
       "array([[1],\n",
       "       [4],\n",
       "       [7]])"
      ]
     },
     "execution_count": 76,
     "metadata": {},
     "output_type": "execute_result"
    }
   ],
   "source": [
    "arr2d[:,:1] # only column"
   ]
  },
  {
   "cell_type": "code",
   "execution_count": 77,
   "id": "ac579b15-07a5-43d5-bf0e-7e8ee5257f0f",
   "metadata": {},
   "outputs": [
    {
     "data": {
      "text/plain": [
       "array([[1, 0, 0],\n",
       "       [4, 0, 0],\n",
       "       [7, 8, 9]])"
      ]
     },
     "execution_count": 77,
     "metadata": {},
     "output_type": "execute_result"
    }
   ],
   "source": [
    "arr2d[:2,1:] = 0\n",
    "arr2d"
   ]
  },
  {
   "cell_type": "code",
   "execution_count": 78,
   "id": "e74d064f-54d7-4ac5-81db-60b0d1a8803d",
   "metadata": {},
   "outputs": [
    {
     "data": {
      "text/plain": [
       "array([[0, 0],\n",
       "       [0, 0]])"
      ]
     },
     "execution_count": 78,
     "metadata": {},
     "output_type": "execute_result"
    }
   ],
   "source": [
    "arr2d[:2,1:]"
   ]
  },
  {
   "cell_type": "code",
   "execution_count": 79,
   "id": "eb2a88f6-776d-4326-a9c4-d7603189b28d",
   "metadata": {},
   "outputs": [
    {
     "data": {
      "text/plain": [
       "array([7, 8, 9])"
      ]
     },
     "execution_count": 79,
     "metadata": {},
     "output_type": "execute_result"
    }
   ],
   "source": [
    "arr2d[2]"
   ]
  },
  {
   "cell_type": "code",
   "execution_count": 80,
   "id": "0c6896f1-1a6c-4632-a5c1-8edc0daf86eb",
   "metadata": {},
   "outputs": [
    {
     "data": {
      "text/plain": [
       "array([7, 8, 9])"
      ]
     },
     "execution_count": 80,
     "metadata": {},
     "output_type": "execute_result"
    }
   ],
   "source": [
    "arr2d[2,:]"
   ]
  },
  {
   "cell_type": "code",
   "execution_count": 81,
   "id": "2f71e72c-bd1b-4377-8483-3e1f36ab96a0",
   "metadata": {},
   "outputs": [
    {
     "data": {
      "text/plain": [
       "array([[7, 8, 9]])"
      ]
     },
     "execution_count": 81,
     "metadata": {},
     "output_type": "execute_result"
    }
   ],
   "source": [
    "arr2d[2:,:]"
   ]
  },
  {
   "cell_type": "code",
   "execution_count": 82,
   "id": "7f8d7450-315c-4635-946f-57c7cf4f4aa4",
   "metadata": {},
   "outputs": [
    {
     "data": {
      "text/plain": [
       "array([[1, 0],\n",
       "       [4, 0],\n",
       "       [7, 8]])"
      ]
     },
     "execution_count": 82,
     "metadata": {},
     "output_type": "execute_result"
    }
   ],
   "source": [
    "arr2d[:,:2]"
   ]
  },
  {
   "cell_type": "code",
   "execution_count": 83,
   "id": "bc1ca33e-978f-4f59-997b-666ab35bcc0e",
   "metadata": {},
   "outputs": [
    {
     "data": {
      "text/plain": [
       "array([4, 0])"
      ]
     },
     "execution_count": 83,
     "metadata": {},
     "output_type": "execute_result"
    }
   ],
   "source": [
    "arr2d[1,:2]"
   ]
  },
  {
   "cell_type": "code",
   "execution_count": 84,
   "id": "a785d163-c2ff-423d-83e5-43fb28aa166f",
   "metadata": {},
   "outputs": [
    {
     "data": {
      "text/plain": [
       "array([[4, 0]])"
      ]
     },
     "execution_count": 84,
     "metadata": {},
     "output_type": "execute_result"
    }
   ],
   "source": [
    "arr2d[1:2,:2]"
   ]
  },
  {
   "cell_type": "markdown",
   "id": "7dd8aea3-78e4-46dc-b996-0fa2c6fd7c64",
   "metadata": {},
   "source": [
    "### Boolean Indexing"
   ]
  },
  {
   "cell_type": "code",
   "execution_count": 85,
   "id": "8d3923fd-f1a6-4756-92dc-8327f23d8d40",
   "metadata": {},
   "outputs": [],
   "source": [
    "names = np.array(['Bob','Joe','Will','Bob','Will','Joe','Joe'])"
   ]
  },
  {
   "cell_type": "code",
   "execution_count": 86,
   "id": "dcaef57b-ec0e-4c42-a571-b8119dac726c",
   "metadata": {},
   "outputs": [],
   "source": [
    "data = np.random.randn(7,4)"
   ]
  },
  {
   "cell_type": "code",
   "execution_count": 87,
   "id": "294e7868-8786-4715-9d31-6bb91b6b5367",
   "metadata": {},
   "outputs": [
    {
     "data": {
      "text/plain": [
       "array(['Bob', 'Joe', 'Will', 'Bob', 'Will', 'Joe', 'Joe'], dtype='<U4')"
      ]
     },
     "execution_count": 87,
     "metadata": {},
     "output_type": "execute_result"
    }
   ],
   "source": [
    "names"
   ]
  },
  {
   "cell_type": "code",
   "execution_count": 88,
   "id": "c13ad45a-3cb0-4e6f-a776-8e783b3a41a0",
   "metadata": {},
   "outputs": [
    {
     "data": {
      "text/plain": [
       "array([[-0.32552658,  0.24888733,  1.10556593,  0.29280865],\n",
       "       [-0.53753807, -0.00562826,  1.53239548,  0.48266783],\n",
       "       [ 1.58605126,  2.43583879,  0.14683721,  1.30923711],\n",
       "       [ 1.0211308 ,  1.5250246 ,  0.05990687,  0.28975946],\n",
       "       [ 1.03222844, -0.47865327,  1.12974063,  0.54612441],\n",
       "       [-0.30617505, -0.16975189,  1.13619437, -1.34742365],\n",
       "       [-1.2489589 ,  1.77981686, -0.15987246, -0.68906118]])"
      ]
     },
     "execution_count": 88,
     "metadata": {},
     "output_type": "execute_result"
    }
   ],
   "source": [
    "data"
   ]
  },
  {
   "cell_type": "code",
   "execution_count": 89,
   "id": "ace4359e-9ebd-4f52-bdc3-dbded714b6cc",
   "metadata": {},
   "outputs": [
    {
     "data": {
      "text/plain": [
       "array([ True, False, False,  True, False, False, False])"
      ]
     },
     "execution_count": 89,
     "metadata": {},
     "output_type": "execute_result"
    }
   ],
   "source": [
    "names=='Bob'"
   ]
  },
  {
   "cell_type": "code",
   "execution_count": 90,
   "id": "16837f80-a9ba-4cd7-874b-9128fdc5d934",
   "metadata": {},
   "outputs": [
    {
     "data": {
      "text/plain": [
       "array([[-0.32552658,  0.24888733,  1.10556593,  0.29280865],\n",
       "       [ 1.0211308 ,  1.5250246 ,  0.05990687,  0.28975946]])"
      ]
     },
     "execution_count": 90,
     "metadata": {},
     "output_type": "execute_result"
    }
   ],
   "source": [
    "data[names=='Bob']\n",
    "# the boolean array must be of the same length as the array it's indexing "
   ]
  },
  {
   "cell_type": "code",
   "execution_count": 91,
   "id": "e936c720-d9a9-4c7e-aa09-26af6b10ddd9",
   "metadata": {},
   "outputs": [
    {
     "data": {
      "text/plain": [
       "array([[-0.32552658,  0.24888733],\n",
       "       [ 1.0211308 ,  1.5250246 ]])"
      ]
     },
     "execution_count": 91,
     "metadata": {},
     "output_type": "execute_result"
    }
   ],
   "source": [
    "data[names=='Bob',:2]"
   ]
  },
  {
   "cell_type": "code",
   "execution_count": 92,
   "id": "0982fc7f-4a05-4b6b-b946-aaaefffde527",
   "metadata": {},
   "outputs": [
    {
     "data": {
      "text/plain": [
       "array([0.29280865, 0.28975946])"
      ]
     },
     "execution_count": 92,
     "metadata": {},
     "output_type": "execute_result"
    }
   ],
   "source": [
    "data[names=='Bob',3]"
   ]
  },
  {
   "cell_type": "code",
   "execution_count": 93,
   "id": "1a330fa4-d3e1-4ffd-8c8d-8e603064167d",
   "metadata": {},
   "outputs": [
    {
     "data": {
      "text/plain": [
       "array([False,  True,  True, False,  True,  True,  True])"
      ]
     },
     "execution_count": 93,
     "metadata": {},
     "output_type": "execute_result"
    }
   ],
   "source": [
    "names != 'Bob'"
   ]
  },
  {
   "cell_type": "code",
   "execution_count": 94,
   "id": "5f922324-6db9-4ba2-ac22-250caef16a18",
   "metadata": {},
   "outputs": [
    {
     "data": {
      "text/plain": [
       "array([False,  True,  True, False,  True,  True,  True])"
      ]
     },
     "execution_count": 94,
     "metadata": {},
     "output_type": "execute_result"
    }
   ],
   "source": [
    "~(names=='Bob')"
   ]
  },
  {
   "cell_type": "code",
   "execution_count": 95,
   "id": "0b3c80e4-c49f-4ed7-9755-646bcdf2b144",
   "metadata": {},
   "outputs": [
    {
     "data": {
      "text/plain": [
       "array([[-0.53753807, -0.00562826,  1.53239548,  0.48266783],\n",
       "       [ 1.58605126,  2.43583879,  0.14683721,  1.30923711],\n",
       "       [ 1.03222844, -0.47865327,  1.12974063,  0.54612441],\n",
       "       [-0.30617505, -0.16975189,  1.13619437, -1.34742365],\n",
       "       [-1.2489589 ,  1.77981686, -0.15987246, -0.68906118]])"
      ]
     },
     "execution_count": 95,
     "metadata": {},
     "output_type": "execute_result"
    }
   ],
   "source": [
    "data[~(names=='Bob')]"
   ]
  },
  {
   "cell_type": "code",
   "execution_count": 96,
   "id": "10d2db73-80ba-4066-8e09-c2da2649af9a",
   "metadata": {},
   "outputs": [
    {
     "data": {
      "text/plain": [
       "array([ True, False, False,  True, False, False, False])"
      ]
     },
     "execution_count": 96,
     "metadata": {},
     "output_type": "execute_result"
    }
   ],
   "source": [
    "cond = names=='Bob'\n",
    "cond"
   ]
  },
  {
   "cell_type": "code",
   "execution_count": 97,
   "id": "c637c435-0e61-4ce6-a021-19ca951c2671",
   "metadata": {},
   "outputs": [
    {
     "data": {
      "text/plain": [
       "array([[-0.53753807, -0.00562826,  1.53239548,  0.48266783],\n",
       "       [ 1.58605126,  2.43583879,  0.14683721,  1.30923711],\n",
       "       [ 1.03222844, -0.47865327,  1.12974063,  0.54612441],\n",
       "       [-0.30617505, -0.16975189,  1.13619437, -1.34742365],\n",
       "       [-1.2489589 ,  1.77981686, -0.15987246, -0.68906118]])"
      ]
     },
     "execution_count": 97,
     "metadata": {},
     "output_type": "execute_result"
    }
   ],
   "source": [
    "data[~cond]"
   ]
  },
  {
   "cell_type": "code",
   "execution_count": 98,
   "id": "3ad86207-a41c-4eaa-bfcb-4796efd9cc66",
   "metadata": {},
   "outputs": [],
   "source": [
    "mask = (names=='Bob')|(names=='Will')"
   ]
  },
  {
   "cell_type": "code",
   "execution_count": 99,
   "id": "68b5d8ff-a68b-4fd5-a160-34dacf4f8433",
   "metadata": {},
   "outputs": [
    {
     "data": {
      "text/plain": [
       "array([ True, False,  True,  True,  True, False, False])"
      ]
     },
     "execution_count": 99,
     "metadata": {},
     "output_type": "execute_result"
    }
   ],
   "source": [
    "mask"
   ]
  },
  {
   "cell_type": "code",
   "execution_count": 100,
   "id": "9fbb3412-00d8-4112-b84a-31b6396a02ac",
   "metadata": {},
   "outputs": [
    {
     "data": {
      "text/plain": [
       "array([[-0.32552658,  0.24888733,  1.10556593,  0.29280865],\n",
       "       [ 1.58605126,  2.43583879,  0.14683721,  1.30923711],\n",
       "       [ 1.0211308 ,  1.5250246 ,  0.05990687,  0.28975946],\n",
       "       [ 1.03222844, -0.47865327,  1.12974063,  0.54612441]])"
      ]
     },
     "execution_count": 100,
     "metadata": {},
     "output_type": "execute_result"
    }
   ],
   "source": [
    "data[mask]"
   ]
  },
  {
   "cell_type": "raw",
   "id": "184af686-4c62-44a6-8604-1591de244fb1",
   "metadata": {},
   "source": [
    "Selecting data from an array by boolean indexing always creates a copy of the data, even if the returned data is unchanged."
   ]
  },
  {
   "cell_type": "code",
   "execution_count": 101,
   "id": "68525da8-ee87-4a8a-b6df-c5e6d0dc9139",
   "metadata": {},
   "outputs": [],
   "source": [
    "# Note \n",
    "# python keywords 'and' and 'or' do not work with boolean arrays use & and |"
   ]
  },
  {
   "cell_type": "code",
   "execution_count": 102,
   "id": "af625311-69e8-4874-bfa9-039351087d31",
   "metadata": {},
   "outputs": [
    {
     "data": {
      "text/plain": [
       "array([[0.        , 0.24888733, 1.10556593, 0.29280865],\n",
       "       [0.        , 0.        , 1.53239548, 0.48266783],\n",
       "       [1.58605126, 2.43583879, 0.14683721, 1.30923711],\n",
       "       [1.0211308 , 1.5250246 , 0.05990687, 0.28975946],\n",
       "       [1.03222844, 0.        , 1.12974063, 0.54612441],\n",
       "       [0.        , 0.        , 1.13619437, 0.        ],\n",
       "       [0.        , 1.77981686, 0.        , 0.        ]])"
      ]
     },
     "execution_count": 102,
     "metadata": {},
     "output_type": "execute_result"
    }
   ],
   "source": [
    "data[data<0] = 0\n",
    "data"
   ]
  },
  {
   "cell_type": "code",
   "execution_count": 103,
   "id": "7aa1b83b-16cd-4f5b-91c5-6e4a38bfeef0",
   "metadata": {},
   "outputs": [
    {
     "data": {
      "text/plain": [
       "array([[7.        , 7.        , 7.        , 7.        ],\n",
       "       [0.        , 0.        , 1.53239548, 0.48266783],\n",
       "       [7.        , 7.        , 7.        , 7.        ],\n",
       "       [7.        , 7.        , 7.        , 7.        ],\n",
       "       [7.        , 7.        , 7.        , 7.        ],\n",
       "       [0.        , 0.        , 1.13619437, 0.        ],\n",
       "       [0.        , 1.77981686, 0.        , 0.        ]])"
      ]
     },
     "execution_count": 103,
     "metadata": {},
     "output_type": "execute_result"
    }
   ],
   "source": [
    "data[names != 'Joe']=7\n",
    "data"
   ]
  },
  {
   "cell_type": "markdown",
   "id": "6cb0ae1c-2f19-4975-9b92-dabbf6159783",
   "metadata": {},
   "source": [
    "### Fancy Indexing"
   ]
  },
  {
   "cell_type": "raw",
   "id": "c53caff5-2120-4ed2-bd28-e44962d46cf5",
   "metadata": {},
   "source": [
    "This is a term adopted by Numpy to describe indexing using integer arrays"
   ]
  },
  {
   "cell_type": "code",
   "execution_count": 104,
   "id": "d1d723fa-5ddd-4f89-af9b-35b48f4fd86a",
   "metadata": {},
   "outputs": [],
   "source": [
    "arr = np.empty((8,4))"
   ]
  },
  {
   "cell_type": "code",
   "execution_count": 105,
   "id": "0a7ed455-aa15-490f-ba45-0d5df791670b",
   "metadata": {},
   "outputs": [
    {
     "data": {
      "text/plain": [
       "array([[7.70165168e-312, 1.06224114e-321, 0.00000000e+000,\n",
       "        0.00000000e+000],\n",
       "       [1.90059520e+007, 5.02034658e+175, 6.81694768e-038,\n",
       "        4.25212874e+174],\n",
       "       [1.74081126e+184, 1.60128004e+160, 1.50026836e-076,\n",
       "        5.19566651e-144],\n",
       "       [3.59751658e+252, 1.46901661e+179, 8.37404147e+242,\n",
       "        2.59027926e-144],\n",
       "       [3.80985069e+180, 1.14428494e+243, 2.59027907e-144,\n",
       "        7.79952704e-143],\n",
       "       [1.39448262e+165, 1.10528274e-046, 2.82793109e-056,\n",
       "        1.20881492e+161],\n",
       "       [2.59027862e-144, 2.59903818e-144, 7.11456194e-091,\n",
       "        6.76093145e-067],\n",
       "       [1.25736066e-071, 1.11475752e+261, 1.16318408e-028,\n",
       "        2.97707521e+296]])"
      ]
     },
     "execution_count": 105,
     "metadata": {},
     "output_type": "execute_result"
    }
   ],
   "source": [
    "arr"
   ]
  },
  {
   "cell_type": "code",
   "execution_count": 106,
   "id": "dc11b562-07c3-4f4d-8383-1fb1451e5862",
   "metadata": {},
   "outputs": [
    {
     "data": {
      "text/plain": [
       "array([[0., 0., 0., 0.],\n",
       "       [1., 1., 1., 1.],\n",
       "       [2., 2., 2., 2.],\n",
       "       [3., 3., 3., 3.],\n",
       "       [4., 4., 4., 4.],\n",
       "       [5., 5., 5., 5.],\n",
       "       [6., 6., 6., 6.],\n",
       "       [7., 7., 7., 7.]])"
      ]
     },
     "execution_count": 106,
     "metadata": {},
     "output_type": "execute_result"
    }
   ],
   "source": [
    "for i in range(8):\n",
    "    arr[i]=i \n",
    "arr"
   ]
  },
  {
   "cell_type": "raw",
   "id": "6135538a-65c4-4161-9aed-49712e0abc3b",
   "metadata": {},
   "source": [
    "To select a subset of rows in a particular order,  you can simply pass a list or ndarrays of integers specifying the described order."
   ]
  },
  {
   "cell_type": "code",
   "execution_count": 107,
   "id": "f4c1dd9a-3d2c-4f62-9c13-c3c8fb63081d",
   "metadata": {},
   "outputs": [
    {
     "data": {
      "text/plain": [
       "array([[4., 4., 4., 4.],\n",
       "       [3., 3., 3., 3.],\n",
       "       [0., 0., 0., 0.],\n",
       "       [6., 6., 6., 6.]])"
      ]
     },
     "execution_count": 107,
     "metadata": {},
     "output_type": "execute_result"
    }
   ],
   "source": [
    "arr[[4,3,0,6]]"
   ]
  },
  {
   "cell_type": "code",
   "execution_count": 108,
   "id": "1bfb5f38-80e5-4c75-909e-e1eecc67352a",
   "metadata": {},
   "outputs": [
    {
     "data": {
      "text/plain": [
       "array([[5., 5., 5., 5.],\n",
       "       [3., 3., 3., 3.],\n",
       "       [1., 1., 1., 1.]])"
      ]
     },
     "execution_count": 108,
     "metadata": {},
     "output_type": "execute_result"
    }
   ],
   "source": [
    "arr[[-3,-5,-7]]"
   ]
  },
  {
   "cell_type": "raw",
   "id": "c97b8e5a-38b7-40a5-b65a-7d744c2d75fd",
   "metadata": {},
   "source": [
    "Passing multiple index arrays does something slightly different; it selects a one-dimensional array of elements corresponding to each tuple of indices:"
   ]
  },
  {
   "cell_type": "code",
   "execution_count": 109,
   "id": "028c784b-dafd-4fa8-8855-d40767a5f205",
   "metadata": {},
   "outputs": [],
   "source": [
    "arr = np.arange(32).reshape((8,4))"
   ]
  },
  {
   "cell_type": "code",
   "execution_count": 110,
   "id": "568c572b-3d10-43cf-a770-8959f04c3543",
   "metadata": {},
   "outputs": [
    {
     "data": {
      "text/plain": [
       "array([[ 0,  1,  2,  3],\n",
       "       [ 4,  5,  6,  7],\n",
       "       [ 8,  9, 10, 11],\n",
       "       [12, 13, 14, 15],\n",
       "       [16, 17, 18, 19],\n",
       "       [20, 21, 22, 23],\n",
       "       [24, 25, 26, 27],\n",
       "       [28, 29, 30, 31]])"
      ]
     },
     "execution_count": 110,
     "metadata": {},
     "output_type": "execute_result"
    }
   ],
   "source": [
    "arr"
   ]
  },
  {
   "cell_type": "code",
   "execution_count": 111,
   "id": "b01620ea-48b6-458b-a48a-c2cda38d9645",
   "metadata": {},
   "outputs": [
    {
     "data": {
      "text/plain": [
       "array([ 4, 23, 29, 10])"
      ]
     },
     "execution_count": 111,
     "metadata": {},
     "output_type": "execute_result"
    }
   ],
   "source": [
    "arr[[1,5,7,2],[0,3,1,2]]"
   ]
  },
  {
   "cell_type": "raw",
   "id": "b4d931bc-255e-4126-b5c2-a0104b4651b1",
   "metadata": {},
   "source": [
    "Here the elements (1, 0), (5, 3), (7, 1), and (2, 2) were selected."
   ]
  },
  {
   "cell_type": "code",
   "execution_count": null,
   "id": "e93fbd91-071f-4a31-aae4-9cb4eb119e00",
   "metadata": {},
   "outputs": [],
   "source": []
  }
 ],
 "metadata": {
  "kernelspec": {
   "display_name": "Python [conda env:base] *",
   "language": "python",
   "name": "conda-base-py"
  },
  "language_info": {
   "codemirror_mode": {
    "name": "ipython",
    "version": 3
   },
   "file_extension": ".py",
   "mimetype": "text/x-python",
   "name": "python",
   "nbconvert_exporter": "python",
   "pygments_lexer": "ipython3",
   "version": "3.12.7"
  }
 },
 "nbformat": 4,
 "nbformat_minor": 5
}
