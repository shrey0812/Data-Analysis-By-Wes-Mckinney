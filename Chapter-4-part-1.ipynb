{
 "cells": [
  {
   "cell_type": "markdown",
   "id": "75ad5fe0-ca8e-4758-9025-dd7fef8e2eec",
   "metadata": {},
   "source": [
    "# Numpy"
   ]
  },
  {
   "cell_type": "markdown",
   "id": "f79d4dd7-14f3-4a74-9044-fc0a21346b93",
   "metadata": {},
   "source": [
    "##### Numpy one of the most important foundational packages of python.\n",
    "##### Many packages providing scientific functionality use Numpy's Array objects.\n",
    "\n",
    "1. ndarray -- an efficient multidimensional array providing fast array operations and flexible broadcasting capabilities.\n",
    "2. Mathematical functions for performing fast operations on entire array data without loop.\n",
    "3. Tools for reading/writing array data to disk and working memory-mapped files.\n",
    "4. Linear algebra, random number generation, and Fourier transform capabilities\n",
    "5. A C api to connect with libraries written in C, C++ and FORTRAN"
   ]
  },
  {
   "cell_type": "markdown",
   "id": "2e9b1ad4-1676-4b0f-9e9b-610df1ec11bb",
   "metadata": {},
   "source": [
    "##### While Numpy by itself does not provide modeling or scientificc functionality, but it helps in using tools with array computing semantics like pandas."
   ]
  },
  {
   "cell_type": "markdown",
   "id": "37729a83-e874-43e8-9670-6152a0bb4d44",
   "metadata": {
    "jp-MarkdownHeadingCollapsed": true
   },
   "source": [
    "#### For most data analysis applications, the main areas of functionality focus on are:\n",
    "1. Fast array-based operations for data munging and cleaning, subsetting and filtering, transformation, and any other kinds of computations\n",
    "2. Common array algorithms like sorting, unique, and set operations\n",
    "3. Efficient descriptive statistics and aggregating/summarizing data\n",
    "4. Data alignment and relational data manipulations for merging and joining together heterogeneous datasets\n",
    "5. Expressing conditional logic as array expressions instead of loops with if-elif-else branches\n",
    "6. Group-wise data manipulations (aggregation, transformation, function application)"
   ]
  },
  {
   "cell_type": "markdown",
   "id": "e46af67d-2da7-4c0a-af6f-b6afe1729057",
   "metadata": {},
   "source": [
    "#### Why is numpy efficient which is one of its most important uses?"
   ]
  },
  {
   "cell_type": "markdown",
   "id": "1dce7683-7a93-482f-9e3c-25c0264b9d84",
   "metadata": {},
   "source": [
    "1. Numpy internally stores data in contiguous block of memory independent of each other.\n",
    "2. C based algorithms (most important advantages)\n",
    "3. Perform complex array operations on entire arrays without the need of loop, which can be slow for large sequences."
   ]
  },
  {
   "cell_type": "code",
   "execution_count": 4,
   "id": "b474ea37-e425-4462-a95b-5828e18d2b4d",
   "metadata": {},
   "outputs": [],
   "source": [
    "import numpy as np\n",
    "\n",
    "my_array = np.arange(1000000)\n",
    "my_list = list(range(1000000))"
   ]
  },
  {
   "cell_type": "code",
   "execution_count": 5,
   "id": "603a4c0c-f669-4095-b972-4aa1437a4aa0",
   "metadata": {},
   "outputs": [
    {
     "name": "stdout",
     "output_type": "stream",
     "text": [
      "CPU times: total: 0 ns\n",
      "Wall time: 0 ns\n"
     ]
    }
   ],
   "source": [
    "%time\n",
    "for _ in range(10):\n",
    "    my_arr2 = my_array * 2"
   ]
  },
  {
   "cell_type": "code",
   "execution_count": 7,
   "id": "2363d9b3-4259-452c-901d-a2dc74ca4aa8",
   "metadata": {},
   "outputs": [
    {
     "name": "stdout",
     "output_type": "stream",
     "text": [
      "CPU times: total: 0 ns\n",
      "Wall time: 0 ns\n"
     ]
    }
   ],
   "source": [
    "%time\n",
    "for _ in range(10):\n",
    "    my_list2 = [x*2 for x in my_list]\n",
    "# i dont know why the time is showing 0 it took longer time to execute also."
   ]
  },
  {
   "cell_type": "markdown",
   "id": "7a978731-6eae-4ed7-af28-f6102fbca9cf",
   "metadata": {},
   "source": [
    "##### ndarray is a fast flexible container for large datasets of python\n",
    "##### enables you to perform mathematical ops on whole array just like scalar elements"
   ]
  },
  {
   "cell_type": "code",
   "execution_count": 8,
   "id": "46837d70-c622-48cf-8779-1828000c4d68",
   "metadata": {},
   "outputs": [
    {
     "data": {
      "text/plain": [
       "array([[-0.54155736,  0.62351486,  0.87369157],\n",
       "       [-1.64944565,  0.73823408, -1.29644731]])"
      ]
     },
     "execution_count": 8,
     "metadata": {},
     "output_type": "execute_result"
    }
   ],
   "source": [
    "data = np.random.randn(2,3)\n",
    "data"
   ]
  },
  {
   "cell_type": "code",
   "execution_count": 9,
   "id": "9fd5bb52-d644-447c-9d41-f76642dc97ef",
   "metadata": {},
   "outputs": [
    {
     "data": {
      "text/plain": [
       "array([[ -54.15573552,   62.35148579,   87.36915705],\n",
       "       [-164.94456458,   73.82340786, -129.64473084]])"
      ]
     },
     "execution_count": 9,
     "metadata": {},
     "output_type": "execute_result"
    }
   ],
   "source": [
    "data*100"
   ]
  },
  {
   "cell_type": "code",
   "execution_count": 10,
   "id": "ff5ee6e3-5d24-41f5-82a3-86afbb39dc71",
   "metadata": {},
   "outputs": [
    {
     "data": {
      "text/plain": [
       "array([[-1.08311471,  1.24702972,  1.74738314],\n",
       "       [-3.29889129,  1.47646816, -2.59289462]])"
      ]
     },
     "execution_count": 10,
     "metadata": {},
     "output_type": "execute_result"
    }
   ],
   "source": [
    "data + data"
   ]
  },
  {
   "cell_type": "markdown",
   "id": "b1e668b3-03a7-44bd-81d3-8bfdd59a9895",
   "metadata": {},
   "source": [
    "##### ndarray containes only homogenous data"
   ]
  },
  {
   "cell_type": "code",
   "execution_count": 12,
   "id": "74a3def6-0fbd-415e-b465-fed72072b8f2",
   "metadata": {},
   "outputs": [
    {
     "data": {
      "text/plain": [
       "(2, 3)"
      ]
     },
     "execution_count": 12,
     "metadata": {},
     "output_type": "execute_result"
    }
   ],
   "source": [
    "data.shape"
   ]
  },
  {
   "cell_type": "code",
   "execution_count": 13,
   "id": "6aef71c1-509b-48cd-983f-d7f6651f2d5d",
   "metadata": {},
   "outputs": [
    {
     "data": {
      "text/plain": [
       "dtype('float64')"
      ]
     },
     "execution_count": 13,
     "metadata": {},
     "output_type": "execute_result"
    }
   ],
   "source": [
    "data.dtype"
   ]
  },
  {
   "cell_type": "code",
   "execution_count": 14,
   "id": "faad5683-091c-45a2-85a8-26dbb5df55a9",
   "metadata": {},
   "outputs": [
    {
     "data": {
      "text/plain": [
       "array([6. , 7.5, 8. , 0. , 1. ])"
      ]
     },
     "execution_count": 14,
     "metadata": {},
     "output_type": "execute_result"
    }
   ],
   "source": [
    "# creating numpy arrays\n",
    "\n",
    "data1 = [6,7.5,8,0,1]\n",
    "arr1 = np.array(data1)\n",
    "arr1"
   ]
  },
  {
   "cell_type": "code",
   "execution_count": 19,
   "id": "97bed159-1221-4152-93d6-55185efcdb7d",
   "metadata": {},
   "outputs": [
    {
     "data": {
      "text/plain": [
       "array([[1, 2, 3, 4],\n",
       "       [5, 6, 7, 8]])"
      ]
     },
     "execution_count": 19,
     "metadata": {},
     "output_type": "execute_result"
    }
   ],
   "source": [
    "data2 = [[1,2,3,4],[5,6,7,8]]\n",
    "arr2 = np.array(data2)\n",
    "arr2\n",
    "# since data2 was a list of list arr2 also has 2 dimensions with shape inferred from the data"
   ]
  },
  {
   "cell_type": "code",
   "execution_count": 20,
   "id": "841ac1fb-efa6-4326-bc66-463fa09e4a64",
   "metadata": {},
   "outputs": [
    {
     "data": {
      "text/plain": [
       "2"
      ]
     },
     "execution_count": 20,
     "metadata": {},
     "output_type": "execute_result"
    }
   ],
   "source": [
    "arr2.ndim"
   ]
  },
  {
   "cell_type": "code",
   "execution_count": 21,
   "id": "15733834-233d-4750-8839-0de643825b75",
   "metadata": {},
   "outputs": [
    {
     "data": {
      "text/plain": [
       "(2, 4)"
      ]
     },
     "execution_count": 21,
     "metadata": {},
     "output_type": "execute_result"
    }
   ],
   "source": [
    "arr2.shape"
   ]
  },
  {
   "cell_type": "code",
   "execution_count": 22,
   "id": "9a379488-e5d9-4708-8eab-561fab43f56b",
   "metadata": {},
   "outputs": [
    {
     "data": {
      "text/plain": [
       "dtype('float64')"
      ]
     },
     "execution_count": 22,
     "metadata": {},
     "output_type": "execute_result"
    }
   ],
   "source": [
    "arr1.dtype"
   ]
  },
  {
   "cell_type": "code",
   "execution_count": 23,
   "id": "36c1695e-fc73-4bd8-8d7c-9de822ed349a",
   "metadata": {},
   "outputs": [
    {
     "data": {
      "text/plain": [
       "dtype('int32')"
      ]
     },
     "execution_count": 23,
     "metadata": {},
     "output_type": "execute_result"
    }
   ],
   "source": [
    "arr2.dtype"
   ]
  },
  {
   "cell_type": "code",
   "execution_count": 24,
   "id": "259ca724-ac19-4b04-aaf3-031795d931c9",
   "metadata": {},
   "outputs": [
    {
     "data": {
      "text/plain": [
       "array([0., 0., 0., 0., 0., 0., 0., 0., 0., 0.])"
      ]
     },
     "execution_count": 24,
     "metadata": {},
     "output_type": "execute_result"
    }
   ],
   "source": [
    "# array of zero\n",
    "np.zeros(10)"
   ]
  },
  {
   "cell_type": "code",
   "execution_count": 26,
   "id": "5128be6e-7e9d-423f-9132-1a5204ac4da8",
   "metadata": {},
   "outputs": [
    {
     "data": {
      "text/plain": [
       "array([[0., 0., 0., 0., 0., 0.],\n",
       "       [0., 0., 0., 0., 0., 0.],\n",
       "       [0., 0., 0., 0., 0., 0.]])"
      ]
     },
     "execution_count": 26,
     "metadata": {},
     "output_type": "execute_result"
    }
   ],
   "source": [
    "np.zeros((3,6))"
   ]
  },
  {
   "cell_type": "code",
   "execution_count": 28,
   "id": "965d8c48-e013-4b9b-b883-58e9bdd3c3ff",
   "metadata": {},
   "outputs": [
    {
     "data": {
      "text/plain": [
       "array([[[7.51418677e-312, 2.81617418e-322],\n",
       "        [0.00000000e+000, 0.00000000e+000],\n",
       "        [1.16709769e-312, 5.64233733e-067]],\n",
       "\n",
       "       [[5.20093943e-090, 3.50592719e-033],\n",
       "        [2.32685031e-057, 6.82129756e-038],\n",
       "        [6.48224659e+170, 4.93432906e+257]]])"
      ]
     },
     "execution_count": 28,
     "metadata": {},
     "output_type": "execute_result"
    }
   ],
   "source": [
    "# empty creates an array without initializing its value to any particular value. the values can be zeros or garbage value\n",
    "np.empty((2,3,2))"
   ]
  },
  {
   "cell_type": "code",
   "execution_count": 29,
   "id": "1fc85b8a-310d-4543-b450-4e2186a961ca",
   "metadata": {},
   "outputs": [
    {
     "data": {
      "text/plain": [
       "array([ 0,  1,  2,  3,  4,  5,  6,  7,  8,  9, 10, 11, 12, 13, 14])"
      ]
     },
     "execution_count": 29,
     "metadata": {},
     "output_type": "execute_result"
    }
   ],
   "source": [
    "# arange has built in range function\n",
    "np.arange(15)"
   ]
  },
  {
   "cell_type": "markdown",
   "id": "3da032ce-6c20-44c9-a02e-ab9b054a13d6",
   "metadata": {},
   "source": [
    "### Data Types for ndarrays"
   ]
  },
  {
   "cell_type": "code",
   "execution_count": 32,
   "id": "632d232f-9bbf-461e-9b69-2add5f0582d8",
   "metadata": {},
   "outputs": [],
   "source": [
    "arr1 = np.array([1,2,3],dtype = np.float64)"
   ]
  },
  {
   "cell_type": "code",
   "execution_count": 33,
   "id": "1c0c715a-1f9c-4260-b199-60a4acd53284",
   "metadata": {},
   "outputs": [],
   "source": [
    "arr2 = np.array([1,2,3],dtype = np.int32)"
   ]
  },
  {
   "cell_type": "code",
   "execution_count": 34,
   "id": "cd16d8c4-817b-41c0-9761-036ece1e1e69",
   "metadata": {},
   "outputs": [
    {
     "data": {
      "text/plain": [
       "dtype('float64')"
      ]
     },
     "execution_count": 34,
     "metadata": {},
     "output_type": "execute_result"
    }
   ],
   "source": [
    "arr1.dtype"
   ]
  },
  {
   "cell_type": "code",
   "execution_count": 36,
   "id": "3ee1f9d3-991f-48a0-a188-11269c9b95cb",
   "metadata": {},
   "outputs": [
    {
     "data": {
      "text/plain": [
       "dtype('int32')"
      ]
     },
     "execution_count": 36,
     "metadata": {},
     "output_type": "execute_result"
    }
   ],
   "source": [
    "arr2.dtype\n",
    "\n",
    "# dtypes are a source of numpy flexibility for interacting with data coming from other systems. "
   ]
  },
  {
   "cell_type": "code",
   "execution_count": 37,
   "id": "e1692996-76a2-4c29-874c-8ddd6a194743",
   "metadata": {},
   "outputs": [
    {
     "data": {
      "text/plain": [
       "dtype('int32')"
      ]
     },
     "execution_count": 37,
     "metadata": {},
     "output_type": "execute_result"
    }
   ],
   "source": [
    "# you can explicitly convert or cast an array from one dtype to another using astype method\n",
    "\n",
    "arr = np.array([1,2,3,4,5])\n",
    "arr.dtype"
   ]
  },
  {
   "cell_type": "code",
   "execution_count": 39,
   "id": "8884fa55-5f6c-4972-b6fb-6627fd2474f9",
   "metadata": {},
   "outputs": [
    {
     "data": {
      "text/plain": [
       "dtype('float64')"
      ]
     },
     "execution_count": 39,
     "metadata": {},
     "output_type": "execute_result"
    }
   ],
   "source": [
    "float_arr = arr.astype(np.float64)\n",
    "float_arr.dtype"
   ]
  },
  {
   "cell_type": "code",
   "execution_count": 40,
   "id": "8812774c-d7ce-4fb4-96d5-5f601d784cb5",
   "metadata": {},
   "outputs": [
    {
     "data": {
      "text/plain": [
       "array([ 3.7, -1.2, -2.6,  0.5, 12.9, 10.1])"
      ]
     },
     "execution_count": 40,
     "metadata": {},
     "output_type": "execute_result"
    }
   ],
   "source": [
    "arr = np.array([3.7, -1.2, -2.6, 0.5, 12.9, 10.1])\n",
    "arr"
   ]
  },
  {
   "cell_type": "code",
   "execution_count": 41,
   "id": "1914f041-ed2c-488f-a325-70bff41c3154",
   "metadata": {},
   "outputs": [
    {
     "data": {
      "text/plain": [
       "array([ 3, -1, -2,  0, 12, 10])"
      ]
     },
     "execution_count": 41,
     "metadata": {},
     "output_type": "execute_result"
    }
   ],
   "source": [
    "arr.astype(np.int32)"
   ]
  },
  {
   "cell_type": "code",
   "execution_count": 44,
   "id": "ec91fc3b-a45f-4227-8abf-9485f7912d5a",
   "metadata": {},
   "outputs": [
    {
     "data": {
      "text/plain": [
       "array([ 1.24, 56.  , 65.  ])"
      ]
     },
     "execution_count": 44,
     "metadata": {},
     "output_type": "execute_result"
    }
   ],
   "source": [
    "numeric_strings = np.array(['1.24','56','65'], dtype = np.string_)\n",
    "numeric_strings.astype(np.float64)"
   ]
  },
  {
   "cell_type": "code",
   "execution_count": 45,
   "id": "81913647-9f5f-4310-abfc-1c4d986fc743",
   "metadata": {},
   "outputs": [
    {
     "data": {
      "text/plain": [
       "array([0., 1., 2., 3., 4., 5., 6., 7., 8., 9.])"
      ]
     },
     "execution_count": 45,
     "metadata": {},
     "output_type": "execute_result"
    }
   ],
   "source": [
    "# you can also use another array dtype\n",
    "\n",
    "int_array = np.arange(10)\n",
    "calibers = np.array([.22,.27,8.9,.357],dtype = np.float64)\n",
    "int_array.astype(calibers.dtype)"
   ]
  },
  {
   "cell_type": "code",
   "execution_count": 47,
   "id": "64de8424-0efc-415b-9fe8-973d46de0950",
   "metadata": {},
   "outputs": [
    {
     "data": {
      "text/plain": [
       "array([        0,         0, 476268816,       354, 476269456,       354,\n",
       "       476268176,       354], dtype=uint32)"
      ]
     },
     "execution_count": 47,
     "metadata": {},
     "output_type": "execute_result"
    }
   ],
   "source": [
    "# there are shorthand type code strings you can also use to refer to a dtype\n",
    "empty_int32 = np.empty(8,dtype = 'u4')\n",
    "empty_int32\n",
    "\n",
    "# calling astype always creates a new array"
   ]
  },
  {
   "cell_type": "code",
   "execution_count": null,
   "id": "ee0d9c81-afc4-46c4-955d-74a9bf091328",
   "metadata": {},
   "outputs": [],
   "source": []
  }
 ],
 "metadata": {
  "kernelspec": {
   "display_name": "Python [conda env:base] *",
   "language": "python",
   "name": "conda-base-py"
  },
  "language_info": {
   "codemirror_mode": {
    "name": "ipython",
    "version": 3
   },
   "file_extension": ".py",
   "mimetype": "text/x-python",
   "name": "python",
   "nbconvert_exporter": "python",
   "pygments_lexer": "ipython3",
   "version": "3.12.7"
  }
 },
 "nbformat": 4,
 "nbformat_minor": 5
}
