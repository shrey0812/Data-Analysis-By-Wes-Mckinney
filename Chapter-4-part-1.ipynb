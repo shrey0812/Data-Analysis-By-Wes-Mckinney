{
 "cells": [
  {
   "cell_type": "markdown",
   "id": "75ad5fe0-ca8e-4758-9025-dd7fef8e2eec",
   "metadata": {},
   "source": [
    "# Numpy"
   ]
  },
  {
   "cell_type": "markdown",
   "id": "f79d4dd7-14f3-4a74-9044-fc0a21346b93",
   "metadata": {},
   "source": [
    "##### Numpy one of the most important foundational packages of python.\n",
    "##### Many packages providing scientific functionality use Numpy's Array objects.\n",
    "\n",
    "1. ndarray -- an efficient multidimensional array providing fast array operations and flexible broadcasting capabilities.\n",
    "2. Mathematical functions for performing fast operations on entire array data without loop.\n",
    "3. Tools for reading/writing array data to disk and working memory-mapped files.\n",
    "4. Linear algebra, random number generation, and Fourier transform capabilities\n",
    "5. A C api to connect with libraries written in C, C++ and FORTRAN"
   ]
  },
  {
   "cell_type": "markdown",
   "id": "2e9b1ad4-1676-4b0f-9e9b-610df1ec11bb",
   "metadata": {},
   "source": [
    "##### While Numpy by itself does not provide modeling or scientificc functionality, but it helps in using tools with array computing semantics like pandas."
   ]
  },
  {
   "cell_type": "markdown",
   "id": "37729a83-e874-43e8-9670-6152a0bb4d44",
   "metadata": {
    "jp-MarkdownHeadingCollapsed": true
   },
   "source": [
    "#### For most data analysis applications, the main areas of functionality focus on are:\n",
    "1. Fast array-based operations for data munging and cleaning, subsetting and filtering, transformation, and any other kinds of computations\n",
    "2. Common array algorithms like sorting, unique, and set operations\n",
    "3. Efficient descriptive statistics and aggregating/summarizing data\n",
    "4. Data alignment and relational data manipulations for merging and joining together heterogeneous datasets\n",
    "5. Expressing conditional logic as array expressions instead of loops with if-elif-else branches\n",
    "6. Group-wise data manipulations (aggregation, transformation, function application)"
   ]
  },
  {
   "cell_type": "markdown",
   "id": "e46af67d-2da7-4c0a-af6f-b6afe1729057",
   "metadata": {},
   "source": [
    "#### Why is numpy efficient which is one of its most important uses?"
   ]
  },
  {
   "cell_type": "markdown",
   "id": "1dce7683-7a93-482f-9e3c-25c0264b9d84",
   "metadata": {},
   "source": [
    "1. Numpy internally stores data in contiguous block of memory independent of each other.\n",
    "2. C based algorithms (most important advantages)\n",
    "3. Perform complex array operations on entire arrays without the need of loop, which can be slow for large sequences."
   ]
  },
  {
   "cell_type": "code",
   "execution_count": 1,
   "id": "b474ea37-e425-4462-a95b-5828e18d2b4d",
   "metadata": {},
   "outputs": [],
   "source": [
    "import numpy as np\n",
    "\n",
    "my_array = np.arange(1000000)\n",
    "my_list = list(range(1000000))"
   ]
  },
  {
   "cell_type": "code",
   "execution_count": 2,
   "id": "603a4c0c-f669-4095-b972-4aa1437a4aa0",
   "metadata": {},
   "outputs": [
    {
     "name": "stdout",
     "output_type": "stream",
     "text": [
      "CPU times: total: 0 ns\n",
      "Wall time: 0 ns\n"
     ]
    }
   ],
   "source": [
    "%time\n",
    "for _ in range(10):\n",
    "    my_arr2 = my_array * 2"
   ]
  },
  {
   "cell_type": "code",
   "execution_count": 3,
   "id": "2363d9b3-4259-452c-901d-a2dc74ca4aa8",
   "metadata": {},
   "outputs": [
    {
     "name": "stdout",
     "output_type": "stream",
     "text": [
      "CPU times: total: 0 ns\n",
      "Wall time: 0 ns\n"
     ]
    }
   ],
   "source": [
    "%time\n",
    "for _ in range(10):\n",
    "    my_list2 = [x*2 for x in my_list]\n",
    "# i dont know why the time is showing 0 it took longer time to execute also."
   ]
  },
  {
   "cell_type": "markdown",
   "id": "7a978731-6eae-4ed7-af28-f6102fbca9cf",
   "metadata": {},
   "source": [
    "##### ndarray is a fast flexible container for large datasets of python\n",
    "##### enables you to perform mathematical ops on whole array just like scalar elements"
   ]
  },
  {
   "cell_type": "code",
   "execution_count": 4,
   "id": "46837d70-c622-48cf-8779-1828000c4d68",
   "metadata": {},
   "outputs": [
    {
     "data": {
      "text/plain": [
       "array([[ 0.39900051,  0.67625754, -0.94281076],\n",
       "       [ 1.04462617, -0.68861258,  0.89540645]])"
      ]
     },
     "execution_count": 4,
     "metadata": {},
     "output_type": "execute_result"
    }
   ],
   "source": [
    "data = np.random.randn(2,3)\n",
    "data"
   ]
  },
  {
   "cell_type": "code",
   "execution_count": 5,
   "id": "9fd5bb52-d644-447c-9d41-f76642dc97ef",
   "metadata": {},
   "outputs": [
    {
     "data": {
      "text/plain": [
       "array([[ 39.90005122,  67.62575395, -94.28107559],\n",
       "       [104.46261664, -68.86125752,  89.54064486]])"
      ]
     },
     "execution_count": 5,
     "metadata": {},
     "output_type": "execute_result"
    }
   ],
   "source": [
    "data*100"
   ]
  },
  {
   "cell_type": "code",
   "execution_count": 6,
   "id": "ff5ee6e3-5d24-41f5-82a3-86afbb39dc71",
   "metadata": {},
   "outputs": [
    {
     "data": {
      "text/plain": [
       "array([[ 0.79800102,  1.35251508, -1.88562151],\n",
       "       [ 2.08925233, -1.37722515,  1.7908129 ]])"
      ]
     },
     "execution_count": 6,
     "metadata": {},
     "output_type": "execute_result"
    }
   ],
   "source": [
    "data + data"
   ]
  },
  {
   "cell_type": "markdown",
   "id": "b1e668b3-03a7-44bd-81d3-8bfdd59a9895",
   "metadata": {},
   "source": [
    "##### ndarray containes only homogenous data"
   ]
  },
  {
   "cell_type": "code",
   "execution_count": 7,
   "id": "74a3def6-0fbd-415e-b465-fed72072b8f2",
   "metadata": {},
   "outputs": [
    {
     "data": {
      "text/plain": [
       "(2, 3)"
      ]
     },
     "execution_count": 7,
     "metadata": {},
     "output_type": "execute_result"
    }
   ],
   "source": [
    "data.shape"
   ]
  },
  {
   "cell_type": "code",
   "execution_count": 8,
   "id": "6aef71c1-509b-48cd-983f-d7f6651f2d5d",
   "metadata": {},
   "outputs": [
    {
     "data": {
      "text/plain": [
       "dtype('float64')"
      ]
     },
     "execution_count": 8,
     "metadata": {},
     "output_type": "execute_result"
    }
   ],
   "source": [
    "data.dtype"
   ]
  },
  {
   "cell_type": "code",
   "execution_count": 9,
   "id": "faad5683-091c-45a2-85a8-26dbb5df55a9",
   "metadata": {},
   "outputs": [
    {
     "data": {
      "text/plain": [
       "array([6. , 7.5, 8. , 0. , 1. ])"
      ]
     },
     "execution_count": 9,
     "metadata": {},
     "output_type": "execute_result"
    }
   ],
   "source": [
    "# creating numpy arrays\n",
    "\n",
    "data1 = [6,7.5,8,0,1]\n",
    "arr1 = np.array(data1)\n",
    "arr1"
   ]
  },
  {
   "cell_type": "code",
   "execution_count": 10,
   "id": "97bed159-1221-4152-93d6-55185efcdb7d",
   "metadata": {},
   "outputs": [
    {
     "data": {
      "text/plain": [
       "array([[1, 2, 3, 4],\n",
       "       [5, 6, 7, 8]])"
      ]
     },
     "execution_count": 10,
     "metadata": {},
     "output_type": "execute_result"
    }
   ],
   "source": [
    "data2 = [[1,2,3,4],[5,6,7,8]]\n",
    "arr2 = np.array(data2)\n",
    "arr2\n",
    "# since data2 was a list of list arr2 also has 2 dimensions with shape inferred from the data"
   ]
  },
  {
   "cell_type": "code",
   "execution_count": 11,
   "id": "841ac1fb-efa6-4326-bc66-463fa09e4a64",
   "metadata": {},
   "outputs": [
    {
     "data": {
      "text/plain": [
       "2"
      ]
     },
     "execution_count": 11,
     "metadata": {},
     "output_type": "execute_result"
    }
   ],
   "source": [
    "arr2.ndim"
   ]
  },
  {
   "cell_type": "code",
   "execution_count": 12,
   "id": "15733834-233d-4750-8839-0de643825b75",
   "metadata": {},
   "outputs": [
    {
     "data": {
      "text/plain": [
       "(2, 4)"
      ]
     },
     "execution_count": 12,
     "metadata": {},
     "output_type": "execute_result"
    }
   ],
   "source": [
    "arr2.shape"
   ]
  },
  {
   "cell_type": "code",
   "execution_count": 13,
   "id": "9a379488-e5d9-4708-8eab-561fab43f56b",
   "metadata": {},
   "outputs": [
    {
     "data": {
      "text/plain": [
       "dtype('float64')"
      ]
     },
     "execution_count": 13,
     "metadata": {},
     "output_type": "execute_result"
    }
   ],
   "source": [
    "arr1.dtype"
   ]
  },
  {
   "cell_type": "code",
   "execution_count": 14,
   "id": "36c1695e-fc73-4bd8-8d7c-9de822ed349a",
   "metadata": {},
   "outputs": [
    {
     "data": {
      "text/plain": [
       "dtype('int32')"
      ]
     },
     "execution_count": 14,
     "metadata": {},
     "output_type": "execute_result"
    }
   ],
   "source": [
    "arr2.dtype"
   ]
  },
  {
   "cell_type": "code",
   "execution_count": 15,
   "id": "259ca724-ac19-4b04-aaf3-031795d931c9",
   "metadata": {},
   "outputs": [
    {
     "data": {
      "text/plain": [
       "array([0., 0., 0., 0., 0., 0., 0., 0., 0., 0.])"
      ]
     },
     "execution_count": 15,
     "metadata": {},
     "output_type": "execute_result"
    }
   ],
   "source": [
    "# array of zero\n",
    "np.zeros(10)"
   ]
  },
  {
   "cell_type": "code",
   "execution_count": 16,
   "id": "5128be6e-7e9d-423f-9132-1a5204ac4da8",
   "metadata": {},
   "outputs": [
    {
     "data": {
      "text/plain": [
       "array([[0., 0., 0., 0., 0., 0.],\n",
       "       [0., 0., 0., 0., 0., 0.],\n",
       "       [0., 0., 0., 0., 0., 0.]])"
      ]
     },
     "execution_count": 16,
     "metadata": {},
     "output_type": "execute_result"
    }
   ],
   "source": [
    "np.zeros((3,6))"
   ]
  },
  {
   "cell_type": "code",
   "execution_count": 17,
   "id": "965d8c48-e013-4b9b-b883-58e9bdd3c3ff",
   "metadata": {},
   "outputs": [
    {
     "data": {
      "text/plain": [
       "array([[[1.34039663e-311, 3.16202013e-322],\n",
       "        [0.00000000e+000, 0.00000000e+000],\n",
       "        [0.00000000e+000, 6.23078250e+174]],\n",
       "\n",
       "       [[8.60640303e-043, 9.33611075e+164],\n",
       "        [3.69409910e-057, 1.02308830e+166],\n",
       "        [1.58729973e-076, 3.85528491e-057]]])"
      ]
     },
     "execution_count": 17,
     "metadata": {},
     "output_type": "execute_result"
    }
   ],
   "source": [
    "# empty creates an array without initializing its value to any particular value. the values can be zeros or garbage value\n",
    "np.empty((2,3,2))"
   ]
  },
  {
   "cell_type": "code",
   "execution_count": 18,
   "id": "1fc85b8a-310d-4543-b450-4e2186a961ca",
   "metadata": {},
   "outputs": [
    {
     "data": {
      "text/plain": [
       "array([ 0,  1,  2,  3,  4,  5,  6,  7,  8,  9, 10, 11, 12, 13, 14])"
      ]
     },
     "execution_count": 18,
     "metadata": {},
     "output_type": "execute_result"
    }
   ],
   "source": [
    "# arange has built in range function\n",
    "np.arange(15)"
   ]
  },
  {
   "cell_type": "markdown",
   "id": "3da032ce-6c20-44c9-a02e-ab9b054a13d6",
   "metadata": {},
   "source": [
    "### Data Types for ndarrays"
   ]
  },
  {
   "cell_type": "code",
   "execution_count": 19,
   "id": "632d232f-9bbf-461e-9b69-2add5f0582d8",
   "metadata": {},
   "outputs": [],
   "source": [
    "arr1 = np.array([1,2,3],dtype = np.float64)"
   ]
  },
  {
   "cell_type": "code",
   "execution_count": 20,
   "id": "1c0c715a-1f9c-4260-b199-60a4acd53284",
   "metadata": {},
   "outputs": [],
   "source": [
    "arr2 = np.array([1,2,3],dtype = np.int32)"
   ]
  },
  {
   "cell_type": "code",
   "execution_count": 21,
   "id": "cd16d8c4-817b-41c0-9761-036ece1e1e69",
   "metadata": {},
   "outputs": [
    {
     "data": {
      "text/plain": [
       "dtype('float64')"
      ]
     },
     "execution_count": 21,
     "metadata": {},
     "output_type": "execute_result"
    }
   ],
   "source": [
    "arr1.dtype"
   ]
  },
  {
   "cell_type": "code",
   "execution_count": 22,
   "id": "3ee1f9d3-991f-48a0-a188-11269c9b95cb",
   "metadata": {},
   "outputs": [
    {
     "data": {
      "text/plain": [
       "dtype('int32')"
      ]
     },
     "execution_count": 22,
     "metadata": {},
     "output_type": "execute_result"
    }
   ],
   "source": [
    "arr2.dtype\n",
    "\n",
    "# dtypes are a source of numpy flexibility for interacting with data coming from other systems. "
   ]
  },
  {
   "cell_type": "code",
   "execution_count": 23,
   "id": "e1692996-76a2-4c29-874c-8ddd6a194743",
   "metadata": {},
   "outputs": [
    {
     "data": {
      "text/plain": [
       "dtype('int32')"
      ]
     },
     "execution_count": 23,
     "metadata": {},
     "output_type": "execute_result"
    }
   ],
   "source": [
    "# you can explicitly convert or cast an array from one dtype to another using astype method\n",
    "\n",
    "arr = np.array([1,2,3,4,5])\n",
    "arr.dtype"
   ]
  },
  {
   "cell_type": "code",
   "execution_count": 24,
   "id": "8884fa55-5f6c-4972-b6fb-6627fd2474f9",
   "metadata": {},
   "outputs": [
    {
     "data": {
      "text/plain": [
       "dtype('float64')"
      ]
     },
     "execution_count": 24,
     "metadata": {},
     "output_type": "execute_result"
    }
   ],
   "source": [
    "float_arr = arr.astype(np.float64)\n",
    "float_arr.dtype"
   ]
  },
  {
   "cell_type": "code",
   "execution_count": 25,
   "id": "8812774c-d7ce-4fb4-96d5-5f601d784cb5",
   "metadata": {},
   "outputs": [
    {
     "data": {
      "text/plain": [
       "array([ 3.7, -1.2, -2.6,  0.5, 12.9, 10.1])"
      ]
     },
     "execution_count": 25,
     "metadata": {},
     "output_type": "execute_result"
    }
   ],
   "source": [
    "arr = np.array([3.7, -1.2, -2.6, 0.5, 12.9, 10.1])\n",
    "arr"
   ]
  },
  {
   "cell_type": "code",
   "execution_count": 26,
   "id": "1914f041-ed2c-488f-a325-70bff41c3154",
   "metadata": {},
   "outputs": [
    {
     "data": {
      "text/plain": [
       "array([ 3, -1, -2,  0, 12, 10])"
      ]
     },
     "execution_count": 26,
     "metadata": {},
     "output_type": "execute_result"
    }
   ],
   "source": [
    "arr.astype(np.int32)"
   ]
  },
  {
   "cell_type": "code",
   "execution_count": 27,
   "id": "ec91fc3b-a45f-4227-8abf-9485f7912d5a",
   "metadata": {},
   "outputs": [
    {
     "data": {
      "text/plain": [
       "array([ 1.24, 56.  , 65.  ])"
      ]
     },
     "execution_count": 27,
     "metadata": {},
     "output_type": "execute_result"
    }
   ],
   "source": [
    "numeric_strings = np.array(['1.24','56','65'], dtype = np.string_)\n",
    "numeric_strings.astype(np.float64)"
   ]
  },
  {
   "cell_type": "code",
   "execution_count": 28,
   "id": "81913647-9f5f-4310-abfc-1c4d986fc743",
   "metadata": {},
   "outputs": [
    {
     "data": {
      "text/plain": [
       "array([0., 1., 2., 3., 4., 5., 6., 7., 8., 9.])"
      ]
     },
     "execution_count": 28,
     "metadata": {},
     "output_type": "execute_result"
    }
   ],
   "source": [
    "# you can also use another array dtype\n",
    "\n",
    "int_array = np.arange(10)\n",
    "calibers = np.array([.22,.27,8.9,.357],dtype = np.float64)\n",
    "int_array.astype(calibers.dtype)"
   ]
  },
  {
   "cell_type": "code",
   "execution_count": 29,
   "id": "64de8424-0efc-415b-9fe8-973d46de0950",
   "metadata": {},
   "outputs": [
    {
     "data": {
      "text/plain": [
       "array([    0,     1,     0,   631,  1612,     0,   768, 32765],\n",
       "      dtype=uint32)"
      ]
     },
     "execution_count": 29,
     "metadata": {},
     "output_type": "execute_result"
    }
   ],
   "source": [
    "# there are shorthand type code strings you can also use to refer to a dtype\n",
    "empty_int32 = np.empty(8,dtype = 'u4')\n",
    "empty_int32\n",
    "\n",
    "# calling astype always creates a new array"
   ]
  },
  {
   "cell_type": "markdown",
   "id": "f351a876-09fb-4ece-b6a1-9dd898915b3c",
   "metadata": {},
   "source": [
    "### Arithmetic with Numpy array"
   ]
  },
  {
   "cell_type": "raw",
   "id": "447e7965-778f-4ce2-bc02-b432fdcc2977",
   "metadata": {},
   "source": [
    "Arrays are important because they enable to express bath operations on data without writing loops. \n",
    "Numpy users call this Vectorization"
   ]
  },
  {
   "cell_type": "code",
   "execution_count": 30,
   "id": "60e42ada-bce7-4e11-b31f-8ce57616ed60",
   "metadata": {},
   "outputs": [
    {
     "data": {
      "text/plain": [
       "array([[1., 2., 3.],\n",
       "       [4., 5., 6.]])"
      ]
     },
     "execution_count": 30,
     "metadata": {},
     "output_type": "execute_result"
    }
   ],
   "source": [
    "arr = np.array([[1,2,3],[4,5,6]],dtype = np.float64)\n",
    "arr"
   ]
  },
  {
   "cell_type": "code",
   "execution_count": 31,
   "id": "8f72f119-f6da-41c1-a44a-2d827f9c5c53",
   "metadata": {},
   "outputs": [
    {
     "data": {
      "text/plain": [
       "array([[ 1.,  4.,  9.],\n",
       "       [16., 25., 36.]])"
      ]
     },
     "execution_count": 31,
     "metadata": {},
     "output_type": "execute_result"
    }
   ],
   "source": [
    "arr*arr"
   ]
  },
  {
   "cell_type": "code",
   "execution_count": 32,
   "id": "f3acb91d-eecb-4a5e-8d60-9f743ede14ec",
   "metadata": {},
   "outputs": [
    {
     "data": {
      "text/plain": [
       "array([[0., 0., 0.],\n",
       "       [0., 0., 0.]])"
      ]
     },
     "execution_count": 32,
     "metadata": {},
     "output_type": "execute_result"
    }
   ],
   "source": [
    "arr-arr"
   ]
  },
  {
   "cell_type": "code",
   "execution_count": 33,
   "id": "69ee2ab0-92d0-4448-9a70-b60033ddd6ab",
   "metadata": {},
   "outputs": [
    {
     "data": {
      "text/plain": [
       "array([[1.        , 0.5       , 0.33333333],\n",
       "       [0.25      , 0.2       , 0.16666667]])"
      ]
     },
     "execution_count": 33,
     "metadata": {},
     "output_type": "execute_result"
    }
   ],
   "source": [
    "# arithmetic ops with scalars propogate the scalar argument to each element in the array\n",
    "1/arr"
   ]
  },
  {
   "cell_type": "code",
   "execution_count": 34,
   "id": "697f123e-3b30-4dc1-bb05-d38dee0fb8b9",
   "metadata": {},
   "outputs": [
    {
     "data": {
      "text/plain": [
       "array([[1.        , 1.41421356, 1.73205081],\n",
       "       [2.        , 2.23606798, 2.44948974]])"
      ]
     },
     "execution_count": 34,
     "metadata": {},
     "output_type": "execute_result"
    }
   ],
   "source": [
    "arr ** 0.5"
   ]
  },
  {
   "cell_type": "code",
   "execution_count": 35,
   "id": "814d62f5-1675-4320-82a0-e5152add52f8",
   "metadata": {},
   "outputs": [
    {
     "data": {
      "text/plain": [
       "array([[ 0.,  4.,  1.],\n",
       "       [ 7.,  2., 12.]])"
      ]
     },
     "execution_count": 35,
     "metadata": {},
     "output_type": "execute_result"
    }
   ],
   "source": [
    "arr2 = np.array([[0., 4., 1.], [7., 2., 12.]])\n",
    "arr2"
   ]
  },
  {
   "cell_type": "code",
   "execution_count": 37,
   "id": "d78faf91-cce6-46b4-b0a3-51f332694f32",
   "metadata": {},
   "outputs": [
    {
     "data": {
      "text/plain": [
       "array([[False,  True, False],\n",
       "       [ True, False,  True]])"
      ]
     },
     "execution_count": 37,
     "metadata": {},
     "output_type": "execute_result"
    }
   ],
   "source": [
    "# Comparisons between arrays of the same size yield boolean arrays:\n",
    "arr2>arr1"
   ]
  },
  {
   "cell_type": "raw",
   "id": "2cdaefc5-7242-44b9-9445-65151af1fae2",
   "metadata": {},
   "source": [
    "Evaluating operations between differently sized arrays is called broadcasting."
   ]
  },
  {
   "cell_type": "markdown",
   "id": "8a03499f-29ce-475e-a315-540379fe11f5",
   "metadata": {},
   "source": [
    "### Basic indexing and slicing "
   ]
  },
  {
   "cell_type": "code",
   "execution_count": 38,
   "id": "f437014a-3975-4afd-adc0-9bbba9cf12c2",
   "metadata": {},
   "outputs": [],
   "source": [
    "arr = np.arange(10)"
   ]
  },
  {
   "cell_type": "code",
   "execution_count": 39,
   "id": "16f4f97d-9d32-45a9-a1c6-6260e3080fc3",
   "metadata": {},
   "outputs": [
    {
     "data": {
      "text/plain": [
       "array([0, 1, 2, 3, 4, 5, 6, 7, 8, 9])"
      ]
     },
     "execution_count": 39,
     "metadata": {},
     "output_type": "execute_result"
    }
   ],
   "source": [
    "arr"
   ]
  },
  {
   "cell_type": "code",
   "execution_count": 40,
   "id": "f6f778c9-9e22-4770-97d3-52b86521bd23",
   "metadata": {},
   "outputs": [
    {
     "data": {
      "text/plain": [
       "5"
      ]
     },
     "execution_count": 40,
     "metadata": {},
     "output_type": "execute_result"
    }
   ],
   "source": [
    "arr[5]"
   ]
  },
  {
   "cell_type": "code",
   "execution_count": 41,
   "id": "2e8cfd55-124e-4da5-93f5-a1f4b8a9af02",
   "metadata": {},
   "outputs": [
    {
     "data": {
      "text/plain": [
       "array([5, 6, 7])"
      ]
     },
     "execution_count": 41,
     "metadata": {},
     "output_type": "execute_result"
    }
   ],
   "source": [
    "arr[5:8]"
   ]
  },
  {
   "cell_type": "code",
   "execution_count": 44,
   "id": "fb756310-24b9-4eca-993c-8682c688bdee",
   "metadata": {},
   "outputs": [],
   "source": [
    "arr[5:8] = 12 # example of broadcasting"
   ]
  },
  {
   "cell_type": "code",
   "execution_count": 45,
   "id": "592643d0-e98c-4264-bb38-3772aa591fc5",
   "metadata": {},
   "outputs": [
    {
     "data": {
      "text/plain": [
       "array([ 0,  1,  2,  3,  4, 12, 12, 12,  8,  9])"
      ]
     },
     "execution_count": 45,
     "metadata": {},
     "output_type": "execute_result"
    }
   ],
   "source": [
    "arr"
   ]
  },
  {
   "cell_type": "code",
   "execution_count": null,
   "id": "0788fa24-6bb4-483c-8df4-3d48af2717f8",
   "metadata": {},
   "outputs": [],
   "source": [
    "# first distinction from python lists is that array slices are only views so the data is not copied or modified "
   ]
  }
 ],
 "metadata": {
  "kernelspec": {
   "display_name": "Python [conda env:base] *",
   "language": "python",
   "name": "conda-base-py"
  },
  "language_info": {
   "codemirror_mode": {
    "name": "ipython",
    "version": 3
   },
   "file_extension": ".py",
   "mimetype": "text/x-python",
   "name": "python",
   "nbconvert_exporter": "python",
   "pygments_lexer": "ipython3",
   "version": "3.12.7"
  }
 },
 "nbformat": 4,
 "nbformat_minor": 5
}
